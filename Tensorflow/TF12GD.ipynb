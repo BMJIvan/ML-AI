{
 "cells": [
  {
   "cell_type": "code",
   "execution_count": 1,
   "metadata": {},
   "outputs": [],
   "source": [
    "import tensorflow as tf\n",
    "import numpy as np"
   ]
  },
  {
   "cell_type": "code",
   "execution_count": 7,
   "metadata": {},
   "outputs": [],
   "source": [
    "x_train = np.array([-1.0, 0.0, 1.0, 2.0, 3.0, 4.0], dtype=float)\n",
    "y_train = np.array([-3.0, 1.0, 1.0, 3.0, 5.0, 7.0], dtype=float)\n",
    "\n",
    "W = tf.Variable(np.random.random(), trainable=True)\n",
    "b = tf.Variable(np.random.random(), trainable=True)"
   ]
  },
  {
   "cell_type": "code",
   "execution_count": 4,
   "metadata": {},
   "outputs": [],
   "source": [
    "def simple_loss(real_y, pred_y):\n",
    "    return tf.abs(real_y - pred_y)"
   ]
  },
  {
   "cell_type": "code",
   "execution_count": 6,
   "metadata": {},
   "outputs": [],
   "source": [
    "learning_rate = 0.001"
   ]
  },
  {
   "cell_type": "code",
   "execution_count": 21,
   "metadata": {},
   "outputs": [],
   "source": [
    "def fit_data(real_x, real_y, epoch):\n",
    "    for i in range(epoch):\n",
    "        with tf.GradientTape(persistent=True) as tape:\n",
    "            pred_y = W * real_x + b #make prediction\n",
    "            reg_loss = simple_loss(real_y, pred_y) #calculate loss\n",
    "        \n",
    "        #calculate gradients\n",
    "        W_gradient = tape.gradient(reg_loss, W)\n",
    "        b_gradient = tape.gradient(reg_loss, b)\n",
    "\n",
    "        #update variables\n",
    "        W.assign_sub(W_gradient * learning_rate)\n",
    "        b.assign_sub(b_gradient * learning_rate)\n"
   ]
  },
  {
   "cell_type": "code",
   "execution_count": 28,
   "metadata": {},
   "outputs": [],
   "source": [
    "fit_data(x_train, y_train, 1000)"
   ]
  },
  {
   "cell_type": "code",
   "execution_count": 29,
   "metadata": {},
   "outputs": [
    {
     "name": "stdout",
     "output_type": "stream",
     "text": [
      "1.9949051\n",
      "-0.9962515\n"
     ]
    }
   ],
   "source": [
    "print(W.numpy())\n",
    "print(b.numpy())"
   ]
  },
  {
   "cell_type": "code",
   "execution_count": null,
   "metadata": {},
   "outputs": [],
   "source": []
  }
 ],
 "metadata": {
  "interpreter": {
   "hash": "9e80d76ea6f7910366ea144e4925c6ce12227515ad9ee1266cb0780bd8ad6c40"
  },
  "kernelspec": {
   "display_name": "Python 3.7.8rc1 64-bit",
   "language": "python",
   "name": "python3"
  },
  "language_info": {
   "codemirror_mode": {
    "name": "ipython",
    "version": 3
   },
   "file_extension": ".py",
   "mimetype": "text/x-python",
   "name": "python",
   "nbconvert_exporter": "python",
   "pygments_lexer": "ipython3",
   "version": "3.7.8rc1"
  },
  "orig_nbformat": 4
 },
 "nbformat": 4,
 "nbformat_minor": 2
}

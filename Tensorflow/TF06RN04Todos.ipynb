{
 "cells": [
  {
   "cell_type": "code",
   "execution_count": 261,
   "metadata": {},
   "outputs": [],
   "source": [
    "import tensorflow as tf\n",
    "import matplotlib.pyplot as plt\n",
    "import numpy as np\n",
    "import cv2 as cv"
   ]
  },
  {
   "cell_type": "code",
   "execution_count": 262,
   "metadata": {},
   "outputs": [],
   "source": [
    "def make_variables(x, y, initializer):\n",
    "    return tf.Variable(initializer(shape=[x, y], dtype=tf.float16))"
   ]
  },
  {
   "cell_type": "code",
   "execution_count": 263,
   "metadata": {},
   "outputs": [],
   "source": [
    "def hardlim(var: tf.Variable):\n",
    "    res = np.zeros(var.numpy().shape)\n",
    "    for i, row in enumerate(var.numpy()):\n",
    "        for j, col in enumerate(row):\n",
    "            res[i][j] = 1 if col > 0 else 0\n",
    "    return tf.Variable(res, dtype=tf.float16, shape=(var.numpy().shape))"
   ]
  },
  {
   "cell_type": "code",
   "execution_count": 264,
   "metadata": {},
   "outputs": [],
   "source": [
    "img1 = cv.imread(\"LEGO_PERCEPTRON\\P1.jpg\")\n",
    "img2 = cv.imread(\"LEGO_PERCEPTRON\\P2.jpg\")"
   ]
  },
  {
   "cell_type": "code",
   "execution_count": 265,
   "metadata": {},
   "outputs": [],
   "source": [
    "gray1 = cv.cvtColor(img1, cv.COLOR_RGB2GRAY)\n",
    "gray_image = cv.resize(gray1, dsize=(1, 90000))\n",
    "gray_tf1 = tf.constant(gray_image, dtype=tf.float16)\n",
    "\n",
    "gray2 = cv.cvtColor(img2, cv.COLOR_RGB2GRAY)\n",
    "gray_image = cv.resize(gray2, dsize=(1, 90000))\n",
    "gray_tf2 = tf.constant(gray_image, dtype=tf.float16)\n",
    "\n",
    "images_train = tf.concat([[gray_tf1], [gray_tf2]], axis=0)"
   ]
  },
  {
   "cell_type": "code",
   "execution_count": 266,
   "metadata": {},
   "outputs": [],
   "source": [
    "#P = tf.transpose(images, perm=[1, 0, 2])\n",
    "P = tf.reshape(images_train, (-1, 2))\n",
    "P = tf.divide(P, tf.constant(255, dtype=tf.float16))\n",
    "\n",
    "T = tf.constant([1, 0], dtype=tf.float16)"
   ]
  },
  {
   "cell_type": "code",
   "execution_count": 267,
   "metadata": {},
   "outputs": [],
   "source": [
    "num_patterns = 2\n",
    "num_inputs = 90000\n",
    "#P = tf.constant([[0, 0, 1, 1],\n",
    "#                 [0, 1, 0, 1]], dtype=tf.float16)\n",
    "#T = tf.constant([0, 1, 1, 1], dtype=tf.float16)\n",
    "init = tf.random_uniform_initializer(minval=-1., maxval=1.)\n",
    "W = make_variables(1, num_inputs, init)\n",
    "b = make_variables(1, 1, init)\n",
    "dw = tf.zeros([1, 2], dtype=tf.float16)\n",
    "e = tf.Variable(0, dtype=tf.float16)\n",
    "sum_e = tf.Variable(0, dtype=tf.float16)"
   ]
  },
  {
   "cell_type": "code",
   "execution_count": 270,
   "metadata": {},
   "outputs": [
    {
     "name": "stdout",
     "output_type": "stream",
     "text": [
      "[1.657e-05 3.755e-06]\n",
      "[1.657e-05 3.755e-06]\n",
      "[1.657e-05 1.907e-06]\n",
      "[1.657e-05 1.907e-06]\n",
      "[1.657e-05 1.907e-06]\n",
      "[1.234e-05 1.907e-06]\n",
      "[1.234e-05 1.907e-06]\n",
      "[1.234e-05 1.907e-06]\n",
      "[1.234e-05 1.907e-06]\n",
      "[1.234e-05 1.907e-06]\n",
      "[1.234e-05 1.907e-06]\n",
      "[1.097e-05 1.907e-06]\n",
      "[1.097e-05 1.907e-06]\n",
      "[1.097e-05 1.907e-06]\n",
      "[1.097e-05 1.907e-06]\n",
      "[1.097e-05 1.907e-06]\n",
      "[1.097e-05 1.907e-06]\n",
      "[1.097e-05 1.907e-06]\n",
      "[1.097e-05 1.907e-06]\n",
      "[1.097e-05 1.907e-06]\n"
     ]
    }
   ],
   "source": [
    "for _ in range(20):\n",
    "    output = tf.subtract(tf.matmul(W, P), b)\n",
    "    a = hardlim(output)\n",
    "    e = tf.subtract(T, output)\n",
    "    e = tf.multiply(e, 0.00003)\n",
    "    dw = tf.matmul(e, tf.transpose(P))\n",
    "    sum_e = tf.reduce_sum(e, 1, keepdims=True)\n",
    "    W = tf.add(W, dw)\n",
    "    b = tf.subtract(b, sum_e)\n",
    "    print(sum(e.numpy()))"
   ]
  },
  {
   "cell_type": "code",
   "execution_count": 271,
   "metadata": {},
   "outputs": [
    {
     "data": {
      "text/plain": [
       "<tf.Tensor: shape=(1, 2), dtype=float16, numpy=array([[ 0.635 , -0.0635]], dtype=float16)>"
      ]
     },
     "execution_count": 271,
     "metadata": {},
     "output_type": "execute_result"
    }
   ],
   "source": [
    "output = tf.subtract(tf.matmul(W, P), b)\n",
    "output"
   ]
  },
  {
   "cell_type": "code",
   "execution_count": 272,
   "metadata": {},
   "outputs": [
    {
     "data": {
      "text/plain": [
       "<tf.Variable 'Variable:0' shape=(1, 2) dtype=float16, numpy=array([[1., 0.]], dtype=float16)>"
      ]
     },
     "execution_count": 272,
     "metadata": {},
     "output_type": "execute_result"
    }
   ],
   "source": [
    "a = hardlim(output)\n",
    "a"
   ]
  },
  {
   "cell_type": "code",
   "execution_count": 273,
   "metadata": {},
   "outputs": [
    {
     "data": {
      "text/plain": [
       "<tf.Tensor: shape=(1, 2), dtype=float16, numpy=array([[0.3652, 0.0635]], dtype=float16)>"
      ]
     },
     "execution_count": 273,
     "metadata": {},
     "output_type": "execute_result"
    }
   ],
   "source": [
    "e = tf.subtract(T, output)\n",
    "e"
   ]
  },
  {
   "cell_type": "code",
   "execution_count": 289,
   "metadata": {},
   "outputs": [],
   "source": [
    "img = tf.reshape(tf.transpose(W), (300,300))"
   ]
  },
  {
   "cell_type": "code",
   "execution_count": 290,
   "metadata": {},
   "outputs": [],
   "source": [
    "img1 = img.numpy()\n",
    "img2 = img.numpy()"
   ]
  },
  {
   "cell_type": "code",
   "execution_count": 291,
   "metadata": {},
   "outputs": [],
   "source": [
    "for i, row in enumerate(img1):\n",
    "    for j, col in enumerate(row):\n",
    "        if img1[i][j] <= 0:\n",
    "            img1[i][j] = 0"
   ]
  },
  {
   "cell_type": "code",
   "execution_count": 292,
   "metadata": {},
   "outputs": [],
   "source": [
    "for i, row in enumerate(img2):\n",
    "    for j, col in enumerate(row):\n",
    "        if img2[i][j] >= 0:\n",
    "            img2[i][j] = 0\n",
    "        else:\n",
    "            img2[i][j] = -img2[i][j]"
   ]
  },
  {
   "cell_type": "code",
   "execution_count": 293,
   "metadata": {},
   "outputs": [],
   "source": [
    "img1_res = img1*255\n",
    "img2_res = img2*255\n"
   ]
  },
  {
   "cell_type": "code",
   "execution_count": 294,
   "metadata": {},
   "outputs": [],
   "source": [
    "img1_np = np.array(img1_res, dtype=\"uint8\")\n",
    "img2_np = np.array(img2_res, dtype=\"uint8\")"
   ]
  },
  {
   "cell_type": "code",
   "execution_count": 296,
   "metadata": {},
   "outputs": [],
   "source": [
    "cv.imshow(\"window\", img2_np)\n",
    "cv.waitKey(2000)\n",
    "cv.destroyAllWindows()"
   ]
  },
  {
   "cell_type": "code",
   "execution_count": null,
   "metadata": {},
   "outputs": [],
   "source": []
  }
 ],
 "metadata": {
  "interpreter": {
   "hash": "9e80d76ea6f7910366ea144e4925c6ce12227515ad9ee1266cb0780bd8ad6c40"
  },
  "kernelspec": {
   "display_name": "Python 3.7.8rc1 64-bit",
   "language": "python",
   "name": "python3"
  },
  "language_info": {
   "codemirror_mode": {
    "name": "ipython",
    "version": 3
   },
   "file_extension": ".py",
   "mimetype": "text/x-python",
   "name": "python",
   "nbconvert_exporter": "python",
   "pygments_lexer": "ipython3",
   "version": "3.7.8"
  },
  "orig_nbformat": 4
 },
 "nbformat": 4,
 "nbformat_minor": 2
}

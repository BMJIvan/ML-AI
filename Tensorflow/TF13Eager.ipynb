{
 "cells": [
  {
   "cell_type": "code",
   "execution_count": 1,
   "metadata": {},
   "outputs": [],
   "source": [
    "import tensorflow as tf\n",
    "import numpy as np"
   ]
  },
  {
   "cell_type": "code",
   "execution_count": 45,
   "metadata": {},
   "outputs": [],
   "source": [
    "class Model():\n",
    "    def __init__(self):\n",
    "        self.W = tf.Variable(5.0)\n",
    "        self.b = tf.Variable(0.0)\n",
    "    def __call__(self, x):\n",
    "        return self.W * x + self.b\n",
    "model = Model()"
   ]
  },
  {
   "cell_type": "code",
   "execution_count": 3,
   "metadata": {},
   "outputs": [],
   "source": [
    "TRUE_W = 3.0\n",
    "TRUE_b = 2.0\n",
    "NUM_EXAMPLES = 1000\n",
    "random_xs = tf.random.normal(shape=[NUM_EXAMPLES])\n",
    "ys = (TRUE_W * random_xs) + TRUE_b"
   ]
  },
  {
   "cell_type": "code",
   "execution_count": 37,
   "metadata": {},
   "outputs": [],
   "source": [
    "def loss(y_true, y_pred):\n",
    "    return tf.reduce_mean(tf.square(y_true - y_pred))"
   ]
  },
  {
   "cell_type": "code",
   "execution_count": 19,
   "metadata": {},
   "outputs": [],
   "source": [
    "def train(model, inputs, outputs, learning_rate):\n",
    "    with tf.GradientTape() as tape:\n",
    "        current_loss = loss(outputs, model(inputs))\n",
    "        dw, db = tape.gradient(current_loss, [model.W, model.b])\n",
    "        \n",
    "    model.W.assign_sub(learning_rate * dw)\n",
    "    model.b.assign_sub(learning_rate * db)\n",
    "\n",
    "    return current_loss"
   ]
  },
  {
   "cell_type": "code",
   "execution_count": 9,
   "metadata": {},
   "outputs": [],
   "source": [
    "import matplotlib.pyplot as plt"
   ]
  },
  {
   "cell_type": "code",
   "execution_count": 14,
   "metadata": {},
   "outputs": [],
   "source": [
    "def plot_data(inputs, outputs, predicted_outputs):\n",
    "    real = plt.scatter(inputs, outputs, c=\"b\")\n",
    "    predicted = plt.scatter(inputs, predicted_outputs, c=\"r\")\n",
    "    plt.legend((real, predicted), ('real data', 'predicted data'))\n",
    "    plt.show()"
   ]
  },
  {
   "cell_type": "code",
   "execution_count": 38,
   "metadata": {},
   "outputs": [
    {
     "data": {
      "image/png": "[encoded data removed]",
      "text/plain": [
       "<Figure size 432x288 with 1 Axes>"
      ]
     },
     "metadata": {
      "needs_background": "light"
     },
     "output_type": "display_data"
    },
    {
     "name": "stdout",
     "output_type": "stream",
     "text": [
      "7.852502\n"
     ]
    }
   ],
   "source": [
    "plot_data(random_xs, ys, model(random_xs))\n",
    "print(loss(model(random_xs), ys).numpy())"
   ]
  },
  {
   "cell_type": "code",
   "execution_count": 46,
   "metadata": {},
   "outputs": [
    {
     "name": "stdout",
     "output_type": "stream",
     "text": [
      "Epoch  0: w=5.00 loss=7.85250\n",
      "Epoch  1: w=4.62 loss=5.06992\n",
      "Epoch  2: w=4.31 loss=3.27411\n",
      "Epoch  3: w=4.06 loss=2.11487\n",
      "Epoch  4: w=3.86 loss=1.36640\n",
      "Epoch  5: w=3.70 loss=0.88302\n",
      "Epoch  6: w=3.56 loss=0.57078\n",
      "Epoch  7: w=3.46 loss=0.36904\n",
      "Epoch  8: w=3.37 loss=0.23866\n",
      "Epoch  9: w=3.30 loss=0.15438\n",
      "Epoch 10: w=3.24 loss=0.09989\n",
      "Epoch 11: w=3.20 loss=0.06465\n",
      "Epoch 12: w=3.16 loss=0.04185\n",
      "Epoch 13: w=3.13 loss=0.02710\n",
      "Epoch 14: w=3.10 loss=0.01755\n",
      "Epoch 15: w=3.08 loss=0.01137\n",
      "Epoch 16: w=3.07 loss=0.00737\n",
      "Epoch 17: w=3.06 loss=0.00478\n",
      "Epoch 18: w=3.05 loss=0.00310\n",
      "Epoch 19: w=3.04 loss=0.00201\n",
      "Epoch 20: w=3.03 loss=0.00130\n",
      "Epoch 21: w=3.02 loss=0.00085\n",
      "Epoch 22: w=3.02 loss=0.00055\n",
      "Epoch 23: w=3.02 loss=0.00036\n",
      "Epoch 24: w=3.01 loss=0.00023\n",
      "Epoch 25: w=3.01 loss=0.00015\n",
      "Epoch 26: w=3.01 loss=0.00010\n",
      "Epoch 27: w=3.01 loss=0.00006\n",
      "Epoch 28: w=3.01 loss=0.00004\n",
      "Epoch 29: w=3.00 loss=0.00003\n"
     ]
    }
   ],
   "source": [
    "W_list = []\n",
    "loss_list = []\n",
    "epochs = range(30)\n",
    "losses = []\n",
    "for epoch in epochs:\n",
    "    W_list.append(model.W.numpy())\n",
    "    current_loss = train(model, random_xs, ys, learning_rate=0.1)\n",
    "    losses.append(current_loss)\n",
    "    print('Epoch %2d: w=%1.2f loss=%2.5f' % (epoch, W_list[-1], current_loss))"
   ]
  },
  {
   "cell_type": "code",
   "execution_count": 47,
   "metadata": {},
   "outputs": [
    {
     "data": {
      "text/plain": [
       "[<matplotlib.lines.Line2D at 0x26786cd5488>]"
      ]
     },
     "execution_count": 47,
     "metadata": {},
     "output_type": "execute_result"
    },
    {
     "data": {
      "image/png": "[encoded data removed]",
      "text/plain": [
       "<Figure size 432x288 with 1 Axes>"
      ]
     },
     "metadata": {
      "needs_background": "light"
     },
     "output_type": "display_data"
    }
   ],
   "source": [
    "plt.plot(W_list)"
   ]
  },
  {
   "cell_type": "code",
   "execution_count": null,
   "metadata": {},
   "outputs": [],
   "source": []
  }
 ],
 "metadata": {
  "interpreter": {
   "hash": "9e80d76ea6f7910366ea144e4925c6ce12227515ad9ee1266cb0780bd8ad6c40"
  },
  "kernelspec": {
   "display_name": "Python 3.7.8rc1 64-bit",
   "language": "python",
   "name": "python3"
  },
  "language_info": {
   "codemirror_mode": {
    "name": "ipython",
    "version": 3
   },
   "file_extension": ".py",
   "mimetype": "text/x-python",
   "name": "python",
   "nbconvert_exporter": "python",
   "pygments_lexer": "ipython3",
   "version": "3.7.8rc1"
  },
  "orig_nbformat": 4
 },
 "nbformat": 4,
 "nbformat_minor": 2
}

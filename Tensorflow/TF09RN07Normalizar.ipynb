{
 "cells": [
  {
   "cell_type": "code",
   "execution_count": 1,
   "metadata": {},
   "outputs": [],
   "source": [
    "import tensorflow as tf\n",
    "import cv2 as cv\n",
    "import numpy as np\n",
    "import matplotlib.pyplot as plt"
   ]
  },
  {
   "cell_type": "code",
   "execution_count": 2,
   "metadata": {},
   "outputs": [],
   "source": [
    "dt = tf.float32"
   ]
  },
  {
   "cell_type": "code",
   "execution_count": 3,
   "metadata": {},
   "outputs": [],
   "source": [
    "def make_variables(x, y, initializer):\n",
    "    return tf.Variable(initializer(shape=[x, y], dtype=dt))"
   ]
  },
  {
   "cell_type": "code",
   "execution_count": 4,
   "metadata": {},
   "outputs": [],
   "source": [
    "def hardlim(x):\n",
    "    return tf.constant(0, dtype=dt) if tf.less(x, 0) else tf.constant(1, dtype=dt)"
   ]
  },
  {
   "cell_type": "code",
   "execution_count": 5,
   "metadata": {},
   "outputs": [],
   "source": [
    "init = tf.random_uniform_initializer(minval=-1., maxval=1.)"
   ]
  },
  {
   "cell_type": "code",
   "execution_count": 6,
   "metadata": {},
   "outputs": [],
   "source": [
    "Patterns = tf.Variable(tf.zeros((8, 90000, 1), dtype=dt))"
   ]
  },
  {
   "cell_type": "code",
   "execution_count": 10,
   "metadata": {},
   "outputs": [],
   "source": [
    "for i in range(1, 9):\n",
    "    PATH = \"LEGO_PERCEPTRON/\"\n",
    "    file = \"P\" + str(i) + \".jpg\"\n",
    "    image = cv.imread(PATH+file) \n",
    "    gray = cv.cvtColor(image, cv.COLOR_RGB2GRAY)\n",
    "    gray_float = gray.astype(np.float32)\n",
    "    gray_norm = gray_float/255\n",
    "    gray_reshape = cv.resize(gray_norm, (1, 90000))\n",
    "    Patterns[i-1, :].assign(gray_reshape)"
   ]
  },
  {
   "cell_type": "code",
   "execution_count": 40,
   "metadata": {},
   "outputs": [],
   "source": [
    "num_patterns = 8\n",
    "num_inputs = 90000\n",
    "num_neurons = 1\n",
    "T = tf.constant([0, 1, 0, 1, 0, 1, 0, 1], dtype=dt)\n",
    "W = make_variables(num_neurons, num_inputs, init)\n",
    "b = make_variables(num_neurons, 1, init)\n",
    "dw = tf.Variable(tf.zeros([num_neurons, num_inputs], dtype=dt))\n",
    "e = tf.Variable(num_neurons, dtype=dt)\n",
    "sum_e = tf.Variable(0, dtype=dt)"
   ]
  },
  {
   "cell_type": "code",
   "execution_count": 88,
   "metadata": {},
   "outputs": [],
   "source": [
    "error = []\n",
    "for epocas in range(1, 700):\n",
    "    dw = tf.Variable(tf.zeros([num_neurons, num_inputs], dtype=dt))\n",
    "    sum_e = tf.Variable(0, dtype=dt)\n",
    "    for i in range(0, 8):\n",
    "        #a = tf.map_fn(hardlim, tf.subtract(tf.matmul(W, Patterns[i, :]), b))\n",
    "        a =  tf.subtract(tf.matmul(W, Patterns[i, :]), b)\n",
    "        e = tf.multiply(tf.subtract(T[i], a), 0.000014)\n",
    "        sum_e = tf.add(sum_e, e)\n",
    "        dw = tf.add(dw, e*tf.transpose(Patterns[i, :]))\n",
    "    W = tf.add(W, dw)\n",
    "    b = tf.add(b, tf.multiply(sum_e, 100))\n",
    "    error.append(sum_e.numpy()[0, 0])"
   ]
  },
  {
   "cell_type": "code",
   "execution_count": 89,
   "metadata": {},
   "outputs": [
    {
     "data": {
      "text/plain": [
       "1.4355468e-06"
      ]
     },
     "execution_count": 89,
     "metadata": {},
     "output_type": "execute_result"
    }
   ],
   "source": [
    "sum_e.numpy()[0][0]"
   ]
  },
  {
   "cell_type": "code",
   "execution_count": 90,
   "metadata": {},
   "outputs": [
    {
     "data": {
      "text/plain": [
       "[<matplotlib.lines.Line2D at 0x2d15f74e148>]"
      ]
     },
     "execution_count": 90,
     "metadata": {},
     "output_type": "execute_result"
    },
    {
     "data": {
      "image/png": "[encoded data removed]",
      "text/plain": [
       "<Figure size 432x288 with 1 Axes>"
      ]
     },
     "metadata": {
      "needs_background": "light"
     },
     "output_type": "display_data"
    }
   ],
   "source": [
    "plt.plot(error)"
   ]
  },
  {
   "cell_type": "code",
   "execution_count": 91,
   "metadata": {},
   "outputs": [
    {
     "data": {
      "text/plain": [
       "([-0.51660156,\n",
       "  1.1833801,\n",
       "  -0.02545166,\n",
       "  0.9700775,\n",
       "  0.42045593,\n",
       "  0.86198425,\n",
       "  0.10467529,\n",
       "  0.89711],\n",
       " <tf.Tensor: shape=(1, 1), dtype=float32, numpy=array([[172.18878]], dtype=float32)>)"
      ]
     },
     "execution_count": 91,
     "metadata": {},
     "output_type": "execute_result"
    }
   ],
   "source": [
    "estimated = []\n",
    "for i in range(0, 8):\n",
    "    a = tf.subtract(tf.matmul(W, Patterns[i, :]), b)\n",
    "    estimated.append(a.numpy()[0][0])  \n",
    "estimated, b"
   ]
  },
  {
   "cell_type": "code",
   "execution_count": 59,
   "metadata": {},
   "outputs": [],
   "source": [
    "img = tf.reshape(W, (300,300))\n",
    "img1 = img.numpy()\n",
    "img2 = img.numpy()"
   ]
  },
  {
   "cell_type": "code",
   "execution_count": 60,
   "metadata": {},
   "outputs": [],
   "source": [
    "for i, row in enumerate(img1):\n",
    "    for j, col in enumerate(row):\n",
    "        if img1[i][j] <= 0:\n",
    "            img1[i][j] = 0\n",
    "for i, row in enumerate(img2):\n",
    "    for j, col in enumerate(row):\n",
    "        if img2[i][j] >= 0:\n",
    "            img2[i][j] = 0\n",
    "        else:\n",
    "            img2[i][j] = -img2[i][j]"
   ]
  },
  {
   "cell_type": "code",
   "execution_count": 61,
   "metadata": {},
   "outputs": [],
   "source": [
    "img1_res = (img1/img1.max())*255\n",
    "img2_res = (img2/img2.max())*255"
   ]
  },
  {
   "cell_type": "code",
   "execution_count": 62,
   "metadata": {},
   "outputs": [],
   "source": [
    "img1_np = np.array(img1_res, dtype=\"uint8\")\n",
    "img2_np = np.array(img2_res, dtype=\"uint8\")"
   ]
  },
  {
   "cell_type": "code",
   "execution_count": 63,
   "metadata": {},
   "outputs": [],
   "source": [
    "cv.imshow(\"window\", img1_np)\n",
    "cv.waitKey(2000)\n",
    "\n",
    "cv.imshow(\"window\", img2_np)\n",
    "cv.waitKey(2000)\n",
    "\n",
    "cv.destroyAllWindows()"
   ]
  },
  {
   "cell_type": "code",
   "execution_count": null,
   "metadata": {},
   "outputs": [],
   "source": []
  }
 ],
 "metadata": {
  "interpreter": {
   "hash": "9e80d76ea6f7910366ea144e4925c6ce12227515ad9ee1266cb0780bd8ad6c40"
  },
  "kernelspec": {
   "display_name": "Python 3.7.8rc1 64-bit",
   "language": "python",
   "name": "python3"
  },
  "language_info": {
   "codemirror_mode": {
    "name": "ipython",
    "version": 3
   },
   "file_extension": ".py",
   "mimetype": "text/x-python",
   "name": "python",
   "nbconvert_exporter": "python",
   "pygments_lexer": "ipython3",
   "version": "3.7.8"
  },
  "orig_nbformat": 4
 },
 "nbformat": 4,
 "nbformat_minor": 2
}

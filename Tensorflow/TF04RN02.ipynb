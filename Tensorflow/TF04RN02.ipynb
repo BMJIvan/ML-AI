{
 "cells": [
  {
   "cell_type": "code",
   "execution_count": 1,
   "metadata": {},
   "outputs": [],
   "source": [
    "import tensorflow as tf\n",
    "import matplotlib.pyplot as plt\n",
    "import numpy as np"
   ]
  },
  {
   "cell_type": "code",
   "execution_count": 2,
   "metadata": {},
   "outputs": [],
   "source": [
    "def make_variables(x, y, initializer):\n",
    "    return tf.Variable(initializer(shape=[x, y], dtype=tf.float16))"
   ]
  },
  {
   "cell_type": "code",
   "execution_count": 3,
   "metadata": {},
   "outputs": [],
   "source": [
    "num_patterns = 4\n",
    "num_inputs = 2\n",
    "num_neurons = 4\n",
    "P = tf.constant([[0, 0, 1, 1],\n",
    "                 [0, 1, 0, 1]], dtype=tf.float16)\n",
    "T = tf.constant([[1, 1, 1, 1],\n",
    "                 [1, 1, 1, 1],\n",
    "                 [1, 1, 1, 1],\n",
    "                 [1, 1, 1, 1]], dtype=tf.float16)\n",
    "init = tf.random_uniform_initializer(minval=-1., maxval=1.)\n",
    "W = make_variables(num_neurons, num_inputs, init)\n",
    "b = make_variables(num_neurons, 1, init)\n",
    "dw = tf.zeros([1, 2], dtype=tf.float16)\n",
    "e = tf.Variable(0, dtype=tf.float16)\n",
    "sum_e = tf.Variable(0, dtype=tf.float16)"
   ]
  },
  {
   "cell_type": "code",
   "execution_count": 4,
   "metadata": {},
   "outputs": [],
   "source": [
    "def hardlim(var: tf.Variable):\n",
    "    res = np.zeros(var.numpy().shape)\n",
    "    for i, row in enumerate(var.numpy()):\n",
    "        for j, col in enumerate(row):\n",
    "            res[i][j] = 1 if col > 0 else 0\n",
    "    return tf.Variable(res, dtype=tf.float16, shape=(var.numpy().shape))"
   ]
  },
  {
   "cell_type": "code",
   "execution_count": 5,
   "metadata": {},
   "outputs": [
    {
     "name": "stdout",
     "output_type": "stream",
     "text": [
      "[3.]\n",
      "[0.]\n",
      "[0.]\n",
      "[0.]\n",
      "[0.]\n",
      "[0.]\n",
      "[0.]\n",
      "[0.]\n",
      "[0.]\n",
      "[0.]\n"
     ]
    }
   ],
   "source": [
    "for _ in range(10):\n",
    "    output = tf.subtract(tf.matmul(W, P), b)\n",
    "    a = hardlim(output)\n",
    "    e = tf.subtract(T, a)\n",
    "    dw = tf.matmul(e, tf.transpose(P))\n",
    "    sum_e = tf.reduce_sum(e, 1, keepdims=True)\n",
    "    W = tf.add(W, dw)\n",
    "    b = tf.subtract(b, sum_e)\n",
    "    print(sum(sum_e.numpy()))"
   ]
  },
  {
   "cell_type": "code",
   "execution_count": 6,
   "metadata": {},
   "outputs": [
    {
     "data": {
      "text/plain": [
       "<tf.Tensor: shape=(4, 4), dtype=float16, numpy=\n",
       "array([[2.477 , 3.652 , 3.812 , 4.99  ],\n",
       "       [0.1562, 0.6367, 0.922 , 1.402 ],\n",
       "       [1.277 , 1.734 , 1.994 , 2.451 ],\n",
       "       [0.625 , 0.707 , 0.787 , 0.869 ]], dtype=float16)>"
      ]
     },
     "execution_count": 6,
     "metadata": {},
     "output_type": "execute_result"
    }
   ],
   "source": [
    "output = tf.subtract(tf.matmul(W, P), b)\n",
    "output"
   ]
  },
  {
   "cell_type": "code",
   "execution_count": 8,
   "metadata": {},
   "outputs": [
    {
     "data": {
      "text/plain": [
       "<tf.Variable 'Variable:0' shape=(4, 4) dtype=float16, numpy=\n",
       "array([[1., 1., 1., 1.],\n",
       "       [1., 1., 1., 1.],\n",
       "       [1., 1., 1., 1.],\n",
       "       [1., 1., 1., 1.]], dtype=float16)>"
      ]
     },
     "execution_count": 8,
     "metadata": {},
     "output_type": "execute_result"
    }
   ],
   "source": [
    "a = hardlim(output)\n",
    "a"
   ]
  },
  {
   "cell_type": "code",
   "execution_count": 9,
   "metadata": {},
   "outputs": [
    {
     "data": {
      "text/plain": [
       "<tf.Tensor: shape=(4, 4), dtype=float16, numpy=\n",
       "array([[0., 0., 0., 0.],\n",
       "       [0., 0., 0., 0.],\n",
       "       [0., 0., 0., 0.],\n",
       "       [0., 0., 0., 0.]], dtype=float16)>"
      ]
     },
     "execution_count": 9,
     "metadata": {},
     "output_type": "execute_result"
    }
   ],
   "source": [
    " e = tf.subtract(T, a)\n",
    " e"
   ]
  },
  {
   "cell_type": "code",
   "execution_count": null,
   "metadata": {},
   "outputs": [],
   "source": []
  }
 ],
 "metadata": {
  "interpreter": {
   "hash": "9e80d76ea6f7910366ea144e4925c6ce12227515ad9ee1266cb0780bd8ad6c40"
  },
  "kernelspec": {
   "display_name": "Python 3.7.8rc1 64-bit",
   "language": "python",
   "name": "python3"
  },
  "language_info": {
   "codemirror_mode": {
    "name": "ipython",
    "version": 3
   },
   "file_extension": ".py",
   "mimetype": "text/x-python",
   "name": "python",
   "nbconvert_exporter": "python",
   "pygments_lexer": "ipython3",
   "version": "3.7.8rc1"
  },
  "orig_nbformat": 4
 },
 "nbformat": 4,
 "nbformat_minor": 2
}

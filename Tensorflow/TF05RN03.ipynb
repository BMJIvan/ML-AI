{
 "cells": [
  {
   "cell_type": "code",
   "execution_count": 1,
   "metadata": {},
   "outputs": [],
   "source": [
    "import tensorflow as tf\n",
    "import matplotlib.pyplot as plt\n",
    "import numpy as np"
   ]
  },
  {
   "cell_type": "code",
   "execution_count": 2,
   "metadata": {},
   "outputs": [],
   "source": [
    "def make_variables(x, y, initializer):\n",
    "    return tf.Variable(initializer(shape=[x, y], dtype=tf.float16))"
   ]
  },
  {
   "cell_type": "code",
   "execution_count": 3,
   "metadata": {},
   "outputs": [],
   "source": [
    "def hardlim(var: tf.Variable):\n",
    "    res = np.zeros(var.numpy().shape)\n",
    "    for i, row in enumerate(var.numpy()):\n",
    "        for j, col in enumerate(row):\n",
    "            res[i][j] = 1 if col > 0 else 0\n",
    "    return tf.Variable(res, dtype=tf.float16, shape=(var.numpy().shape))"
   ]
  },
  {
   "cell_type": "code",
   "execution_count": 4,
   "metadata": {},
   "outputs": [],
   "source": [
    "num_patterns = 4\n",
    "num_inputs = 2\n",
    "num_neurons = 4\n",
    "P = tf.constant([[0, 0, 1, 1],\n",
    "                 [0, 1, 0, 1]], dtype=tf.float16)\n",
    "T = tf.constant([[1, 0, 0, 0],\n",
    "                 [0, 1, 0, 0],\n",
    "                 [0, 0, 1, 0],\n",
    "                 [0, 0, 0, 1]], dtype=tf.float16)\n",
    "init = tf.random_uniform_initializer(minval=-1., maxval=1.)\n",
    "W = make_variables(num_neurons, num_inputs, init)\n",
    "b = make_variables(num_neurons, 1, init)\n",
    "dw = tf.zeros([num_neurons, 2], dtype=tf.float16)\n",
    "e = tf.zeros([num_neurons, num_patterns], dtype=tf.float16)\n",
    "sum_e = tf.zeros([num_neurons, 1], dtype=tf.float16)"
   ]
  },
  {
   "cell_type": "code",
   "execution_count": 6,
   "metadata": {},
   "outputs": [
    {
     "name": "stdout",
     "output_type": "stream",
     "text": [
      "[-9.]\n",
      "[4.]\n",
      "[1.]\n",
      "[1.]\n",
      "[2.]\n",
      "[-2.]\n",
      "[1.]\n",
      "[-2.]\n",
      "[1.]\n",
      "[0.]\n"
     ]
    }
   ],
   "source": [
    "for _ in range(10):\n",
    "    output = tf.subtract(tf.matmul(W, P), b)\n",
    "    a = hardlim(output)\n",
    "    e = tf.subtract(T, a)\n",
    "    dw = tf.matmul(e, tf.transpose(P))\n",
    "    sum_e = tf.reduce_sum(e, 1, keepdims=True)\n",
    "    W = tf.add(W, dw)\n",
    "    b = tf.subtract(b, sum_e)\n",
    "    print(sum(sum_e.numpy()))"
   ]
  },
  {
   "cell_type": "code",
   "execution_count": 14,
   "metadata": {},
   "outputs": [
    {
     "data": {
      "text/plain": [
       "<tf.Tensor: shape=(4, 4), dtype=float16, numpy=\n",
       "array([[ 0.3047 , -0.998  , -0.7344 , -2.037  ],\n",
       "       [-0.04883,  1.662  , -2.436  , -0.7246 ],\n",
       "       [-0.8438 , -2.549  ,  0.04102, -1.664  ],\n",
       "       [-2.037  , -0.949  , -0.3555 ,  0.7324 ]], dtype=float16)>"
      ]
     },
     "execution_count": 14,
     "metadata": {},
     "output_type": "execute_result"
    }
   ],
   "source": [
    "output = tf.subtract(tf.matmul(W, P), b)\n",
    "output"
   ]
  },
  {
   "cell_type": "code",
   "execution_count": 15,
   "metadata": {},
   "outputs": [
    {
     "data": {
      "text/plain": [
       "<tf.Variable 'Variable:0' shape=(4, 4) dtype=float16, numpy=\n",
       "array([[1., 0., 0., 0.],\n",
       "       [0., 1., 0., 0.],\n",
       "       [0., 0., 1., 0.],\n",
       "       [0., 0., 0., 1.]], dtype=float16)>"
      ]
     },
     "execution_count": 15,
     "metadata": {},
     "output_type": "execute_result"
    }
   ],
   "source": [
    "a = hardlim(output)\n",
    "a"
   ]
  },
  {
   "cell_type": "code",
   "execution_count": 16,
   "metadata": {},
   "outputs": [
    {
     "data": {
      "text/plain": [
       "<tf.Tensor: shape=(4, 4), dtype=float16, numpy=\n",
       "array([[0., 0., 0., 0.],\n",
       "       [0., 0., 0., 0.],\n",
       "       [0., 0., 0., 0.],\n",
       "       [0., 0., 0., 0.]], dtype=float16)>"
      ]
     },
     "execution_count": 16,
     "metadata": {},
     "output_type": "execute_result"
    }
   ],
   "source": [
    "e = tf.subtract(T, a)\n",
    "e"
   ]
  },
  {
   "cell_type": "code",
   "execution_count": 7,
   "metadata": {},
   "outputs": [],
   "source": [
    "p = P.numpy()\n",
    "w = W.numpy()\n",
    "u = b.numpy()"
   ]
  },
  {
   "cell_type": "code",
   "execution_count": 8,
   "metadata": {},
   "outputs": [
    {
     "data": {
      "image/png": "[encoded data removed]",
      "text/plain": [
       "<Figure size 432x288 with 1 Axes>"
      ]
     },
     "metadata": {
      "needs_background": "light"
     },
     "output_type": "display_data"
    }
   ],
   "source": [
    "for row in p.T:\n",
    "    x = row[0]\n",
    "    y = row[1]\n",
    "    plt.plot(x, y, \"bo\")"
   ]
  },
  {
   "cell_type": "code",
   "execution_count": 9,
   "metadata": {},
   "outputs": [],
   "source": [
    "nx, ny = (5, 5)\n",
    "xv = np.linspace(0, 1, nx)\n",
    "yv = np.linspace(0, 1, ny)\n",
    "x, y = np.meshgrid(xv, yv)"
   ]
  },
  {
   "cell_type": "code",
   "execution_count": 10,
   "metadata": {},
   "outputs": [
    {
     "data": {
      "image/png": "[encoded data removed]",
      "text/plain": [
       "<Figure size 432x288 with 1 Axes>"
      ]
     },
     "metadata": {
      "needs_background": "light"
     },
     "output_type": "display_data"
    }
   ],
   "source": [
    "point = 0\n",
    "color = [\"b\", \"g\", \"r\", \"k\"]\n",
    "mesh1 = np.zeros((5, 5), dtype=np.float)\n",
    "\n",
    "for i, row in enumerate(mesh1):\n",
    "    for j, _ in enumerate(row):\n",
    "        pos_v = np.array([xv[i], yv[j]])\n",
    "        res = np.dot(pos_v, w[point])-u[point]\n",
    "        mesh1[i][j] = 1 if res > 0 else 0\n",
    "for i, row in enumerate(mesh1):\n",
    "    for j, _ in enumerate(row):\n",
    "        if mesh1[i][j]>0:\n",
    "            plt.plot(xv[i], yv[j], color[point]+\"o\")\n",
    "        else:\n",
    "            plt.plot(xv[i], yv[j], color[point]+\"x\")"
   ]
  },
  {
   "cell_type": "code",
   "execution_count": 11,
   "metadata": {},
   "outputs": [
    {
     "data": {
      "image/png": "[encoded data removed]",
      "text/plain": [
       "<Figure size 432x288 with 1 Axes>"
      ]
     },
     "metadata": {
      "needs_background": "light"
     },
     "output_type": "display_data"
    }
   ],
   "source": [
    "point = 1\n",
    "color = [\"b\", \"g\", \"r\", \"k\"]\n",
    "mesh1 = np.zeros((5, 5), dtype=np.float)\n",
    "\n",
    "for i, row in enumerate(mesh1):\n",
    "    for j, _ in enumerate(row):\n",
    "        pos_v = np.array([xv[i], yv[j]])\n",
    "        res = np.dot(pos_v, w[point])-u[point]\n",
    "        mesh1[i][j] = 1 if res > 0 else 0\n",
    "for i, row in enumerate(mesh1):\n",
    "    for j, _ in enumerate(row):\n",
    "        if mesh1[i][j]>0:\n",
    "            plt.plot(xv[i], yv[j], color[point]+\"o\")\n",
    "        else:\n",
    "            plt.plot(xv[i], yv[j], color[point]+\"x\")"
   ]
  },
  {
   "cell_type": "code",
   "execution_count": 12,
   "metadata": {},
   "outputs": [
    {
     "data": {
      "image/png": "[encoded data removed]",
      "text/plain": [
       "<Figure size 432x288 with 1 Axes>"
      ]
     },
     "metadata": {
      "needs_background": "light"
     },
     "output_type": "display_data"
    }
   ],
   "source": [
    "point = 2\n",
    "color = [\"b\", \"g\", \"r\", \"k\"]\n",
    "mesh1 = np.zeros((5, 5), dtype=np.float)\n",
    "\n",
    "for i, row in enumerate(mesh1):\n",
    "    for j, _ in enumerate(row):\n",
    "        pos_v = np.array([xv[i], yv[j]])\n",
    "        res = np.dot(pos_v, w[point])-u[point]\n",
    "        mesh1[i][j] = 1 if res > 0 else 0\n",
    "for i, row in enumerate(mesh1):\n",
    "    for j, _ in enumerate(row):\n",
    "        if mesh1[i][j]>0:\n",
    "            plt.plot(xv[i], yv[j], color[point]+\"o\")\n",
    "        else:\n",
    "            plt.plot(xv[i], yv[j], color[point]+\"x\")"
   ]
  },
  {
   "cell_type": "code",
   "execution_count": 13,
   "metadata": {},
   "outputs": [
    {
     "data": {
      "image/png": "[encoded data removed]",
      "text/plain": [
       "<Figure size 432x288 with 1 Axes>"
      ]
     },
     "metadata": {
      "needs_background": "light"
     },
     "output_type": "display_data"
    }
   ],
   "source": [
    "point = 3\n",
    "color = [\"b\", \"g\", \"r\", \"k\"]\n",
    "mesh1 = np.zeros((5, 5), dtype=np.float)\n",
    "\n",
    "for i, row in enumerate(mesh1):\n",
    "    for j, _ in enumerate(row):\n",
    "        pos_v = np.array([xv[i], yv[j]])\n",
    "        res = np.dot(pos_v, w[point])-u[point]\n",
    "        mesh1[i][j] = 1 if res > 0 else 0\n",
    "for i, row in enumerate(mesh1):\n",
    "    for j, _ in enumerate(row):\n",
    "        if mesh1[i][j]>0:\n",
    "            plt.plot(xv[i], yv[j], color[point]+\"o\")\n",
    "        else:\n",
    "            plt.plot(xv[i], yv[j], color[point]+\"x\")"
   ]
  },
  {
   "cell_type": "code",
   "execution_count": null,
   "metadata": {},
   "outputs": [],
   "source": []
  }
 ],
 "metadata": {
  "interpreter": {
   "hash": "9e80d76ea6f7910366ea144e4925c6ce12227515ad9ee1266cb0780bd8ad6c40"
  },
  "kernelspec": {
   "display_name": "Python 3.7.8rc1 64-bit",
   "language": "python",
   "name": "python3"
  },
  "language_info": {
   "codemirror_mode": {
    "name": "ipython",
    "version": 3
   },
   "file_extension": ".py",
   "mimetype": "text/x-python",
   "name": "python",
   "nbconvert_exporter": "python",
   "pygments_lexer": "ipython3",
   "version": "3.7.8"
  },
  "orig_nbformat": 4
 },
 "nbformat": 4,
 "nbformat_minor": 2
}

{
 "cells": [
  {
   "cell_type": "code",
   "execution_count": 8,
   "metadata": {},
   "outputs": [],
   "source": [
    "import cv2 as cv\n",
    "import tensorflow as tf"
   ]
  },
  {
   "cell_type": "code",
   "execution_count": 60,
   "metadata": {},
   "outputs": [],
   "source": [
    "img1 = cv.imread(\"LEGO_ROSTROS\\P1.jpg\")\n",
    "img2 = cv.imread(\"LEGO_ROSTROS\\P2.jpg\")"
   ]
  },
  {
   "cell_type": "code",
   "execution_count": 62,
   "metadata": {},
   "outputs": [],
   "source": [
    "gray1 = cv.cvtColor(img1, cv.COLOR_RGB2GRAY)\n",
    "gray_image = cv.resize(gray1, dsize=(1, 90000))\n",
    "gray_tf1 = tf.constant(gray_image, dtype=tf.int8)\n",
    "\n",
    "gray2 = cv.cvtColor(img2, cv.COLOR_RGB2GRAY)\n",
    "gray_image = cv.resize(gray2, dsize=(1, 90000))\n",
    "gray_tf2 = tf.constant(gray_image, dtype=tf.int8)\n",
    "\n",
    "images = tf.concat([[gray_tf1], [gray_tf2]], axis=0)"
   ]
  },
  {
   "cell_type": "code",
   "execution_count": 63,
   "metadata": {},
   "outputs": [],
   "source": [
    "cv.imshow(\"window\", gray1)\n",
    "cv.waitKey(1000)\n",
    "\n",
    "cv.imshow(\"window\", gray2)\n",
    "cv.waitKey(1000)\n",
    "\n",
    "cv.destroyAllWindows()"
   ]
  },
  {
   "cell_type": "code",
   "execution_count": 55,
   "metadata": {},
   "outputs": [
    {
     "name": "stdout",
     "output_type": "stream",
     "text": [
      "[[ 0. 10.  1.]\n",
      " [ 0. 10.  5.]]\n"
     ]
    }
   ],
   "source": [
    "t1 = tf.constant([0, 10, 1], dtype=tf.float16)\n",
    "t2 = tf.constant([0, 10, 5], dtype=tf.float16)\n",
    "t3 = tf.concat([[t1], [t2]], axis=0)\n",
    "print(t3.numpy())\n"
   ]
  },
  {
   "cell_type": "code",
   "execution_count": 64,
   "metadata": {},
   "outputs": [],
   "source": [
    "P = tf.transpose(images, perm=[1, 0, 2])\n",
    "P = tf.reshape(images, (-1, 2))\n",
    "T = tf.constant([1, 0], dtype=tf.float16)"
   ]
  },
  {
   "cell_type": "code",
   "execution_count": 65,
   "metadata": {},
   "outputs": [],
   "source": []
  },
  {
   "cell_type": "code",
   "execution_count": 68,
   "metadata": {},
   "outputs": [],
   "source": []
  },
  {
   "cell_type": "code",
   "execution_count": null,
   "metadata": {},
   "outputs": [],
   "source": []
  }
 ],
 "metadata": {
  "interpreter": {
   "hash": "9e80d76ea6f7910366ea144e4925c6ce12227515ad9ee1266cb0780bd8ad6c40"
  },
  "kernelspec": {
   "display_name": "Python 3.7.8rc1 64-bit",
   "language": "python",
   "name": "python3"
  },
  "language_info": {
   "codemirror_mode": {
    "name": "ipython",
    "version": 3
   },
   "file_extension": ".py",
   "mimetype": "text/x-python",
   "name": "python",
   "nbconvert_exporter": "python",
   "pygments_lexer": "ipython3",
   "version": "3.7.8rc1"
  },
  "orig_nbformat": 4
 },
 "nbformat": 4,
 "nbformat_minor": 2
}

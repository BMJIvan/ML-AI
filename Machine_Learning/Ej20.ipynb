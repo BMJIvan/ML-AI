{
 "metadata": {
  "language_info": {
   "codemirror_mode": {
    "name": "ipython",
    "version": 3
   },
   "file_extension": ".py",
   "mimetype": "text/x-python",
   "name": "python",
   "nbconvert_exporter": "python",
   "pygments_lexer": "ipython3",
   "version": "3.8.7-final"
  },
  "orig_nbformat": 2,
  "kernelspec": {
   "name": "python3",
   "display_name": "Python 3.8.7 64-bit",
   "metadata": {
    "interpreter": {
     "hash": "ea95fc2df1cee6bb0985586e8a41cf7caceb271a33d321960fcb1bcf60d2a579"
    }
   }
  }
 },
 "nbformat": 4,
 "nbformat_minor": 2,
 "cells": [
  {
   "cell_type": "code",
   "execution_count": 4,
   "metadata": {},
   "outputs": [],
   "source": [
    "#modelos de regresion lineal \n",
    "#modelos con datos simulados\n",
    "#y=a+b*x\n",
    "#x:100 valores distribuidos segun una N(1.5 media,2.5 desviacion)\n",
    "#Ye=5 + 1.9*x + e\n",
    "#e estara distribuida segun una N(0,0.8)"
   ]
  },
  {
   "cell_type": "code",
   "execution_count": 5,
   "metadata": {},
   "outputs": [],
   "source": [
    "import pandas as pd\n",
    "import numpy as np"
   ]
  },
  {
   "cell_type": "code",
   "execution_count": 6,
   "metadata": {},
   "outputs": [],
   "source": [
    "x=1.5+2.5*np.random.randn(100)"
   ]
  },
  {
   "cell_type": "code",
   "execution_count": 7,
   "metadata": {},
   "outputs": [],
   "source": [
    "res=0+0.8*np.random.randn(100)"
   ]
  },
  {
   "cell_type": "code",
   "execution_count": 8,
   "metadata": {},
   "outputs": [],
   "source": [
    "y_pred=5+1.9*x"
   ]
  },
  {
   "cell_type": "code",
   "execution_count": 9,
   "metadata": {},
   "outputs": [],
   "source": [
    "y_act=5+1.9*x+res"
   ]
  },
  {
   "cell_type": "code",
   "execution_count": 10,
   "metadata": {},
   "outputs": [],
   "source": [
    "x_list=x.tolist()\n",
    "y_pred_list=y_pred.tolist()\n",
    "y_act_list=y_act.tolist()"
   ]
  },
  {
   "cell_type": "code",
   "execution_count": 11,
   "metadata": {},
   "outputs": [],
   "source": [
    "data=pd.DataFrame(\n",
    "    {\n",
    "        \"x\":x_list,\n",
    "        \"y\":y_act,\n",
    "        \"y_pred\":y_pred\n",
    "    }\n",
    ")"
   ]
  },
  {
   "cell_type": "code",
   "execution_count": 12,
   "metadata": {},
   "outputs": [],
   "source": [
    "import matplotlib.pyplot as plt"
   ]
  },
  {
   "cell_type": "code",
   "execution_count": 13,
   "metadata": {},
   "outputs": [],
   "source": [
    "%matplotlib inline"
   ]
  },
  {
   "cell_type": "code",
   "execution_count": 14,
   "metadata": {},
   "outputs": [
    {
     "output_type": "execute_result",
     "data": {
      "text/plain": [
       "[<matplotlib.lines.Line2D at 0x29f52699640>]"
      ]
     },
     "metadata": {},
     "execution_count": 14
    },
    {
     "output_type": "display_data",
     "data": {
      "text/plain": "<Figure size 432x288 with 1 Axes>",
      "image/svg+xml": "<?xml version=\"1.0\" encoding=\"utf-8\" standalone=\"no\"?>\r\n<!DOCTYPE svg PUBLIC \"-//W3C//DTD SVG 1.1//EN\"\r\n  \"http://www.w3.org/Graphics/SVG/1.1/DTD/svg11.dtd\">\r\n<!-- Created with matplotlib (https://matplotlib.org/) -->\r\n<svg height=\"248.518125pt\" version=\"1.1\" viewBox=\"0 0 370.942187 248.518125\" width=\"370.942187pt\" xmlns=\"http://www.w3.org/2000/svg\" xmlns:xlink=\"http://www.w3.org/1999/xlink\">\r\n <metadata>\r\n  <rdf:RDF xmlns:cc=\"http://creativecommons.org/ns#\" xmlns:dc=\"http://purl.org/dc/elements/1.1/\" xmlns:rdf=\"http://www.w3.org/1999/02/22-rdf-syntax-ns#\">\r\n   <cc:Work>\r\n    <dc:type rdf:resource=\"http://purl.org/dc/dcmitype/StillImage\"/>\r\n    <dc:date>2021-01-23T13:43:04.351813</dc:date>\r\n    <dc:format>image/svg+xml</dc:format>\r\n    <dc:creator>\r\n     <cc:Agent>\r\n      <dc:title>Matplotlib v3.3.3, https://matplotlib.org/</dc:title>\r\n     </cc:Agent>\r\n    </dc:creator>\r\n   </cc:Work>\r\n  </rdf:RDF>\r\n </metadata>\r\n <defs>\r\n  <style type=\"text/css\">*{stroke-linecap:butt;stroke-linejoin:round;}</style>\r\n </defs>\r\n <g id=\"figure_1\">\r\n  <g id=\"patch_1\">\r\n   <path d=\"M 0 248.518125 \r\nL 370.942187 248.518125 \r\nL 370.942187 0 \r\nL 0 0 \r\nz\r\n\" style=\"fill:none;\"/>\r\n  </g>\r\n  <g id=\"axes_1\">\r\n   <g id=\"patch_2\">\r\n    <path d=\"M 28.942188 224.64 \r\nL 363.742188 224.64 \r\nL 363.742188 7.2 \r\nL 28.942188 7.2 \r\nz\r\n\" style=\"fill:#ffffff;\"/>\r\n   </g>\r\n   <g id=\"matplotlib.axis_1\">\r\n    <g id=\"xtick_1\">\r\n     <g id=\"line2d_1\">\r\n      <defs>\r\n       <path d=\"M 0 0 \r\nL 0 3.5 \r\n\" id=\"m4195eaf9e4\" style=\"stroke:#000000;stroke-width:0.8;\"/>\r\n      </defs>\r\n      <g>\r\n       <use style=\"stroke:#000000;stroke-width:0.8;\" x=\"52.235859\" xlink:href=\"#m4195eaf9e4\" y=\"224.64\"/>\r\n      </g>\r\n     </g>\r\n     <g id=\"text_1\">\r\n      <!-- −4 -->\r\n      <g transform=\"translate(44.864765 239.238437)scale(0.1 -0.1)\">\r\n       <defs>\r\n        <path d=\"M 10.59375 35.5 \r\nL 73.1875 35.5 \r\nL 73.1875 27.203125 \r\nL 10.59375 27.203125 \r\nz\r\n\" id=\"DejaVuSans-8722\"/>\r\n        <path d=\"M 37.796875 64.3125 \r\nL 12.890625 25.390625 \r\nL 37.796875 25.390625 \r\nz\r\nM 35.203125 72.90625 \r\nL 47.609375 72.90625 \r\nL 47.609375 25.390625 \r\nL 58.015625 25.390625 \r\nL 58.015625 17.1875 \r\nL 47.609375 17.1875 \r\nL 47.609375 0 \r\nL 37.796875 0 \r\nL 37.796875 17.1875 \r\nL 4.890625 17.1875 \r\nL 4.890625 26.703125 \r\nz\r\n\" id=\"DejaVuSans-52\"/>\r\n       </defs>\r\n       <use xlink:href=\"#DejaVuSans-8722\"/>\r\n       <use x=\"83.789062\" xlink:href=\"#DejaVuSans-52\"/>\r\n      </g>\r\n     </g>\r\n    </g>\r\n    <g id=\"xtick_2\">\r\n     <g id=\"line2d_2\">\r\n      <g>\r\n       <use style=\"stroke:#000000;stroke-width:0.8;\" x=\"101.232347\" xlink:href=\"#m4195eaf9e4\" y=\"224.64\"/>\r\n      </g>\r\n     </g>\r\n     <g id=\"text_2\">\r\n      <!-- −2 -->\r\n      <g transform=\"translate(93.861253 239.238437)scale(0.1 -0.1)\">\r\n       <defs>\r\n        <path d=\"M 19.1875 8.296875 \r\nL 53.609375 8.296875 \r\nL 53.609375 0 \r\nL 7.328125 0 \r\nL 7.328125 8.296875 \r\nQ 12.9375 14.109375 22.625 23.890625 \r\nQ 32.328125 33.6875 34.8125 36.53125 \r\nQ 39.546875 41.84375 41.421875 45.53125 \r\nQ 43.3125 49.21875 43.3125 52.78125 \r\nQ 43.3125 58.59375 39.234375 62.25 \r\nQ 35.15625 65.921875 28.609375 65.921875 \r\nQ 23.96875 65.921875 18.8125 64.3125 \r\nQ 13.671875 62.703125 7.8125 59.421875 \r\nL 7.8125 69.390625 \r\nQ 13.765625 71.78125 18.9375 73 \r\nQ 24.125 74.21875 28.421875 74.21875 \r\nQ 39.75 74.21875 46.484375 68.546875 \r\nQ 53.21875 62.890625 53.21875 53.421875 \r\nQ 53.21875 48.921875 51.53125 44.890625 \r\nQ 49.859375 40.875 45.40625 35.40625 \r\nQ 44.1875 33.984375 37.640625 27.21875 \r\nQ 31.109375 20.453125 19.1875 8.296875 \r\nz\r\n\" id=\"DejaVuSans-50\"/>\r\n       </defs>\r\n       <use xlink:href=\"#DejaVuSans-8722\"/>\r\n       <use x=\"83.789062\" xlink:href=\"#DejaVuSans-50\"/>\r\n      </g>\r\n     </g>\r\n    </g>\r\n    <g id=\"xtick_3\">\r\n     <g id=\"line2d_3\">\r\n      <g>\r\n       <use style=\"stroke:#000000;stroke-width:0.8;\" x=\"150.228836\" xlink:href=\"#m4195eaf9e4\" y=\"224.64\"/>\r\n      </g>\r\n     </g>\r\n     <g id=\"text_3\">\r\n      <!-- 0 -->\r\n      <g transform=\"translate(147.047586 239.238437)scale(0.1 -0.1)\">\r\n       <defs>\r\n        <path d=\"M 31.78125 66.40625 \r\nQ 24.171875 66.40625 20.328125 58.90625 \r\nQ 16.5 51.421875 16.5 36.375 \r\nQ 16.5 21.390625 20.328125 13.890625 \r\nQ 24.171875 6.390625 31.78125 6.390625 \r\nQ 39.453125 6.390625 43.28125 13.890625 \r\nQ 47.125 21.390625 47.125 36.375 \r\nQ 47.125 51.421875 43.28125 58.90625 \r\nQ 39.453125 66.40625 31.78125 66.40625 \r\nz\r\nM 31.78125 74.21875 \r\nQ 44.046875 74.21875 50.515625 64.515625 \r\nQ 56.984375 54.828125 56.984375 36.375 \r\nQ 56.984375 17.96875 50.515625 8.265625 \r\nQ 44.046875 -1.421875 31.78125 -1.421875 \r\nQ 19.53125 -1.421875 13.0625 8.265625 \r\nQ 6.59375 17.96875 6.59375 36.375 \r\nQ 6.59375 54.828125 13.0625 64.515625 \r\nQ 19.53125 74.21875 31.78125 74.21875 \r\nz\r\n\" id=\"DejaVuSans-48\"/>\r\n       </defs>\r\n       <use xlink:href=\"#DejaVuSans-48\"/>\r\n      </g>\r\n     </g>\r\n    </g>\r\n    <g id=\"xtick_4\">\r\n     <g id=\"line2d_4\">\r\n      <g>\r\n       <use style=\"stroke:#000000;stroke-width:0.8;\" x=\"199.225324\" xlink:href=\"#m4195eaf9e4\" y=\"224.64\"/>\r\n      </g>\r\n     </g>\r\n     <g id=\"text_4\">\r\n      <!-- 2 -->\r\n      <g transform=\"translate(196.044074 239.238437)scale(0.1 -0.1)\">\r\n       <use xlink:href=\"#DejaVuSans-50\"/>\r\n      </g>\r\n     </g>\r\n    </g>\r\n    <g id=\"xtick_5\">\r\n     <g id=\"line2d_5\">\r\n      <g>\r\n       <use style=\"stroke:#000000;stroke-width:0.8;\" x=\"248.221812\" xlink:href=\"#m4195eaf9e4\" y=\"224.64\"/>\r\n      </g>\r\n     </g>\r\n     <g id=\"text_5\">\r\n      <!-- 4 -->\r\n      <g transform=\"translate(245.040562 239.238437)scale(0.1 -0.1)\">\r\n       <use xlink:href=\"#DejaVuSans-52\"/>\r\n      </g>\r\n     </g>\r\n    </g>\r\n    <g id=\"xtick_6\">\r\n     <g id=\"line2d_6\">\r\n      <g>\r\n       <use style=\"stroke:#000000;stroke-width:0.8;\" x=\"297.218301\" xlink:href=\"#m4195eaf9e4\" y=\"224.64\"/>\r\n      </g>\r\n     </g>\r\n     <g id=\"text_6\">\r\n      <!-- 6 -->\r\n      <g transform=\"translate(294.037051 239.238437)scale(0.1 -0.1)\">\r\n       <defs>\r\n        <path d=\"M 33.015625 40.375 \r\nQ 26.375 40.375 22.484375 35.828125 \r\nQ 18.609375 31.296875 18.609375 23.390625 \r\nQ 18.609375 15.53125 22.484375 10.953125 \r\nQ 26.375 6.390625 33.015625 6.390625 \r\nQ 39.65625 6.390625 43.53125 10.953125 \r\nQ 47.40625 15.53125 47.40625 23.390625 \r\nQ 47.40625 31.296875 43.53125 35.828125 \r\nQ 39.65625 40.375 33.015625 40.375 \r\nz\r\nM 52.59375 71.296875 \r\nL 52.59375 62.3125 \r\nQ 48.875 64.0625 45.09375 64.984375 \r\nQ 41.3125 65.921875 37.59375 65.921875 \r\nQ 27.828125 65.921875 22.671875 59.328125 \r\nQ 17.53125 52.734375 16.796875 39.40625 \r\nQ 19.671875 43.65625 24.015625 45.921875 \r\nQ 28.375 48.1875 33.59375 48.1875 \r\nQ 44.578125 48.1875 50.953125 41.515625 \r\nQ 57.328125 34.859375 57.328125 23.390625 \r\nQ 57.328125 12.15625 50.6875 5.359375 \r\nQ 44.046875 -1.421875 33.015625 -1.421875 \r\nQ 20.359375 -1.421875 13.671875 8.265625 \r\nQ 6.984375 17.96875 6.984375 36.375 \r\nQ 6.984375 53.65625 15.1875 63.9375 \r\nQ 23.390625 74.21875 37.203125 74.21875 \r\nQ 40.921875 74.21875 44.703125 73.484375 \r\nQ 48.484375 72.75 52.59375 71.296875 \r\nz\r\n\" id=\"DejaVuSans-54\"/>\r\n       </defs>\r\n       <use xlink:href=\"#DejaVuSans-54\"/>\r\n      </g>\r\n     </g>\r\n    </g>\r\n    <g id=\"xtick_7\">\r\n     <g id=\"line2d_7\">\r\n      <g>\r\n       <use style=\"stroke:#000000;stroke-width:0.8;\" x=\"346.214789\" xlink:href=\"#m4195eaf9e4\" y=\"224.64\"/>\r\n      </g>\r\n     </g>\r\n     <g id=\"text_7\">\r\n      <!-- 8 -->\r\n      <g transform=\"translate(343.033539 239.238437)scale(0.1 -0.1)\">\r\n       <defs>\r\n        <path d=\"M 31.78125 34.625 \r\nQ 24.75 34.625 20.71875 30.859375 \r\nQ 16.703125 27.09375 16.703125 20.515625 \r\nQ 16.703125 13.921875 20.71875 10.15625 \r\nQ 24.75 6.390625 31.78125 6.390625 \r\nQ 38.8125 6.390625 42.859375 10.171875 \r\nQ 46.921875 13.96875 46.921875 20.515625 \r\nQ 46.921875 27.09375 42.890625 30.859375 \r\nQ 38.875 34.625 31.78125 34.625 \r\nz\r\nM 21.921875 38.8125 \r\nQ 15.578125 40.375 12.03125 44.71875 \r\nQ 8.5 49.078125 8.5 55.328125 \r\nQ 8.5 64.0625 14.71875 69.140625 \r\nQ 20.953125 74.21875 31.78125 74.21875 \r\nQ 42.671875 74.21875 48.875 69.140625 \r\nQ 55.078125 64.0625 55.078125 55.328125 \r\nQ 55.078125 49.078125 51.53125 44.71875 \r\nQ 48 40.375 41.703125 38.8125 \r\nQ 48.828125 37.15625 52.796875 32.3125 \r\nQ 56.78125 27.484375 56.78125 20.515625 \r\nQ 56.78125 9.90625 50.3125 4.234375 \r\nQ 43.84375 -1.421875 31.78125 -1.421875 \r\nQ 19.734375 -1.421875 13.25 4.234375 \r\nQ 6.78125 9.90625 6.78125 20.515625 \r\nQ 6.78125 27.484375 10.78125 32.3125 \r\nQ 14.796875 37.15625 21.921875 38.8125 \r\nz\r\nM 18.3125 54.390625 \r\nQ 18.3125 48.734375 21.84375 45.5625 \r\nQ 25.390625 42.390625 31.78125 42.390625 \r\nQ 38.140625 42.390625 41.71875 45.5625 \r\nQ 45.3125 48.734375 45.3125 54.390625 \r\nQ 45.3125 60.0625 41.71875 63.234375 \r\nQ 38.140625 66.40625 31.78125 66.40625 \r\nQ 25.390625 66.40625 21.84375 63.234375 \r\nQ 18.3125 60.0625 18.3125 54.390625 \r\nz\r\n\" id=\"DejaVuSans-56\"/>\r\n       </defs>\r\n       <use xlink:href=\"#DejaVuSans-56\"/>\r\n      </g>\r\n     </g>\r\n    </g>\r\n   </g>\r\n   <g id=\"matplotlib.axis_2\">\r\n    <g id=\"ytick_1\">\r\n     <g id=\"line2d_8\">\r\n      <defs>\r\n       <path d=\"M 0 0 \r\nL -3.5 0 \r\n\" id=\"m973c9bd67f\" style=\"stroke:#000000;stroke-width:0.8;\"/>\r\n      </defs>\r\n      <g>\r\n       <use style=\"stroke:#000000;stroke-width:0.8;\" x=\"28.942188\" xlink:href=\"#m973c9bd67f\" y=\"223.823206\"/>\r\n      </g>\r\n     </g>\r\n     <g id=\"text_8\">\r\n      <!-- −5 -->\r\n      <g transform=\"translate(7.2 227.622425)scale(0.1 -0.1)\">\r\n       <defs>\r\n        <path d=\"M 10.796875 72.90625 \r\nL 49.515625 72.90625 \r\nL 49.515625 64.59375 \r\nL 19.828125 64.59375 \r\nL 19.828125 46.734375 \r\nQ 21.96875 47.46875 24.109375 47.828125 \r\nQ 26.265625 48.1875 28.421875 48.1875 \r\nQ 40.625 48.1875 47.75 41.5 \r\nQ 54.890625 34.8125 54.890625 23.390625 \r\nQ 54.890625 11.625 47.5625 5.09375 \r\nQ 40.234375 -1.421875 26.90625 -1.421875 \r\nQ 22.3125 -1.421875 17.546875 -0.640625 \r\nQ 12.796875 0.140625 7.71875 1.703125 \r\nL 7.71875 11.625 \r\nQ 12.109375 9.234375 16.796875 8.0625 \r\nQ 21.484375 6.890625 26.703125 6.890625 \r\nQ 35.15625 6.890625 40.078125 11.328125 \r\nQ 45.015625 15.765625 45.015625 23.390625 \r\nQ 45.015625 31 40.078125 35.4375 \r\nQ 35.15625 39.890625 26.703125 39.890625 \r\nQ 22.75 39.890625 18.8125 39.015625 \r\nQ 14.890625 38.140625 10.796875 36.28125 \r\nz\r\n\" id=\"DejaVuSans-53\"/>\r\n       </defs>\r\n       <use xlink:href=\"#DejaVuSans-8722\"/>\r\n       <use x=\"83.789062\" xlink:href=\"#DejaVuSans-53\"/>\r\n      </g>\r\n     </g>\r\n    </g>\r\n    <g id=\"ytick_2\">\r\n     <g id=\"line2d_9\">\r\n      <g>\r\n       <use style=\"stroke:#000000;stroke-width:0.8;\" x=\"28.942188\" xlink:href=\"#m973c9bd67f\" y=\"184.903597\"/>\r\n      </g>\r\n     </g>\r\n     <g id=\"text_9\">\r\n      <!-- 0 -->\r\n      <g transform=\"translate(15.579688 188.702816)scale(0.1 -0.1)\">\r\n       <use xlink:href=\"#DejaVuSans-48\"/>\r\n      </g>\r\n     </g>\r\n    </g>\r\n    <g id=\"ytick_3\">\r\n     <g id=\"line2d_10\">\r\n      <g>\r\n       <use style=\"stroke:#000000;stroke-width:0.8;\" x=\"28.942188\" xlink:href=\"#m973c9bd67f\" y=\"145.983988\"/>\r\n      </g>\r\n     </g>\r\n     <g id=\"text_10\">\r\n      <!-- 5 -->\r\n      <g transform=\"translate(15.579688 149.783207)scale(0.1 -0.1)\">\r\n       <use xlink:href=\"#DejaVuSans-53\"/>\r\n      </g>\r\n     </g>\r\n    </g>\r\n    <g id=\"ytick_4\">\r\n     <g id=\"line2d_11\">\r\n      <g>\r\n       <use style=\"stroke:#000000;stroke-width:0.8;\" x=\"28.942188\" xlink:href=\"#m973c9bd67f\" y=\"107.064379\"/>\r\n      </g>\r\n     </g>\r\n     <g id=\"text_11\">\r\n      <!-- 10 -->\r\n      <g transform=\"translate(9.217188 110.863598)scale(0.1 -0.1)\">\r\n       <defs>\r\n        <path d=\"M 12.40625 8.296875 \r\nL 28.515625 8.296875 \r\nL 28.515625 63.921875 \r\nL 10.984375 60.40625 \r\nL 10.984375 69.390625 \r\nL 28.421875 72.90625 \r\nL 38.28125 72.90625 \r\nL 38.28125 8.296875 \r\nL 54.390625 8.296875 \r\nL 54.390625 0 \r\nL 12.40625 0 \r\nz\r\n\" id=\"DejaVuSans-49\"/>\r\n       </defs>\r\n       <use xlink:href=\"#DejaVuSans-49\"/>\r\n       <use x=\"63.623047\" xlink:href=\"#DejaVuSans-48\"/>\r\n      </g>\r\n     </g>\r\n    </g>\r\n    <g id=\"ytick_5\">\r\n     <g id=\"line2d_12\">\r\n      <g>\r\n       <use style=\"stroke:#000000;stroke-width:0.8;\" x=\"28.942188\" xlink:href=\"#m973c9bd67f\" y=\"68.14477\"/>\r\n      </g>\r\n     </g>\r\n     <g id=\"text_12\">\r\n      <!-- 15 -->\r\n      <g transform=\"translate(9.217188 71.943989)scale(0.1 -0.1)\">\r\n       <use xlink:href=\"#DejaVuSans-49\"/>\r\n       <use x=\"63.623047\" xlink:href=\"#DejaVuSans-53\"/>\r\n      </g>\r\n     </g>\r\n    </g>\r\n    <g id=\"ytick_6\">\r\n     <g id=\"line2d_13\">\r\n      <g>\r\n       <use style=\"stroke:#000000;stroke-width:0.8;\" x=\"28.942188\" xlink:href=\"#m973c9bd67f\" y=\"29.225161\"/>\r\n      </g>\r\n     </g>\r\n     <g id=\"text_13\">\r\n      <!-- 20 -->\r\n      <g transform=\"translate(9.217188 33.02438)scale(0.1 -0.1)\">\r\n       <use xlink:href=\"#DejaVuSans-50\"/>\r\n       <use x=\"63.623047\" xlink:href=\"#DejaVuSans-48\"/>\r\n      </g>\r\n     </g>\r\n    </g>\r\n   </g>\r\n   <g id=\"line2d_14\">\r\n    <defs>\r\n     <path d=\"M 0 3 \r\nC 0.795609 3 1.55874 2.683901 2.12132 2.12132 \r\nC 2.683901 1.55874 3 0.795609 3 0 \r\nC 3 -0.795609 2.683901 -1.55874 2.12132 -2.12132 \r\nC 1.55874 -2.683901 0.795609 -3 0 -3 \r\nC -0.795609 -3 -1.55874 -2.683901 -2.12132 -2.12132 \r\nC -2.683901 -1.55874 -3 -0.795609 -3 0 \r\nC -3 0.795609 -2.683901 1.55874 -2.12132 2.12132 \r\nC -1.55874 2.683901 -0.795609 3 0 3 \r\nz\r\n\" id=\"mefeb8e0748\" style=\"stroke:#ff0000;\"/>\r\n    </defs>\r\n    <g clip-path=\"url(#pdbed8f681e)\">\r\n     <use style=\"fill:#ff0000;stroke:#ff0000;\" x=\"151.03997\" xlink:href=\"#mefeb8e0748\" y=\"143.360461\"/>\r\n     <use style=\"fill:#ff0000;stroke:#ff0000;\" x=\"279.031129\" xlink:href=\"#mefeb8e0748\" y=\"71.661512\"/>\r\n     <use style=\"fill:#ff0000;stroke:#ff0000;\" x=\"82.100361\" xlink:href=\"#mefeb8e0748\" y=\"197.233682\"/>\r\n     <use style=\"fill:#ff0000;stroke:#ff0000;\" x=\"205.50796\" xlink:href=\"#mefeb8e0748\" y=\"116.358087\"/>\r\n     <use style=\"fill:#ff0000;stroke:#ff0000;\" x=\"180.790093\" xlink:href=\"#mefeb8e0748\" y=\"122.572012\"/>\r\n     <use style=\"fill:#ff0000;stroke:#ff0000;\" x=\"272.821797\" xlink:href=\"#mefeb8e0748\" y=\"68.404975\"/>\r\n     <use style=\"fill:#ff0000;stroke:#ff0000;\" x=\"130.336337\" xlink:href=\"#mefeb8e0748\" y=\"158.692455\"/>\r\n     <use style=\"fill:#ff0000;stroke:#ff0000;\" x=\"216.555958\" xlink:href=\"#mefeb8e0748\" y=\"102.005634\"/>\r\n     <use style=\"fill:#ff0000;stroke:#ff0000;\" x=\"148.137964\" xlink:href=\"#mefeb8e0748\" y=\"153.149093\"/>\r\n     <use style=\"fill:#ff0000;stroke:#ff0000;\" x=\"259.036072\" xlink:href=\"#mefeb8e0748\" y=\"85.16507\"/>\r\n     <use style=\"fill:#ff0000;stroke:#ff0000;\" x=\"211.407961\" xlink:href=\"#mefeb8e0748\" y=\"109.299912\"/>\r\n     <use style=\"fill:#ff0000;stroke:#ff0000;\" x=\"298.019933\" xlink:href=\"#mefeb8e0748\" y=\"61.833883\"/>\r\n     <use style=\"fill:#ff0000;stroke:#ff0000;\" x=\"244.023925\" xlink:href=\"#mefeb8e0748\" y=\"76.408169\"/>\r\n     <use style=\"fill:#ff0000;stroke:#ff0000;\" x=\"191.650691\" xlink:href=\"#mefeb8e0748\" y=\"118.683551\"/>\r\n     <use style=\"fill:#ff0000;stroke:#ff0000;\" x=\"136.790013\" xlink:href=\"#mefeb8e0748\" y=\"152.509782\"/>\r\n     <use style=\"fill:#ff0000;stroke:#ff0000;\" x=\"166.704663\" xlink:href=\"#mefeb8e0748\" y=\"131.278474\"/>\r\n     <use style=\"fill:#ff0000;stroke:#ff0000;\" x=\"167.928887\" xlink:href=\"#mefeb8e0748\" y=\"137.789953\"/>\r\n     <use style=\"fill:#ff0000;stroke:#ff0000;\" x=\"83.529595\" xlink:href=\"#mefeb8e0748\" y=\"193.473497\"/>\r\n     <use style=\"fill:#ff0000;stroke:#ff0000;\" x=\"205.757196\" xlink:href=\"#mefeb8e0748\" y=\"107.98433\"/>\r\n     <use style=\"fill:#ff0000;stroke:#ff0000;\" x=\"187.557779\" xlink:href=\"#mefeb8e0748\" y=\"128.555182\"/>\r\n     <use style=\"fill:#ff0000;stroke:#ff0000;\" x=\"135.470296\" xlink:href=\"#mefeb8e0748\" y=\"146.993001\"/>\r\n     <use style=\"fill:#ff0000;stroke:#ff0000;\" x=\"168.779384\" xlink:href=\"#mefeb8e0748\" y=\"139.491982\"/>\r\n     <use style=\"fill:#ff0000;stroke:#ff0000;\" x=\"184.691285\" xlink:href=\"#mefeb8e0748\" y=\"120.104958\"/>\r\n     <use style=\"fill:#ff0000;stroke:#ff0000;\" x=\"177.706409\" xlink:href=\"#mefeb8e0748\" y=\"121.732576\"/>\r\n     <use style=\"fill:#ff0000;stroke:#ff0000;\" x=\"168.035228\" xlink:href=\"#mefeb8e0748\" y=\"140.270182\"/>\r\n     <use style=\"fill:#ff0000;stroke:#ff0000;\" x=\"277.343158\" xlink:href=\"#mefeb8e0748\" y=\"66.161455\"/>\r\n     <use style=\"fill:#ff0000;stroke:#ff0000;\" x=\"127.007961\" xlink:href=\"#mefeb8e0748\" y=\"172.800044\"/>\r\n     <use style=\"fill:#ff0000;stroke:#ff0000;\" x=\"129.629768\" xlink:href=\"#mefeb8e0748\" y=\"166.583797\"/>\r\n     <use style=\"fill:#ff0000;stroke:#ff0000;\" x=\"220.220881\" xlink:href=\"#mefeb8e0748\" y=\"97.584054\"/>\r\n     <use style=\"fill:#ff0000;stroke:#ff0000;\" x=\"330.01643\" xlink:href=\"#mefeb8e0748\" y=\"31.712835\"/>\r\n     <use style=\"fill:#ff0000;stroke:#ff0000;\" x=\"195.077526\" xlink:href=\"#mefeb8e0748\" y=\"120.484863\"/>\r\n     <use style=\"fill:#ff0000;stroke:#ff0000;\" x=\"180.990169\" xlink:href=\"#mefeb8e0748\" y=\"126.40621\"/>\r\n     <use style=\"fill:#ff0000;stroke:#ff0000;\" x=\"115.207303\" xlink:href=\"#mefeb8e0748\" y=\"163.500979\"/>\r\n     <use style=\"fill:#ff0000;stroke:#ff0000;\" x=\"81.491724\" xlink:href=\"#mefeb8e0748\" y=\"189.346291\"/>\r\n     <use style=\"fill:#ff0000;stroke:#ff0000;\" x=\"267.422541\" xlink:href=\"#mefeb8e0748\" y=\"71.084196\"/>\r\n     <use style=\"fill:#ff0000;stroke:#ff0000;\" x=\"190.315273\" xlink:href=\"#mefeb8e0748\" y=\"125.319091\"/>\r\n     <use style=\"fill:#ff0000;stroke:#ff0000;\" x=\"131.397934\" xlink:href=\"#mefeb8e0748\" y=\"165.74875\"/>\r\n     <use style=\"fill:#ff0000;stroke:#ff0000;\" x=\"91.702019\" xlink:href=\"#mefeb8e0748\" y=\"179.863997\"/>\r\n     <use style=\"fill:#ff0000;stroke:#ff0000;\" x=\"207.430813\" xlink:href=\"#mefeb8e0748\" y=\"114.243651\"/>\r\n     <use style=\"fill:#ff0000;stroke:#ff0000;\" x=\"64.499979\" xlink:href=\"#mefeb8e0748\" y=\"201.514391\"/>\r\n     <use style=\"fill:#ff0000;stroke:#ff0000;\" x=\"172.745855\" xlink:href=\"#mefeb8e0748\" y=\"134.124136\"/>\r\n     <use style=\"fill:#ff0000;stroke:#ff0000;\" x=\"195.978629\" xlink:href=\"#mefeb8e0748\" y=\"123.516732\"/>\r\n     <use style=\"fill:#ff0000;stroke:#ff0000;\" x=\"171.976116\" xlink:href=\"#mefeb8e0748\" y=\"134.957768\"/>\r\n     <use style=\"fill:#ff0000;stroke:#ff0000;\" x=\"158.906731\" xlink:href=\"#mefeb8e0748\" y=\"133.26086\"/>\r\n     <use style=\"fill:#ff0000;stroke:#ff0000;\" x=\"158.117084\" xlink:href=\"#mefeb8e0748\" y=\"135.392705\"/>\r\n     <use style=\"fill:#ff0000;stroke:#ff0000;\" x=\"149.540771\" xlink:href=\"#mefeb8e0748\" y=\"152.910845\"/>\r\n     <use style=\"fill:#ff0000;stroke:#ff0000;\" x=\"348.524006\" xlink:href=\"#mefeb8e0748\" y=\"17.083636\"/>\r\n     <use style=\"fill:#ff0000;stroke:#ff0000;\" x=\"246.687136\" xlink:href=\"#mefeb8e0748\" y=\"81.466491\"/>\r\n     <use style=\"fill:#ff0000;stroke:#ff0000;\" x=\"100.806035\" xlink:href=\"#mefeb8e0748\" y=\"173.357154\"/>\r\n     <use style=\"fill:#ff0000;stroke:#ff0000;\" x=\"181.857871\" xlink:href=\"#mefeb8e0748\" y=\"137.469713\"/>\r\n     <use style=\"fill:#ff0000;stroke:#ff0000;\" x=\"142.35933\" xlink:href=\"#mefeb8e0748\" y=\"145.409196\"/>\r\n     <use style=\"fill:#ff0000;stroke:#ff0000;\" x=\"191.872203\" xlink:href=\"#mefeb8e0748\" y=\"124.438788\"/>\r\n     <use style=\"fill:#ff0000;stroke:#ff0000;\" x=\"119.680391\" xlink:href=\"#mefeb8e0748\" y=\"162.877471\"/>\r\n     <use style=\"fill:#ff0000;stroke:#ff0000;\" x=\"85.817589\" xlink:href=\"#mefeb8e0748\" y=\"189.132897\"/>\r\n     <use style=\"fill:#ff0000;stroke:#ff0000;\" x=\"183.483891\" xlink:href=\"#mefeb8e0748\" y=\"129.524458\"/>\r\n     <use style=\"fill:#ff0000;stroke:#ff0000;\" x=\"224.575166\" xlink:href=\"#mefeb8e0748\" y=\"100.808352\"/>\r\n     <use style=\"fill:#ff0000;stroke:#ff0000;\" x=\"119.646992\" xlink:href=\"#mefeb8e0748\" y=\"169.106761\"/>\r\n     <use style=\"fill:#ff0000;stroke:#ff0000;\" x=\"181.192909\" xlink:href=\"#mefeb8e0748\" y=\"135.742311\"/>\r\n     <use style=\"fill:#ff0000;stroke:#ff0000;\" x=\"213.091205\" xlink:href=\"#mefeb8e0748\" y=\"99.553186\"/>\r\n     <use style=\"fill:#ff0000;stroke:#ff0000;\" x=\"205.104004\" xlink:href=\"#mefeb8e0748\" y=\"105.85233\"/>\r\n     <use style=\"fill:#ff0000;stroke:#ff0000;\" x=\"152.295228\" xlink:href=\"#mefeb8e0748\" y=\"137.512798\"/>\r\n     <use style=\"fill:#ff0000;stroke:#ff0000;\" x=\"80.54272\" xlink:href=\"#mefeb8e0748\" y=\"177.091785\"/>\r\n     <use style=\"fill:#ff0000;stroke:#ff0000;\" x=\"246.419508\" xlink:href=\"#mefeb8e0748\" y=\"86.507912\"/>\r\n     <use style=\"fill:#ff0000;stroke:#ff0000;\" x=\"118.232481\" xlink:href=\"#mefeb8e0748\" y=\"166.765577\"/>\r\n     <use style=\"fill:#ff0000;stroke:#ff0000;\" x=\"265.362325\" xlink:href=\"#mefeb8e0748\" y=\"79.338277\"/>\r\n     <use style=\"fill:#ff0000;stroke:#ff0000;\" x=\"198.773168\" xlink:href=\"#mefeb8e0748\" y=\"120.278554\"/>\r\n     <use style=\"fill:#ff0000;stroke:#ff0000;\" x=\"44.160369\" xlink:href=\"#mefeb8e0748\" y=\"214.756364\"/>\r\n     <use style=\"fill:#ff0000;stroke:#ff0000;\" x=\"213.490854\" xlink:href=\"#mefeb8e0748\" y=\"107.622148\"/>\r\n     <use style=\"fill:#ff0000;stroke:#ff0000;\" x=\"257.939902\" xlink:href=\"#mefeb8e0748\" y=\"75.774681\"/>\r\n     <use style=\"fill:#ff0000;stroke:#ff0000;\" x=\"126.556887\" xlink:href=\"#mefeb8e0748\" y=\"157.244194\"/>\r\n     <use style=\"fill:#ff0000;stroke:#ff0000;\" x=\"188.151633\" xlink:href=\"#mefeb8e0748\" y=\"135.607032\"/>\r\n     <use style=\"fill:#ff0000;stroke:#ff0000;\" x=\"159.465176\" xlink:href=\"#mefeb8e0748\" y=\"134.108561\"/>\r\n     <use style=\"fill:#ff0000;stroke:#ff0000;\" x=\"56.611734\" xlink:href=\"#mefeb8e0748\" y=\"208.717394\"/>\r\n     <use style=\"fill:#ff0000;stroke:#ff0000;\" x=\"311.815212\" xlink:href=\"#mefeb8e0748\" y=\"50.729306\"/>\r\n     <use style=\"fill:#ff0000;stroke:#ff0000;\" x=\"212.992213\" xlink:href=\"#mefeb8e0748\" y=\"111.421584\"/>\r\n     <use style=\"fill:#ff0000;stroke:#ff0000;\" x=\"94.620666\" xlink:href=\"#mefeb8e0748\" y=\"182.466452\"/>\r\n     <use style=\"fill:#ff0000;stroke:#ff0000;\" x=\"199.082045\" xlink:href=\"#mefeb8e0748\" y=\"118.546673\"/>\r\n     <use style=\"fill:#ff0000;stroke:#ff0000;\" x=\"102.659323\" xlink:href=\"#mefeb8e0748\" y=\"179.536311\"/>\r\n     <use style=\"fill:#ff0000;stroke:#ff0000;\" x=\"333.886595\" xlink:href=\"#mefeb8e0748\" y=\"33.126602\"/>\r\n     <use style=\"fill:#ff0000;stroke:#ff0000;\" x=\"219.1014\" xlink:href=\"#mefeb8e0748\" y=\"114.526335\"/>\r\n     <use style=\"fill:#ff0000;stroke:#ff0000;\" x=\"246.106161\" xlink:href=\"#mefeb8e0748\" y=\"92.967751\"/>\r\n     <use style=\"fill:#ff0000;stroke:#ff0000;\" x=\"146.725881\" xlink:href=\"#mefeb8e0748\" y=\"142.577531\"/>\r\n     <use style=\"fill:#ff0000;stroke:#ff0000;\" x=\"189.596648\" xlink:href=\"#mefeb8e0748\" y=\"128.309199\"/>\r\n     <use style=\"fill:#ff0000;stroke:#ff0000;\" x=\"200.612747\" xlink:href=\"#mefeb8e0748\" y=\"121.426744\"/>\r\n     <use style=\"fill:#ff0000;stroke:#ff0000;\" x=\"169.302179\" xlink:href=\"#mefeb8e0748\" y=\"127.633063\"/>\r\n     <use style=\"fill:#ff0000;stroke:#ff0000;\" x=\"84.239299\" xlink:href=\"#mefeb8e0748\" y=\"190.611744\"/>\r\n     <use style=\"fill:#ff0000;stroke:#ff0000;\" x=\"148.977297\" xlink:href=\"#mefeb8e0748\" y=\"153.292023\"/>\r\n     <use style=\"fill:#ff0000;stroke:#ff0000;\" x=\"256.049346\" xlink:href=\"#mefeb8e0748\" y=\"76.333652\"/>\r\n     <use style=\"fill:#ff0000;stroke:#ff0000;\" x=\"280.082415\" xlink:href=\"#mefeb8e0748\" y=\"67.952277\"/>\r\n     <use style=\"fill:#ff0000;stroke:#ff0000;\" x=\"105.186357\" xlink:href=\"#mefeb8e0748\" y=\"181.670815\"/>\r\n     <use style=\"fill:#ff0000;stroke:#ff0000;\" x=\"205.618231\" xlink:href=\"#mefeb8e0748\" y=\"113.91057\"/>\r\n     <use style=\"fill:#ff0000;stroke:#ff0000;\" x=\"161.859438\" xlink:href=\"#mefeb8e0748\" y=\"134.552532\"/>\r\n     <use style=\"fill:#ff0000;stroke:#ff0000;\" x=\"181.692592\" xlink:href=\"#mefeb8e0748\" y=\"123.840242\"/>\r\n     <use style=\"fill:#ff0000;stroke:#ff0000;\" x=\"83.556053\" xlink:href=\"#mefeb8e0748\" y=\"184.275353\"/>\r\n     <use style=\"fill:#ff0000;stroke:#ff0000;\" x=\"176.469597\" xlink:href=\"#mefeb8e0748\" y=\"127.186409\"/>\r\n     <use style=\"fill:#ff0000;stroke:#ff0000;\" x=\"220.427282\" xlink:href=\"#mefeb8e0748\" y=\"102.419286\"/>\r\n     <use style=\"fill:#ff0000;stroke:#ff0000;\" x=\"210.470586\" xlink:href=\"#mefeb8e0748\" y=\"118.232872\"/>\r\n     <use style=\"fill:#ff0000;stroke:#ff0000;\" x=\"183.620905\" xlink:href=\"#mefeb8e0748\" y=\"121.132323\"/>\r\n     <use style=\"fill:#ff0000;stroke:#ff0000;\" x=\"341.575192\" xlink:href=\"#mefeb8e0748\" y=\"40.141025\"/>\r\n     <use style=\"fill:#ff0000;stroke:#ff0000;\" x=\"197.684908\" xlink:href=\"#mefeb8e0748\" y=\"108.734352\"/>\r\n    </g>\r\n   </g>\r\n   <g id=\"line2d_15\">\r\n    <path clip-path=\"url(#pdbed8f681e)\" d=\"M 151.03997 145.494311 \r\nL 279.031129 68.226772 \r\nL 82.100361 187.112763 \r\nL 205.50796 112.612293 \r\nL 180.790093 127.53433 \r\nL 272.821797 71.975311 \r\nL 130.336337 157.992977 \r\nL 216.555958 105.94268 \r\nL 148.137964 147.246235 \r\nL 259.036072 80.297675 \r\nL 211.407961 109.050496 \r\nL 298.019933 56.763339 \r\nL 244.023925 89.360423 \r\nL 191.650691 120.977848 \r\nL 136.790013 154.096929 \r\nL 166.704663 136.037624 \r\nL 167.928887 135.298567 \r\nL 83.529595 186.249942 \r\nL 205.757196 112.461831 \r\nL 187.557779 123.448716 \r\nL 135.470296 154.893635 \r\nL 168.779384 134.785127 \r\nL 184.691285 125.179202 \r\nL 177.706409 129.395932 \r\nL 168.035228 135.23437 \r\nL 277.343158 69.245791 \r\nL 127.007961 160.002298 \r\nL 129.629768 158.419529 \r\nL 220.220881 103.730186 \r\nL 330.01643 37.447234 \r\nL 195.077526 118.909087 \r\nL 180.990169 127.413545 \r\nL 115.207303 167.126289 \r\nL 81.491724 187.480193 \r\nL 267.422541 75.234811 \r\nL 190.315273 121.784033 \r\nL 131.397934 157.352097 \r\nL 91.702019 181.316296 \r\nL 207.430813 111.451478 \r\nL 64.499979 197.738014 \r\nL 172.745855 132.390591 \r\nL 195.978629 118.365096 \r\nL 171.976116 132.855278 \r\nL 158.906731 140.745191 \r\nL 158.117084 141.221897 \r\nL 149.540771 146.399369 \r\nL 348.524006 26.274316 \r\nL 246.687136 87.752658 \r\nL 100.806035 175.820253 \r\nL 181.857871 126.889718 \r\nL 142.35933 150.734764 \r\nL 191.872203 120.844123 \r\nL 119.680391 164.425911 \r\nL 85.817589 184.868693 \r\nL 183.483891 125.908099 \r\nL 224.575166 101.101529 \r\nL 119.646992 164.446074 \r\nL 181.192909 127.291152 \r\nL 213.091205 108.034331 \r\nL 205.104004 112.856159 \r\nL 152.295228 144.736518 \r\nL 80.54272 188.053101 \r\nL 246.419508 87.914223 \r\nL 118.232481 165.300006 \r\nL 265.362325 76.478552 \r\nL 198.773168 116.678049 \r\nL 44.160369 210.016921 \r\nL 213.490854 107.793065 \r\nL 257.939902 80.959427 \r\nL 126.556887 160.274609 \r\nL 188.151633 123.09021 \r\nL 159.465176 140.408061 \r\nL 56.611734 202.500103 \r\nL 311.815212 48.435207 \r\nL 212.992213 108.094092 \r\nL 94.620666 179.554325 \r\nL 199.082045 116.491582 \r\nL 102.659323 174.701434 \r\nL 333.886595 35.110838 \r\nL 219.1014 104.406011 \r\nL 246.106161 88.103389 \r\nL 146.725881 148.098702 \r\nL 189.596648 122.217862 \r\nL 200.612747 115.567506 \r\nL 169.302179 134.469518 \r\nL 84.239299 185.821497 \r\nL 148.977297 146.739535 \r\nL 256.049346 82.100744 \r\nL 280.082415 67.592117 \r\nL 105.186357 173.175877 \r\nL 205.618231 112.545723 \r\nL 161.859438 138.962659 \r\nL 181.692592 126.989496 \r\nL 83.556053 186.233969 \r\nL 176.469597 130.142589 \r\nL 220.427282 103.605583 \r\nL 210.470586 109.616384 \r\nL 183.620905 125.825384 \r\nL 341.575192 30.469275 \r\nL 197.684908 117.335025 \r\n\" style=\"fill:none;stroke:#0000ff;stroke-linecap:square;stroke-width:1.5;\"/>\r\n   </g>\r\n   <g id=\"patch_3\">\r\n    <path d=\"M 28.942188 224.64 \r\nL 28.942188 7.2 \r\n\" style=\"fill:none;stroke:#000000;stroke-linecap:square;stroke-linejoin:miter;stroke-width:0.8;\"/>\r\n   </g>\r\n   <g id=\"patch_4\">\r\n    <path d=\"M 363.742188 224.64 \r\nL 363.742188 7.2 \r\n\" style=\"fill:none;stroke:#000000;stroke-linecap:square;stroke-linejoin:miter;stroke-width:0.8;\"/>\r\n   </g>\r\n   <g id=\"patch_5\">\r\n    <path d=\"M 28.942188 224.64 \r\nL 363.742188 224.64 \r\n\" style=\"fill:none;stroke:#000000;stroke-linecap:square;stroke-linejoin:miter;stroke-width:0.8;\"/>\r\n   </g>\r\n   <g id=\"patch_6\">\r\n    <path d=\"M 28.942188 7.2 \r\nL 363.742188 7.2 \r\n\" style=\"fill:none;stroke:#000000;stroke-linecap:square;stroke-linejoin:miter;stroke-width:0.8;\"/>\r\n   </g>\r\n  </g>\r\n </g>\r\n <defs>\r\n  <clipPath id=\"pdbed8f681e\">\r\n   <rect height=\"217.44\" width=\"334.8\" x=\"28.942188\" y=\"7.2\"/>\r\n  </clipPath>\r\n </defs>\r\n</svg>\r\n",
      "image/png": "[encoded data removed]"
     },
     "metadata": {
      "needs_background": "light"
     }
    }
   ],
   "source": [
    "plt.plot(data[\"x\"],data[\"y\"],\"ro\")\n",
    "plt.plot(data[\"x\"],data[\"y_pred\"],\"b\")"
   ]
  },
  {
   "cell_type": "code",
   "execution_count": 15,
   "metadata": {},
   "outputs": [],
   "source": [
    "data[\"SSR\"]=(data[\"y_pred\"]-np.mean(data[\"y\"]))**2 #suma de cuadrados de los resultados\n",
    "data[\"SSD\"]=(data[\"y_pred\"]-data[\"y\"])**2 #suma de cuadrados totales\n",
    "data[\"SST\"]=(data[\"y\"]-np.mean(data[\"y\"]))**2 #suma de cuadrados las diferencias "
   ]
  },
  {
   "cell_type": "code",
   "execution_count": 16,
   "metadata": {},
   "outputs": [
    {
     "output_type": "execute_result",
     "data": {
      "text/plain": [
       "          x          y     y_pred        SSR       SSD        SST\n",
       "0  0.033110   5.337044   5.062909   5.450151  0.075150   4.245332\n",
       "1  5.257613  14.548204  14.989465  57.638473  0.194711  51.133079\n",
       "2 -2.780953  -1.584045  -0.283811  59.002001  1.690608  80.667521\n",
       "3  2.256453   8.806038   9.287260   3.571326  0.231575   1.984079\n",
       "4  1.247488   8.007735   7.370227   0.000742  0.406417   0.372430"
      ],
      "text/html": "<div>\n<style scoped>\n    .dataframe tbody tr th:only-of-type {\n        vertical-align: middle;\n    }\n\n    .dataframe tbody tr th {\n        vertical-align: top;\n    }\n\n    .dataframe thead th {\n        text-align: right;\n    }\n</style>\n<table border=\"1\" class=\"dataframe\">\n  <thead>\n    <tr style=\"text-align: right;\">\n      <th></th>\n      <th>x</th>\n      <th>y</th>\n      <th>y_pred</th>\n      <th>SSR</th>\n      <th>SSD</th>\n      <th>SST</th>\n    </tr>\n  </thead>\n  <tbody>\n    <tr>\n      <th>0</th>\n      <td>0.033110</td>\n      <td>5.337044</td>\n      <td>5.062909</td>\n      <td>5.450151</td>\n      <td>0.075150</td>\n      <td>4.245332</td>\n    </tr>\n    <tr>\n      <th>1</th>\n      <td>5.257613</td>\n      <td>14.548204</td>\n      <td>14.989465</td>\n      <td>57.638473</td>\n      <td>0.194711</td>\n      <td>51.133079</td>\n    </tr>\n    <tr>\n      <th>2</th>\n      <td>-2.780953</td>\n      <td>-1.584045</td>\n      <td>-0.283811</td>\n      <td>59.002001</td>\n      <td>1.690608</td>\n      <td>80.667521</td>\n    </tr>\n    <tr>\n      <th>3</th>\n      <td>2.256453</td>\n      <td>8.806038</td>\n      <td>9.287260</td>\n      <td>3.571326</td>\n      <td>0.231575</td>\n      <td>1.984079</td>\n    </tr>\n    <tr>\n      <th>4</th>\n      <td>1.247488</td>\n      <td>8.007735</td>\n      <td>7.370227</td>\n      <td>0.000742</td>\n      <td>0.406417</td>\n      <td>0.372430</td>\n    </tr>\n  </tbody>\n</table>\n</div>"
     },
     "metadata": {},
     "execution_count": 16
    }
   ],
   "source": [
    "data.head()"
   ]
  },
  {
   "cell_type": "code",
   "execution_count": 17,
   "metadata": {},
   "outputs": [],
   "source": [
    "SSR=sum(data[\"SSR\"])\n",
    "SST=sum(data[\"SST\"])\n",
    "SSD=sum(data[\"SSD\"])"
   ]
  },
  {
   "cell_type": "code",
   "execution_count": 18,
   "metadata": {},
   "outputs": [
    {
     "output_type": "execute_result",
     "data": {
      "text/plain": [
       "2566.9367947794717"
      ]
     },
     "metadata": {},
     "execution_count": 18
    }
   ],
   "source": [
    "SSR"
   ]
  },
  {
   "cell_type": "code",
   "execution_count": 19,
   "metadata": {},
   "outputs": [
    {
     "output_type": "execute_result",
     "data": {
      "text/plain": [
       "53.192642814131986"
      ]
     },
     "metadata": {},
     "execution_count": 19
    }
   ],
   "source": [
    "SSD"
   ]
  },
  {
   "cell_type": "code",
   "execution_count": 20,
   "metadata": {},
   "outputs": [
    {
     "output_type": "execute_result",
     "data": {
      "text/plain": [
       "2748.8827519840333"
      ]
     },
     "metadata": {},
     "execution_count": 20
    }
   ],
   "source": [
    "SST"
   ]
  },
  {
   "cell_type": "code",
   "execution_count": 21,
   "metadata": {},
   "outputs": [
    {
     "output_type": "stream",
     "name": "stdout",
     "text": [
      "0.933810942982839\n"
     ]
    }
   ],
   "source": [
    "R2=SSR/SST\n",
    "print(R2)"
   ]
  },
  {
   "cell_type": "code",
   "execution_count": 22,
   "metadata": {},
   "outputs": [
    {
     "output_type": "execute_result",
     "data": {
      "text/plain": [
       "(array([ 2.,  4., 13., 15., 13., 12., 21.,  9.,  8.,  3.]),\n",
       " array([-1.66397537, -1.33316526, -1.00235516, -0.67154506, -0.34073495,\n",
       "        -0.00992485,  0.32088526,  0.65169536,  0.98250546,  1.31331557,\n",
       "         1.64412567]),\n",
       " <BarContainer object of 10 artists>)"
      ]
     },
     "metadata": {},
     "execution_count": 22
    },
    {
     "output_type": "display_data",
     "data": {
      "text/plain": "<Figure size 432x288 with 1 Axes>",
      "image/svg+xml": "<?xml version=\"1.0\" encoding=\"utf-8\" standalone=\"no\"?>\r\n<!DOCTYPE svg PUBLIC \"-//W3C//DTD SVG 1.1//EN\"\r\n  \"http://www.w3.org/Graphics/SVG/1.1/DTD/svg11.dtd\">\r\n<!-- Created with matplotlib (https://matplotlib.org/) -->\r\n<svg height=\"248.518125pt\" version=\"1.1\" viewBox=\"0 0 378.465625 248.518125\" width=\"378.465625pt\" xmlns=\"http://www.w3.org/2000/svg\" xmlns:xlink=\"http://www.w3.org/1999/xlink\">\r\n <metadata>\r\n  <rdf:RDF xmlns:cc=\"http://creativecommons.org/ns#\" xmlns:dc=\"http://purl.org/dc/elements/1.1/\" xmlns:rdf=\"http://www.w3.org/1999/02/22-rdf-syntax-ns#\">\r\n   <cc:Work>\r\n    <dc:type rdf:resource=\"http://purl.org/dc/dcmitype/StillImage\"/>\r\n    <dc:date>2021-01-23T13:43:05.598249</dc:date>\r\n    <dc:format>image/svg+xml</dc:format>\r\n    <dc:creator>\r\n     <cc:Agent>\r\n      <dc:title>Matplotlib v3.3.3, https://matplotlib.org/</dc:title>\r\n     </cc:Agent>\r\n    </dc:creator>\r\n   </cc:Work>\r\n  </rdf:RDF>\r\n </metadata>\r\n <defs>\r\n  <style type=\"text/css\">*{stroke-linecap:butt;stroke-linejoin:round;}</style>\r\n </defs>\r\n <g id=\"figure_1\">\r\n  <g id=\"patch_1\">\r\n   <path d=\"M 0 248.518125 \r\nL 378.465625 248.518125 \r\nL 378.465625 0 \r\nL 0 0 \r\nz\r\n\" style=\"fill:none;\"/>\r\n  </g>\r\n  <g id=\"axes_1\">\r\n   <g id=\"patch_2\">\r\n    <path d=\"M 36.465625 224.64 \r\nL 371.265625 224.64 \r\nL 371.265625 7.2 \r\nL 36.465625 7.2 \r\nz\r\n\" style=\"fill:#ffffff;\"/>\r\n   </g>\r\n   <g id=\"patch_3\">\r\n    <path clip-path=\"url(#p5cd2983ce2)\" d=\"M 51.683807 224.64 \r\nL 82.12017 224.64 \r\nL 82.12017 204.917551 \r\nL 51.683807 204.917551 \r\nz\r\n\" style=\"fill:#1f77b4;\"/>\r\n   </g>\r\n   <g id=\"patch_4\">\r\n    <path clip-path=\"url(#p5cd2983ce2)\" d=\"M 82.12017 224.64 \r\nL 112.556534 224.64 \r\nL 112.556534 185.195102 \r\nL 82.12017 185.195102 \r\nz\r\n\" style=\"fill:#1f77b4;\"/>\r\n   </g>\r\n   <g id=\"patch_5\">\r\n    <path clip-path=\"url(#p5cd2983ce2)\" d=\"M 112.556534 224.64 \r\nL 142.992898 224.64 \r\nL 142.992898 96.444082 \r\nL 112.556534 96.444082 \r\nz\r\n\" style=\"fill:#1f77b4;\"/>\r\n   </g>\r\n   <g id=\"patch_6\">\r\n    <path clip-path=\"url(#p5cd2983ce2)\" d=\"M 142.992898 224.64 \r\nL 173.429261 224.64 \r\nL 173.429261 76.721633 \r\nL 142.992898 76.721633 \r\nz\r\n\" style=\"fill:#1f77b4;\"/>\r\n   </g>\r\n   <g id=\"patch_7\">\r\n    <path clip-path=\"url(#p5cd2983ce2)\" d=\"M 173.429261 224.64 \r\nL 203.865625 224.64 \r\nL 203.865625 96.444082 \r\nL 173.429261 96.444082 \r\nz\r\n\" style=\"fill:#1f77b4;\"/>\r\n   </g>\r\n   <g id=\"patch_8\">\r\n    <path clip-path=\"url(#p5cd2983ce2)\" d=\"M 203.865625 224.64 \r\nL 234.301989 224.64 \r\nL 234.301989 106.305306 \r\nL 203.865625 106.305306 \r\nz\r\n\" style=\"fill:#1f77b4;\"/>\r\n   </g>\r\n   <g id=\"patch_9\">\r\n    <path clip-path=\"url(#p5cd2983ce2)\" d=\"M 234.301989 224.64 \r\nL 264.738352 224.64 \r\nL 264.738352 17.554286 \r\nL 234.301989 17.554286 \r\nz\r\n\" style=\"fill:#1f77b4;\"/>\r\n   </g>\r\n   <g id=\"patch_10\">\r\n    <path clip-path=\"url(#p5cd2983ce2)\" d=\"M 264.738352 224.64 \r\nL 295.174716 224.64 \r\nL 295.174716 135.88898 \r\nL 264.738352 135.88898 \r\nz\r\n\" style=\"fill:#1f77b4;\"/>\r\n   </g>\r\n   <g id=\"patch_11\">\r\n    <path clip-path=\"url(#p5cd2983ce2)\" d=\"M 295.174716 224.64 \r\nL 325.61108 224.64 \r\nL 325.61108 145.750204 \r\nL 295.174716 145.750204 \r\nz\r\n\" style=\"fill:#1f77b4;\"/>\r\n   </g>\r\n   <g id=\"patch_12\">\r\n    <path clip-path=\"url(#p5cd2983ce2)\" d=\"M 325.61108 224.64 \r\nL 356.047443 224.64 \r\nL 356.047443 195.056327 \r\nL 325.61108 195.056327 \r\nz\r\n\" style=\"fill:#1f77b4;\"/>\r\n   </g>\r\n   <g id=\"matplotlib.axis_1\">\r\n    <g id=\"xtick_1\">\r\n     <g id=\"line2d_1\">\r\n      <defs>\r\n       <path d=\"M 0 0 \r\nL 0 3.5 \r\n\" id=\"ma294817d7b\" style=\"stroke:#000000;stroke-width:0.8;\"/>\r\n      </defs>\r\n      <g>\r\n       <use style=\"stroke:#000000;stroke-width:0.8;\" x=\"66.77045\" xlink:href=\"#ma294817d7b\" y=\"224.64\"/>\r\n      </g>\r\n     </g>\r\n     <g id=\"text_1\">\r\n      <!-- −1.5 -->\r\n      <g transform=\"translate(54.629044 239.238437)scale(0.1 -0.1)\">\r\n       <defs>\r\n        <path d=\"M 10.59375 35.5 \r\nL 73.1875 35.5 \r\nL 73.1875 27.203125 \r\nL 10.59375 27.203125 \r\nz\r\n\" id=\"DejaVuSans-8722\"/>\r\n        <path d=\"M 12.40625 8.296875 \r\nL 28.515625 8.296875 \r\nL 28.515625 63.921875 \r\nL 10.984375 60.40625 \r\nL 10.984375 69.390625 \r\nL 28.421875 72.90625 \r\nL 38.28125 72.90625 \r\nL 38.28125 8.296875 \r\nL 54.390625 8.296875 \r\nL 54.390625 0 \r\nL 12.40625 0 \r\nz\r\n\" id=\"DejaVuSans-49\"/>\r\n        <path d=\"M 10.6875 12.40625 \r\nL 21 12.40625 \r\nL 21 0 \r\nL 10.6875 0 \r\nz\r\n\" id=\"DejaVuSans-46\"/>\r\n        <path d=\"M 10.796875 72.90625 \r\nL 49.515625 72.90625 \r\nL 49.515625 64.59375 \r\nL 19.828125 64.59375 \r\nL 19.828125 46.734375 \r\nQ 21.96875 47.46875 24.109375 47.828125 \r\nQ 26.265625 48.1875 28.421875 48.1875 \r\nQ 40.625 48.1875 47.75 41.5 \r\nQ 54.890625 34.8125 54.890625 23.390625 \r\nQ 54.890625 11.625 47.5625 5.09375 \r\nQ 40.234375 -1.421875 26.90625 -1.421875 \r\nQ 22.3125 -1.421875 17.546875 -0.640625 \r\nQ 12.796875 0.140625 7.71875 1.703125 \r\nL 7.71875 11.625 \r\nQ 12.109375 9.234375 16.796875 8.0625 \r\nQ 21.484375 6.890625 26.703125 6.890625 \r\nQ 35.15625 6.890625 40.078125 11.328125 \r\nQ 45.015625 15.765625 45.015625 23.390625 \r\nQ 45.015625 31 40.078125 35.4375 \r\nQ 35.15625 39.890625 26.703125 39.890625 \r\nQ 22.75 39.890625 18.8125 39.015625 \r\nQ 14.890625 38.140625 10.796875 36.28125 \r\nz\r\n\" id=\"DejaVuSans-53\"/>\r\n       </defs>\r\n       <use xlink:href=\"#DejaVuSans-8722\"/>\r\n       <use x=\"83.789062\" xlink:href=\"#DejaVuSans-49\"/>\r\n       <use x=\"147.412109\" xlink:href=\"#DejaVuSans-46\"/>\r\n       <use x=\"179.199219\" xlink:href=\"#DejaVuSans-53\"/>\r\n      </g>\r\n     </g>\r\n    </g>\r\n    <g id=\"xtick_2\">\r\n     <g id=\"line2d_2\">\r\n      <g>\r\n       <use style=\"stroke:#000000;stroke-width:0.8;\" x=\"112.773222\" xlink:href=\"#ma294817d7b\" y=\"224.64\"/>\r\n      </g>\r\n     </g>\r\n     <g id=\"text_2\">\r\n      <!-- −1.0 -->\r\n      <g transform=\"translate(100.631816 239.238437)scale(0.1 -0.1)\">\r\n       <defs>\r\n        <path d=\"M 31.78125 66.40625 \r\nQ 24.171875 66.40625 20.328125 58.90625 \r\nQ 16.5 51.421875 16.5 36.375 \r\nQ 16.5 21.390625 20.328125 13.890625 \r\nQ 24.171875 6.390625 31.78125 6.390625 \r\nQ 39.453125 6.390625 43.28125 13.890625 \r\nQ 47.125 21.390625 47.125 36.375 \r\nQ 47.125 51.421875 43.28125 58.90625 \r\nQ 39.453125 66.40625 31.78125 66.40625 \r\nz\r\nM 31.78125 74.21875 \r\nQ 44.046875 74.21875 50.515625 64.515625 \r\nQ 56.984375 54.828125 56.984375 36.375 \r\nQ 56.984375 17.96875 50.515625 8.265625 \r\nQ 44.046875 -1.421875 31.78125 -1.421875 \r\nQ 19.53125 -1.421875 13.0625 8.265625 \r\nQ 6.59375 17.96875 6.59375 36.375 \r\nQ 6.59375 54.828125 13.0625 64.515625 \r\nQ 19.53125 74.21875 31.78125 74.21875 \r\nz\r\n\" id=\"DejaVuSans-48\"/>\r\n       </defs>\r\n       <use xlink:href=\"#DejaVuSans-8722\"/>\r\n       <use x=\"83.789062\" xlink:href=\"#DejaVuSans-49\"/>\r\n       <use x=\"147.412109\" xlink:href=\"#DejaVuSans-46\"/>\r\n       <use x=\"179.199219\" xlink:href=\"#DejaVuSans-48\"/>\r\n      </g>\r\n     </g>\r\n    </g>\r\n    <g id=\"xtick_3\">\r\n     <g id=\"line2d_3\">\r\n      <g>\r\n       <use style=\"stroke:#000000;stroke-width:0.8;\" x=\"158.775994\" xlink:href=\"#ma294817d7b\" y=\"224.64\"/>\r\n      </g>\r\n     </g>\r\n     <g id=\"text_3\">\r\n      <!-- −0.5 -->\r\n      <g transform=\"translate(146.634588 239.238437)scale(0.1 -0.1)\">\r\n       <use xlink:href=\"#DejaVuSans-8722\"/>\r\n       <use x=\"83.789062\" xlink:href=\"#DejaVuSans-48\"/>\r\n       <use x=\"147.412109\" xlink:href=\"#DejaVuSans-46\"/>\r\n       <use x=\"179.199219\" xlink:href=\"#DejaVuSans-53\"/>\r\n      </g>\r\n     </g>\r\n    </g>\r\n    <g id=\"xtick_4\">\r\n     <g id=\"line2d_4\">\r\n      <g>\r\n       <use style=\"stroke:#000000;stroke-width:0.8;\" x=\"204.778766\" xlink:href=\"#ma294817d7b\" y=\"224.64\"/>\r\n      </g>\r\n     </g>\r\n     <g id=\"text_4\">\r\n      <!-- 0.0 -->\r\n      <g transform=\"translate(196.827204 239.238437)scale(0.1 -0.1)\">\r\n       <use xlink:href=\"#DejaVuSans-48\"/>\r\n       <use x=\"63.623047\" xlink:href=\"#DejaVuSans-46\"/>\r\n       <use x=\"95.410156\" xlink:href=\"#DejaVuSans-48\"/>\r\n      </g>\r\n     </g>\r\n    </g>\r\n    <g id=\"xtick_5\">\r\n     <g id=\"line2d_5\">\r\n      <g>\r\n       <use style=\"stroke:#000000;stroke-width:0.8;\" x=\"250.781538\" xlink:href=\"#ma294817d7b\" y=\"224.64\"/>\r\n      </g>\r\n     </g>\r\n     <g id=\"text_5\">\r\n      <!-- 0.5 -->\r\n      <g transform=\"translate(242.829976 239.238437)scale(0.1 -0.1)\">\r\n       <use xlink:href=\"#DejaVuSans-48\"/>\r\n       <use x=\"63.623047\" xlink:href=\"#DejaVuSans-46\"/>\r\n       <use x=\"95.410156\" xlink:href=\"#DejaVuSans-53\"/>\r\n      </g>\r\n     </g>\r\n    </g>\r\n    <g id=\"xtick_6\">\r\n     <g id=\"line2d_6\">\r\n      <g>\r\n       <use style=\"stroke:#000000;stroke-width:0.8;\" x=\"296.78431\" xlink:href=\"#ma294817d7b\" y=\"224.64\"/>\r\n      </g>\r\n     </g>\r\n     <g id=\"text_6\">\r\n      <!-- 1.0 -->\r\n      <g transform=\"translate(288.832748 239.238437)scale(0.1 -0.1)\">\r\n       <use xlink:href=\"#DejaVuSans-49\"/>\r\n       <use x=\"63.623047\" xlink:href=\"#DejaVuSans-46\"/>\r\n       <use x=\"95.410156\" xlink:href=\"#DejaVuSans-48\"/>\r\n      </g>\r\n     </g>\r\n    </g>\r\n    <g id=\"xtick_7\">\r\n     <g id=\"line2d_7\">\r\n      <g>\r\n       <use style=\"stroke:#000000;stroke-width:0.8;\" x=\"342.787082\" xlink:href=\"#ma294817d7b\" y=\"224.64\"/>\r\n      </g>\r\n     </g>\r\n     <g id=\"text_7\">\r\n      <!-- 1.5 -->\r\n      <g transform=\"translate(334.83552 239.238437)scale(0.1 -0.1)\">\r\n       <use xlink:href=\"#DejaVuSans-49\"/>\r\n       <use x=\"63.623047\" xlink:href=\"#DejaVuSans-46\"/>\r\n       <use x=\"95.410156\" xlink:href=\"#DejaVuSans-53\"/>\r\n      </g>\r\n     </g>\r\n    </g>\r\n   </g>\r\n   <g id=\"matplotlib.axis_2\">\r\n    <g id=\"ytick_1\">\r\n     <g id=\"line2d_8\">\r\n      <defs>\r\n       <path d=\"M 0 0 \r\nL -3.5 0 \r\n\" id=\"m4641e21cda\" style=\"stroke:#000000;stroke-width:0.8;\"/>\r\n      </defs>\r\n      <g>\r\n       <use style=\"stroke:#000000;stroke-width:0.8;\" x=\"36.465625\" xlink:href=\"#m4641e21cda\" y=\"224.64\"/>\r\n      </g>\r\n     </g>\r\n     <g id=\"text_8\">\r\n      <!-- 0.0 -->\r\n      <g transform=\"translate(13.5625 228.439219)scale(0.1 -0.1)\">\r\n       <use xlink:href=\"#DejaVuSans-48\"/>\r\n       <use x=\"63.623047\" xlink:href=\"#DejaVuSans-46\"/>\r\n       <use x=\"95.410156\" xlink:href=\"#DejaVuSans-48\"/>\r\n      </g>\r\n     </g>\r\n    </g>\r\n    <g id=\"ytick_2\">\r\n     <g id=\"line2d_9\">\r\n      <g>\r\n       <use style=\"stroke:#000000;stroke-width:0.8;\" x=\"36.465625\" xlink:href=\"#m4641e21cda\" y=\"199.986939\"/>\r\n      </g>\r\n     </g>\r\n     <g id=\"text_9\">\r\n      <!-- 2.5 -->\r\n      <g transform=\"translate(13.5625 203.786158)scale(0.1 -0.1)\">\r\n       <defs>\r\n        <path d=\"M 19.1875 8.296875 \r\nL 53.609375 8.296875 \r\nL 53.609375 0 \r\nL 7.328125 0 \r\nL 7.328125 8.296875 \r\nQ 12.9375 14.109375 22.625 23.890625 \r\nQ 32.328125 33.6875 34.8125 36.53125 \r\nQ 39.546875 41.84375 41.421875 45.53125 \r\nQ 43.3125 49.21875 43.3125 52.78125 \r\nQ 43.3125 58.59375 39.234375 62.25 \r\nQ 35.15625 65.921875 28.609375 65.921875 \r\nQ 23.96875 65.921875 18.8125 64.3125 \r\nQ 13.671875 62.703125 7.8125 59.421875 \r\nL 7.8125 69.390625 \r\nQ 13.765625 71.78125 18.9375 73 \r\nQ 24.125 74.21875 28.421875 74.21875 \r\nQ 39.75 74.21875 46.484375 68.546875 \r\nQ 53.21875 62.890625 53.21875 53.421875 \r\nQ 53.21875 48.921875 51.53125 44.890625 \r\nQ 49.859375 40.875 45.40625 35.40625 \r\nQ 44.1875 33.984375 37.640625 27.21875 \r\nQ 31.109375 20.453125 19.1875 8.296875 \r\nz\r\n\" id=\"DejaVuSans-50\"/>\r\n       </defs>\r\n       <use xlink:href=\"#DejaVuSans-50\"/>\r\n       <use x=\"63.623047\" xlink:href=\"#DejaVuSans-46\"/>\r\n       <use x=\"95.410156\" xlink:href=\"#DejaVuSans-53\"/>\r\n      </g>\r\n     </g>\r\n    </g>\r\n    <g id=\"ytick_3\">\r\n     <g id=\"line2d_10\">\r\n      <g>\r\n       <use style=\"stroke:#000000;stroke-width:0.8;\" x=\"36.465625\" xlink:href=\"#m4641e21cda\" y=\"175.333878\"/>\r\n      </g>\r\n     </g>\r\n     <g id=\"text_10\">\r\n      <!-- 5.0 -->\r\n      <g transform=\"translate(13.5625 179.133096)scale(0.1 -0.1)\">\r\n       <use xlink:href=\"#DejaVuSans-53\"/>\r\n       <use x=\"63.623047\" xlink:href=\"#DejaVuSans-46\"/>\r\n       <use x=\"95.410156\" xlink:href=\"#DejaVuSans-48\"/>\r\n      </g>\r\n     </g>\r\n    </g>\r\n    <g id=\"ytick_4\">\r\n     <g id=\"line2d_11\">\r\n      <g>\r\n       <use style=\"stroke:#000000;stroke-width:0.8;\" x=\"36.465625\" xlink:href=\"#m4641e21cda\" y=\"150.680816\"/>\r\n      </g>\r\n     </g>\r\n     <g id=\"text_11\">\r\n      <!-- 7.5 -->\r\n      <g transform=\"translate(13.5625 154.480035)scale(0.1 -0.1)\">\r\n       <defs>\r\n        <path d=\"M 8.203125 72.90625 \r\nL 55.078125 72.90625 \r\nL 55.078125 68.703125 \r\nL 28.609375 0 \r\nL 18.3125 0 \r\nL 43.21875 64.59375 \r\nL 8.203125 64.59375 \r\nz\r\n\" id=\"DejaVuSans-55\"/>\r\n       </defs>\r\n       <use xlink:href=\"#DejaVuSans-55\"/>\r\n       <use x=\"63.623047\" xlink:href=\"#DejaVuSans-46\"/>\r\n       <use x=\"95.410156\" xlink:href=\"#DejaVuSans-53\"/>\r\n      </g>\r\n     </g>\r\n    </g>\r\n    <g id=\"ytick_5\">\r\n     <g id=\"line2d_12\">\r\n      <g>\r\n       <use style=\"stroke:#000000;stroke-width:0.8;\" x=\"36.465625\" xlink:href=\"#m4641e21cda\" y=\"126.027755\"/>\r\n      </g>\r\n     </g>\r\n     <g id=\"text_12\">\r\n      <!-- 10.0 -->\r\n      <g transform=\"translate(7.2 129.826974)scale(0.1 -0.1)\">\r\n       <use xlink:href=\"#DejaVuSans-49\"/>\r\n       <use x=\"63.623047\" xlink:href=\"#DejaVuSans-48\"/>\r\n       <use x=\"127.246094\" xlink:href=\"#DejaVuSans-46\"/>\r\n       <use x=\"159.033203\" xlink:href=\"#DejaVuSans-48\"/>\r\n      </g>\r\n     </g>\r\n    </g>\r\n    <g id=\"ytick_6\">\r\n     <g id=\"line2d_13\">\r\n      <g>\r\n       <use style=\"stroke:#000000;stroke-width:0.8;\" x=\"36.465625\" xlink:href=\"#m4641e21cda\" y=\"101.374694\"/>\r\n      </g>\r\n     </g>\r\n     <g id=\"text_13\">\r\n      <!-- 12.5 -->\r\n      <g transform=\"translate(7.2 105.173913)scale(0.1 -0.1)\">\r\n       <use xlink:href=\"#DejaVuSans-49\"/>\r\n       <use x=\"63.623047\" xlink:href=\"#DejaVuSans-50\"/>\r\n       <use x=\"127.246094\" xlink:href=\"#DejaVuSans-46\"/>\r\n       <use x=\"159.033203\" xlink:href=\"#DejaVuSans-53\"/>\r\n      </g>\r\n     </g>\r\n    </g>\r\n    <g id=\"ytick_7\">\r\n     <g id=\"line2d_14\">\r\n      <g>\r\n       <use style=\"stroke:#000000;stroke-width:0.8;\" x=\"36.465625\" xlink:href=\"#m4641e21cda\" y=\"76.721633\"/>\r\n      </g>\r\n     </g>\r\n     <g id=\"text_14\">\r\n      <!-- 15.0 -->\r\n      <g transform=\"translate(7.2 80.520851)scale(0.1 -0.1)\">\r\n       <use xlink:href=\"#DejaVuSans-49\"/>\r\n       <use x=\"63.623047\" xlink:href=\"#DejaVuSans-53\"/>\r\n       <use x=\"127.246094\" xlink:href=\"#DejaVuSans-46\"/>\r\n       <use x=\"159.033203\" xlink:href=\"#DejaVuSans-48\"/>\r\n      </g>\r\n     </g>\r\n    </g>\r\n    <g id=\"ytick_8\">\r\n     <g id=\"line2d_15\">\r\n      <g>\r\n       <use style=\"stroke:#000000;stroke-width:0.8;\" x=\"36.465625\" xlink:href=\"#m4641e21cda\" y=\"52.068571\"/>\r\n      </g>\r\n     </g>\r\n     <g id=\"text_15\">\r\n      <!-- 17.5 -->\r\n      <g transform=\"translate(7.2 55.86779)scale(0.1 -0.1)\">\r\n       <use xlink:href=\"#DejaVuSans-49\"/>\r\n       <use x=\"63.623047\" xlink:href=\"#DejaVuSans-55\"/>\r\n       <use x=\"127.246094\" xlink:href=\"#DejaVuSans-46\"/>\r\n       <use x=\"159.033203\" xlink:href=\"#DejaVuSans-53\"/>\r\n      </g>\r\n     </g>\r\n    </g>\r\n    <g id=\"ytick_9\">\r\n     <g id=\"line2d_16\">\r\n      <g>\r\n       <use style=\"stroke:#000000;stroke-width:0.8;\" x=\"36.465625\" xlink:href=\"#m4641e21cda\" y=\"27.41551\"/>\r\n      </g>\r\n     </g>\r\n     <g id=\"text_16\">\r\n      <!-- 20.0 -->\r\n      <g transform=\"translate(7.2 31.214729)scale(0.1 -0.1)\">\r\n       <use xlink:href=\"#DejaVuSans-50\"/>\r\n       <use x=\"63.623047\" xlink:href=\"#DejaVuSans-48\"/>\r\n       <use x=\"127.246094\" xlink:href=\"#DejaVuSans-46\"/>\r\n       <use x=\"159.033203\" xlink:href=\"#DejaVuSans-48\"/>\r\n      </g>\r\n     </g>\r\n    </g>\r\n   </g>\r\n   <g id=\"patch_13\">\r\n    <path d=\"M 36.465625 224.64 \r\nL 36.465625 7.2 \r\n\" style=\"fill:none;stroke:#000000;stroke-linecap:square;stroke-linejoin:miter;stroke-width:0.8;\"/>\r\n   </g>\r\n   <g id=\"patch_14\">\r\n    <path d=\"M 371.265625 224.64 \r\nL 371.265625 7.2 \r\n\" style=\"fill:none;stroke:#000000;stroke-linecap:square;stroke-linejoin:miter;stroke-width:0.8;\"/>\r\n   </g>\r\n   <g id=\"patch_15\">\r\n    <path d=\"M 36.465625 224.64 \r\nL 371.265625 224.64 \r\n\" style=\"fill:none;stroke:#000000;stroke-linecap:square;stroke-linejoin:miter;stroke-width:0.8;\"/>\r\n   </g>\r\n   <g id=\"patch_16\">\r\n    <path d=\"M 36.465625 7.2 \r\nL 371.265625 7.2 \r\n\" style=\"fill:none;stroke:#000000;stroke-linecap:square;stroke-linejoin:miter;stroke-width:0.8;\"/>\r\n   </g>\r\n  </g>\r\n </g>\r\n <defs>\r\n  <clipPath id=\"p5cd2983ce2\">\r\n   <rect height=\"217.44\" width=\"334.8\" x=\"36.465625\" y=\"7.2\"/>\r\n  </clipPath>\r\n </defs>\r\n</svg>\r\n",
      "image/png": "[encoded data removed]"
     },
     "metadata": {
      "needs_background": "light"
     }
    }
   ],
   "source": [
    "plt.hist((data[\"y_pred\"]-data[\"y\"]))"
   ]
  },
  {
   "cell_type": "code",
   "execution_count": 23,
   "metadata": {},
   "outputs": [
    {
     "output_type": "execute_result",
     "data": {
      "text/plain": [
       "(1.2916261474396589, 7.39746458405831)"
      ]
     },
     "metadata": {},
     "execution_count": 23
    }
   ],
   "source": [
    "#obteniendo la recta de regresion\n",
    "x_mean=np.mean(data[\"x\"])\n",
    "y_mean=np.mean(data[\"y\"])\n",
    "x_mean, y_mean"
   ]
  },
  {
   "cell_type": "code",
   "execution_count": 25,
   "metadata": {},
   "outputs": [],
   "source": [
    "data[\"Beta_n\"]=(data[\"x\"]-x_mean)*(data[\"y\"]-y_mean)\n",
    "data[\"Beta_d\"]=(data[\"x\"]-x_mean)**2"
   ]
  },
  {
   "cell_type": "code",
   "execution_count": 27,
   "metadata": {},
   "outputs": [],
   "source": [
    "beta=sum(data[\"Beta_n\"])/sum(data[\"Beta_d\"])"
   ]
  },
  {
   "cell_type": "code",
   "execution_count": 28,
   "metadata": {},
   "outputs": [],
   "source": [
    "alpha=y_mean-beta*x_mean"
   ]
  },
  {
   "cell_type": "code",
   "execution_count": 29,
   "metadata": {},
   "outputs": [
    {
     "output_type": "execute_result",
     "data": {
      "text/plain": [
       "(4.881514087897702, 1.9478937470783486)"
      ]
     },
     "metadata": {},
     "execution_count": 29
    }
   ],
   "source": [
    "alpha, beta"
   ]
  },
  {
   "cell_type": "code",
   "execution_count": 30,
   "metadata": {},
   "outputs": [],
   "source": [
    "#el modelo es y=4.881514087897702+1.9478937470783486*x"
   ]
  },
  {
   "cell_type": "code",
   "execution_count": 31,
   "metadata": {},
   "outputs": [],
   "source": [
    "data[\"y_model\"]=alpha+beta*data[\"x\"]"
   ]
  },
  {
   "cell_type": "code",
   "execution_count": 32,
   "metadata": {},
   "outputs": [],
   "source": [
    "data[\"SSR\"]=(data[\"y_model\"]-y_mean)**2 \n",
    "data[\"SSD\"]=(data[\"y_model\"]-data[\"y\"])**2\n",
    "data[\"SST\"]=(data[\"y\"]-y_mean)**2"
   ]
  },
  {
   "cell_type": "code",
   "execution_count": 33,
   "metadata": {},
   "outputs": [
    {
     "output_type": "execute_result",
     "data": {
      "text/plain": [
       "(2566.9367947794717, 53.192642814131986, 2748.8827519840333)"
      ]
     },
     "metadata": {},
     "execution_count": 33
    }
   ],
   "source": [
    "SSR, SSD, SST "
   ]
  },
  {
   "cell_type": "code",
   "execution_count": 34,
   "metadata": {},
   "outputs": [],
   "source": [
    "R2=SSR/SST"
   ]
  },
  {
   "cell_type": "code",
   "execution_count": 35,
   "metadata": {},
   "outputs": [
    {
     "output_type": "execute_result",
     "data": {
      "text/plain": [
       "0.933810942982839"
      ]
     },
     "metadata": {},
     "execution_count": 35
    }
   ],
   "source": [
    "R2"
   ]
  },
  {
   "cell_type": "code",
   "execution_count": 36,
   "metadata": {},
   "outputs": [],
   "source": [
    "# el error estandar residual\n",
    "# la desviacion estandar del termino del error\n",
    "# para regresion lienal simple RSE=sqrt(SSD/n-2) donde n es el numero de datos\n",
    "# para regresion multiple RSE=sqrt(SSD/n-k-1) donde k es el numero de variables predictoras"
   ]
  },
  {
   "cell_type": "code",
   "execution_count": 37,
   "metadata": {},
   "outputs": [],
   "source": [
    "RSE=np.sqrt(SSD/(len(data[\"x\"])-2))"
   ]
  },
  {
   "cell_type": "code",
   "execution_count": 39,
   "metadata": {},
   "outputs": [
    {
     "output_type": "execute_result",
     "data": {
      "text/plain": [
       "0.7367374495245637"
      ]
     },
     "metadata": {},
     "execution_count": 39
    }
   ],
   "source": [
    "RSE #entre menor sea el valor mejor"
   ]
  },
  {
   "cell_type": "code",
   "execution_count": 42,
   "metadata": {},
   "outputs": [],
   "source": [
    "E=RSE/y_mean #calcular el error"
   ]
  },
  {
   "cell_type": "code",
   "execution_count": 43,
   "metadata": {},
   "outputs": [
    {
     "output_type": "execute_result",
     "data": {
      "text/plain": [
       "9.95932378118103"
      ]
     },
     "metadata": {},
     "execution_count": 43
    }
   ],
   "source": [
    "E*100 #porcentaje del error"
   ]
  },
  {
   "cell_type": "code",
   "execution_count": null,
   "metadata": {},
   "outputs": [],
   "source": []
  }
 ]
}
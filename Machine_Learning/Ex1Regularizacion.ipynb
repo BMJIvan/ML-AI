{
 "metadata": {
  "language_info": {
   "codemirror_mode": {
    "name": "ipython",
    "version": 3
   },
   "file_extension": ".py",
   "mimetype": "text/x-python",
   "name": "python",
   "nbconvert_exporter": "python",
   "pygments_lexer": "ipython3",
   "version": "3.7.8-candidate"
  },
  "orig_nbformat": 2,
  "kernelspec": {
   "name": "tf15",
   "display_name": "tf15",
   "language": "python"
  }
 },
 "nbformat": 4,
 "nbformat_minor": 2,
 "cells": [
  {
   "cell_type": "code",
   "execution_count": 136,
   "metadata": {},
   "outputs": [],
   "source": [
    "import numpy\n",
    "import pandas \n",
    "from sklearn import metrics\n",
    "from sklearn.model_selection import cross_validate"
   ]
  },
  {
   "cell_type": "code",
   "execution_count": 137,
   "metadata": {},
   "outputs": [],
   "source": [
    "vehiculos=pandas.read_csv(r\"D:\\Estudiar\\MLData\\auto\\auto-mpg.csv\")\n",
    "trainN=[\"acceleration\",\"cylinders\",\"horsepower\"]\n",
    "targetN=[\"displacement\"]\n",
    "vehiculos=vehiculos[trainN+targetN]"
   ]
  },
  {
   "cell_type": "code",
   "execution_count": 138,
   "metadata": {},
   "outputs": [],
   "source": [
    "vehiculos.dropna(axis=0,how=\"any\",inplace=True)\n",
    "train=vehiculos[trainN]\n",
    "target=vehiculos[targetN]"
   ]
  },
  {
   "cell_type": "code",
   "execution_count": 139,
   "metadata": {},
   "outputs": [],
   "source": [
    "from sklearn.linear_model import LinearRegression, Lasso, Ridge, ElasticNet"
   ]
  },
  {
   "cell_type": "code",
   "execution_count": 140,
   "metadata": {},
   "outputs": [
    {
     "output_type": "execute_result",
     "data": {
      "text/plain": [
       "array([[ 1.74870951, 40.63865076,  1.00864022]])"
      ]
     },
     "metadata": {},
     "execution_count": 140
    }
   ],
   "source": [
    "model_ols=LinearRegression()\n",
    "model_ols.fit(data_train,target)\n",
    "model_ols.coef_"
   ]
  },
  {
   "cell_type": "code",
   "execution_count": 141,
   "metadata": {},
   "outputs": [
    {
     "output_type": "stream",
     "name": "stdout",
     "text": [
      "40.638650759085486\n40.688761047030184\n"
     ]
    }
   ],
   "source": [
    "def normal_l1(coeficientes):\n",
    "    return numpy.linalg.norm(coeficientes,ord=1)\n",
    "def normal_l2(coeficientes):\n",
    "    return numpy.linalg.norm(coeficientes,ord=2)\n",
    "print(normal_li(model_ols.coef_))\n",
    "print(normal_l2(model_ols.coef_))"
   ]
  },
  {
   "cell_type": "code",
   "execution_count": 142,
   "metadata": {},
   "outputs": [],
   "source": [
    "#ajustar la complejidad"
   ]
  },
  {
   "cell_type": "code",
   "execution_count": 143,
   "metadata": {},
   "outputs": [],
   "source": [
    "from sklearn.preprocessing import PolynomialFeatures"
   ]
  },
  {
   "cell_type": "code",
   "execution_count": 144,
   "metadata": {},
   "outputs": [
    {
     "output_type": "execute_result",
     "data": {
      "text/plain": [
       "PolynomialFeatures(degree=5)"
      ]
     },
     "metadata": {},
     "execution_count": 144
    }
   ],
   "source": [
    "trans_pol=PolynomialFeatures(5)\n",
    "trans_pol.fit(train)"
   ]
  },
  {
   "cell_type": "code",
   "execution_count": 145,
   "metadata": {},
   "outputs": [],
   "source": [
    "var_pol=trans_pol.transform(train)"
   ]
  },
  {
   "cell_type": "code",
   "execution_count": 146,
   "metadata": {},
   "outputs": [
    {
     "output_type": "execute_result",
     "data": {
      "text/plain": [
       "(400, 56)"
      ]
     },
     "metadata": {},
     "execution_count": 146
    }
   ],
   "source": [
    "var_pol.shape"
   ]
  },
  {
   "cell_type": "code",
   "execution_count": 147,
   "metadata": {},
   "outputs": [],
   "source": [
    "var_pol=PolynomialFeatures(5).fit_transform(train) #version recortada"
   ]
  },
  {
   "cell_type": "code",
   "execution_count": 148,
   "metadata": {},
   "outputs": [
    {
     "output_type": "execute_result",
     "data": {
      "text/plain": [
       "(400, 56)"
      ]
     },
     "metadata": {},
     "execution_count": 148
    }
   ],
   "source": [
    "var_pol.shape"
   ]
  },
  {
   "cell_type": "code",
   "execution_count": 149,
   "metadata": {},
   "outputs": [],
   "source": [
    "#Modelos OLS con variables polinomiales"
   ]
  },
  {
   "cell_type": "code",
   "execution_count": 150,
   "metadata": {},
   "outputs": [],
   "source": [
    "Resultados={}\n",
    "model_ols=LinearRegression()\n",
    "model_ols.fit(var_pol,target)\n",
    "\n",
    "Resultados[\"OLS\"]={\n",
    "    \"norma_l1\": normal_l1(model_ols.coef_),\n",
    "    \"norma_l2\": normal_l2(model_ols.coef_)\n",
    "}"
   ]
  },
  {
   "cell_type": "code",
   "execution_count": 151,
   "metadata": {},
   "outputs": [],
   "source": [
    "#Modelo Regularizacion L1 con variable polinomiales"
   ]
  },
  {
   "cell_type": "code",
   "execution_count": 152,
   "metadata": {},
   "outputs": [
    {
     "output_type": "stream",
     "name": "stderr",
     "text": [
      "C:\\Users\\xmax1\\Desktop\\tf15\\lib\\site-packages\\sklearn\\linear_model\\_coordinate_descent.py:532: ConvergenceWarning: Objective did not converge. You might want to increase the number of iterations. Duality gap: 96145.38464862129, tolerance: 44227.97394375\n  positive)\n"
     ]
    }
   ],
   "source": [
    "model_l1=Lasso(alpha=1.0,tol=0.01,max_iter=5000)\n",
    "model_l1.fit(var_pol,target)\n",
    "\n",
    "Resultados[\"Regularizacion_l1\"]={\n",
    "    \"norma_l1\": normal_l1(model_l1.coef_),\n",
    "    \"norma_l2\": normal_l2(model_l1.coef_)\n",
    "}"
   ]
  },
  {
   "cell_type": "code",
   "execution_count": 153,
   "metadata": {},
   "outputs": [],
   "source": [
    "#Modelo Regularizacion L2 (Ridge) con variables polinomiales"
   ]
  },
  {
   "cell_type": "code",
   "execution_count": 160,
   "metadata": {},
   "outputs": [
    {
     "output_type": "stream",
     "name": "stderr",
     "text": [
      "C:\\Users\\xmax1\\Desktop\\tf15\\lib\\site-packages\\sklearn\\linear_model\\_ridge.py:148: LinAlgWarning: Ill-conditioned matrix (rcond=2.70548e-25): result may not be accurate.\n  overwrite_a=True).T\n"
     ]
    }
   ],
   "source": [
    "model_l2=Ridge(alpha=1.0,tol=0.01,max_iter=5000)\n",
    "model_l2.fit(var_pol,target)\n",
    "\n",
    "Resultados[\"Regularizacion_l2\"]={\n",
    "    \"norma_l1\": normal_l1(model_l2.coef_),\n",
    "    \"norma_l2\": normal_l2(model_l2.coef_)\n",
    "}"
   ]
  },
  {
   "cell_type": "code",
   "execution_count": 155,
   "metadata": {},
   "outputs": [],
   "source": [
    "#Regularizacion Elastinet con variables polinomiales"
   ]
  },
  {
   "cell_type": "code",
   "execution_count": 161,
   "metadata": {},
   "outputs": [
    {
     "output_type": "stream",
     "name": "stderr",
     "text": [
      "C:\\Users\\xmax1\\Desktop\\tf15\\lib\\site-packages\\sklearn\\linear_model\\_coordinate_descent.py:532: ConvergenceWarning: Objective did not converge. You might want to increase the number of iterations. Duality gap: 95638.12345584505, tolerance: 44227.97394375\n  positive)\n"
     ]
    }
   ],
   "source": [
    "model_EN=ElasticNet(alpha=1.0,l1_ratio=0.5,tol=0.01,max_iter=5000)\n",
    "model_EN.fit(var_pol,target)\n",
    "\n",
    "Resultados[\"Regularizacion_EN\"]={\n",
    "    \"norma_l1\": normal_l1(model_EN.coef_),\n",
    "    \"norma_l2\": normal_l2(model_EN.coef_)\n",
    "}"
   ]
  },
  {
   "cell_type": "code",
   "execution_count": 162,
   "metadata": {},
   "outputs": [],
   "source": [
    "pandas.set_option(\"display.float_format\",lambda x: str(round(x,6)))"
   ]
  },
  {
   "cell_type": "code",
   "execution_count": 163,
   "metadata": {},
   "outputs": [
    {
     "output_type": "execute_result",
     "data": {
      "text/plain": [
       "                      norma_l1     norma_l2  pct_reduction_l1  \\\n",
       "OLS               12714.212296 13148.608084               0.0   \n",
       "Regularizacion_l1     3.169244     1.595954          0.999751   \n",
       "Regularizacion_l2    22.784504    27.226353          0.998208   \n",
       "Regularizacion_EN     2.967895     1.451456          0.999767   \n",
       "\n",
       "                   pct_reduction_l2  \n",
       "OLS                             0.0  \n",
       "Regularizacion_l1          0.999879  \n",
       "Regularizacion_l2          0.997929  \n",
       "Regularizacion_EN           0.99989  "
      ],
      "text/html": "<div>\n<style scoped>\n    .dataframe tbody tr th:only-of-type {\n        vertical-align: middle;\n    }\n\n    .dataframe tbody tr th {\n        vertical-align: top;\n    }\n\n    .dataframe thead th {\n        text-align: right;\n    }\n</style>\n<table border=\"1\" class=\"dataframe\">\n  <thead>\n    <tr style=\"text-align: right;\">\n      <th></th>\n      <th>norma_l1</th>\n      <th>norma_l2</th>\n      <th>pct_reduction_l1</th>\n      <th>pct_reduction_l2</th>\n    </tr>\n  </thead>\n  <tbody>\n    <tr>\n      <th>OLS</th>\n      <td>12714.212296</td>\n      <td>13148.608084</td>\n      <td>0.0</td>\n      <td>0.0</td>\n    </tr>\n    <tr>\n      <th>Regularizacion_l1</th>\n      <td>3.169244</td>\n      <td>1.595954</td>\n      <td>0.999751</td>\n      <td>0.999879</td>\n    </tr>\n    <tr>\n      <th>Regularizacion_l2</th>\n      <td>22.784504</td>\n      <td>27.226353</td>\n      <td>0.998208</td>\n      <td>0.997929</td>\n    </tr>\n    <tr>\n      <th>Regularizacion_EN</th>\n      <td>2.967895</td>\n      <td>1.451456</td>\n      <td>0.999767</td>\n      <td>0.99989</td>\n    </tr>\n  </tbody>\n</table>\n</div>"
     },
     "metadata": {},
     "execution_count": 163
    }
   ],
   "source": [
    "res_df=pandas.DataFrame(Resultados).T\n",
    "l1_ols=res_df.loc[\"OLS\",\"norma_l1\"]\n",
    "l2_ols=res_df.loc[\"OLS\",\"norma_l2\"]\n",
    "\n",
    "res_df[\"pct_reduction_l1\"]=1-res_df.norma_l1/l1_ols\n",
    "res_df[\"pct_reduction_l2\"]=1-res_df.norma_l2/l2_ols\n",
    "\n",
    "res_df"
   ]
  },
  {
   "cell_type": "code",
   "execution_count": 168,
   "metadata": {},
   "outputs": [
    {
     "output_type": "execute_result",
     "data": {
      "text/plain": [
       "array([ 0.00000000e+00, -0.00000000e+00,  0.00000000e+00,  7.25289193e-01,\n",
       "       -1.15217865e+00,  0.00000000e+00,  2.61436422e-01,  0.00000000e+00,\n",
       "       -1.73330128e-01, -6.00121373e-03, -5.68527251e-03,  3.39862743e-01,\n",
       "       -3.88507774e-03,  1.89701158e-01, -9.99718109e-03, -1.01901980e-04,\n",
       "        5.04079205e-02,  1.41948578e-03,  7.08266063e-05, -5.00159391e-07,\n",
       "       -3.67478267e-04, -1.20056210e-03, -9.58624391e-05,  1.26205416e-02,\n",
       "       -6.55103042e-04, -4.29812334e-06, -1.86539823e-02, -4.56090789e-04,\n",
       "       -5.44799031e-06, -2.41164621e-08,  4.17772568e-03,  1.30601828e-03,\n",
       "        4.38624543e-05,  1.14941221e-06, -1.43193961e-09,  6.87151222e-05,\n",
       "       -4.45333373e-04, -7.65594743e-07,  9.36745233e-04,  2.44828516e-05,\n",
       "        2.26978160e-06, -3.24496168e-03, -5.28823779e-05, -3.82025790e-06,\n",
       "       -1.58971703e-07,  1.85125972e-04,  6.55848464e-05,  1.63650683e-06,\n",
       "        7.34068215e-08,  2.00295186e-09, -3.59364821e-03,  3.04292204e-04,\n",
       "        8.53368105e-06,  1.72042014e-07, -5.43878786e-10, -3.05571597e-10])"
      ]
     },
     "metadata": {},
     "execution_count": 168
    }
   ],
   "source": [
    "model_EN.coef_"
   ]
  },
  {
   "cell_type": "code",
   "execution_count": null,
   "metadata": {},
   "outputs": [],
   "source": []
  }
 ]
}
{
 "metadata": {
  "language_info": {
   "codemirror_mode": {
    "name": "ipython",
    "version": 3
   },
   "file_extension": ".py",
   "mimetype": "text/x-python",
   "name": "python",
   "nbconvert_exporter": "python",
   "pygments_lexer": "ipython3",
   "version": "3.8.7-final"
  },
  "orig_nbformat": 2,
  "kernelspec": {
   "name": "python3",
   "display_name": "Python 3.8.7 64-bit",
   "metadata": {
    "interpreter": {
     "hash": "ea95fc2df1cee6bb0985586e8a41cf7caceb271a33d321960fcb1bcf60d2a579"
    }
   }
  }
 },
 "nbformat": 4,
 "nbformat_minor": 2,
 "cells": [
  {
   "cell_type": "code",
   "execution_count": 1,
   "metadata": {},
   "outputs": [],
   "source": [
    "#datasets dummy\n",
    "import numpy as np\n",
    "import pandas as pd"
   ]
  },
  {
   "cell_type": "code",
   "execution_count": 6,
   "metadata": {},
   "outputs": [],
   "source": [
    "n=100\n",
    "data=pd.DataFrame(\n",
    "    {\n",
    "        'A':np.random.randn(n),\n",
    "        'B':1.5+2.5*np.random.randn(n),\n",
    "        'C':np.random.uniform(5,32,n)\n",
    "    },index=range(10,10+n)#cambiar el indice\n",
    ")"
   ]
  },
  {
   "cell_type": "code",
   "execution_count": 8,
   "metadata": {},
   "outputs": [
    {
     "output_type": "execute_result",
     "data": {
      "text/plain": [
       "            A         B          C\n",
       "10  -2.304080 -1.615896  11.778146\n",
       "11   0.024665  1.370853  23.050251\n",
       "12  -0.221629 -1.017027  25.453593\n",
       "13   0.423175  4.742591  11.634908\n",
       "14  -0.113355 -0.310787   6.973874\n",
       "..        ...       ...        ...\n",
       "105 -2.539598 -1.719886  31.773986\n",
       "106  1.231630 -2.991489  22.888811\n",
       "107 -0.639009  0.747574  31.802807\n",
       "108 -1.043413  6.360795  13.892989\n",
       "109 -0.715823  2.674865  15.824437\n",
       "\n",
       "[100 rows x 3 columns]"
      ],
      "text/html": "<div>\n<style scoped>\n    .dataframe tbody tr th:only-of-type {\n        vertical-align: middle;\n    }\n\n    .dataframe tbody tr th {\n        vertical-align: top;\n    }\n\n    .dataframe thead th {\n        text-align: right;\n    }\n</style>\n<table border=\"1\" class=\"dataframe\">\n  <thead>\n    <tr style=\"text-align: right;\">\n      <th></th>\n      <th>A</th>\n      <th>B</th>\n      <th>C</th>\n    </tr>\n  </thead>\n  <tbody>\n    <tr>\n      <th>10</th>\n      <td>-2.304080</td>\n      <td>-1.615896</td>\n      <td>11.778146</td>\n    </tr>\n    <tr>\n      <th>11</th>\n      <td>0.024665</td>\n      <td>1.370853</td>\n      <td>23.050251</td>\n    </tr>\n    <tr>\n      <th>12</th>\n      <td>-0.221629</td>\n      <td>-1.017027</td>\n      <td>25.453593</td>\n    </tr>\n    <tr>\n      <th>13</th>\n      <td>0.423175</td>\n      <td>4.742591</td>\n      <td>11.634908</td>\n    </tr>\n    <tr>\n      <th>14</th>\n      <td>-0.113355</td>\n      <td>-0.310787</td>\n      <td>6.973874</td>\n    </tr>\n    <tr>\n      <th>...</th>\n      <td>...</td>\n      <td>...</td>\n      <td>...</td>\n    </tr>\n    <tr>\n      <th>105</th>\n      <td>-2.539598</td>\n      <td>-1.719886</td>\n      <td>31.773986</td>\n    </tr>\n    <tr>\n      <th>106</th>\n      <td>1.231630</td>\n      <td>-2.991489</td>\n      <td>22.888811</td>\n    </tr>\n    <tr>\n      <th>107</th>\n      <td>-0.639009</td>\n      <td>0.747574</td>\n      <td>31.802807</td>\n    </tr>\n    <tr>\n      <th>108</th>\n      <td>-1.043413</td>\n      <td>6.360795</td>\n      <td>13.892989</td>\n    </tr>\n    <tr>\n      <th>109</th>\n      <td>-0.715823</td>\n      <td>2.674865</td>\n      <td>15.824437</td>\n    </tr>\n  </tbody>\n</table>\n<p>100 rows × 3 columns</p>\n</div>"
     },
     "metadata": {},
     "execution_count": 8
    }
   ],
   "source": [
    "data"
   ]
  },
  {
   "cell_type": "code",
   "execution_count": null,
   "metadata": {},
   "outputs": [],
   "source": []
  }
 ]
}
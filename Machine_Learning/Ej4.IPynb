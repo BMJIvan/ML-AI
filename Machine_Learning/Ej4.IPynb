{
 "metadata": {
  "language_info": {
   "codemirror_mode": {
    "name": "ipython",
    "version": 3
   },
   "file_extension": ".py",
   "mimetype": "text/x-python",
   "name": "python",
   "nbconvert_exporter": "python",
   "pygments_lexer": "ipython3",
   "version": "3.8.7-final"
  },
  "orig_nbformat": 2,
  "kernelspec": {
   "name": "python3",
   "display_name": "Python 3.8.7 64-bit",
   "metadata": {
    "interpreter": {
     "hash": "ea95fc2df1cee6bb0985586e8a41cf7caceb271a33d321960fcb1bcf60d2a579"
    }
   }
  }
 },
 "nbformat": 4,
 "nbformat_minor": 2,
 "cells": [
  {
   "cell_type": "code",
   "execution_count": 3,
   "metadata": {},
   "outputs": [],
   "source": [
    "import pandas as pd\n",
    "mainPath=\"D:/Estudiar/Python\"\n",
    "filePath=\"MLData/titanic/titanic3.xls\"\n",
    "fullPath=mainPath+\"/\"+filePath"
   ]
  },
  {
   "cell_type": "code",
   "execution_count": 10,
   "metadata": {},
   "outputs": [],
   "source": [
    "titanic=pd.read_excel(fullPath,'titanic3')\n",
    "titanic.to_csv(mainPath+\"/\"+\"MLData/titanic/borrar.csv\")\n",
    "titanic.to_excel(mainPath+\"/\"+\"MLData/titanic/borrar.xls\")\n",
    "titanic.to_html(mainPath+\"/\"+\"MLData/titanic/borrar.html\")\n"
   ]
  },
  {
   "cell_type": "code",
   "execution_count": null,
   "metadata": {},
   "outputs": [],
   "source": []
  }
 ]
}
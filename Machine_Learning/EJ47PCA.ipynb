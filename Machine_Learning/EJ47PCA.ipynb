{
 "metadata": {
  "language_info": {
   "codemirror_mode": {
    "name": "ipython",
    "version": 3
   },
   "file_extension": ".py",
   "mimetype": "text/x-python",
   "name": "python",
   "nbconvert_exporter": "python",
   "pygments_lexer": "ipython3",
   "version": "3.8.7-final"
  },
  "orig_nbformat": 2,
  "kernelspec": {
   "name": "python3",
   "display_name": "Python 3.8.7 64-bit",
   "metadata": {
    "interpreter": {
     "hash": "ea95fc2df1cee6bb0985586e8a41cf7caceb271a33d321960fcb1bcf60d2a579"
    }
   }
  }
 },
 "nbformat": 4,
 "nbformat_minor": 2,
 "cells": [
  {
   "cell_type": "code",
   "execution_count": 1,
   "metadata": {},
   "outputs": [],
   "source": [
    "#analisis de componentes principales paso a paso\n",
    "#obtener los vectores y valores propios a partir de la matriz de covarianzas o de correlaciones o incluso la tecnica de sinfular vector descomposition\n",
    "#Ordenar los valores propios en orden descendente y quedarnos con lo *p* que se correspondan a los *p* mayores y asi \n",
    "#construir la matriz de proyeccion  w a partir de los p vectores propios \n",
    "#transformar el dataset original X a travez de W para asi obtener datos en el subespacio dimensional de dimension p, que sera y"
   ]
  },
  {
   "cell_type": "code",
   "execution_count": 53,
   "metadata": {},
   "outputs": [],
   "source": [
    "import pandas\n",
    "import matplotlib.pyplot as plt "
   ]
  },
  {
   "cell_type": "code",
   "execution_count": 3,
   "metadata": {},
   "outputs": [],
   "source": [
    "df=pandas.read_csv(r\"D:\\Estudiar\\Python\\MLData\\iris\\iris.csv\")"
   ]
  },
  {
   "cell_type": "code",
   "execution_count": 4,
   "metadata": {},
   "outputs": [],
   "source": [
    "X=df.iloc[:,0:4].values\n",
    "Y=df.iloc[:,4].values"
   ]
  },
  {
   "cell_type": "code",
   "execution_count": 5,
   "metadata": {},
   "outputs": [],
   "source": [
    "from sklearn.preprocessing import StandardScaler"
   ]
  },
  {
   "cell_type": "code",
   "execution_count": 6,
   "metadata": {},
   "outputs": [],
   "source": [
    "X_std=StandardScaler().fit_transform(X)"
   ]
  },
  {
   "cell_type": "code",
   "execution_count": 7,
   "metadata": {},
   "outputs": [],
   "source": [
    "##1 Calculamos la descomposicion de valores y vectores propios\n",
    "#a) Usamos la Matriz de covarianza"
   ]
  },
  {
   "cell_type": "code",
   "execution_count": 8,
   "metadata": {},
   "outputs": [],
   "source": [
    "from IPython.display import display, Math, Latex"
   ]
  },
  {
   "cell_type": "code",
   "execution_count": 9,
   "metadata": {},
   "outputs": [
    {
     "output_type": "display_data",
     "data": {
      "text/plain": "<IPython.core.display.Math object>",
      "text/latex": "$\\displaystyle \\sigma_{jk}= \\frac{1}{n-1} \\sum_{i=1}^m (x_{i}- \\overline{x_j})(x_{ik}- \\overline{}x_k$"
     },
     "metadata": {}
    }
   ],
   "source": [
    "display(Math(r\"\\sigma_{jk}= \\frac{1}{n-1} \\sum_{i=1}^m (x_{i}- \\overline{x_j})(x_{ik}- \\overline{}x_k\"))"
   ]
  },
  {
   "cell_type": "code",
   "execution_count": 10,
   "metadata": {},
   "outputs": [
    {
     "output_type": "display_data",
     "data": {
      "text/plain": "<IPython.core.display.Math object>",
      "text/latex": "$\\displaystyle \\sigma = \\frac{1}{n-1} (x-\\overline{x})^T(x-\\overline{x})$"
     },
     "metadata": {}
    }
   ],
   "source": [
    "display(Math(r\"\\sigma = \\frac{1}{n-1} (x-\\overline{x})^T(x-\\overline{x})\"))"
   ]
  },
  {
   "cell_type": "code",
   "execution_count": 11,
   "metadata": {},
   "outputs": [
    {
     "output_type": "display_data",
     "data": {
      "text/plain": "<IPython.core.display.Math object>",
      "text/latex": "$\\displaystyle \\overline{x}= \\sum_{i=1}^n x_i\\in \\mathbb R^m$"
     },
     "metadata": {}
    }
   ],
   "source": [
    "display(Math(r\"\\overline{x}= \\sum_{i=1}^n x_i\\in \\mathbb R^m\"))"
   ]
  },
  {
   "cell_type": "code",
   "execution_count": 12,
   "metadata": {},
   "outputs": [],
   "source": [
    "import numpy"
   ]
  },
  {
   "cell_type": "code",
   "execution_count": 13,
   "metadata": {},
   "outputs": [],
   "source": [
    "mean_vect=numpy.mean(X_std,axis=0)"
   ]
  },
  {
   "cell_type": "code",
   "execution_count": 14,
   "metadata": {},
   "outputs": [],
   "source": [
    "cov_matrix=(X_std-mean_vect).T.dot((X_std-mean_vect))/(X_std.shape[0]-1)"
   ]
  },
  {
   "cell_type": "code",
   "execution_count": 15,
   "metadata": {},
   "outputs": [
    {
     "output_type": "execute_result",
     "data": {
      "text/plain": [
       "array([[ 1.00671141, -0.11835884,  0.87760447,  0.82343066],\n",
       "       [-0.11835884,  1.00671141, -0.43131554, -0.36858315],\n",
       "       [ 0.87760447, -0.43131554,  1.00671141,  0.96932762],\n",
       "       [ 0.82343066, -0.36858315,  0.96932762,  1.00671141]])"
      ]
     },
     "metadata": {},
     "execution_count": 15
    }
   ],
   "source": [
    "cov_matrix"
   ]
  },
  {
   "cell_type": "code",
   "execution_count": 16,
   "metadata": {},
   "outputs": [
    {
     "output_type": "execute_result",
     "data": {
      "text/plain": [
       "array([[ 1.00671141, -0.11835884,  0.87760447,  0.82343066],\n",
       "       [-0.11835884,  1.00671141, -0.43131554, -0.36858315],\n",
       "       [ 0.87760447, -0.43131554,  1.00671141,  0.96932762],\n",
       "       [ 0.82343066, -0.36858315,  0.96932762,  1.00671141]])"
      ]
     },
     "metadata": {},
     "execution_count": 16
    }
   ],
   "source": [
    "numpy.cov(X_std.T)"
   ]
  },
  {
   "cell_type": "code",
   "execution_count": 17,
   "metadata": {},
   "outputs": [
    {
     "output_type": "stream",
     "name": "stdout",
     "text": [
      "Valores propios \n[2.93808505 0.9201649  0.14774182 0.02085386]\nVectores propios \n[[ 0.52106591 -0.37741762 -0.71956635  0.26128628]\n [-0.26934744 -0.92329566  0.24438178 -0.12350962]\n [ 0.5804131  -0.02449161  0.14212637 -0.80144925]\n [ 0.56485654 -0.06694199  0.63427274  0.52359713]]\n"
     ]
    }
   ],
   "source": [
    "eig_vals,eig_vectors=numpy.linalg.eig(cov_matrix)\n",
    "print(\"Valores propios \\n%s\"%eig_vals)\n",
    "print(\"Vectores propios \\n%s\"%eig_vectors)"
   ]
  },
  {
   "cell_type": "code",
   "execution_count": 19,
   "metadata": {},
   "outputs": [],
   "source": [
    "#b) Usando la MAtriz de correlaciones //es una normalizacion de la matriz de covarianza \n",
    "# #normalmente usado en ambito de las finanzas"
   ]
  },
  {
   "cell_type": "code",
   "execution_count": 23,
   "metadata": {},
   "outputs": [
    {
     "output_type": "execute_result",
     "data": {
      "text/plain": [
       "array([[ 1.        , -0.11756978,  0.87175378,  0.81794113],\n",
       "       [-0.11756978,  1.        , -0.4284401 , -0.36612593],\n",
       "       [ 0.87175378, -0.4284401 ,  1.        ,  0.96286543],\n",
       "       [ 0.81794113, -0.36612593,  0.96286543,  1.        ]])"
      ]
     },
     "metadata": {},
     "execution_count": 23
    }
   ],
   "source": [
    "corr_matrix=numpy.corrcoef(X_std.T)\n",
    "corr_matrix"
   ]
  },
  {
   "cell_type": "code",
   "execution_count": 24,
   "metadata": {},
   "outputs": [
    {
     "output_type": "stream",
     "name": "stdout",
     "text": [
      "Valores propios \n[2.93808505 0.9201649  0.14774182 0.02085386]\nVectores propios \n[[ 0.52106591 -0.37741762 -0.71956635  0.26128628]\n [-0.26934744 -0.92329566  0.24438178 -0.12350962]\n [ 0.5804131  -0.02449161  0.14212637 -0.80144925]\n [ 0.56485654 -0.06694199  0.63427274  0.52359713]]\n"
     ]
    }
   ],
   "source": [
    "eig_vals_corr, eig_vectors_corr=numpy.linalg.eig(corr_matrix)\n",
    "print(\"Valores propios \\n%s\"%eig_vals)\n",
    "print(\"Vectores propios \\n%s\"%eig_vectors)"
   ]
  },
  {
   "cell_type": "code",
   "execution_count": 25,
   "metadata": {},
   "outputs": [],
   "source": [
    "#c) singular values descomposicion "
   ]
  },
  {
   "cell_type": "code",
   "execution_count": 26,
   "metadata": {},
   "outputs": [
    {
     "output_type": "execute_result",
     "data": {
      "text/plain": [
       "array([[-0.52106591, -0.37741762,  0.71956635,  0.26128628],\n",
       "       [ 0.26934744, -0.92329566, -0.24438178, -0.12350962],\n",
       "       [-0.5804131 , -0.02449161, -0.14212637, -0.80144925],\n",
       "       [-0.56485654, -0.06694199, -0.63427274,  0.52359713]])"
      ]
     },
     "metadata": {},
     "execution_count": 26
    }
   ],
   "source": [
    "u,s,v=numpy.linalg.svd(X_std.T)\n",
    "u"
   ]
  },
  {
   "cell_type": "code",
   "execution_count": 27,
   "metadata": {},
   "outputs": [
    {
     "output_type": "execute_result",
     "data": {
      "text/plain": [
       "array([20.92306556, 11.7091661 ,  4.69185798,  1.76273239])"
      ]
     },
     "metadata": {},
     "execution_count": 27
    }
   ],
   "source": [
    "s"
   ]
  },
  {
   "cell_type": "code",
   "execution_count": 28,
   "metadata": {},
   "outputs": [
    {
     "output_type": "execute_result",
     "data": {
      "text/plain": [
       "array([[ 1.08239531e-01,  9.94577561e-02,  1.12996303e-01, ...,\n",
       "        -7.27030413e-02, -6.56112167e-02, -4.59137323e-02],\n",
       "       [-4.09957970e-02,  5.75731483e-02,  2.92000319e-02, ...,\n",
       "        -2.29793601e-02, -8.63643414e-02,  2.07800179e-03],\n",
       "       [ 2.72186462e-02,  5.00034005e-02, -9.42089147e-03, ...,\n",
       "        -3.84023516e-02, -1.98939364e-01, -1.12588405e-01],\n",
       "       ...,\n",
       "       [ 5.43380310e-02,  5.12936114e-03,  2.75184277e-02, ...,\n",
       "         9.89532683e-01, -1.41206665e-02, -8.30595907e-04],\n",
       "       [ 1.96438400e-03,  8.48544595e-02,  1.78604309e-01, ...,\n",
       "        -1.25488246e-02,  9.52049996e-01, -2.19201906e-02],\n",
       "       [ 2.46978090e-03,  5.83496936e-03,  1.49419118e-01, ...,\n",
       "        -7.17729676e-04, -2.32048811e-02,  9.77300244e-01]])"
      ]
     },
     "metadata": {},
     "execution_count": 28
    }
   ],
   "source": [
    "v"
   ]
  },
  {
   "cell_type": "code",
   "execution_count": 29,
   "metadata": {},
   "outputs": [],
   "source": [
    "#2 las componentes principales "
   ]
  },
  {
   "cell_type": "code",
   "execution_count": 31,
   "metadata": {},
   "outputs": [
    {
     "output_type": "stream",
     "name": "stdout",
     "text": [
      "La longitud del vector propio es: 0.9999999999999993\nLa longitud del vector propio es: 0.9999999999999999\nLa longitud del vector propio es: 1.0000000000000002\nLa longitud del vector propio es: 1.0\n"
     ]
    }
   ],
   "source": [
    "for ev in eig_vectors:\n",
    "    print(\"La longitud del vector propio es: %s\"%numpy.linalg.norm(ev))"
   ]
  },
  {
   "cell_type": "code",
   "execution_count": 35,
   "metadata": {},
   "outputs": [
    {
     "output_type": "execute_result",
     "data": {
      "text/plain": [
       "[(2.9380850501999944,\n",
       "  array([ 0.52106591, -0.26934744,  0.5804131 ,  0.56485654])),\n",
       " (0.9201649041624878,\n",
       "  array([-0.37741762, -0.92329566, -0.02449161, -0.06694199])),\n",
       " (0.14774182104494818,\n",
       "  array([-0.71956635,  0.24438178,  0.14212637,  0.63427274])),\n",
       " (0.020853862176462533,\n",
       "  array([ 0.26128628, -0.12350962, -0.80144925,  0.52359713]))]"
      ]
     },
     "metadata": {},
     "execution_count": 35
    }
   ],
   "source": [
    "eigen_pairs=[(numpy.abs(eig_vals[i]),eig_vectors[:,i]) for i in range(len(eig_vals))]\n",
    "eigen_pairs"
   ]
  },
  {
   "cell_type": "code",
   "execution_count": 36,
   "metadata": {},
   "outputs": [
    {
     "output_type": "execute_result",
     "data": {
      "text/plain": [
       "[(2.9380850501999944,\n",
       "  array([ 0.52106591, -0.26934744,  0.5804131 ,  0.56485654])),\n",
       " (0.9201649041624878,\n",
       "  array([-0.37741762, -0.92329566, -0.02449161, -0.06694199])),\n",
       " (0.14774182104494818,\n",
       "  array([-0.71956635,  0.24438178,  0.14212637,  0.63427274])),\n",
       " (0.020853862176462533,\n",
       "  array([ 0.26128628, -0.12350962, -0.80144925,  0.52359713]))]"
      ]
     },
     "metadata": {},
     "execution_count": 36
    }
   ],
   "source": [
    "eigen_pairs.sort()\n",
    "eigen_pairs.reverse()\n",
    "eigen_pairs"
   ]
  },
  {
   "cell_type": "code",
   "execution_count": 40,
   "metadata": {},
   "outputs": [],
   "source": [
    "total_sum=sum(eig_vals)\n",
    "var_exp=[(i/total_sum)*100 for i in sorted(eig_vals,reverse=True)]\n",
    "sum_var_exp=numpy.cumsum(var_exp)"
   ]
  },
  {
   "cell_type": "code",
   "execution_count": 41,
   "metadata": {},
   "outputs": [
    {
     "output_type": "execute_result",
     "data": {
      "text/plain": [
       "[72.96244541329986, 22.850761786701774, 3.6689218892828794, 0.5178709107154862]"
      ]
     },
     "metadata": {},
     "execution_count": 41
    }
   ],
   "source": [
    "var_exp #indica el porcentaje de que tanto explica cada vector propio"
   ]
  },
  {
   "cell_type": "code",
   "execution_count": 44,
   "metadata": {},
   "outputs": [
    {
     "output_type": "execute_result",
     "data": {
      "text/plain": [
       "array([ 72.96244541,  95.8132072 ,  99.48212909, 100.        ])"
      ]
     },
     "metadata": {},
     "execution_count": 44
    }
   ],
   "source": [
    "sum_var_exp"
   ]
  },
  {
   "cell_type": "code",
   "execution_count": 46,
   "metadata": {},
   "outputs": [],
   "source": [
    "W=numpy.hstack((eigen_pairs[0][1].reshape(4,1),\n",
    "                eigen_pairs[1][1].reshape(4,1)))"
   ]
  },
  {
   "cell_type": "code",
   "execution_count": 47,
   "metadata": {},
   "outputs": [],
   "source": [
    "#3 Proyectando las variables en el nuevo subespacio vectorial"
   ]
  },
  {
   "cell_type": "code",
   "execution_count": 51,
   "metadata": {},
   "outputs": [
    {
     "output_type": "display_data",
     "data": {
      "text/plain": "<IPython.core.display.Math object>",
      "text/latex": "$\\displaystyle Y=X \\cdot W, X\\in M(\\mathbb R)_{150,4}, W\\in M(\\mathbb R)_{4,2}, Y\\in M(\\mathbb R)_{150,2}$"
     },
     "metadata": {}
    }
   ],
   "source": [
    "display(Math(r\"Y=X \\cdot W, X\\in M(\\mathbb R)_{150,4}, W\\in M(\\mathbb R)_{4,2}, Y\\in M(\\mathbb R)_{150,2}\"))"
   ]
  },
  {
   "cell_type": "code",
   "execution_count": 60,
   "metadata": {},
   "outputs": [],
   "source": [
    "Y=X_std.dot(W)"
   ]
  },
  {
   "cell_type": "code",
   "execution_count": 63,
   "metadata": {},
   "outputs": [
    {
     "output_type": "execute_result",
     "data": {
      "text/plain": [
       "<matplotlib.collections.PathCollection at 0x26e992effd0>"
      ]
     },
     "metadata": {},
     "execution_count": 63
    },
    {
     "output_type": "display_data",
     "data": {
      "text/plain": "<Figure size 432x288 with 1 Axes>",
      "image/svg+xml": "<?xml version=\"1.0\" encoding=\"utf-8\" standalone=\"no\"?>\r\n<!DOCTYPE svg PUBLIC \"-//W3C//DTD SVG 1.1//EN\"\r\n  \"http://www.w3.org/Graphics/SVG/1.1/DTD/svg11.dtd\">\r\n<!-- Created with matplotlib (https://matplotlib.org/) -->\r\n<svg height=\"248.518125pt\" version=\"1.1\" viewBox=\"0 0 370.942187 248.518125\" width=\"370.942187pt\" xmlns=\"http://www.w3.org/2000/svg\" xmlns:xlink=\"http://www.w3.org/1999/xlink\">\r\n <metadata>\r\n  <rdf:RDF xmlns:cc=\"http://creativecommons.org/ns#\" xmlns:dc=\"http://purl.org/dc/elements/1.1/\" xmlns:rdf=\"http://www.w3.org/1999/02/22-rdf-syntax-ns#\">\r\n   <cc:Work>\r\n    <dc:type rdf:resource=\"http://purl.org/dc/dcmitype/StillImage\"/>\r\n    <dc:date>2021-02-17T14:25:52.451494</dc:date>\r\n    <dc:format>image/svg+xml</dc:format>\r\n    <dc:creator>\r\n     <cc:Agent>\r\n      <dc:title>Matplotlib v3.3.3, https://matplotlib.org/</dc:title>\r\n     </cc:Agent>\r\n    </dc:creator>\r\n   </cc:Work>\r\n  </rdf:RDF>\r\n </metadata>\r\n <defs>\r\n  <style type=\"text/css\">*{stroke-linecap:butt;stroke-linejoin:round;}</style>\r\n </defs>\r\n <g id=\"figure_1\">\r\n  <g id=\"patch_1\">\r\n   <path d=\"M 0 248.518125 \r\nL 370.942187 248.518125 \r\nL 370.942187 0 \r\nL 0 0 \r\nz\r\n\" style=\"fill:none;\"/>\r\n  </g>\r\n  <g id=\"axes_1\">\r\n   <g id=\"patch_2\">\r\n    <path d=\"M 28.942188 224.64 \r\nL 363.742188 224.64 \r\nL 363.742188 7.2 \r\nL 28.942188 7.2 \r\nz\r\n\" style=\"fill:#ffffff;\"/>\r\n   </g>\r\n   <g id=\"PathCollection_1\">\r\n    <defs>\r\n     <path d=\"M 0 3 \r\nC 0.795609 3 1.55874 2.683901 2.12132 2.12132 \r\nC 2.683901 1.55874 3 0.795609 3 0 \r\nC 3 -0.795609 2.683901 -1.55874 2.12132 -2.12132 \r\nC 1.55874 -2.683901 0.795609 -3 0 -3 \r\nC -0.795609 -3 -1.55874 -2.683901 -2.12132 -2.12132 \r\nC -2.683901 -1.55874 -3 -0.795609 -3 0 \r\nC -3 0.795609 -2.683901 1.55874 -2.12132 2.12132 \r\nC -1.55874 2.683901 -0.795609 3 0 3 \r\nz\r\n\" id=\"mbdbea8e3ef\" style=\"stroke:#1f77b4;\"/>\r\n    </defs>\r\n    <g clip-path=\"url(#pd50892772b)\">\r\n     <use style=\"fill:#1f77b4;stroke:#1f77b4;\" x=\"69.651813\" xlink:href=\"#mbdbea8e3ef\" y=\"133.091975\"/>\r\n     <use style=\"fill:#1f77b4;stroke:#1f77b4;\" x=\"78.842266\" xlink:href=\"#mbdbea8e3ef\" y=\"90.370866\"/>\r\n     <use style=\"fill:#1f77b4;stroke:#1f77b4;\" x=\"64.673675\" xlink:href=\"#mbdbea8e3ef\" y=\"102.668157\"/>\r\n     <use style=\"fill:#1f77b4;stroke:#1f77b4;\" x=\"67.917106\" xlink:href=\"#mbdbea8e3ef\" y=\"93.211354\"/>\r\n     <use style=\"fill:#1f77b4;stroke:#1f77b4;\" x=\"63.392549\" xlink:href=\"#mbdbea8e3ef\" y=\"139.266384\"/>\r\n     <use style=\"fill:#1f77b4;stroke:#1f77b4;\" x=\"79.108874\" xlink:href=\"#mbdbea8e3ef\" y=\"170.445584\"/>\r\n     <use style=\"fill:#1f77b4;stroke:#1f77b4;\" x=\"60.682222\" xlink:href=\"#mbdbea8e3ef\" y=\"117.087389\"/>\r\n     <use style=\"fill:#1f77b4;stroke:#1f77b4;\" x=\"71.24518\" xlink:href=\"#mbdbea8e3ef\" y=\"123.583645\"/>\r\n     <use style=\"fill:#1f77b4;stroke:#1f77b4;\" x=\"66.153646\" xlink:href=\"#mbdbea8e3ef\" y=\"74.040115\"/>\r\n     <use style=\"fill:#1f77b4;stroke:#1f77b4;\" x=\"73.672019\" xlink:href=\"#mbdbea8e3ef\" y=\"97.96336\"/>\r\n     <use style=\"fill:#1f77b4;stroke:#1f77b4;\" x=\"74.573253\" xlink:href=\"#mbdbea8e3ef\" y=\"153.955937\"/>\r\n     <use style=\"fill:#1f77b4;stroke:#1f77b4;\" x=\"66.579283\" xlink:href=\"#mbdbea8e3ef\" y=\"120.249724\"/>\r\n     <use style=\"fill:#1f77b4;stroke:#1f77b4;\" x=\"71.965257\" xlink:href=\"#mbdbea8e3ef\" y=\"88.351978\"/>\r\n     <use style=\"fill:#1f77b4;stroke:#1f77b4;\" x=\"51.225161\" xlink:href=\"#mbdbea8e3ef\" y=\"79.733781\"/>\r\n     <use style=\"fill:#1f77b4;stroke:#1f77b4;\" x=\"72.951133\" xlink:href=\"#mbdbea8e3ef\" y=\"184.17365\"/>\r\n     <use style=\"fill:#1f77b4;stroke:#1f77b4;\" x=\"69.776272\" xlink:href=\"#mbdbea8e3ef\" y=\"214.756364\"/>\r\n     <use style=\"fill:#1f77b4;stroke:#1f77b4;\" x=\"72.508616\" xlink:href=\"#mbdbea8e3ef\" y=\"170.239479\"/>\r\n     <use style=\"fill:#1f77b4;stroke:#1f77b4;\" x=\"73.370842\" xlink:href=\"#mbdbea8e3ef\" y=\"133.41814\"/>\r\n     <use style=\"fill:#1f77b4;stroke:#1f77b4;\" x=\"87.96507\" xlink:href=\"#mbdbea8e3ef\" y=\"167.330458\"/>\r\n     <use style=\"fill:#1f77b4;stroke:#1f77b4;\" x=\"65.717057\" xlink:href=\"#mbdbea8e3ef\" y=\"157.071063\"/>\r\n     <use style=\"fill:#1f77b4;stroke:#1f77b4;\" x=\"87.177231\" xlink:href=\"#mbdbea8e3ef\" y=\"130.457593\"/>\r\n     <use style=\"fill:#1f77b4;stroke:#1f77b4;\" x=\"72.537369\" xlink:href=\"#mbdbea8e3ef\" y=\"149.530095\"/>\r\n     <use style=\"fill:#1f77b4;stroke:#1f77b4;\" x=\"44.160369\" xlink:href=\"#mbdbea8e3ef\" y=\"132.289384\"/>\r\n     <use style=\"fill:#1f77b4;stroke:#1f77b4;\" x=\"91.961659\" xlink:href=\"#mbdbea8e3ef\" y=\"118.490784\"/>\r\n     <use style=\"fill:#1f77b4;stroke:#1f77b4;\" x=\"71.529476\" xlink:href=\"#mbdbea8e3ef\" y=\"120.404303\"/>\r\n     <use style=\"fill:#1f77b4;stroke:#1f77b4;\" x=\"85.300376\" xlink:href=\"#mbdbea8e3ef\" y=\"92.166642\"/>\r\n     <use style=\"fill:#1f77b4;stroke:#1f77b4;\" x=\"80.333302\" xlink:href=\"#mbdbea8e3ef\" y=\"124.287501\"/>\r\n     <use style=\"fill:#1f77b4;stroke:#1f77b4;\" x=\"74.459858\" xlink:href=\"#mbdbea8e3ef\" y=\"134.836225\"/>\r\n     <use style=\"fill:#1f77b4;stroke:#1f77b4;\" x=\"75.911076\" xlink:href=\"#mbdbea8e3ef\" y=\"126.917567\"/>\r\n     <use style=\"fill:#1f77b4;stroke:#1f77b4;\" x=\"69.623868\" xlink:href=\"#mbdbea8e3ef\" y=\"102.822736\"/>\r\n     <use style=\"fill:#1f77b4;stroke:#1f77b4;\" x=\"75.883132\" xlink:href=\"#mbdbea8e3ef\" y=\"96.648327\"/>\r\n     <use style=\"fill:#1f77b4;stroke:#1f77b4;\" x=\"91.315159\" xlink:href=\"#mbdbea8e3ef\" y=\"131.00687\"/>\r\n     <use style=\"fill:#1f77b4;stroke:#1f77b4;\" x=\"52.133132\" xlink:href=\"#mbdbea8e3ef\" y=\"181.712854\"/>\r\n     <use style=\"fill:#1f77b4;stroke:#1f77b4;\" x=\"60.574755\" xlink:href=\"#mbdbea8e3ef\" y=\"194.932796\"/>\r\n     <use style=\"fill:#1f77b4;stroke:#1f77b4;\" x=\"77.391048\" xlink:href=\"#mbdbea8e3ef\" y=\"98.289525\"/>\r\n     <use style=\"fill:#1f77b4;stroke:#1f77b4;\" x=\"72.497552\" xlink:href=\"#mbdbea8e3ef\" y=\"107.694802\"/>\r\n     <use style=\"fill:#1f77b4;stroke:#1f77b4;\" x=\"80.63367\" xlink:href=\"#mbdbea8e3ef\" y=\"139.811344\"/>\r\n     <use style=\"fill:#1f77b4;stroke:#1f77b4;\" x=\"56.51554\" xlink:href=\"#mbdbea8e3ef\" y=\"137.247495\"/>\r\n     <use style=\"fill:#1f77b4;stroke:#1f77b4;\" x=\"61.402299\" xlink:href=\"#mbdbea8e3ef\" y=\"81.855721\"/>\r\n     <use style=\"fill:#1f77b4;stroke:#1f77b4;\" x=\"74.40316\" xlink:href=\"#mbdbea8e3ef\" y=\"125.276369\"/>\r\n     <use style=\"fill:#1f77b4;stroke:#1f77b4;\" x=\"68.562797\" xlink:href=\"#mbdbea8e3ef\" y=\"131.67389\"/>\r\n     <use style=\"fill:#1f77b4;stroke:#1f77b4;\" x=\"89.988289\" xlink:href=\"#mbdbea8e3ef\" y=\"28.804684\"/>\r\n     <use style=\"fill:#1f77b4;stroke:#1f77b4;\" x=\"55.199733\" xlink:href=\"#mbdbea8e3ef\" y=\"97.589986\"/>\r\n     <use style=\"fill:#1f77b4;stroke:#1f77b4;\" x=\"84.670077\" xlink:href=\"#mbdbea8e3ef\" y=\"132.806963\"/>\r\n     <use style=\"fill:#1f77b4;stroke:#1f77b4;\" x=\"76.036344\" xlink:href=\"#mbdbea8e3ef\" y=\"157.603333\"/>\r\n     <use style=\"fill:#1f77b4;stroke:#1f77b4;\" x=\"79.403314\" xlink:href=\"#mbdbea8e3ef\" y=\"89.004307\"/>\r\n     <use style=\"fill:#1f77b4;stroke:#1f77b4;\" x=\"63.648093\" xlink:href=\"#mbdbea8e3ef\" y=\"156.796424\"/>\r\n     <use style=\"fill:#1f77b4;stroke:#1f77b4;\" x=\"63.165759\" xlink:href=\"#mbdbea8e3ef\" y=\"101.02696\"/>\r\n     <use style=\"fill:#1f77b4;stroke:#1f77b4;\" x=\"71.415273\" xlink:href=\"#mbdbea8e3ef\" y=\"152.263213\"/>\r\n     <use style=\"fill:#1f77b4;stroke:#1f77b4;\" x=\"72.696398\" xlink:href=\"#mbdbea8e3ef\" y=\"115.664987\"/>\r\n     <use style=\"fill:#1f77b4;stroke:#1f77b4;\" x=\"238.037766\" xlink:href=\"#mbdbea8e3ef\" y=\"147.266672\"/>\r\n     <use style=\"fill:#1f77b4;stroke:#1f77b4;\" x=\"219.508783\" xlink:href=\"#mbdbea8e3ef\" y=\"137.333442\"/>\r\n     <use style=\"fill:#1f77b4;stroke:#1f77b4;\" x=\"245.000226\" xlink:href=\"#mbdbea8e3ef\" y=\"138.136033\"/>\r\n     <use style=\"fill:#1f77b4;stroke:#1f77b4;\" x=\"203.310124\" xlink:href=\"#mbdbea8e3ef\" y=\"50.384777\"/>\r\n     <use style=\"fill:#1f77b4;stroke:#1f77b4;\" x=\"236.721959\" xlink:href=\"#mbdbea8e3ef\" y=\"107.609163\"/>\r\n     <use style=\"fill:#1f77b4;stroke:#1f77b4;\" x=\"202.369993\" xlink:href=\"#mbdbea8e3ef\" y=\"93.363517\"/>\r\n     <use style=\"fill:#1f77b4;stroke:#1f77b4;\" x=\"220.268677\" xlink:href=\"#mbdbea8e3ef\" y=\"143.937068\"/>\r\n     <use style=\"fill:#1f77b4;stroke:#1f77b4;\" x=\"158.55342\" xlink:href=\"#mbdbea8e3ef\" y=\"46.756389\"/>\r\n     <use style=\"fill:#1f77b4;stroke:#1f77b4;\" x=\"229.340599\" xlink:href=\"#mbdbea8e3ef\" y=\"116.516689\"/>\r\n     <use style=\"fill:#1f77b4;stroke:#1f77b4;\" x=\"183.500015\" xlink:href=\"#mbdbea8e3ef\" y=\"77.049774\"/>\r\n     <use style=\"fill:#1f77b4;stroke:#1f77b4;\" x=\"177.416661\" xlink:href=\"#mbdbea8e3ef\" y=\"17.083636\"/>\r\n     <use style=\"fill:#1f77b4;stroke:#1f77b4;\" x=\"204.971253\" xlink:href=\"#mbdbea8e3ef\" y=\"112.98098\"/>\r\n     <use style=\"fill:#1f77b4;stroke:#1f77b4;\" x=\"211.044223\" xlink:href=\"#mbdbea8e3ef\" y=\"50.002769\"/>\r\n     <use style=\"fill:#1f77b4;stroke:#1f77b4;\" x=\"218.91979\" xlink:href=\"#mbdbea8e3ef\" y=\"108.430761\"/>\r\n     <use style=\"fill:#1f77b4;stroke:#1f77b4;\" x=\"181.260149\" xlink:href=\"#mbdbea8e3ef\" y=\"99.07419\"/>\r\n     <use style=\"fill:#1f77b4;stroke:#1f77b4;\" x=\"226.714914\" xlink:href=\"#mbdbea8e3ef\" y=\"134.16679\"/>\r\n     <use style=\"fill:#1f77b4;stroke:#1f77b4;\" x=\"200.447504\" xlink:href=\"#mbdbea8e3ef\" y=\"108.057388\"/>\r\n     <use style=\"fill:#1f77b4;stroke:#1f77b4;\" x=\"190.871912\" xlink:href=\"#mbdbea8e3ef\" y=\"86.004509\"/>\r\n     <use style=\"fill:#1f77b4;stroke:#1f77b4;\" x=\"244.205651\" xlink:href=\"#mbdbea8e3ef\" y=\"55.276672\"/>\r\n     <use style=\"fill:#1f77b4;stroke:#1f77b4;\" x=\"191.177416\" xlink:href=\"#mbdbea8e3ef\" y=\"67.10791\"/>\r\n     <use style=\"fill:#1f77b4;stroke:#1f77b4;\" x=\"219.82616\" xlink:href=\"#mbdbea8e3ef\" y=\"130.002896\"/>\r\n     <use style=\"fill:#1f77b4;stroke:#1f77b4;\" x=\"206.751593\" xlink:href=\"#mbdbea8e3ef\" y=\"99.876781\"/>\r\n     <use style=\"fill:#1f77b4;stroke:#1f77b4;\" x=\"244.66004\" xlink:href=\"#mbdbea8e3ef\" y=\"80.776897\"/>\r\n     <use style=\"fill:#1f77b4;stroke:#1f77b4;\" x=\"214.583015\" xlink:href=\"#mbdbea8e3ef\" y=\"99.9113\"/>\r\n     <use style=\"fill:#1f77b4;stroke:#1f77b4;\" x=\"218.074445\" xlink:href=\"#mbdbea8e3ef\" y=\"112.976663\"/>\r\n     <use style=\"fill:#1f77b4;stroke:#1f77b4;\" x=\"226.658216\" xlink:href=\"#mbdbea8e3ef\" y=\"124.606934\"/>\r\n     <use style=\"fill:#1f77b4;stroke:#1f77b4;\" x=\"245.777001\" xlink:href=\"#mbdbea8e3ef\" y=\"112.464221\"/>\r\n     <use style=\"fill:#1f77b4;stroke:#1f77b4;\" x=\"250.87367\" xlink:href=\"#mbdbea8e3ef\" y=\"127.587309\"/>\r\n     <use style=\"fill:#1f77b4;stroke:#1f77b4;\" x=\"216.180709\" xlink:href=\"#mbdbea8e3ef\" y=\"106.96115\"/>\r\n     <use style=\"fill:#1f77b4;stroke:#1f77b4;\" x=\"180.914827\" xlink:href=\"#mbdbea8e3ef\" y=\"76.135496\"/>\r\n     <use style=\"fill:#1f77b4;stroke:#1f77b4;\" x=\"189.470654\" xlink:href=\"#mbdbea8e3ef\" y=\"57.496527\"/>\r\n     <use style=\"fill:#1f77b4;stroke:#1f77b4;\" x=\"184.101561\" xlink:href=\"#mbdbea8e3ef\" y=\"57.118836\"/>\r\n     <use style=\"fill:#1f77b4;stroke:#1f77b4;\" x=\"195.00984\" xlink:href=\"#mbdbea8e3ef\" y=\"86.553786\"/>\r\n     <use style=\"fill:#1f77b4;stroke:#1f77b4;\" x=\"236.002691\" xlink:href=\"#mbdbea8e3ef\" y=\"91.862208\"/>\r\n     <use style=\"fill:#1f77b4;stroke:#1f77b4;\" x=\"194.131543\" xlink:href=\"#mbdbea8e3ef\" y=\"104.67194\"/>\r\n     <use style=\"fill:#1f77b4;stroke:#1f77b4;\" x=\"204.393324\" xlink:href=\"#mbdbea8e3ef\" y=\"146.622976\"/>\r\n     <use style=\"fill:#1f77b4;stroke:#1f77b4;\" x=\"235.384136\" xlink:href=\"#mbdbea8e3ef\" y=\"134.647533\"/>\r\n     <use style=\"fill:#1f77b4;stroke:#1f77b4;\" x=\"235.174226\" xlink:href=\"#mbdbea8e3ef\" y=\"64.132672\"/>\r\n     <use style=\"fill:#1f77b4;stroke:#1f77b4;\" x=\"186.409189\" xlink:href=\"#mbdbea8e3ef\" y=\"107.198953\"/>\r\n     <use style=\"fill:#1f77b4;stroke:#1f77b4;\" x=\"197.107558\" xlink:href=\"#mbdbea8e3ef\" y=\"66.119042\"/>\r\n     <use style=\"fill:#1f77b4;stroke:#1f77b4;\" x=\"196.887504\" xlink:href=\"#mbdbea8e3ef\" y=\"73.866114\"/>\r\n     <use style=\"fill:#1f77b4;stroke:#1f77b4;\" x=\"214.168443\" xlink:href=\"#mbdbea8e3ef\" y=\"116.246368\"/>\r\n     <use style=\"fill:#1f77b4;stroke:#1f77b4;\" x=\"199.761188\" xlink:href=\"#mbdbea8e3ef\" y=\"78.73818\"/>\r\n     <use style=\"fill:#1f77b4;stroke:#1f77b4;\" x=\"164.812683\" xlink:href=\"#mbdbea8e3ef\" y=\"40.581981\"/>\r\n     <use style=\"fill:#1f77b4;stroke:#1f77b4;\" x=\"197.363102\" xlink:href=\"#mbdbea8e3ef\" y=\"83.649082\"/>\r\n     <use style=\"fill:#1f77b4;stroke:#1f77b4;\" x=\"187.498205\" xlink:href=\"#mbdbea8e3ef\" y=\"108.617038\"/>\r\n     <use style=\"fill:#1f77b4;stroke:#1f77b4;\" x=\"194.318517\" xlink:href=\"#mbdbea8e3ef\" y=\"101.076071\"/>\r\n     <use style=\"fill:#1f77b4;stroke:#1f77b4;\" x=\"211.758484\" xlink:href=\"#mbdbea8e3ef\" y=\"109.591216\"/>\r\n     <use style=\"fill:#1f77b4;stroke:#1f77b4;\" x=\"160.536933\" xlink:href=\"#mbdbea8e3ef\" y=\"58.180555\"/>\r\n     <use style=\"fill:#1f77b4;stroke:#1f77b4;\" x=\"195.769735\" xlink:href=\"#mbdbea8e3ef\" y=\"93.157412\"/>\r\n     <use style=\"fill:#1f77b4;stroke:#1f77b4;\" x=\"275.190776\" xlink:href=\"#mbdbea8e3ef\" y=\"147.542392\"/>\r\n     <use style=\"fill:#1f77b4;stroke:#1f77b4;\" x=\"240.843817\" xlink:href=\"#mbdbea8e3ef\" y=\"89.455255\"/>\r\n     <use style=\"fill:#1f77b4;stroke:#1f77b4;\" x=\"293.232288\" xlink:href=\"#mbdbea8e3ef\" y=\"136.126599\"/>\r\n     <use style=\"fill:#1f77b4;stroke:#1f77b4;\" x=\"254.962447\" xlink:href=\"#mbdbea8e3ef\" y=\"113.584604\"/>\r\n     <use style=\"fill:#1f77b4;stroke:#1f77b4;\" x=\"276.35337\" xlink:href=\"#mbdbea8e3ef\" y=\"126.244896\"/>\r\n     <use style=\"fill:#1f77b4;stroke:#1f77b4;\" x=\"320.572642\" xlink:href=\"#mbdbea8e3ef\" y=\"144.950901\"/>\r\n     <use style=\"fill:#1f77b4;stroke:#1f77b4;\" x=\"201.286113\" xlink:href=\"#mbdbea8e3ef\" y=\"57.52499\"/>\r\n     <use style=\"fill:#1f77b4;stroke:#1f77b4;\" x=\"298.092704\" xlink:href=\"#mbdbea8e3ef\" y=\"130.872525\"/>\r\n     <use style=\"fill:#1f77b4;stroke:#1f77b4;\" x=\"283.29963\" xlink:href=\"#mbdbea8e3ef\" y=\"88.990022\"/>\r\n     <use style=\"fill:#1f77b4;stroke:#1f77b4;\" x=\"295.958816\" xlink:href=\"#mbdbea8e3ef\" y=\"186.429828\"/>\r\n     <use style=\"fill:#1f77b4;stroke:#1f77b4;\" x=\"251.162295\" xlink:href=\"#mbdbea8e3ef\" y=\"140.966147\"/>\r\n     <use style=\"fill:#1f77b4;stroke:#1f77b4;\" x=\"263.091829\" xlink:href=\"#mbdbea8e3ef\" y=\"99.714649\"/>\r\n     <use style=\"fill:#1f77b4;stroke:#1f77b4;\" x=\"277.158089\" xlink:href=\"#mbdbea8e3ef\" y=\"130.842323\"/>\r\n     <use style=\"fill:#1f77b4;stroke:#1f77b4;\" x=\"245.957366\" xlink:href=\"#mbdbea8e3ef\" y=\"72.302905\"/>\r\n     <use style=\"fill:#1f77b4;stroke:#1f77b4;\" x=\"256.337678\" xlink:href=\"#mbdbea8e3ef\" y=\"98.953211\"/>\r\n     <use style=\"fill:#1f77b4;stroke:#1f77b4;\" x=\"262.46153\" xlink:href=\"#mbdbea8e3ef\" y=\"140.35497\"/>\r\n     <use style=\"fill:#1f77b4;stroke:#1f77b4;\" x=\"256.527061\" xlink:href=\"#mbdbea8e3ef\" y=\"124.785658\"/>\r\n     <use style=\"fill:#1f77b4;stroke:#1f77b4;\" x=\"304.289453\" xlink:href=\"#mbdbea8e3ef\" y=\"209.958374\"/>\r\n     <use style=\"fill:#1f77b4;stroke:#1f77b4;\" x=\"348.524006\" xlink:href=\"#mbdbea8e3ef\" y=\"115.982004\"/>\r\n     <use style=\"fill:#1f77b4;stroke:#1f77b4;\" x=\"246.140012\" xlink:href=\"#mbdbea8e3ef\" y=\"52.148855\"/>\r\n     <use style=\"fill:#1f77b4;stroke:#1f77b4;\" x=\"284.85169\" xlink:href=\"#mbdbea8e3ef\" y=\"149.024694\"/>\r\n     <use style=\"fill:#1f77b4;stroke:#1f77b4;\" x=\"231.845473\" xlink:href=\"#mbdbea8e3ef\" y=\"94.160052\"/>\r\n     <use style=\"fill:#1f77b4;stroke:#1f77b4;\" x=\"327.864224\" xlink:href=\"#mbdbea8e3ef\" y=\"130.634722\"/>\r\n     <use style=\"fill:#1f77b4;stroke:#1f77b4;\" x=\"249.614561\" xlink:href=\"#mbdbea8e3ef\" y=\"97.489656\"/>\r\n     <use style=\"fill:#1f77b4;stroke:#1f77b4;\" x=\"267.996389\" xlink:href=\"#mbdbea8e3ef\" y=\"152.854049\"/>\r\n     <use style=\"fill:#1f77b4;stroke:#1f77b4;\" x=\"280.680681\" xlink:href=\"#mbdbea8e3ef\" y=\"152.626619\"/>\r\n     <use style=\"fill:#1f77b4;stroke:#1f77b4;\" x=\"241.705233\" xlink:href=\"#mbdbea8e3ef\" y=\"103.612538\"/>\r\n     <use style=\"fill:#1f77b4;stroke:#1f77b4;\" x=\"233.994752\" xlink:href=\"#mbdbea8e3ef\" y=\"117.705605\"/>\r\n     <use style=\"fill:#1f77b4;stroke:#1f77b4;\" x=\"272.378797\" xlink:href=\"#mbdbea8e3ef\" y=\"108.38869\"/>\r\n     <use style=\"fill:#1f77b4;stroke:#1f77b4;\" x=\"276.14506\" xlink:href=\"#mbdbea8e3ef\" y=\"136.136973\"/>\r\n     <use style=\"fill:#1f77b4;stroke:#1f77b4;\" x=\"304.770867\" xlink:href=\"#mbdbea8e3ef\" y=\"124.921229\"/>\r\n     <use style=\"fill:#1f77b4;stroke:#1f77b4;\" x=\"298.217163\" xlink:href=\"#mbdbea8e3ef\" y=\"212.536913\"/>\r\n     <use style=\"fill:#1f77b4;stroke:#1f77b4;\" x=\"276.097826\" xlink:href=\"#mbdbea8e3ef\" y=\"108.714855\"/>\r\n     <use style=\"fill:#1f77b4;stroke:#1f77b4;\" x=\"238.656321\" xlink:href=\"#mbdbea8e3ef\" y=\"104.481346\"/>\r\n     <use style=\"fill:#1f77b4;stroke:#1f77b4;\" x=\"243.074219\" xlink:href=\"#mbdbea8e3ef\" y=\"85.293101\"/>\r\n     <use style=\"fill:#1f77b4;stroke:#1f77b4;\" x=\"322.918358\" xlink:href=\"#mbdbea8e3ef\" y=\"147.038324\"/>\r\n     <use style=\"fill:#1f77b4;stroke:#1f77b4;\" x=\"261.770206\" xlink:href=\"#mbdbea8e3ef\" y=\"154.877254\"/>\r\n     <use style=\"fill:#1f77b4;stroke:#1f77b4;\" x=\"250.267797\" xlink:href=\"#mbdbea8e3ef\" y=\"130.960066\"/>\r\n     <use style=\"fill:#1f77b4;stroke:#1f77b4;\" x=\"229.186707\" xlink:href=\"#mbdbea8e3ef\" y=\"115.961356\"/>\r\n     <use style=\"fill:#1f77b4;stroke:#1f77b4;\" x=\"275.564722\" xlink:href=\"#mbdbea8e3ef\" y=\"140.350653\"/>\r\n     <use style=\"fill:#1f77b4;stroke:#1f77b4;\" x=\"283.705977\" xlink:href=\"#mbdbea8e3ef\" y=\"138.046752\"/>\r\n     <use style=\"fill:#1f77b4;stroke:#1f77b4;\" x=\"278.052586\" xlink:href=\"#mbdbea8e3ef\" y=\"140.848404\"/>\r\n     <use style=\"fill:#1f77b4;stroke:#1f77b4;\" x=\"240.843817\" xlink:href=\"#mbdbea8e3ef\" y=\"89.455255\"/>\r\n     <use style=\"fill:#1f77b4;stroke:#1f77b4;\" x=\"284.993839\" xlink:href=\"#mbdbea8e3ef\" y=\"147.435022\"/>\r\n     <use style=\"fill:#1f77b4;stroke:#1f77b4;\" x=\"282.872504\" xlink:href=\"#mbdbea8e3ef\" y=\"154.158708\"/>\r\n     <use style=\"fill:#1f77b4;stroke:#1f77b4;\" x=\"276.487973\" xlink:href=\"#mbdbea8e3ef\" y=\"129.647351\"/>\r\n     <use style=\"fill:#1f77b4;stroke:#1f77b4;\" x=\"261.18622\" xlink:href=\"#mbdbea8e3ef\" y=\"82.133083\"/>\r\n     <use style=\"fill:#1f77b4;stroke:#1f77b4;\" x=\"259.014925\" xlink:href=\"#mbdbea8e3ef\" y=\"125.283409\"/>\r\n     <use style=\"fill:#1f77b4;stroke:#1f77b4;\" x=\"251.593068\" xlink:href=\"#mbdbea8e3ef\" y=\"152.755313\"/>\r\n     <use style=\"fill:#1f77b4;stroke:#1f77b4;\" x=\"230.97892\" xlink:href=\"#mbdbea8e3ef\" y=\"114.42321\"/>\r\n    </g>\r\n   </g>\r\n   <g id=\"matplotlib.axis_1\">\r\n    <g id=\"xtick_1\">\r\n     <g id=\"line2d_1\">\r\n      <defs>\r\n       <path d=\"M 0 0 \r\nL 0 3.5 \r\n\" id=\"mca489a8392\" style=\"stroke:#000000;stroke-width:0.8;\"/>\r\n      </defs>\r\n      <g>\r\n       <use style=\"stroke:#000000;stroke-width:0.8;\" x=\"32.873465\" xlink:href=\"#mca489a8392\" y=\"224.64\"/>\r\n      </g>\r\n     </g>\r\n     <g id=\"text_1\">\r\n      <!-- −3 -->\r\n      <g transform=\"translate(25.502371 239.238437)scale(0.1 -0.1)\">\r\n       <defs>\r\n        <path d=\"M 10.59375 35.5 \r\nL 73.1875 35.5 \r\nL 73.1875 27.203125 \r\nL 10.59375 27.203125 \r\nz\r\n\" id=\"DejaVuSans-8722\"/>\r\n        <path d=\"M 40.578125 39.3125 \r\nQ 47.65625 37.796875 51.625 33 \r\nQ 55.609375 28.21875 55.609375 21.1875 \r\nQ 55.609375 10.40625 48.1875 4.484375 \r\nQ 40.765625 -1.421875 27.09375 -1.421875 \r\nQ 22.515625 -1.421875 17.65625 -0.515625 \r\nQ 12.796875 0.390625 7.625 2.203125 \r\nL 7.625 11.71875 \r\nQ 11.71875 9.328125 16.59375 8.109375 \r\nQ 21.484375 6.890625 26.8125 6.890625 \r\nQ 36.078125 6.890625 40.9375 10.546875 \r\nQ 45.796875 14.203125 45.796875 21.1875 \r\nQ 45.796875 27.640625 41.28125 31.265625 \r\nQ 36.765625 34.90625 28.71875 34.90625 \r\nL 20.21875 34.90625 \r\nL 20.21875 43.015625 \r\nL 29.109375 43.015625 \r\nQ 36.375 43.015625 40.234375 45.921875 \r\nQ 44.09375 48.828125 44.09375 54.296875 \r\nQ 44.09375 59.90625 40.109375 62.90625 \r\nQ 36.140625 65.921875 28.71875 65.921875 \r\nQ 24.65625 65.921875 20.015625 65.03125 \r\nQ 15.375 64.15625 9.8125 62.3125 \r\nL 9.8125 71.09375 \r\nQ 15.4375 72.65625 20.34375 73.4375 \r\nQ 25.25 74.21875 29.59375 74.21875 \r\nQ 40.828125 74.21875 47.359375 69.109375 \r\nQ 53.90625 64.015625 53.90625 55.328125 \r\nQ 53.90625 49.265625 50.4375 45.09375 \r\nQ 46.96875 40.921875 40.578125 39.3125 \r\nz\r\n\" id=\"DejaVuSans-51\"/>\r\n       </defs>\r\n       <use xlink:href=\"#DejaVuSans-8722\"/>\r\n       <use x=\"83.789062\" xlink:href=\"#DejaVuSans-51\"/>\r\n      </g>\r\n     </g>\r\n    </g>\r\n    <g id=\"xtick_2\">\r\n     <g id=\"line2d_2\">\r\n      <g>\r\n       <use style=\"stroke:#000000;stroke-width:0.8;\" x=\"82.891809\" xlink:href=\"#mca489a8392\" y=\"224.64\"/>\r\n      </g>\r\n     </g>\r\n     <g id=\"text_2\">\r\n      <!-- −2 -->\r\n      <g transform=\"translate(75.520715 239.238437)scale(0.1 -0.1)\">\r\n       <defs>\r\n        <path d=\"M 19.1875 8.296875 \r\nL 53.609375 8.296875 \r\nL 53.609375 0 \r\nL 7.328125 0 \r\nL 7.328125 8.296875 \r\nQ 12.9375 14.109375 22.625 23.890625 \r\nQ 32.328125 33.6875 34.8125 36.53125 \r\nQ 39.546875 41.84375 41.421875 45.53125 \r\nQ 43.3125 49.21875 43.3125 52.78125 \r\nQ 43.3125 58.59375 39.234375 62.25 \r\nQ 35.15625 65.921875 28.609375 65.921875 \r\nQ 23.96875 65.921875 18.8125 64.3125 \r\nQ 13.671875 62.703125 7.8125 59.421875 \r\nL 7.8125 69.390625 \r\nQ 13.765625 71.78125 18.9375 73 \r\nQ 24.125 74.21875 28.421875 74.21875 \r\nQ 39.75 74.21875 46.484375 68.546875 \r\nQ 53.21875 62.890625 53.21875 53.421875 \r\nQ 53.21875 48.921875 51.53125 44.890625 \r\nQ 49.859375 40.875 45.40625 35.40625 \r\nQ 44.1875 33.984375 37.640625 27.21875 \r\nQ 31.109375 20.453125 19.1875 8.296875 \r\nz\r\n\" id=\"DejaVuSans-50\"/>\r\n       </defs>\r\n       <use xlink:href=\"#DejaVuSans-8722\"/>\r\n       <use x=\"83.789062\" xlink:href=\"#DejaVuSans-50\"/>\r\n      </g>\r\n     </g>\r\n    </g>\r\n    <g id=\"xtick_3\">\r\n     <g id=\"line2d_3\">\r\n      <g>\r\n       <use style=\"stroke:#000000;stroke-width:0.8;\" x=\"132.910152\" xlink:href=\"#mca489a8392\" y=\"224.64\"/>\r\n      </g>\r\n     </g>\r\n     <g id=\"text_3\">\r\n      <!-- −1 -->\r\n      <g transform=\"translate(125.539059 239.238437)scale(0.1 -0.1)\">\r\n       <defs>\r\n        <path d=\"M 12.40625 8.296875 \r\nL 28.515625 8.296875 \r\nL 28.515625 63.921875 \r\nL 10.984375 60.40625 \r\nL 10.984375 69.390625 \r\nL 28.421875 72.90625 \r\nL 38.28125 72.90625 \r\nL 38.28125 8.296875 \r\nL 54.390625 8.296875 \r\nL 54.390625 0 \r\nL 12.40625 0 \r\nz\r\n\" id=\"DejaVuSans-49\"/>\r\n       </defs>\r\n       <use xlink:href=\"#DejaVuSans-8722\"/>\r\n       <use x=\"83.789062\" xlink:href=\"#DejaVuSans-49\"/>\r\n      </g>\r\n     </g>\r\n    </g>\r\n    <g id=\"xtick_4\">\r\n     <g id=\"line2d_4\">\r\n      <g>\r\n       <use style=\"stroke:#000000;stroke-width:0.8;\" x=\"182.928496\" xlink:href=\"#mca489a8392\" y=\"224.64\"/>\r\n      </g>\r\n     </g>\r\n     <g id=\"text_4\">\r\n      <!-- 0 -->\r\n      <g transform=\"translate(179.747246 239.238437)scale(0.1 -0.1)\">\r\n       <defs>\r\n        <path d=\"M 31.78125 66.40625 \r\nQ 24.171875 66.40625 20.328125 58.90625 \r\nQ 16.5 51.421875 16.5 36.375 \r\nQ 16.5 21.390625 20.328125 13.890625 \r\nQ 24.171875 6.390625 31.78125 6.390625 \r\nQ 39.453125 6.390625 43.28125 13.890625 \r\nQ 47.125 21.390625 47.125 36.375 \r\nQ 47.125 51.421875 43.28125 58.90625 \r\nQ 39.453125 66.40625 31.78125 66.40625 \r\nz\r\nM 31.78125 74.21875 \r\nQ 44.046875 74.21875 50.515625 64.515625 \r\nQ 56.984375 54.828125 56.984375 36.375 \r\nQ 56.984375 17.96875 50.515625 8.265625 \r\nQ 44.046875 -1.421875 31.78125 -1.421875 \r\nQ 19.53125 -1.421875 13.0625 8.265625 \r\nQ 6.59375 17.96875 6.59375 36.375 \r\nQ 6.59375 54.828125 13.0625 64.515625 \r\nQ 19.53125 74.21875 31.78125 74.21875 \r\nz\r\n\" id=\"DejaVuSans-48\"/>\r\n       </defs>\r\n       <use xlink:href=\"#DejaVuSans-48\"/>\r\n      </g>\r\n     </g>\r\n    </g>\r\n    <g id=\"xtick_5\">\r\n     <g id=\"line2d_5\">\r\n      <g>\r\n       <use style=\"stroke:#000000;stroke-width:0.8;\" x=\"232.94684\" xlink:href=\"#mca489a8392\" y=\"224.64\"/>\r\n      </g>\r\n     </g>\r\n     <g id=\"text_5\">\r\n      <!-- 1 -->\r\n      <g transform=\"translate(229.76559 239.238437)scale(0.1 -0.1)\">\r\n       <use xlink:href=\"#DejaVuSans-49\"/>\r\n      </g>\r\n     </g>\r\n    </g>\r\n    <g id=\"xtick_6\">\r\n     <g id=\"line2d_6\">\r\n      <g>\r\n       <use style=\"stroke:#000000;stroke-width:0.8;\" x=\"282.965184\" xlink:href=\"#mca489a8392\" y=\"224.64\"/>\r\n      </g>\r\n     </g>\r\n     <g id=\"text_6\">\r\n      <!-- 2 -->\r\n      <g transform=\"translate(279.783934 239.238437)scale(0.1 -0.1)\">\r\n       <use xlink:href=\"#DejaVuSans-50\"/>\r\n      </g>\r\n     </g>\r\n    </g>\r\n    <g id=\"xtick_7\">\r\n     <g id=\"line2d_7\">\r\n      <g>\r\n       <use style=\"stroke:#000000;stroke-width:0.8;\" x=\"332.983527\" xlink:href=\"#mca489a8392\" y=\"224.64\"/>\r\n      </g>\r\n     </g>\r\n     <g id=\"text_7\">\r\n      <!-- 3 -->\r\n      <g transform=\"translate(329.802277 239.238437)scale(0.1 -0.1)\">\r\n       <use xlink:href=\"#DejaVuSans-51\"/>\r\n      </g>\r\n     </g>\r\n    </g>\r\n   </g>\r\n   <g id=\"matplotlib.axis_2\">\r\n    <g id=\"ytick_1\">\r\n     <g id=\"line2d_8\">\r\n      <defs>\r\n       <path d=\"M 0 0 \r\nL -3.5 0 \r\n\" id=\"m20a5bb58ef\" style=\"stroke:#000000;stroke-width:0.8;\"/>\r\n      </defs>\r\n      <g>\r\n       <use style=\"stroke:#000000;stroke-width:0.8;\" x=\"28.942188\" xlink:href=\"#m20a5bb58ef\" y=\"189.35362\"/>\r\n      </g>\r\n     </g>\r\n     <g id=\"text_8\">\r\n      <!-- −2 -->\r\n      <g transform=\"translate(7.2 193.152839)scale(0.1 -0.1)\">\r\n       <use xlink:href=\"#DejaVuSans-8722\"/>\r\n       <use x=\"83.789062\" xlink:href=\"#DejaVuSans-50\"/>\r\n      </g>\r\n     </g>\r\n    </g>\r\n    <g id=\"ytick_2\">\r\n     <g id=\"line2d_9\">\r\n      <g>\r\n       <use style=\"stroke:#000000;stroke-width:0.8;\" x=\"28.942188\" xlink:href=\"#m20a5bb58ef\" y=\"152.338732\"/>\r\n      </g>\r\n     </g>\r\n     <g id=\"text_9\">\r\n      <!-- −1 -->\r\n      <g transform=\"translate(7.2 156.137951)scale(0.1 -0.1)\">\r\n       <use xlink:href=\"#DejaVuSans-8722\"/>\r\n       <use x=\"83.789062\" xlink:href=\"#DejaVuSans-49\"/>\r\n      </g>\r\n     </g>\r\n    </g>\r\n    <g id=\"ytick_3\">\r\n     <g id=\"line2d_10\">\r\n      <g>\r\n       <use style=\"stroke:#000000;stroke-width:0.8;\" x=\"28.942188\" xlink:href=\"#m20a5bb58ef\" y=\"115.323844\"/>\r\n      </g>\r\n     </g>\r\n     <g id=\"text_10\">\r\n      <!-- 0 -->\r\n      <g transform=\"translate(15.579688 119.123063)scale(0.1 -0.1)\">\r\n       <use xlink:href=\"#DejaVuSans-48\"/>\r\n      </g>\r\n     </g>\r\n    </g>\r\n    <g id=\"ytick_4\">\r\n     <g id=\"line2d_11\">\r\n      <g>\r\n       <use style=\"stroke:#000000;stroke-width:0.8;\" x=\"28.942188\" xlink:href=\"#m20a5bb58ef\" y=\"78.308956\"/>\r\n      </g>\r\n     </g>\r\n     <g id=\"text_11\">\r\n      <!-- 1 -->\r\n      <g transform=\"translate(15.579688 82.108175)scale(0.1 -0.1)\">\r\n       <use xlink:href=\"#DejaVuSans-49\"/>\r\n      </g>\r\n     </g>\r\n    </g>\r\n    <g id=\"ytick_5\">\r\n     <g id=\"line2d_12\">\r\n      <g>\r\n       <use style=\"stroke:#000000;stroke-width:0.8;\" x=\"28.942188\" xlink:href=\"#m20a5bb58ef\" y=\"41.294068\"/>\r\n      </g>\r\n     </g>\r\n     <g id=\"text_12\">\r\n      <!-- 2 -->\r\n      <g transform=\"translate(15.579688 45.093287)scale(0.1 -0.1)\">\r\n       <use xlink:href=\"#DejaVuSans-50\"/>\r\n      </g>\r\n     </g>\r\n    </g>\r\n   </g>\r\n   <g id=\"patch_3\">\r\n    <path d=\"M 28.942188 224.64 \r\nL 28.942188 7.2 \r\n\" style=\"fill:none;stroke:#000000;stroke-linecap:square;stroke-linejoin:miter;stroke-width:0.8;\"/>\r\n   </g>\r\n   <g id=\"patch_4\">\r\n    <path d=\"M 363.742188 224.64 \r\nL 363.742188 7.2 \r\n\" style=\"fill:none;stroke:#000000;stroke-linecap:square;stroke-linejoin:miter;stroke-width:0.8;\"/>\r\n   </g>\r\n   <g id=\"patch_5\">\r\n    <path d=\"M 28.942187 224.64 \r\nL 363.742188 224.64 \r\n\" style=\"fill:none;stroke:#000000;stroke-linecap:square;stroke-linejoin:miter;stroke-width:0.8;\"/>\r\n   </g>\r\n   <g id=\"patch_6\">\r\n    <path d=\"M 28.942187 7.2 \r\nL 363.742188 7.2 \r\n\" style=\"fill:none;stroke:#000000;stroke-linecap:square;stroke-linejoin:miter;stroke-width:0.8;\"/>\r\n   </g>\r\n  </g>\r\n </g>\r\n <defs>\r\n  <clipPath id=\"pd50892772b\">\r\n   <rect height=\"217.44\" width=\"334.8\" x=\"28.942188\" y=\"7.2\"/>\r\n  </clipPath>\r\n </defs>\r\n</svg>\r\n",
      "image/png": "[encoded data removed]"
     },
     "metadata": {
      "needs_background": "light"
     }
    }
   ],
   "source": [
    "plt.scatter(Y[:,0],Y[:,1])"
   ]
  },
  {
   "cell_type": "code",
   "execution_count": null,
   "metadata": {},
   "outputs": [],
   "source": []
  }
 ]
}
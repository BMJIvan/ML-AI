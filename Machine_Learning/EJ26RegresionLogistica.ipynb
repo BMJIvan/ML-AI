{
 "metadata": {
  "language_info": {
   "codemirror_mode": {
    "name": "ipython",
    "version": 3
   },
   "file_extension": ".py",
   "mimetype": "text/x-python",
   "name": "python",
   "nbconvert_exporter": "python",
   "pygments_lexer": "ipython3",
   "version": "3.8.7-final"
  },
  "orig_nbformat": 2,
  "kernelspec": {
   "name": "python3",
   "display_name": "Python 3.8.7 64-bit",
   "metadata": {
    "interpreter": {
     "hash": "ea95fc2df1cee6bb0985586e8a41cf7caceb271a33d321960fcb1bcf60d2a579"
    }
   }
  }
 },
 "nbformat": 4,
 "nbformat_minor": 2,
 "cells": [
  {
   "cell_type": "code",
   "execution_count": 1,
   "metadata": {},
   "outputs": [],
   "source": [
    "#las tablas de contigencia\n",
    "import pandas"
   ]
  },
  {
   "cell_type": "code",
   "execution_count": 2,
   "metadata": {},
   "outputs": [],
   "source": [
    "data=pandas.read_csv(r\"D:\\Estudiar\\Python\\MLData\\gender-purchase\\Gender Purchase.csv\")"
   ]
  },
  {
   "cell_type": "code",
   "execution_count": 4,
   "metadata": {},
   "outputs": [
    {
     "output_type": "execute_result",
     "data": {
      "text/plain": [
       "(511, 2)"
      ]
     },
     "metadata": {},
     "execution_count": 4
    }
   ],
   "source": [
    "data.shape"
   ]
  },
  {
   "cell_type": "code",
   "execution_count": 5,
   "metadata": {},
   "outputs": [
    {
     "output_type": "execute_result",
     "data": {
      "text/plain": [
       "Purchase   No  Yes\n",
       "Gender            \n",
       "Female    106  159\n",
       "Male      125  121"
      ],
      "text/html": "<div>\n<style scoped>\n    .dataframe tbody tr th:only-of-type {\n        vertical-align: middle;\n    }\n\n    .dataframe tbody tr th {\n        vertical-align: top;\n    }\n\n    .dataframe thead th {\n        text-align: right;\n    }\n</style>\n<table border=\"1\" class=\"dataframe\">\n  <thead>\n    <tr style=\"text-align: right;\">\n      <th>Purchase</th>\n      <th>No</th>\n      <th>Yes</th>\n    </tr>\n    <tr>\n      <th>Gender</th>\n      <th></th>\n      <th></th>\n    </tr>\n  </thead>\n  <tbody>\n    <tr>\n      <th>Female</th>\n      <td>106</td>\n      <td>159</td>\n    </tr>\n    <tr>\n      <th>Male</th>\n      <td>125</td>\n      <td>121</td>\n    </tr>\n  </tbody>\n</table>\n</div>"
     },
     "metadata": {},
     "execution_count": 5
    }
   ],
   "source": [
    "contingency_table=pandas.crosstab(data[\"Gender\"],data[\"Purchase\"])\n",
    "contingency_table"
   ]
  },
  {
   "cell_type": "code",
   "execution_count": 6,
   "metadata": {},
   "outputs": [
    {
     "output_type": "execute_result",
     "data": {
      "text/plain": [
       "Gender\n",
       "Female    265\n",
       "Male      246\n",
       "dtype: int64"
      ]
     },
     "metadata": {},
     "execution_count": 6
    }
   ],
   "source": [
    "contingency_table.sum(axis=1)"
   ]
  },
  {
   "cell_type": "code",
   "execution_count": 7,
   "metadata": {},
   "outputs": [
    {
     "output_type": "execute_result",
     "data": {
      "text/plain": [
       "Purchase\n",
       "No     231\n",
       "Yes    280\n",
       "dtype: int64"
      ]
     },
     "metadata": {},
     "execution_count": 7
    }
   ],
   "source": [
    "contingency_table.sum(axis=0)"
   ]
  },
  {
   "cell_type": "code",
   "execution_count": 8,
   "metadata": {},
   "outputs": [
    {
     "output_type": "execute_result",
     "data": {
      "text/plain": [
       "Purchase       No      Yes\n",
       "Gender                    \n",
       "Female    0.40000  0.60000\n",
       "Male      0.50813  0.49187"
      ],
      "text/html": "<div>\n<style scoped>\n    .dataframe tbody tr th:only-of-type {\n        vertical-align: middle;\n    }\n\n    .dataframe tbody tr th {\n        vertical-align: top;\n    }\n\n    .dataframe thead th {\n        text-align: right;\n    }\n</style>\n<table border=\"1\" class=\"dataframe\">\n  <thead>\n    <tr style=\"text-align: right;\">\n      <th>Purchase</th>\n      <th>No</th>\n      <th>Yes</th>\n    </tr>\n    <tr>\n      <th>Gender</th>\n      <th></th>\n      <th></th>\n    </tr>\n  </thead>\n  <tbody>\n    <tr>\n      <th>Female</th>\n      <td>0.40000</td>\n      <td>0.60000</td>\n    </tr>\n    <tr>\n      <th>Male</th>\n      <td>0.50813</td>\n      <td>0.49187</td>\n    </tr>\n  </tbody>\n</table>\n</div>"
     },
     "metadata": {},
     "execution_count": 8
    }
   ],
   "source": [
    "contingency_table.astype(\"float\").div(contingency_table.sum(axis=1),axis=0)"
   ]
  },
  {
   "cell_type": "code",
   "execution_count": 2,
   "metadata": {},
   "outputs": [],
   "source": [
    "#La probabilidad condicional\n",
    "from IPython.display import display, Math, Latex"
   ]
  },
  {
   "cell_type": "code",
   "execution_count": 25,
   "metadata": {},
   "outputs": [
    {
     "output_type": "display_data",
     "data": {
      "text/plain": "<IPython.core.display.Math object>",
      "text/latex": "$\\displaystyle P(Purchase|Male)=\\frac{Numero\\ total\\ de\\ compras\\ hechas\\ por\\ hombres}{Numero\\ total\\ de\\ hombres\\ del\\ grupo}=\\frac{Purchase\\cap Male}{Male}$"
     },
     "metadata": {}
    }
   ],
   "source": [
    "display(Math(r'P(Purchase|Male)=\\frac{Numero\\ total\\ de\\ compras\\ hechas\\ por\\ hombres}{Numero\\ total\\ de\\ hombres\\ del\\ grupo}=\\frac{Purchase\\cap Male}{Male}'))"
   ]
  },
  {
   "cell_type": "code",
   "execution_count": 26,
   "metadata": {},
   "outputs": [
    {
     "output_type": "execute_result",
     "data": {
      "text/plain": [
       "0.491869918699187"
      ]
     },
     "metadata": {},
     "execution_count": 26
    }
   ],
   "source": [
    "121/246"
   ]
  },
  {
   "cell_type": "code",
   "execution_count": 29,
   "metadata": {},
   "outputs": [
    {
     "output_type": "display_data",
     "data": {
      "text/plain": "<IPython.core.display.Math object>",
      "text/latex": "$\\displaystyle P(Female|Purchase)=\\frac{Numero\\ total\\ de\\ compras\\ hechas\\ por\\ mujeres}{Numero\\ total\\ de\\ compras\\ del\\ grupo}=\\frac{Female\\cap Purchase}{Purchase}$"
     },
     "metadata": {}
    }
   ],
   "source": [
    "display(Math(r'P(Female|Purchase)=\\frac{Numero\\ total\\ de\\ compras\\ hechas\\ por\\ mujeres}{Numero\\ total\\ de\\ compras\\ del\\ grupo}=\\frac{Female\\cap Purchase}{Purchase}'))"
   ]
  },
  {
   "cell_type": "code",
   "execution_count": 30,
   "metadata": {},
   "outputs": [
    {
     "output_type": "execute_result",
     "data": {
      "text/plain": [
       "0.5678571428571428"
      ]
     },
     "metadata": {},
     "execution_count": 30
    }
   ],
   "source": [
    "159/280"
   ]
  },
  {
   "cell_type": "code",
   "execution_count": 32,
   "metadata": {},
   "outputs": [
    {
     "output_type": "display_data",
     "data": {
      "text/plain": "<IPython.core.display.Math object>",
      "text/latex": "$\\displaystyle P(Purchase|Male)$"
     },
     "metadata": {}
    },
    {
     "output_type": "stream",
     "name": "stdout",
     "text": [
      "0.491869918699187\n"
     ]
    },
    {
     "output_type": "display_data",
     "data": {
      "text/plain": "<IPython.core.display.Math object>",
      "text/latex": "$\\displaystyle P(No\\ Purchase|Male)$"
     },
     "metadata": {}
    },
    {
     "output_type": "stream",
     "name": "stdout",
     "text": [
      "0.508130081300813\n"
     ]
    },
    {
     "output_type": "display_data",
     "data": {
      "text/plain": "<IPython.core.display.Math object>",
      "text/latex": "$\\displaystyle P(Purchase|Female)$"
     },
     "metadata": {}
    },
    {
     "output_type": "stream",
     "name": "stdout",
     "text": [
      "0.6\n"
     ]
    },
    {
     "output_type": "display_data",
     "data": {
      "text/plain": "<IPython.core.display.Math object>",
      "text/latex": "$\\displaystyle P(No\\ Purchase|Female)$"
     },
     "metadata": {}
    },
    {
     "output_type": "stream",
     "name": "stdout",
     "text": [
      "0.4\n"
     ]
    }
   ],
   "source": [
    "display(Math(r'P(Purchase|Male)'))\n",
    "print(121/246)\n",
    "display(Math(r'P(No\\ Purchase|Male)'))\n",
    "print(125/246)\n",
    "display(Math(r'P(Purchase|Female)'))\n",
    "print(159/265)\n",
    "display(Math(r'P(No\\ Purchase|Female)'))\n",
    "print(106/265)"
   ]
  },
  {
   "cell_type": "code",
   "execution_count": 33,
   "metadata": {},
   "outputs": [],
   "source": [
    "#Ratio de probabilidades\n",
    "#el cociente entre los casos de exito sobre los de fracaso en el suceso estudiado para cada grupo"
   ]
  },
  {
   "cell_type": "code",
   "execution_count": 42,
   "metadata": {},
   "outputs": [
    {
     "output_type": "display_data",
     "data": {
      "text/plain": "<IPython.core.display.Math object>",
      "text/latex": "$\\displaystyle P_m=probabilidad\\ de\\ hacer\\ compra\\ sabiendo\\ que\\ es\\ hombre$"
     },
     "metadata": {}
    },
    {
     "output_type": "display_data",
     "data": {
      "text/plain": "<IPython.core.display.Math object>",
      "text/latex": "$\\displaystyle P_f=probabilidad\\ de\\ hacer\\ compra\\ sabiendo\\ que\\ es\\ mujer$"
     },
     "metadata": {}
    },
    {
     "output_type": "display_data",
     "data": {
      "text/plain": "<IPython.core.display.Math object>",
      "text/latex": "$\\displaystyle odds\\in[0,+\\infty]$"
     },
     "metadata": {}
    },
    {
     "output_type": "display_data",
     "data": {
      "text/plain": "<IPython.core.display.Math object>",
      "text/latex": "$\\displaystyle odds_{Purchase,Male}=\\frac {P_m}{1-P_m}$"
     },
     "metadata": {}
    },
    {
     "output_type": "display_data",
     "data": {
      "text/plain": "<IPython.core.display.Math object>",
      "text/latex": "$\\displaystyle odds_{Purchase,Male}=\\frac {P_f}{1-P_f}$"
     },
     "metadata": {}
    }
   ],
   "source": [
    "display(Math(r'P_m=probabilidad\\ de\\ hacer\\ compra\\ sabiendo\\ que\\ es\\ hombre'))\n",
    "display(Math(r'P_f=probabilidad\\ de\\ hacer\\ compra\\ sabiendo\\ que\\ es\\ mujer'))\n",
    "display(Math(r'odds\\in[0,+\\infty]'))\n",
    "display(Math(r'odds_{Purchase,Male}=\\frac {P_m}{1-P_m}'))\n",
    "display(Math(r'odds_{Purchase,Male}=\\frac {P_f}{1-P_f}'))"
   ]
  },
  {
   "cell_type": "code",
   "execution_count": 40,
   "metadata": {},
   "outputs": [],
   "source": [
    "pm=121/246\n",
    "pf=159/265\n",
    "odds_m=pm/(1-pm)\n",
    "odds_f=pf/(1-pf)"
   ]
  },
  {
   "cell_type": "code",
   "execution_count": 41,
   "metadata": {},
   "outputs": [
    {
     "output_type": "execute_result",
     "data": {
      "text/plain": [
       "(0.9680000000000002, 1.4999999999999998)"
      ]
     },
     "metadata": {},
     "execution_count": 41
    }
   ],
   "source": [
    "odds_m, odds_f"
   ]
  },
  {
   "cell_type": "code",
   "execution_count": 43,
   "metadata": {},
   "outputs": [],
   "source": [
    "#si el ratio es superior a 1, es mas probable el exitot que el fracaso\n",
    "#si el ratio es igual a 1, el exito y fracaso son equiprobables"
   ]
  },
  {
   "cell_type": "code",
   "execution_count": 44,
   "metadata": {},
   "outputs": [
    {
     "output_type": "display_data",
     "data": {
      "text/plain": "<IPython.core.display.Math object>",
      "text/latex": "$\\displaystyle odds_{ratio}=\\frac{odds_{purchase,male}}{odds_{purchase,female}}$"
     },
     "metadata": {}
    }
   ],
   "source": [
    "display(Math(r'odds_{ratio}=\\frac{odds_{purchase,male}}{odds_{purchase,female}}'))"
   ]
  },
  {
   "cell_type": "code",
   "execution_count": 45,
   "metadata": {},
   "outputs": [],
   "source": [
    "odds_r=odds_m/odds_f"
   ]
  },
  {
   "cell_type": "code",
   "execution_count": 46,
   "metadata": {},
   "outputs": [
    {
     "output_type": "execute_result",
     "data": {
      "text/plain": [
       "0.6453333333333335"
      ]
     },
     "metadata": {},
     "execution_count": 46
    }
   ],
   "source": [
    "odds_r"
   ]
  },
  {
   "cell_type": "code",
   "execution_count": 50,
   "metadata": {},
   "outputs": [
    {
     "output_type": "display_data",
     "data": {
      "text/plain": "<IPython.core.display.Math object>",
      "text/latex": "$\\displaystyle y= \\alpha+ \\beta \\cdot x$"
     },
     "metadata": {}
    },
    {
     "output_type": "display_data",
     "data": {
      "text/plain": "<IPython.core.display.Math object>",
      "text/latex": "$\\displaystyle (x,y)\\in[-\\infty,+\\infty]$"
     },
     "metadata": {}
    },
    {
     "output_type": "display_data",
     "data": {
      "text/plain": "<IPython.core.display.Math object>",
      "text/latex": "$\\displaystyle P= \\alpha+ \\beta \\cdot x$"
     },
     "metadata": {}
    }
   ],
   "source": [
    "display(Math(r'y= \\alpha+ \\beta \\cdot x'))\n",
    "display(Math(r'(x,y)\\in[-\\infty,+\\infty]'))\n",
    "display(Math(r'P= \\alpha+ \\beta \\cdot x'))"
   ]
  },
  {
   "cell_type": "code",
   "execution_count": 51,
   "metadata": {},
   "outputs": [],
   "source": [
    "#P es la probabilidad condicionada de exito o de fracaso condicionada a la presencia de la variable x"
   ]
  },
  {
   "cell_type": "code",
   "execution_count": 52,
   "metadata": {},
   "outputs": [
    {
     "output_type": "display_data",
     "data": {
      "text/plain": "<IPython.core.display.Math object>",
      "text/latex": "$\\displaystyle \\frac{P}{1-P}=\\alpha+ \\beta\\cdot X\\in[0,+\\infty]$"
     },
     "metadata": {}
    }
   ],
   "source": [
    "display(Math(r'\\frac{P}{1-P}=\\alpha+ \\beta\\cdot X\\in[0,+\\infty]'))"
   ]
  },
  {
   "cell_type": "code",
   "execution_count": 54,
   "metadata": {},
   "outputs": [
    {
     "output_type": "display_data",
     "data": {
      "text/plain": "<IPython.core.display.Math object>",
      "text/latex": "$\\displaystyle ln(\\frac{P}{1-P})=\\alpha+ \\beta\\cdot X$"
     },
     "metadata": {}
    }
   ],
   "source": [
    "display(Math(r'ln(\\frac{P}{1-P})=\\alpha+ \\beta\\cdot X'))"
   ]
  },
  {
   "cell_type": "code",
   "execution_count": 59,
   "metadata": {},
   "outputs": [
    {
     "output_type": "display_data",
     "data": {
      "text/plain": "<IPython.core.display.Math object>",
      "text/latex": "$\\displaystyle \\frac{P}{1-P}\\in [0,1]\\rightarrow ln(\\frac{P}{1-P})\\in [-\\infty,0]\\\\ \\frac{P}{1-P}\\in [1,+\\infty]\\rightarrow ln(\\frac{P}{1-P})\\in [0,+\\infty]$"
     },
     "metadata": {}
    }
   ],
   "source": [
    "display(Math(r'\\frac{P}{1-P}\\in [0,1]\\rightarrow ln(\\frac{P}{1-P})\\in [-\\infty,0]\\\\ \\frac{P}{1-P}\\in [1,+\\infty]\\rightarrow ln(\\frac{P}{1-P})\\in [0,+\\infty]'))"
   ]
  },
  {
   "cell_type": "code",
   "execution_count": 11,
   "metadata": {},
   "outputs": [
    {
     "output_type": "display_data",
     "data": {
      "text/plain": "<IPython.core.display.Math object>",
      "text/latex": "$\\displaystyle ln(\\frac{P}{1-P})=\\alpha+ \\beta\\cdot X$"
     },
     "metadata": {}
    },
    {
     "output_type": "display_data",
     "data": {
      "text/plain": "<IPython.core.display.Math object>",
      "text/latex": "$\\displaystyle \\frac{P}{1-P}=e^{\\alpha+ \\beta\\cdot X}$"
     },
     "metadata": {}
    },
    {
     "output_type": "display_data",
     "data": {
      "text/plain": "<IPython.core.display.Math object>",
      "text/latex": "$\\displaystyle P=\\frac{e^{\\alpha+ \\beta\\cdot X}}{1+e^{\\alpha+ \\beta\\cdot X}}$"
     },
     "metadata": {}
    },
    {
     "output_type": "display_data",
     "data": {
      "text/plain": "<IPython.core.display.Math object>",
      "text/latex": "$\\displaystyle P=\\frac{1}{1+e^{-(\\alpha+ \\beta\\cdot X)}}$"
     },
     "metadata": {}
    }
   ],
   "source": [
    "display(Math(r'ln(\\frac{P}{1-P})=\\alpha+ \\beta\\cdot X'))\n",
    "display(Math(r'\\frac{P}{1-P}=e^{\\alpha+ \\beta\\cdot X}'))\n",
    "display(Math(r'P=\\frac{e^{\\alpha+ \\beta\\cdot X}}{1+e^{\\alpha+ \\beta\\cdot X}}'))\n",
    "display(Math(r'P=\\frac{1}{1+e^{-(\\alpha+ \\beta\\cdot X)}}'))"
   ]
  },
  {
   "cell_type": "code",
   "execution_count": 12,
   "metadata": {},
   "outputs": [],
   "source": [
    "#si a +bx es muy pequeño (negativo), entonces P tiende a 0\n",
    "#si a+bx=0, P=0.5\n",
    "#si a+bx es muy grande (positivo), entonces P tiende a 1"
   ]
  },
  {
   "cell_type": "code",
   "execution_count": 13,
   "metadata": {},
   "outputs": [
    {
     "output_type": "display_data",
     "data": {
      "text/plain": "<IPython.core.display.Math object>",
      "text/latex": "$\\displaystyle P=\\frac{1}{1+e^{-(\\alpha+\\sum_{i=1}^n \\beta_i\\cdot x_i)}}$"
     },
     "metadata": {}
    }
   ],
   "source": [
    "#Regresion logistica multiple\n",
    "display(Math(r'P=\\frac{1}{1+e^{-(\\alpha+\\sum_{i=1}^n \\beta_i\\cdot x_i)}}'))"
   ]
  },
  {
   "cell_type": "code",
   "execution_count": 23,
   "metadata": {},
   "outputs": [
    {
     "output_type": "display_data",
     "data": {
      "text/plain": "<IPython.core.display.Math object>",
      "text/latex": "$\\displaystyle \\vec{\\beta}={(\\beta_1,\\beta2,\\cdots,\\beta_n)}$"
     },
     "metadata": {}
    },
    {
     "output_type": "display_data",
     "data": {
      "text/plain": "<IPython.core.display.Math object>",
      "text/latex": "$\\displaystyle \\vec{X}={(X_1,X_2,\\cdots,X_n)}$"
     },
     "metadata": {}
    },
    {
     "output_type": "display_data",
     "data": {
      "text/plain": "<IPython.core.display.Math object>",
      "text/latex": "$\\displaystyle P=\\frac{1}{1+e^{-(\\alpha+\\vec{\\beta}\\cdot \\vec{X})}}$"
     },
     "metadata": {}
    }
   ],
   "source": [
    "display(Math(r'\\vec{\\beta}={(\\beta_1,\\beta2,\\cdots,\\beta_n)}'))\n",
    "display(Math(r'\\vec{X}={(X_1,X_2,\\cdots,X_n)}'))\n",
    "display(Math(r'P=\\frac{1}{1+e^{-(\\alpha+\\vec{\\beta}\\cdot \\vec{X})}}'))"
   ]
  },
  {
   "cell_type": "code",
   "execution_count": null,
   "metadata": {},
   "outputs": [],
   "source": []
  }
 ]
}
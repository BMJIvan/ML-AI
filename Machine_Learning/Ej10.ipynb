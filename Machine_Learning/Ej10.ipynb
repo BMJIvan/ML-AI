{
 "metadata": {
  "language_info": {
   "codemirror_mode": {
    "name": "ipython",
    "version": 3
   },
   "file_extension": ".py",
   "mimetype": "text/x-python",
   "name": "python",
   "nbconvert_exporter": "python",
   "pygments_lexer": "ipython3",
   "version": "3.8.7-final"
  },
  "orig_nbformat": 2,
  "kernelspec": {
   "name": "python3",
   "display_name": "Python 3.8.7 64-bit",
   "metadata": {
    "interpreter": {
     "hash": "ea95fc2df1cee6bb0985586e8a41cf7caceb271a33d321960fcb1bcf60d2a579"
    }
   }
  }
 },
 "nbformat": 4,
 "nbformat_minor": 2,
 "cells": [
  {
   "cell_type": "code",
   "execution_count": 19,
   "metadata": {},
   "outputs": [],
   "source": [
    "#simulacion de monte-carlo\n",
    "import numpy\n",
    "pi_avg=0\n",
    "n=10000\n",
    "n_exp=5\n",
    "pi_value_list=[]\n",
    "for i in range(n_exp):\n",
    "    value=0\n",
    "    x=numpy.random.uniform(0,1,n).tolist()\n",
    "    y=numpy.random.uniform(0,1,n).tolist()\n",
    "    for j in range(n):\n",
    "        z=numpy.sqrt(x[j]*x[j]+y[j]*y[j])\n",
    "        if z<1:\n",
    "            value+=1\n",
    "    float_value=float(value)\n",
    "    pi_value=float_value*4/n\n",
    "    pi_value_list.append(pi_value)\n",
    "    pi_avg+=pi_value\n"
   ]
  },
  {
   "cell_type": "code",
   "execution_count": 20,
   "metadata": {},
   "outputs": [
    {
     "output_type": "execute_result",
     "data": {
      "text/plain": [
       "3.13704"
      ]
     },
     "metadata": {},
     "execution_count": 20
    }
   ],
   "source": [
    "pi_avg/n_exp"
   ]
  },
  {
   "cell_type": "code",
   "execution_count": null,
   "metadata": {},
   "outputs": [],
   "source": []
  }
 ]
}
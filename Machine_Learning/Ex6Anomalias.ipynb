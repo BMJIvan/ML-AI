{
 "metadata": {
  "language_info": {
   "codemirror_mode": {
    "name": "ipython",
    "version": 3
   },
   "file_extension": ".py",
   "mimetype": "text/x-python",
   "name": "python",
   "nbconvert_exporter": "python",
   "pygments_lexer": "ipython3",
   "version": "3.7.8-candidate"
  },
  "orig_nbformat": 2,
  "kernelspec": {
   "name": "tf15",
   "display_name": "Python 3.7.8 64-bit"
  }
 },
 "nbformat": 4,
 "nbformat_minor": 2,
 "cells": [
  {
   "cell_type": "code",
   "execution_count": 1,
   "metadata": {},
   "outputs": [],
   "source": [
    "import pandas "
   ]
  },
  {
   "cell_type": "code",
   "execution_count": 2,
   "metadata": {},
   "outputs": [],
   "source": [
    "data=pandas.read_csv(r\"D:\\Estudiar\\MLData\\CC GENERAL.csv\")"
   ]
  },
  {
   "cell_type": "code",
   "execution_count": 5,
   "metadata": {},
   "outputs": [],
   "source": [
    "data.drop(columns=\"CUST_ID\", inplace=True)"
   ]
  },
  {
   "cell_type": "code",
   "execution_count": 6,
   "metadata": {},
   "outputs": [
    {
     "output_type": "execute_result",
     "data": {
      "text/plain": [
       "(314, 17)"
      ]
     },
     "metadata": {},
     "execution_count": 6
    }
   ],
   "source": [
    "data[data.isnull().any(axis=1)].shape"
   ]
  },
  {
   "cell_type": "code",
   "execution_count": 7,
   "metadata": {},
   "outputs": [],
   "source": [
    "#Se imputan los valores a 0"
   ]
  },
  {
   "cell_type": "code",
   "execution_count": 8,
   "metadata": {},
   "outputs": [],
   "source": [
    "data.fillna(value=0, inplace=True)"
   ]
  },
  {
   "cell_type": "code",
   "execution_count": 9,
   "metadata": {},
   "outputs": [],
   "source": [
    "#lo bueno de usar hbdscan para la deteccion de anomalias es que no asigna un cluster a todos los puntos, sino aquellos puntos que estan mas separados del resto se etiquetan automaticamente como valores extremos"
   ]
  },
  {
   "cell_type": "code",
   "execution_count": 10,
   "metadata": {},
   "outputs": [],
   "source": [
    "from sklearn.cluster import DBSCAN\n",
    "from sklearn.preprocessing import StandardScaler"
   ]
  },
  {
   "cell_type": "code",
   "execution_count": 11,
   "metadata": {},
   "outputs": [],
   "source": [
    "#Al usar aalgoritmo de clustering basado en densidad tenemos que estandarizar los datos"
   ]
  },
  {
   "cell_type": "code",
   "execution_count": 12,
   "metadata": {},
   "outputs": [],
   "source": [
    "data_norm=pandas.DataFrame(StandardScaler().fit_transform(data))"
   ]
  },
  {
   "cell_type": "code",
   "execution_count": 17,
   "metadata": {},
   "outputs": [],
   "source": [
    "clusterer=DBSCAN()\n",
    "cluster_labels=clusterer.fit_predict(data_norm)\n",
    "pandas.Series(cluster_labels).value_counts(); #muestra los valores anomalos como -1"
   ]
  },
  {
   "cell_type": "code",
   "execution_count": 18,
   "metadata": {},
   "outputs": [],
   "source": [
    "from sklearn.metrics import silhouette_score"
   ]
  },
  {
   "cell_type": "code",
   "execution_count": 19,
   "metadata": {},
   "outputs": [
    {
     "output_type": "execute_result",
     "data": {
      "text/plain": [
       "-0.46596190778573116"
      ]
     },
     "metadata": {},
     "execution_count": 19
    }
   ],
   "source": [
    "silhouette_score(data_norm,cluster_labels)"
   ]
  },
  {
   "cell_type": "code",
   "execution_count": 20,
   "metadata": {},
   "outputs": [],
   "source": [
    "#un coeficiente negativo significa que es muy malo"
   ]
  },
  {
   "cell_type": "code",
   "execution_count": 22,
   "metadata": {},
   "outputs": [],
   "source": [
    "from scipy.stats import randint \n",
    "from scipy.stats import uniform\n",
    "\n",
    "distribucion_param={\n",
    "    \"eps\": uniform(0,5),\n",
    "    \"min_samples\": randint(2,20),\n",
    "    \"p\": randint(1,3),\n",
    "}"
   ]
  },
  {
   "cell_type": "code",
   "execution_count": 27,
   "metadata": {},
   "outputs": [],
   "source": [
    "import numpy\n",
    "from sklearn.model_selection import ParameterSampler\n",
    "\n",
    "n_muestras=10 #\n",
    "n_iteraciones=3 #para validar, se va a entrenar para cada seleccion de hiperparametros en 3 muestras\n",
    "pct_muestra=0.7 #usamos el 70% de los datos para entrenar el modelo en cada iteracion\n",
    "resultados_bus=[]\n",
    "lista_param=list(ParameterSampler(distribucion_param, n_iter=n_muestras))\n",
    "\n",
    "for param in lista_param:\n",
    "    for iteration in range(n_iteraciones):\n",
    "        param_resultados=[]\n",
    "        muestra=data_norm.sample(frac=pct_muestra)\n",
    "        etiquetas_clusters=DBSCAN(n_jobs=2, **param).fit_predict(muestra)\n",
    "        try:\n",
    "            param_resultados.append(silhouette_score(muestra, etiquetas_clusters))\n",
    "        except ValueError: #a veces silhoutte falla en los casos en los que solo hay \n",
    "            pass \n",
    "    puntuacion_media=numpy.mean(param_resultados)\n",
    "    resultados_bus.append([puntuacion_media, param])"
   ]
  },
  {
   "cell_type": "code",
   "execution_count": 29,
   "metadata": {},
   "outputs": [
    {
     "output_type": "execute_result",
     "data": {
      "text/plain": [
       "[[0.7428011755923594, {'eps': 4.8582500753506945, 'min_samples': 14, 'p': 1}],\n",
       " [0.7297140601234327, {'eps': 4.818225746329852, 'min_samples': 14, 'p': 1}],\n",
       " [0.6782866586236247, {'eps': 4.013825612384533, 'min_samples': 15, 'p': 1}],\n",
       " [0.5871650933093374, {'eps': 3.006367767293657, 'min_samples': 9, 'p': 2}],\n",
       " [0.23605266325194202, {'eps': 1.3171072956789742, 'min_samples': 17, 'p': 2}]]"
      ]
     },
     "metadata": {},
     "execution_count": 29
    }
   ],
   "source": [
    "sorted(resultados_bus, key=lambda x: x[0], reverse=True)[:5]"
   ]
  },
  {
   "cell_type": "code",
   "execution_count": 30,
   "metadata": {},
   "outputs": [],
   "source": [
    "mejores_params={\"eps\": 4.8582500753506945, \"min_samples\": 14, \"p\": 1}\n",
    "clusterer=DBSCAN(n_jobs=2, **mejores_params)\n",
    "etiquetas_clusters=clusterer.fit_predict(data_norm)"
   ]
  },
  {
   "cell_type": "code",
   "execution_count": 31,
   "metadata": {},
   "outputs": [
    {
     "output_type": "execute_result",
     "data": {
      "text/plain": [
       " 0    8876\n",
       "-1      74\n",
       "dtype: int64"
      ]
     },
     "metadata": {},
     "execution_count": 31
    }
   ],
   "source": [
    "pandas.Series(etiquetas_clusters).value_counts()"
   ]
  },
  {
   "cell_type": "code",
   "execution_count": 34,
   "metadata": {},
   "outputs": [],
   "source": [
    "#data[(etiquetas_clusters==-1)].describe()"
   ]
  },
  {
   "cell_type": "code",
   "execution_count": 56,
   "metadata": {},
   "outputs": [],
   "source": [
    "def resumen_cluster(cluster_id):\n",
    "    cluster=data[etiquetas_clusters==cluster_id]\n",
    "    resumen_cluster=cluster.mean().to_dict()\n",
    "    resumen_cluster[\"cluster_id\"]=cluster_id\n",
    "    return resumen_cluster\n",
    "\n",
    "def comparar_clusters(cluster_ids):\n",
    "    resumenes=[]\n",
    "    for cluster_id in cluster_ids:\n",
    "        resumenes.append(resumen_cluster(cluster_id))\n",
    "    return pandas.DataFrame(resumenes).set_index(\"cluster_id\").T"
   ]
  },
  {
   "cell_type": "code",
   "execution_count": 57,
   "metadata": {},
   "outputs": [
    {
     "output_type": "execute_result",
     "data": {
      "text/plain": [
       "cluster_id                                  0            -1\n",
       "BALANCE                           1526.463615   6123.765732\n",
       "BALANCE_FREQUENCY                    0.876615      0.955938\n",
       "PURCHASES                          906.713206  12576.984324\n",
       "ONEOFF_PURCHASES                   527.334883   8401.216892\n",
       "INSTALLMENTS_PURCHASES             379.681008   4175.767432\n",
       "CASH_ADVANCE                       932.129884   6585.291964\n",
       "PURCHASES_FREQUENCY                  0.488319      0.734050\n",
       "ONEOFF_PURCHASES_FREQUENCY           0.199927      0.505961\n",
       "PURCHASES_INSTALLMENTS_FREQUENCY     0.362294      0.621513\n",
       "CASH_ADVANCE_FREQUENCY               0.133695      0.308948\n",
       "CASH_ADVANCE_TRX                     3.111987     19.662162\n",
       "PURCHASES_TRX                       14.067598     91.743243\n",
       "CREDIT_LIMIT                      4422.366847  13079.729730\n",
       "PAYMENTS                          1594.773198  18330.142815\n",
       "MINIMUM_PAYMENTS                   770.814445   8410.849851\n",
       "PRC_FULL_PAYMENT                     0.152766      0.267489\n",
       "TENURE                              11.516336     11.635135"
      ],
      "text/html": "<div>\n<style scoped>\n    .dataframe tbody tr th:only-of-type {\n        vertical-align: middle;\n    }\n\n    .dataframe tbody tr th {\n        vertical-align: top;\n    }\n\n    .dataframe thead th {\n        text-align: right;\n    }\n</style>\n<table border=\"1\" class=\"dataframe\">\n  <thead>\n    <tr style=\"text-align: right;\">\n      <th>cluster_id</th>\n      <th>0</th>\n      <th>-1</th>\n    </tr>\n  </thead>\n  <tbody>\n    <tr>\n      <th>BALANCE</th>\n      <td>1526.463615</td>\n      <td>6123.765732</td>\n    </tr>\n    <tr>\n      <th>BALANCE_FREQUENCY</th>\n      <td>0.876615</td>\n      <td>0.955938</td>\n    </tr>\n    <tr>\n      <th>PURCHASES</th>\n      <td>906.713206</td>\n      <td>12576.984324</td>\n    </tr>\n    <tr>\n      <th>ONEOFF_PURCHASES</th>\n      <td>527.334883</td>\n      <td>8401.216892</td>\n    </tr>\n    <tr>\n      <th>INSTALLMENTS_PURCHASES</th>\n      <td>379.681008</td>\n      <td>4175.767432</td>\n    </tr>\n    <tr>\n      <th>CASH_ADVANCE</th>\n      <td>932.129884</td>\n      <td>6585.291964</td>\n    </tr>\n    <tr>\n      <th>PURCHASES_FREQUENCY</th>\n      <td>0.488319</td>\n      <td>0.734050</td>\n    </tr>\n    <tr>\n      <th>ONEOFF_PURCHASES_FREQUENCY</th>\n      <td>0.199927</td>\n      <td>0.505961</td>\n    </tr>\n    <tr>\n      <th>PURCHASES_INSTALLMENTS_FREQUENCY</th>\n      <td>0.362294</td>\n      <td>0.621513</td>\n    </tr>\n    <tr>\n      <th>CASH_ADVANCE_FREQUENCY</th>\n      <td>0.133695</td>\n      <td>0.308948</td>\n    </tr>\n    <tr>\n      <th>CASH_ADVANCE_TRX</th>\n      <td>3.111987</td>\n      <td>19.662162</td>\n    </tr>\n    <tr>\n      <th>PURCHASES_TRX</th>\n      <td>14.067598</td>\n      <td>91.743243</td>\n    </tr>\n    <tr>\n      <th>CREDIT_LIMIT</th>\n      <td>4422.366847</td>\n      <td>13079.729730</td>\n    </tr>\n    <tr>\n      <th>PAYMENTS</th>\n      <td>1594.773198</td>\n      <td>18330.142815</td>\n    </tr>\n    <tr>\n      <th>MINIMUM_PAYMENTS</th>\n      <td>770.814445</td>\n      <td>8410.849851</td>\n    </tr>\n    <tr>\n      <th>PRC_FULL_PAYMENT</th>\n      <td>0.152766</td>\n      <td>0.267489</td>\n    </tr>\n    <tr>\n      <th>TENURE</th>\n      <td>11.516336</td>\n      <td>11.635135</td>\n    </tr>\n  </tbody>\n</table>\n</div>"
     },
     "metadata": {},
     "execution_count": 57
    }
   ],
   "source": [
    "comparar_clusters([0,-1])"
   ]
  },
  {
   "cell_type": "code",
   "execution_count": 55,
   "metadata": {},
   "outputs": [
    {
     "output_type": "execute_result",
     "data": {
      "text/plain": [
       "{'BALANCE': 6123.765731891893,\n",
       " 'BALANCE_FREQUENCY': 0.9559377702702703,\n",
       " 'PURCHASES': 12576.984324324323,\n",
       " 'ONEOFF_PURCHASES': 8401.216891891892,\n",
       " 'INSTALLMENTS_PURCHASES': 4175.7674324324325,\n",
       " 'CASH_ADVANCE': 6585.291963527026,\n",
       " 'PURCHASES_FREQUENCY': 0.734049945945946,\n",
       " 'ONEOFF_PURCHASES_FREQUENCY': 0.5059611756756757,\n",
       " 'PURCHASES_INSTALLMENTS_FREQUENCY': 0.6215133783783784,\n",
       " 'CASH_ADVANCE_FREQUENCY': 0.3089475675675676,\n",
       " 'CASH_ADVANCE_TRX': 19.66216216216216,\n",
       " 'PURCHASES_TRX': 91.74324324324324,\n",
       " 'CREDIT_LIMIT': 13079.72972972973,\n",
       " 'PAYMENTS': 18330.142815243245,\n",
       " 'MINIMUM_PAYMENTS': 8410.849850527027,\n",
       " 'PRC_FULL_PAYMENT': 0.2674890405405405,\n",
       " 'TENURE': 11.635135135135135,\n",
       " 'cluster_id': -1}"
      ]
     },
     "metadata": {},
     "execution_count": 55
    }
   ],
   "source": [
    "resumen_cluster(-1)"
   ]
  },
  {
   "cell_type": "code",
   "execution_count": null,
   "metadata": {},
   "outputs": [],
   "source": []
  }
 ]
}
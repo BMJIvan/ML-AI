{
 "metadata": {
  "language_info": {
   "codemirror_mode": {
    "name": "ipython",
    "version": 3
   },
   "file_extension": ".py",
   "mimetype": "text/x-python",
   "name": "python",
   "nbconvert_exporter": "python",
   "pygments_lexer": "ipython3",
   "version": "3.8.7-final"
  },
  "orig_nbformat": 2,
  "kernelspec": {
   "name": "python3",
   "display_name": "Python 3.8.7 64-bit",
   "metadata": {
    "interpreter": {
     "hash": "ea95fc2df1cee6bb0985586e8a41cf7caceb271a33d321960fcb1bcf60d2a579"
    }
   }
  }
 },
 "nbformat": 4,
 "nbformat_minor": 2,
 "cells": [
  {
   "cell_type": "code",
   "execution_count": 1,
   "metadata": {},
   "outputs": [],
   "source": [
    "#datos distribuidos\n",
    "import pandas as pd"
   ]
  },
  {
   "cell_type": "code",
   "execution_count": 2,
   "metadata": {},
   "outputs": [],
   "source": [
    "data=pd.read_csv(r\"D:\\Estudiar\\Python\\MLData\\distributed-data\\001.csv\")"
   ]
  },
  {
   "cell_type": "code",
   "execution_count": 3,
   "metadata": {},
   "outputs": [],
   "source": [
    "#importar el primer fichero\n",
    "#hacer bucle para recorrer cada uno de los ficheros\n",
    "#cada uno debe apendizarse (añadirse al final del primer fichero)"
   ]
  },
  {
   "cell_type": "code",
   "execution_count": 14,
   "metadata": {},
   "outputs": [],
   "source": [
    "filepath=\"D:/Estudiar/Python/MLData/distributed-data/\"\n",
    "data=pd.read_csv(filepath+\"001.csv\")"
   ]
  },
  {
   "cell_type": "code",
   "execution_count": 15,
   "metadata": {},
   "outputs": [],
   "source": [
    "final_lenght=len(data)\n",
    "\n",
    "for i in range(2,333):\n",
    "    if i<10:\n",
    "        filename=\"00\"+str(i)\n",
    "    elif 10<=i<100:\n",
    "        filename=\"0\"+str(i)\n",
    "    elif i>=100:\n",
    "        filename=str(i)\n",
    "    File=filepath+filename+\".csv\"\n",
    "    temp_data=pd.read_csv(File)\n",
    "    final_lenght+=len(temp_data)\n",
    "    data=pd.concat([data,temp_data],axis=0)"
   ]
  },
  {
   "cell_type": "code",
   "execution_count": 16,
   "metadata": {},
   "outputs": [
    {
     "output_type": "execute_result",
     "data": {
      "text/plain": [
       "(772087, 4)"
      ]
     },
     "metadata": {},
     "execution_count": 16
    }
   ],
   "source": [
    "data.shape"
   ]
  },
  {
   "cell_type": "code",
   "execution_count": 17,
   "metadata": {},
   "outputs": [
    {
     "output_type": "execute_result",
     "data": {
      "text/plain": [
       "           Date  sulfate  nitrate   ID\n",
       "726  2004-12-27      NaN      NaN  332\n",
       "727  2004-12-28      NaN      NaN  332\n",
       "728  2004-12-29      NaN      NaN  332\n",
       "729  2004-12-30      NaN      NaN  332\n",
       "730  2004-12-31      NaN      NaN  332"
      ],
      "text/html": "<div>\n<style scoped>\n    .dataframe tbody tr th:only-of-type {\n        vertical-align: middle;\n    }\n\n    .dataframe tbody tr th {\n        vertical-align: top;\n    }\n\n    .dataframe thead th {\n        text-align: right;\n    }\n</style>\n<table border=\"1\" class=\"dataframe\">\n  <thead>\n    <tr style=\"text-align: right;\">\n      <th></th>\n      <th>Date</th>\n      <th>sulfate</th>\n      <th>nitrate</th>\n      <th>ID</th>\n    </tr>\n  </thead>\n  <tbody>\n    <tr>\n      <th>726</th>\n      <td>2004-12-27</td>\n      <td>NaN</td>\n      <td>NaN</td>\n      <td>332</td>\n    </tr>\n    <tr>\n      <th>727</th>\n      <td>2004-12-28</td>\n      <td>NaN</td>\n      <td>NaN</td>\n      <td>332</td>\n    </tr>\n    <tr>\n      <th>728</th>\n      <td>2004-12-29</td>\n      <td>NaN</td>\n      <td>NaN</td>\n      <td>332</td>\n    </tr>\n    <tr>\n      <th>729</th>\n      <td>2004-12-30</td>\n      <td>NaN</td>\n      <td>NaN</td>\n      <td>332</td>\n    </tr>\n    <tr>\n      <th>730</th>\n      <td>2004-12-31</td>\n      <td>NaN</td>\n      <td>NaN</td>\n      <td>332</td>\n    </tr>\n  </tbody>\n</table>\n</div>"
     },
     "metadata": {},
     "execution_count": 17
    }
   ],
   "source": [
    "data.tail()"
   ]
  },
  {
   "cell_type": "code",
   "execution_count": 18,
   "metadata": {},
   "outputs": [
    {
     "output_type": "execute_result",
     "data": {
      "text/plain": [
       "772087"
      ]
     },
     "metadata": {},
     "execution_count": 18
    }
   ],
   "source": [
    "final_lenght"
   ]
  },
  {
   "cell_type": "code",
   "execution_count": null,
   "metadata": {},
   "outputs": [],
   "source": []
  }
 ]
}
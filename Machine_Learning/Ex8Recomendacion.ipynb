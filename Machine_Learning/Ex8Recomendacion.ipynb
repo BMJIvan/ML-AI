{
 "metadata": {
  "language_info": {
   "codemirror_mode": {
    "name": "ipython",
    "version": 3
   },
   "file_extension": ".py",
   "mimetype": "text/x-python",
   "name": "python",
   "nbconvert_exporter": "python",
   "pygments_lexer": "ipython3",
   "version": "3.7.8-candidate"
  },
  "orig_nbformat": 2,
  "kernelspec": {
   "name": "tf15",
   "display_name": "Python 3.7.8 64-bit"
  }
 },
 "nbformat": 4,
 "nbformat_minor": 2,
 "cells": [
  {
   "cell_type": "code",
   "execution_count": 1,
   "metadata": {},
   "outputs": [],
   "source": [
    "import pandas\n",
    "import numpy"
   ]
  },
  {
   "cell_type": "code",
   "execution_count": 2,
   "metadata": {},
   "outputs": [],
   "source": [
    "#Cargar datos"
   ]
  },
  {
   "cell_type": "code",
   "execution_count": 3,
   "metadata": {},
   "outputs": [
    {
     "output_type": "execute_result",
     "data": {
      "text/plain": [
       "  InvoiceNo StockCode                         Description  Quantity  \\\n",
       "0    573744     21314       SMALL GLASS HEART TRINKET POT         8   \n",
       "1    573744     21704             BAG 250g SWIRLY MARBLES        12   \n",
       "2    573744     21791  VINTAGE HEADS AND TAILS CARD GAME         12   \n",
       "3    573744     21892  TRADITIONAL WOODEN CATCH CUP GAME         12   \n",
       "4    573744     21915              RED  HARMONICA IN BOX         12   \n",
       "\n",
       "           InvoiceDate  UnitPrice  CustomerID         Country  \n",
       "0  2011-11-01 08:16:00       2.10     17733.0  United Kingdom  \n",
       "1  2011-11-01 08:16:00       0.85     17733.0  United Kingdom  \n",
       "2  2011-11-01 08:16:00       1.25     17733.0  United Kingdom  \n",
       "3  2011-11-01 08:16:00       1.25     17733.0  United Kingdom  \n",
       "4  2011-11-01 08:16:00       1.25     17733.0  United Kingdom  "
      ],
      "text/html": "<div>\n<style scoped>\n    .dataframe tbody tr th:only-of-type {\n        vertical-align: middle;\n    }\n\n    .dataframe tbody tr th {\n        vertical-align: top;\n    }\n\n    .dataframe thead th {\n        text-align: right;\n    }\n</style>\n<table border=\"1\" class=\"dataframe\">\n  <thead>\n    <tr style=\"text-align: right;\">\n      <th></th>\n      <th>InvoiceNo</th>\n      <th>StockCode</th>\n      <th>Description</th>\n      <th>Quantity</th>\n      <th>InvoiceDate</th>\n      <th>UnitPrice</th>\n      <th>CustomerID</th>\n      <th>Country</th>\n    </tr>\n  </thead>\n  <tbody>\n    <tr>\n      <th>0</th>\n      <td>573744</td>\n      <td>21314</td>\n      <td>SMALL GLASS HEART TRINKET POT</td>\n      <td>8</td>\n      <td>2011-11-01 08:16:00</td>\n      <td>2.10</td>\n      <td>17733.0</td>\n      <td>United Kingdom</td>\n    </tr>\n    <tr>\n      <th>1</th>\n      <td>573744</td>\n      <td>21704</td>\n      <td>BAG 250g SWIRLY MARBLES</td>\n      <td>12</td>\n      <td>2011-11-01 08:16:00</td>\n      <td>0.85</td>\n      <td>17733.0</td>\n      <td>United Kingdom</td>\n    </tr>\n    <tr>\n      <th>2</th>\n      <td>573744</td>\n      <td>21791</td>\n      <td>VINTAGE HEADS AND TAILS CARD GAME</td>\n      <td>12</td>\n      <td>2011-11-01 08:16:00</td>\n      <td>1.25</td>\n      <td>17733.0</td>\n      <td>United Kingdom</td>\n    </tr>\n    <tr>\n      <th>3</th>\n      <td>573744</td>\n      <td>21892</td>\n      <td>TRADITIONAL WOODEN CATCH CUP GAME</td>\n      <td>12</td>\n      <td>2011-11-01 08:16:00</td>\n      <td>1.25</td>\n      <td>17733.0</td>\n      <td>United Kingdom</td>\n    </tr>\n    <tr>\n      <th>4</th>\n      <td>573744</td>\n      <td>21915</td>\n      <td>RED  HARMONICA IN BOX</td>\n      <td>12</td>\n      <td>2011-11-01 08:16:00</td>\n      <td>1.25</td>\n      <td>17733.0</td>\n      <td>United Kingdom</td>\n    </tr>\n  </tbody>\n</table>\n</div>"
     },
     "metadata": {},
     "execution_count": 3
    }
   ],
   "source": [
    "ventas=pandas.read_csv(r\"D:\\Estudiar\\MLData\\retail.csv\")\n",
    "ventas.head()"
   ]
  },
  {
   "cell_type": "code",
   "execution_count": 4,
   "metadata": {},
   "outputs": [],
   "source": [
    "item_dict=dict(zip(ventas[\"StockCode\"], ventas[\"Description\"]))"
   ]
  },
  {
   "cell_type": "code",
   "execution_count": 5,
   "metadata": {},
   "outputs": [
    {
     "output_type": "execute_result",
     "data": {
      "text/plain": [
       "'SMALL GLASS HEART TRINKET POT'"
      ]
     },
     "metadata": {},
     "execution_count": 5
    }
   ],
   "source": [
    "item_dict[\"21314\"]"
   ]
  },
  {
   "cell_type": "code",
   "execution_count": 6,
   "metadata": {},
   "outputs": [],
   "source": [
    "matriz_ventas_df=ventas.pivot_table(\n",
    "    index=\"CustomerID\",\n",
    "    columns=\"StockCode\",\n",
    "    values=\"Quantity\",\n",
    "    aggfunc=\"sum\"\n",
    ")"
   ]
  },
  {
   "cell_type": "code",
   "execution_count": 8,
   "metadata": {},
   "outputs": [
    {
     "output_type": "execute_result",
     "data": {
      "text/plain": [
       "(1711, 2704)"
      ]
     },
     "metadata": {},
     "execution_count": 8
    }
   ],
   "source": [
    "matriz_ventas_df.shape"
   ]
  },
  {
   "cell_type": "code",
   "execution_count": 9,
   "metadata": {},
   "outputs": [],
   "source": [
    "customer_id_list=numpy.array(matriz_ventas_df.index.to_list())\n",
    "item_id_list=numpy.array(matriz_ventas_df.columns.to_list())"
   ]
  },
  {
   "cell_type": "code",
   "execution_count": 10,
   "metadata": {},
   "outputs": [],
   "source": [
    "from scipy.sparse import coo_matrix"
   ]
  },
  {
   "cell_type": "code",
   "execution_count": 11,
   "metadata": {},
   "outputs": [],
   "source": [
    "ventas_mtz=matriz_ventas_df.fillna(0).values.copy()\n",
    "ventas_mtz_sparse=coo_matrix(ventas_mtz)"
   ]
  },
  {
   "cell_type": "code",
   "execution_count": 12,
   "metadata": {},
   "outputs": [],
   "source": [
    "#Descomposicion SVD sparse de la matriz"
   ]
  },
  {
   "cell_type": "code",
   "execution_count": 13,
   "metadata": {},
   "outputs": [],
   "source": [
    "from scipy.sparse.linalg import svds\n",
    "U, s, V=svds(ventas_mtz_sparse, k=10)"
   ]
  },
  {
   "cell_type": "code",
   "execution_count": 16,
   "metadata": {},
   "outputs": [
    {
     "output_type": "stream",
     "name": "stdout",
     "text": [
      "Tamaños\nU: (1711, 10)\ns: (10,)\nV: (10, 2704)\n"
     ]
    }
   ],
   "source": [
    "print(\"Tamaños\")\n",
    "print(f\"U: {U.shape}\")\n",
    "print(f\"s: {s.shape}\")\n",
    "print(f\"V: {V.shape}\")"
   ]
  },
  {
   "cell_type": "code",
   "execution_count": 17,
   "metadata": {},
   "outputs": [],
   "source": [
    "#Reconstruir la matriz original de cliente/producto con SVD"
   ]
  },
  {
   "cell_type": "code",
   "execution_count": 18,
   "metadata": {},
   "outputs": [],
   "source": [
    "s_diag=numpy.diag(s)"
   ]
  },
  {
   "cell_type": "code",
   "execution_count": 19,
   "metadata": {},
   "outputs": [],
   "source": [
    "ventas_svd=U @ s_diag @ V"
   ]
  },
  {
   "cell_type": "code",
   "execution_count": 20,
   "metadata": {},
   "outputs": [
    {
     "output_type": "execute_result",
     "data": {
      "text/plain": [
       "(1711, 2704)"
      ]
     },
     "metadata": {},
     "execution_count": 20
    }
   ],
   "source": [
    "ventas_svd.shape"
   ]
  },
  {
   "cell_type": "code",
   "execution_count": 21,
   "metadata": {},
   "outputs": [],
   "source": [
    "#Crear funcion de recomendacion"
   ]
  },
  {
   "cell_type": "code",
   "execution_count": 53,
   "metadata": {},
   "outputs": [],
   "source": [
    "def recomendar(id_cliente, num_recomendaciones=5):\n",
    "    #Se toma la fila correspondiente al cliente\n",
    "    cliente_index=numpy.where(customer_id_list==id_cliente)[0][0]\n",
    "    #ordenamos las compras predichas por los clientes en valor descendente\n",
    "    index_sort=ventas_svd[cliente_index, :].argsort()[::-1]\n",
    "    #creamos una mascara booleana de los productos que no ha comprado el cliente\n",
    "    productos_no_comprados=ventas_mtz[cliente_index, :][index_sort]==0\n",
    "\n",
    "    rec_index= index_sort[productos_no_comprados]\n",
    "    rec_ids= item_id_list[rec_index]\n",
    "    recomendaciones=rec_ids[:num_recomendaciones]\n",
    "    return recomendaciones"
   ]
  },
  {
   "cell_type": "code",
   "execution_count": 54,
   "metadata": {},
   "outputs": [],
   "source": [
    "cliente_id=12352"
   ]
  },
  {
   "cell_type": "code",
   "execution_count": 55,
   "metadata": {},
   "outputs": [
    {
     "output_type": "execute_result",
     "data": {
      "text/plain": [
       "['BLUE STRIPE CERAMIC DRAWER KNOB',\n",
       " 'VICTORIAN GLASS HANGING T-LIGHT',\n",
       " 'IVORY KITCHEN SCALES',\n",
       " 'MINT KITCHEN SCALES',\n",
       " 'CHILDS BREAKFAST SET DOLLY GIRL ',\n",
       " 'PINK BABY BUNTING',\n",
       " 'PANTRY ROLLING PIN',\n",
       " 'PANTRY PASTRY BRUSH',\n",
       " 'ZINC HEART FLOWER T-LIGHT HOLDER',\n",
       " 'GLASS BON BON JAR',\n",
       " 'PETIT TRAY CHIC',\n",
       " 'SET 12 COLOUR PENCILS SPACEBOY ',\n",
       " 'SET 12 COLOUR PENCILS DOLLY GIRL ',\n",
       " 'WOODLAND BUNNIES LOLLY MAKERS',\n",
       " 'POSTAGE']"
      ]
     },
     "metadata": {},
     "execution_count": 55
    }
   ],
   "source": [
    "d=matriz_ventas_df.loc[cliente_id]\n",
    "[item_dict[x] for x in d[d.notna()].index]"
   ]
  },
  {
   "cell_type": "code",
   "execution_count": 56,
   "metadata": {},
   "outputs": [
    {
     "output_type": "stream",
     "name": "stdout",
     "text": [
      "['22492' '85099B' '22152' '21810' '22356']\n"
     ]
    }
   ],
   "source": [
    "recomendaciones=recomendar(cliente_id)\n",
    "\n",
    "print(recomendaciones)"
   ]
  }
 ]
}
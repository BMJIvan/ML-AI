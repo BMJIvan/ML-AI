{
 "metadata": {
  "language_info": {
   "codemirror_mode": {
    "name": "ipython",
    "version": 3
   },
   "file_extension": ".py",
   "mimetype": "text/x-python",
   "name": "python",
   "nbconvert_exporter": "python",
   "pygments_lexer": "ipython3",
   "version": "3.8.7-final"
  },
  "orig_nbformat": 2,
  "kernelspec": {
   "name": "python3",
   "display_name": "Python 3.8.7 64-bit",
   "metadata": {
    "interpreter": {
     "hash": "ea95fc2df1cee6bb0985586e8a41cf7caceb271a33d321960fcb1bcf60d2a579"
    }
   }
  }
 },
 "nbformat": 4,
 "nbformat_minor": 2,
 "cells": [
  {
   "cell_type": "code",
   "execution_count": 1,
   "metadata": {},
   "outputs": [],
   "source": [
    "##implementando el metodo de la mexima verosimilirud para la regresion logistica"
   ]
  },
  {
   "cell_type": "code",
   "execution_count": 2,
   "metadata": {},
   "outputs": [],
   "source": [
    "#definir la funcion de entorno L(b)"
   ]
  },
  {
   "cell_type": "code",
   "execution_count": 4,
   "metadata": {},
   "outputs": [
    {
     "output_type": "display_data",
     "data": {
      "text/plain": "<IPython.core.display.Math object>",
      "text/latex": "$\\displaystyle L(\\beta)=\\sum_{i=1}^n P_i^{y_i}(1-Pi)^{y_i}$"
     },
     "metadata": {}
    }
   ],
   "source": [
    "from IPython.display import display, Math, Latex\n",
    "display(Math(r'L(\\beta)=\\sum_{i=1}^n P_i^{y_i}(1-Pi)^{y_i}'))"
   ]
  },
  {
   "cell_type": "code",
   "execution_count": 58,
   "metadata": {},
   "outputs": [],
   "source": [
    "def likelihood(y,pi):\n",
    "    import numpy\n",
    "    total_sum=1\n",
    "    sum_in=list(range(1,len(y)+1))\n",
    "    for i in range(len(y)):\n",
    "        sum_in[i]=numpy.where(y[i]==1,pi[i],1-pi[i])\n",
    "        total_sum=total_sum*sum_in[i]\n",
    "    return total_sum"
   ]
  },
  {
   "cell_type": "code",
   "execution_count": 7,
   "metadata": {},
   "outputs": [],
   "source": [
    "#calcular las probabilidades para cada observacion"
   ]
  },
  {
   "cell_type": "code",
   "execution_count": 13,
   "metadata": {},
   "outputs": [
    {
     "output_type": "display_data",
     "data": {
      "text/plain": "<IPython.core.display.Math object>",
      "text/latex": "$\\displaystyle P_i=P(x_i)=\\frac{1}{1+e^{-\\sum_{j=0}^k\\beta\\cdot x_{ij}}}$"
     },
     "metadata": {}
    }
   ],
   "source": [
    "display(Math(r'P_i=P(x_i)=\\frac{1}{1+e^{-\\sum_{j=0}^k\\beta\\cdot x_{ij}}}'))"
   ]
  },
  {
   "cell_type": "code",
   "execution_count": 59,
   "metadata": {},
   "outputs": [],
   "source": [
    "def logitprobs(x,beta):\n",
    "    import numpy\n",
    "    n_rows=numpy.shape(x)[0]\n",
    "    n_cols=numpy.shape(x)[1]\n",
    "    pi=list(range(1,n_rows+1))\n",
    "    expon=list(range(1,n_rows+1))\n",
    "    for i in range(n_rows):\n",
    "        expon[i]=0\n",
    "        for j in range(n_cols):\n",
    "            ex=x[i][j]*beta[j]\n",
    "            expon[i]=ex+expon[i]\n",
    "        with numpy.errstate(divide=\"ignore\",invalid=\"ignore\"):\n",
    "            pi[i]=1/(1+numpy.exp(-expon[i]))\n",
    "    return pi"
   ]
  },
  {
   "cell_type": "code",
   "execution_count": 18,
   "metadata": {},
   "outputs": [
    {
     "output_type": "display_data",
     "data": {
      "text/plain": "<IPython.core.display.Math object>",
      "text/latex": "$\\displaystyle W=diag(P_i \\cdot (1-P_i))_{i=1}^n$"
     },
     "metadata": {}
    }
   ],
   "source": [
    "display(Math(r'W=diag(P_i \\cdot (1-P_i))_{i=1}^n'))"
   ]
  },
  {
   "cell_type": "code",
   "execution_count": 61,
   "metadata": {},
   "outputs": [],
   "source": [
    "def findW(pi):\n",
    "    import numpy\n",
    "    n=len(pi)\n",
    "    w=numpy.zeros(n*n).reshape(n,n)\n",
    "    for i in range(n):\n",
    "        w[i,i]=pi[i]*(1-pi[i])\n",
    "        w[i,i].astype(float)\n",
    "    return w"
   ]
  },
  {
   "cell_type": "code",
   "execution_count": 20,
   "metadata": {},
   "outputs": [],
   "source": [
    "#obtener la solucion de la funcion logistica"
   ]
  },
  {
   "cell_type": "code",
   "execution_count": 78,
   "metadata": {},
   "outputs": [
    {
     "output_type": "display_data",
     "data": {
      "text/plain": "<IPython.core.display.Math object>",
      "text/latex": "$\\displaystyle \\beta_{n+1}=\\beta_n -\\frac{f(\\beta_n)}{f`(\\beta_n)}$"
     },
     "metadata": {}
    },
    {
     "output_type": "display_data",
     "data": {
      "text/plain": "<IPython.core.display.Math object>",
      "text/latex": "$\\displaystyle f(x)=x(y-p)$"
     },
     "metadata": {}
    },
    {
     "output_type": "display_data",
     "data": {
      "text/plain": "<IPython.core.display.Math object>",
      "text/latex": "$\\displaystyle f`(x)=xwx^T$"
     },
     "metadata": {}
    }
   ],
   "source": [
    "display(Math(r'\\beta_{n+1}=\\beta_n -\\frac{f(\\beta_n)}{f`(\\beta_n)}'))\n",
    "display(Math(r'f(x)=x(y-p)'))\n",
    "display(Math(r'f`(x)=xwx^T'))"
   ]
  },
  {
   "cell_type": "code",
   "execution_count": 79,
   "metadata": {},
   "outputs": [],
   "source": [
    "def logistics(x,y,limit):\n",
    "    import numpy\n",
    "    from numpy import linalg\n",
    "    nrow=numpy.shape(x)[0]\n",
    "    bias=numpy.ones(nrow).reshape(nrow,1)\n",
    "    x_new=numpy.append(x,bias,axis=1)\n",
    "    ncol=numpy.shape(x_new)[1]\n",
    "    beta=numpy.zeros(ncol).reshape(ncol,1)\n",
    "    root_dif=numpy.array(range(1,ncol+1)).reshape(ncol,1)\n",
    "    iter_i=10000\n",
    "    while(iter_i>limit):\n",
    "        pi=logitprobs(x_new,beta)\n",
    "        w=findW(pi)\n",
    "        num=(numpy.transpose(numpy.matrix(x_new))*numpy.matrix(y-numpy.transpose(pi)).transpose())\n",
    "        den=(numpy.matrix(numpy.transpose(x_new))*numpy.matrix(w)*numpy.matrix(x_new))\n",
    "        root_dif=numpy.array(linalg.inv(den)*num)\n",
    "        beta=beta+root_dif\n",
    "        iter_i=numpy.sum(root_dif*root_dif)\n",
    "        ll=likelihood(y,pi)\n",
    "    return beta"
   ]
  },
  {
   "cell_type": "code",
   "execution_count": 37,
   "metadata": {},
   "outputs": [],
   "source": [
    "#comprobacion experimental"
   ]
  },
  {
   "cell_type": "code",
   "execution_count": 8,
   "metadata": {},
   "outputs": [],
   "source": [
    "import numpy\n",
    "x=numpy.array(range(10)).reshape(10,1)"
   ]
  },
  {
   "cell_type": "code",
   "execution_count": 9,
   "metadata": {},
   "outputs": [],
   "source": [
    "y=[0,0,0,0,1,0,1,0,1,1]"
   ]
  },
  {
   "cell_type": "code",
   "execution_count": 10,
   "metadata": {},
   "outputs": [],
   "source": [
    "bias=numpy.ones(10).reshape(10,1)\n",
    "x_new=numpy.append(x,bias,axis=1)"
   ]
  },
  {
   "cell_type": "code",
   "execution_count": 80,
   "metadata": {},
   "outputs": [],
   "source": [
    "a=logistics(x,y,0.00001)"
   ]
  },
  {
   "cell_type": "code",
   "execution_count": 81,
   "metadata": {},
   "outputs": [],
   "source": [
    "ll=likelihood(y,logitprobs(x,a))"
   ]
  },
  {
   "cell_type": "code",
   "execution_count": 82,
   "metadata": {},
   "outputs": [
    {
     "output_type": "execute_result",
     "data": {
      "text/plain": [
       "array([1.32622426e-06])"
      ]
     },
     "metadata": {},
     "execution_count": 82
    }
   ],
   "source": [
    "ll"
   ]
  },
  {
   "cell_type": "code",
   "execution_count": 16,
   "metadata": {},
   "outputs": [],
   "source": [
    "#y=(0.66220827)*X -3.69557172"
   ]
  },
  {
   "cell_type": "code",
   "execution_count": 11,
   "metadata": {},
   "outputs": [],
   "source": [
    "#con el paquete statsmodels de python\n",
    "import statsmodels.api as sm"
   ]
  },
  {
   "cell_type": "code",
   "execution_count": 12,
   "metadata": {},
   "outputs": [],
   "source": [
    "logit_model=sm.Logit(y,x_new)"
   ]
  },
  {
   "cell_type": "code",
   "execution_count": 13,
   "metadata": {},
   "outputs": [
    {
     "output_type": "stream",
     "name": "stdout",
     "text": [
      "Optimization terminated successfully.\n         Current function value: 0.431012\n         Iterations 6\n"
     ]
    }
   ],
   "source": [
    "result=logit_model.fit()"
   ]
  },
  {
   "cell_type": "code",
   "execution_count": 15,
   "metadata": {},
   "outputs": [
    {
     "output_type": "execute_result",
     "data": {
      "text/plain": [
       "<class 'statsmodels.iolib.summary.Summary'>\n",
       "\"\"\"\n",
       "                           Logit Regression Results                           \n",
       "==============================================================================\n",
       "Dep. Variable:                      y   No. Observations:                   10\n",
       "Model:                          Logit   Df Residuals:                        8\n",
       "Method:                           MLE   Df Model:                            1\n",
       "Date:                Wed, 27 Jan 2021   Pseudo R-squ.:                  0.3596\n",
       "Time:                        13:55:30   Log-Likelihood:                -4.3101\n",
       "converged:                       True   LL-Null:                       -6.7301\n",
       "Covariance Type:            nonrobust   LLR p-value:                   0.02781\n",
       "==============================================================================\n",
       "                 coef    std err          z      P>|z|      [0.025      0.975]\n",
       "------------------------------------------------------------------------------\n",
       "x1             0.6622      0.400      1.655      0.098      -0.122       1.446\n",
       "const         -3.6956      2.289     -1.615      0.106      -8.182       0.791\n",
       "==============================================================================\n",
       "\"\"\""
      ],
      "text/html": "<table class=\"simpletable\">\n<caption>Logit Regression Results</caption>\n<tr>\n  <th>Dep. Variable:</th>           <td>y</td>        <th>  No. Observations:  </th>  <td>    10</td> \n</tr>\n<tr>\n  <th>Model:</th>                 <td>Logit</td>      <th>  Df Residuals:      </th>  <td>     8</td> \n</tr>\n<tr>\n  <th>Method:</th>                 <td>MLE</td>       <th>  Df Model:          </th>  <td>     1</td> \n</tr>\n<tr>\n  <th>Date:</th>            <td>Wed, 27 Jan 2021</td> <th>  Pseudo R-squ.:     </th>  <td>0.3596</td> \n</tr>\n<tr>\n  <th>Time:</th>                <td>13:55:30</td>     <th>  Log-Likelihood:    </th> <td> -4.3101</td>\n</tr>\n<tr>\n  <th>converged:</th>             <td>True</td>       <th>  LL-Null:           </th> <td> -6.7301</td>\n</tr>\n<tr>\n  <th>Covariance Type:</th>     <td>nonrobust</td>    <th>  LLR p-value:       </th>  <td>0.02781</td>\n</tr>\n</table>\n<table class=\"simpletable\">\n<tr>\n    <td></td>       <th>coef</th>     <th>std err</th>      <th>z</th>      <th>P>|z|</th>  <th>[0.025</th>    <th>0.975]</th>  \n</tr>\n<tr>\n  <th>x1</th>    <td>    0.6622</td> <td>    0.400</td> <td>    1.655</td> <td> 0.098</td> <td>   -0.122</td> <td>    1.446</td>\n</tr>\n<tr>\n  <th>const</th> <td>   -3.6956</td> <td>    2.289</td> <td>   -1.615</td> <td> 0.106</td> <td>   -8.182</td> <td>    0.791</td>\n</tr>\n</table>"
     },
     "metadata": {},
     "execution_count": 15
    }
   ],
   "source": [
    "result.summary()"
   ]
  },
  {
   "cell_type": "code",
   "execution_count": null,
   "metadata": {},
   "outputs": [],
   "source": []
  }
 ]
}
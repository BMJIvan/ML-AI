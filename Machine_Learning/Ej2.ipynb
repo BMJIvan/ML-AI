{
 "metadata": {
  "language_info": {
   "codemirror_mode": {
    "name": "ipython",
    "version": 3
   },
   "file_extension": ".py",
   "mimetype": "text/x-python",
   "name": "python",
   "nbconvert_exporter": "python",
   "pygments_lexer": "ipython3",
   "version": "3.8.7-final"
  },
  "orig_nbformat": 2,
  "kernelspec": {
   "name": "python3",
   "display_name": "Python 3.8.7 64-bit",
   "metadata": {
    "interpreter": {
     "hash": "ea95fc2df1cee6bb0985586e8a41cf7caceb271a33d321960fcb1bcf60d2a579"
    }
   }
  }
 },
 "nbformat": 4,
 "nbformat_minor": 2,
 "cells": [
  {
   "cell_type": "code",
   "execution_count": 2,
   "metadata": {},
   "outputs": [],
   "source": [
    "%config IPCompleter.greedy=True"
   ]
  },
  {
   "source": [
    "%reset -f\n",
    "import pandas as pd\n",
    "mainPath=\"D:/Estudiar/Python\"\n",
    "filePath=\"MLData/customer-churn-model/Customer Churn Model.txt\"\n",
    "fullPath=mainPath + \"/\" + filePath\n",
    "data=pd.read_csv(fullPath)"
   ],
   "cell_type": "code",
   "metadata": {},
   "execution_count": 25,
   "outputs": []
  },
  {
   "cell_type": "code",
   "execution_count": 30,
   "metadata": {},
   "outputs": [],
   "source": [
    "inFile =mainPath + \"/\" + filePath\n",
    "outFile =mainPath + \"/\" + \"MLData/customer-churn-model/The Customer Churn Model.txt\""
   ]
  },
  {
   "cell_type": "code",
   "execution_count": 31,
   "metadata": {},
   "outputs": [],
   "source": [
    "with open(inFile,\"r\") as infile:\n",
    "    with open(outFile,\"w\") as outfile:\n",
    "        for line in infile:\n",
    "            fields = line.strip().split(\",\")\n",
    "            outfile.write(\"\\t\".join(fields)) \n",
    "            outfile.write(\"\\n\")"
   ]
  },
  {
   "cell_type": "code",
   "execution_count": 35,
   "metadata": {},
   "outputs": [],
   "source": [
    "df4=pd.read_csv(outFile,sep=\"\\t\")"
   ]
  },
  {
   "cell_type": "code",
   "execution_count": null,
   "metadata": {},
   "outputs": [],
   "source": []
  }
 ]
}
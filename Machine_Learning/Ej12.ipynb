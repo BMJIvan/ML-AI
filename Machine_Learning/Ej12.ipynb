{
 "metadata": {
  "language_info": {
   "codemirror_mode": {
    "name": "ipython",
    "version": 3
   },
   "file_extension": ".py",
   "mimetype": "text/x-python",
   "name": "python",
   "nbconvert_exporter": "python",
   "pygments_lexer": "ipython3",
   "version": "3.8.7-final"
  },
  "orig_nbformat": 2,
  "kernelspec": {
   "name": "python3",
   "display_name": "Python 3.8.7 64-bit",
   "metadata": {
    "interpreter": {
     "hash": "ea95fc2df1cee6bb0985586e8a41cf7caceb271a33d321960fcb1bcf60d2a579"
    }
   }
  }
 },
 "nbformat": 4,
 "nbformat_minor": 2,
 "cells": [
  {
   "cell_type": "code",
   "execution_count": 5,
   "metadata": {},
   "outputs": [],
   "source": [
    "#agregacion de datos por categoria\n",
    "import numpy as np\n",
    "import pandas as pd"
   ]
  },
  {
   "cell_type": "code",
   "execution_count": 6,
   "metadata": {},
   "outputs": [],
   "source": [
    "gender=[\"Male\",\"Female\"]\n",
    "income=[\"Poor\",\"Middle Class\",\"Rich\"]"
   ]
  },
  {
   "cell_type": "code",
   "execution_count": 7,
   "metadata": {},
   "outputs": [],
   "source": [
    "n=500\n",
    "gender_data=[]\n",
    "income_data=[]\n",
    "\n",
    "for i in range(0,500):\n",
    "    gender_data.append(np.random.choice(gender))\n",
    "    income_data.append(np.random.choice(income))"
   ]
  },
  {
   "cell_type": "code",
   "execution_count": 8,
   "metadata": {},
   "outputs": [],
   "source": [
    "n=500\n",
    "height=160+30*np.random.randn(n)\n",
    "weight=65+25*np.random.randn(n)\n",
    "age=30+12*np.random.randn(n)\n",
    "income=18000+3500*np.random.randn(n)"
   ]
  },
  {
   "cell_type": "code",
   "execution_count": 9,
   "metadata": {},
   "outputs": [],
   "source": [
    "data=pd.DataFrame(\n",
    "    {\n",
    "        \"Gender\":gender_data,\n",
    "        \"Economy Status\":income_data,\n",
    "        \"Height\":height,\n",
    "        \"Weight\":weight,\n",
    "        \"Age\":age,\n",
    "        \"Income\":income\n",
    "    }\n",
    ")"
   ]
  },
  {
   "cell_type": "code",
   "execution_count": 10,
   "metadata": {},
   "outputs": [
    {
     "output_type": "execute_result",
     "data": {
      "text/plain": [
       "   Gender Economy Status      Height     Weight        Age        Income\n",
       "0    Male           Rich  185.052366  26.792569  23.418269  15026.916600\n",
       "1    Male   Middle Class  120.138260  75.400567  35.296546  15125.643876\n",
       "2    Male           Poor  164.448871  50.092353  24.662576  24151.171142\n",
       "3  Female   Middle Class  165.884198  45.954083  26.875325  15012.178696\n",
       "4    Male           Poor  149.397658  57.094877  20.216799  17533.762105"
      ],
      "text/html": "<div>\n<style scoped>\n    .dataframe tbody tr th:only-of-type {\n        vertical-align: middle;\n    }\n\n    .dataframe tbody tr th {\n        vertical-align: top;\n    }\n\n    .dataframe thead th {\n        text-align: right;\n    }\n</style>\n<table border=\"1\" class=\"dataframe\">\n  <thead>\n    <tr style=\"text-align: right;\">\n      <th></th>\n      <th>Gender</th>\n      <th>Economy Status</th>\n      <th>Height</th>\n      <th>Weight</th>\n      <th>Age</th>\n      <th>Income</th>\n    </tr>\n  </thead>\n  <tbody>\n    <tr>\n      <th>0</th>\n      <td>Male</td>\n      <td>Rich</td>\n      <td>185.052366</td>\n      <td>26.792569</td>\n      <td>23.418269</td>\n      <td>15026.916600</td>\n    </tr>\n    <tr>\n      <th>1</th>\n      <td>Male</td>\n      <td>Middle Class</td>\n      <td>120.138260</td>\n      <td>75.400567</td>\n      <td>35.296546</td>\n      <td>15125.643876</td>\n    </tr>\n    <tr>\n      <th>2</th>\n      <td>Male</td>\n      <td>Poor</td>\n      <td>164.448871</td>\n      <td>50.092353</td>\n      <td>24.662576</td>\n      <td>24151.171142</td>\n    </tr>\n    <tr>\n      <th>3</th>\n      <td>Female</td>\n      <td>Middle Class</td>\n      <td>165.884198</td>\n      <td>45.954083</td>\n      <td>26.875325</td>\n      <td>15012.178696</td>\n    </tr>\n    <tr>\n      <th>4</th>\n      <td>Male</td>\n      <td>Poor</td>\n      <td>149.397658</td>\n      <td>57.094877</td>\n      <td>20.216799</td>\n      <td>17533.762105</td>\n    </tr>\n  </tbody>\n</table>\n</div>"
     },
     "metadata": {},
     "execution_count": 10
    }
   ],
   "source": [
    "data.head()"
   ]
  },
  {
   "cell_type": "code",
   "execution_count": 12,
   "metadata": {},
   "outputs": [],
   "source": [
    "grouped_gender=data.groupby(\"Gender\")"
   ]
  },
  {
   "cell_type": "code",
   "execution_count": 14,
   "metadata": {},
   "outputs": [
    {
     "output_type": "stream",
     "name": "stdout",
     "text": [
      "Female\n     Gender Economy Status      Height     Weight        Age        Income\n3    Female   Middle Class  165.884198  45.954083  26.875325  15012.178696\n6    Female           Rich  170.743302  98.823377  37.520010  13914.314820\n9    Female   Middle Class  181.428211  64.981096  27.048494  20972.969527\n10   Female           Rich  123.276833  58.848656  51.162907  18782.479601\n11   Female   Middle Class  200.819636  54.704856  30.748888  10144.733603\n..      ...            ...         ...        ...        ...           ...\n492  Female           Rich  181.597774  76.353878  21.941366  21722.551782\n493  Female           Poor  146.835032  75.564507  33.689107  19874.964422\n495  Female           Poor  201.048440   5.496364  38.603206  13393.834243\n497  Female           Rich  189.207589  55.872498  30.392310  18198.882856\n499  Female           Poor  140.855892  72.654767  29.726952  20093.978419\n\n[256 rows x 6 columns]\nMale\n    Gender Economy Status      Height      Weight        Age        Income\n0     Male           Rich  185.052366   26.792569  23.418269  15026.916600\n1     Male   Middle Class  120.138260   75.400567  35.296546  15125.643876\n2     Male           Poor  164.448871   50.092353  24.662576  24151.171142\n4     Male           Poor  149.397658   57.094877  20.216799  17533.762105\n5     Male           Poor  140.402342   35.913088  35.405887  18002.737452\n..     ...            ...         ...         ...        ...           ...\n488   Male           Poor  112.269306   76.510038  44.091167  21445.305541\n489   Male   Middle Class  147.755234   80.329037  22.202489  19783.946730\n494   Male           Rich  141.106215   89.487643  50.314452  10380.337859\n496   Male           Poor  162.851993   46.481889  33.167197  18947.312981\n498   Male           Poor   85.745963  105.581399  46.994431  17220.240340\n\n[244 rows x 6 columns]\n"
     ]
    }
   ],
   "source": [
    "#grouped_gender.groups\n",
    "for names, groups in grouped_gender:\n",
    "    print(names)\n",
    "    print(groups)"
   ]
  },
  {
   "cell_type": "code",
   "execution_count": 16,
   "metadata": {},
   "outputs": [
    {
     "output_type": "execute_result",
     "data": {
      "text/plain": [
       "     Gender Economy Status      Height     Weight        Age        Income\n",
       "3    Female   Middle Class  165.884198  45.954083  26.875325  15012.178696\n",
       "6    Female           Rich  170.743302  98.823377  37.520010  13914.314820\n",
       "9    Female   Middle Class  181.428211  64.981096  27.048494  20972.969527\n",
       "10   Female           Rich  123.276833  58.848656  51.162907  18782.479601\n",
       "11   Female   Middle Class  200.819636  54.704856  30.748888  10144.733603\n",
       "..      ...            ...         ...        ...        ...           ...\n",
       "492  Female           Rich  181.597774  76.353878  21.941366  21722.551782\n",
       "493  Female           Poor  146.835032  75.564507  33.689107  19874.964422\n",
       "495  Female           Poor  201.048440   5.496364  38.603206  13393.834243\n",
       "497  Female           Rich  189.207589  55.872498  30.392310  18198.882856\n",
       "499  Female           Poor  140.855892  72.654767  29.726952  20093.978419\n",
       "\n",
       "[256 rows x 6 columns]"
      ],
      "text/html": "<div>\n<style scoped>\n    .dataframe tbody tr th:only-of-type {\n        vertical-align: middle;\n    }\n\n    .dataframe tbody tr th {\n        vertical-align: top;\n    }\n\n    .dataframe thead th {\n        text-align: right;\n    }\n</style>\n<table border=\"1\" class=\"dataframe\">\n  <thead>\n    <tr style=\"text-align: right;\">\n      <th></th>\n      <th>Gender</th>\n      <th>Economy Status</th>\n      <th>Height</th>\n      <th>Weight</th>\n      <th>Age</th>\n      <th>Income</th>\n    </tr>\n  </thead>\n  <tbody>\n    <tr>\n      <th>3</th>\n      <td>Female</td>\n      <td>Middle Class</td>\n      <td>165.884198</td>\n      <td>45.954083</td>\n      <td>26.875325</td>\n      <td>15012.178696</td>\n    </tr>\n    <tr>\n      <th>6</th>\n      <td>Female</td>\n      <td>Rich</td>\n      <td>170.743302</td>\n      <td>98.823377</td>\n      <td>37.520010</td>\n      <td>13914.314820</td>\n    </tr>\n    <tr>\n      <th>9</th>\n      <td>Female</td>\n      <td>Middle Class</td>\n      <td>181.428211</td>\n      <td>64.981096</td>\n      <td>27.048494</td>\n      <td>20972.969527</td>\n    </tr>\n    <tr>\n      <th>10</th>\n      <td>Female</td>\n      <td>Rich</td>\n      <td>123.276833</td>\n      <td>58.848656</td>\n      <td>51.162907</td>\n      <td>18782.479601</td>\n    </tr>\n    <tr>\n      <th>11</th>\n      <td>Female</td>\n      <td>Middle Class</td>\n      <td>200.819636</td>\n      <td>54.704856</td>\n      <td>30.748888</td>\n      <td>10144.733603</td>\n    </tr>\n    <tr>\n      <th>...</th>\n      <td>...</td>\n      <td>...</td>\n      <td>...</td>\n      <td>...</td>\n      <td>...</td>\n      <td>...</td>\n    </tr>\n    <tr>\n      <th>492</th>\n      <td>Female</td>\n      <td>Rich</td>\n      <td>181.597774</td>\n      <td>76.353878</td>\n      <td>21.941366</td>\n      <td>21722.551782</td>\n    </tr>\n    <tr>\n      <th>493</th>\n      <td>Female</td>\n      <td>Poor</td>\n      <td>146.835032</td>\n      <td>75.564507</td>\n      <td>33.689107</td>\n      <td>19874.964422</td>\n    </tr>\n    <tr>\n      <th>495</th>\n      <td>Female</td>\n      <td>Poor</td>\n      <td>201.048440</td>\n      <td>5.496364</td>\n      <td>38.603206</td>\n      <td>13393.834243</td>\n    </tr>\n    <tr>\n      <th>497</th>\n      <td>Female</td>\n      <td>Rich</td>\n      <td>189.207589</td>\n      <td>55.872498</td>\n      <td>30.392310</td>\n      <td>18198.882856</td>\n    </tr>\n    <tr>\n      <th>499</th>\n      <td>Female</td>\n      <td>Poor</td>\n      <td>140.855892</td>\n      <td>72.654767</td>\n      <td>29.726952</td>\n      <td>20093.978419</td>\n    </tr>\n  </tbody>\n</table>\n<p>256 rows × 6 columns</p>\n</div>"
     },
     "metadata": {},
     "execution_count": 16
    }
   ],
   "source": [
    "grouped_gender.get_group(\"Female\")"
   ]
  },
  {
   "cell_type": "code",
   "execution_count": 19,
   "metadata": {},
   "outputs": [],
   "source": [
    "double_group=data.groupby([\"Gender\",\"Economy Status\"])"
   ]
  },
  {
   "cell_type": "code",
   "execution_count": 21,
   "metadata": {},
   "outputs": [
    {
     "output_type": "stream",
     "name": "stdout",
     "text": [
      "('Female', 'Middle Class')\n     Gender Economy Status      Height      Weight        Age        Income\n3    Female   Middle Class  165.884198   45.954083  26.875325  15012.178696\n9    Female   Middle Class  181.428211   64.981096  27.048494  20972.969527\n11   Female   Middle Class  200.819636   54.704856  30.748888  10144.733603\n31   Female   Middle Class  144.454418   66.279551  17.759336  20497.290291\n59   Female   Middle Class  157.881407  122.724611  27.389102  23080.837992\n..      ...            ...         ...         ...        ...           ...\n472  Female   Middle Class  114.078027   22.074591  44.149271  18159.418912\n474  Female   Middle Class  157.469288   50.199796  40.993013  10709.746034\n481  Female   Middle Class  169.225506   65.806444  24.322884   9870.390077\n484  Female   Middle Class  149.565609   64.592883  28.188044  15321.787605\n486  Female   Middle Class  207.029471   57.078238  28.690069  17627.047832\n\n[82 rows x 6 columns]\n('Female', 'Poor')\n     Gender Economy Status      Height     Weight        Age        Income\n27   Female           Poor  163.468246  99.971628  20.448098  14978.645702\n33   Female           Poor  145.942023  65.104088  37.873268  18134.690893\n34   Female           Poor  179.103789  68.858031  13.161278  20042.589487\n36   Female           Poor  195.654024  80.035422  28.144332  13111.388555\n42   Female           Poor  151.901939  31.205141  59.850209  20590.899579\n..      ...            ...         ...        ...        ...           ...\n485  Female           Poor  179.758503  49.105550  35.527027  15531.726746\n491  Female           Poor  174.317477  33.611801  51.518869  18187.532742\n493  Female           Poor  146.835032  75.564507  33.689107  19874.964422\n495  Female           Poor  201.048440   5.496364  38.603206  13393.834243\n499  Female           Poor  140.855892  72.654767  29.726952  20093.978419\n\n[90 rows x 6 columns]\n('Female', 'Rich')\n     Gender Economy Status      Height      Weight        Age        Income\n6    Female           Rich  170.743302   98.823377  37.520010  13914.314820\n10   Female           Rich  123.276833   58.848656  51.162907  18782.479601\n14   Female           Rich  159.161261  100.084314  39.551011  21290.319847\n29   Female           Rich  139.415664   51.890422   9.094773  19849.360152\n32   Female           Rich  169.461250   45.041466  30.530839  19640.158756\n..      ...            ...         ...         ...        ...           ...\n475  Female           Rich  128.416549   79.650999  26.319613  12142.727071\n482  Female           Rich  231.789025   95.142889  30.185850  20365.141607\n490  Female           Rich  179.279718   54.954570  26.393246   8097.268299\n492  Female           Rich  181.597774   76.353878  21.941366  21722.551782\n497  Female           Rich  189.207589   55.872498  30.392310  18198.882856\n\n[84 rows x 6 columns]\n('Male', 'Middle Class')\n    Gender Economy Status      Height      Weight        Age        Income\n1     Male   Middle Class  120.138260   75.400567  35.296546  15125.643876\n7     Male   Middle Class  160.509281   67.788895  44.036307  22275.148222\n8     Male   Middle Class  227.944714  100.292375  22.291527  22313.186556\n17    Male   Middle Class  175.582527   59.492268  23.831727  16157.699467\n21    Male   Middle Class  191.873457   58.309939  19.225765  12605.280005\n..     ...            ...         ...         ...        ...           ...\n465   Male   Middle Class  118.606203   75.570292  32.628983  19506.494071\n469   Male   Middle Class  144.295392  123.884049  24.140346  17006.837375\n470   Male   Middle Class  185.149384   45.528048  37.466200  20596.154230\n487   Male   Middle Class  179.297859   97.809356  30.919447  14476.550171\n489   Male   Middle Class  147.755234   80.329037  22.202489  19783.946730\n\n[79 rows x 6 columns]\n('Male', 'Poor')\n    Gender Economy Status      Height      Weight        Age        Income\n2     Male           Poor  164.448871   50.092353  24.662576  24151.171142\n4     Male           Poor  149.397658   57.094877  20.216799  17533.762105\n5     Male           Poor  140.402342   35.913088  35.405887  18002.737452\n12    Male           Poor  121.797073   77.271555  36.311607  17198.951629\n15    Male           Poor  134.615234   48.855831  41.937836  18926.046929\n..     ...            ...         ...         ...        ...           ...\n480   Male           Poor   92.112704   42.155522  28.490265  14681.623996\n483   Male           Poor  198.094320   43.179089  34.686568  11050.039307\n488   Male           Poor  112.269306   76.510038  44.091167  21445.305541\n496   Male           Poor  162.851993   46.481889  33.167197  18947.312981\n498   Male           Poor   85.745963  105.581399  46.994431  17220.240340\n\n[90 rows x 6 columns]\n('Male', 'Rich')\n    Gender Economy Status      Height     Weight        Age        Income\n0     Male           Rich  185.052366  26.792569  23.418269  15026.916600\n13    Male           Rich  183.759822  45.123743  21.993986  20485.462358\n16    Male           Rich  158.863400  67.185637  15.780656  19957.383486\n19    Male           Rich  192.054309  90.427402   3.910002  17345.167230\n20    Male           Rich  121.910325  72.319944  30.727759  15538.688230\n..     ...            ...         ...        ...        ...           ...\n434   Male           Rich  180.290914  56.531851  18.524611  23906.239362\n471   Male           Rich  208.634523  53.310334  35.929731  17164.007231\n473   Male           Rich  139.043123  96.486032  24.342857  12236.895070\n476   Male           Rich  153.478128  99.239627  39.625595  15385.694637\n494   Male           Rich  141.106215  89.487643  50.314452  10380.337859\n\n[75 rows x 6 columns]\n"
     ]
    }
   ],
   "source": [
    "for names,groups in double_group:\n",
    "    print(names)\n",
    "    print(groups)"
   ]
  },
  {
   "cell_type": "code",
   "execution_count": 23,
   "metadata": {},
   "outputs": [
    {
     "output_type": "execute_result",
     "data": {
      "text/plain": [
       "Gender  Economy Status\n",
       "Female  Middle Class      82\n",
       "        Poor              90\n",
       "        Rich              84\n",
       "Male    Middle Class      79\n",
       "        Poor              90\n",
       "        Rich              75\n",
       "dtype: int64"
      ]
     },
     "metadata": {},
     "execution_count": 23
    }
   ],
   "source": [
    "double_group.size()"
   ]
  },
  {
   "cell_type": "code",
   "execution_count": 24,
   "metadata": {},
   "outputs": [
    {
     "output_type": "execute_result",
     "data": {
      "text/plain": [
       "                      Height                                                 \\\n",
       "                       count        mean        std         min         25%   \n",
       "Gender Economy Status                                                         \n",
       "Female Middle Class     82.0  161.130289  27.813246   99.810792  144.255897   \n",
       "       Poor             90.0  160.520955  28.311136   90.279174  143.500524   \n",
       "       Rich             84.0  161.987480  28.760065   80.802995  141.323427   \n",
       "Male   Middle Class     79.0  161.531902  30.252950   74.775163  143.091554   \n",
       "       Poor             90.0  158.950360  29.923814   85.745963  140.626163   \n",
       "       Rich             75.0  159.808868  27.836149  104.640190  139.163590   \n",
       "\n",
       "                                                          Weight             \\\n",
       "                              50%         75%         max  count       mean   \n",
       "Gender Economy Status                                                         \n",
       "Female Middle Class    157.829800  178.871516  216.874406   82.0  62.682852   \n",
       "       Poor            159.663003  177.888497  230.706393   90.0  60.493268   \n",
       "       Rich            162.909868  177.760493  231.789025   84.0  71.353951   \n",
       "Male   Middle Class    162.341114  177.040689  228.033020   79.0  64.165987   \n",
       "       Poor            159.035017  179.454994  239.580306   90.0  69.059702   \n",
       "       Rich            160.992864  178.982843  236.931229   75.0  68.500020   \n",
       "\n",
       "                       ...        Age            Income                \\\n",
       "                       ...        75%        max  count          mean   \n",
       "Gender Economy Status  ...                                              \n",
       "Female Middle Class    ...  34.233815  81.683056   82.0  18230.875425   \n",
       "       Poor            ...  34.188915  59.850209   90.0  18298.336030   \n",
       "       Rich            ...  37.661167  51.458850   84.0  17995.419514   \n",
       "Male   Middle Class    ...  35.178023  60.124555   79.0  17769.610721   \n",
       "       Poor            ...  39.676988  58.441677   90.0  18534.148660   \n",
       "       Rich            ...  38.601817  58.809931   75.0  17577.706524   \n",
       "\n",
       "                                                                              \\\n",
       "                               std           min           25%           50%   \n",
       "Gender Economy Status                                                          \n",
       "Female Middle Class    3599.292397   9870.390077  15780.477111  18828.040458   \n",
       "       Poor            3476.454185   8491.676979  15933.826640  18699.730044   \n",
       "       Rich            3561.115357   8097.268299  15411.746288  18212.136920   \n",
       "Male   Middle Class    3563.100318   7716.070971  15677.141790  17327.044106   \n",
       "       Poor            3356.875334  11050.039307  16469.438808  18436.580708   \n",
       "       Rich            3038.114022  10380.337859  15350.354017  17399.668992   \n",
       "\n",
       "                                                   \n",
       "                                75%           max  \n",
       "Gender Economy Status                              \n",
       "Female Middle Class    20822.967131  26477.567576  \n",
       "       Poor            20544.255803  25572.223243  \n",
       "       Rich            20444.002006  26021.799685  \n",
       "Male   Middle Class    20444.008606  26439.991843  \n",
       "       Poor            20696.953144  28198.254486  \n",
       "       Rich            19329.691828  24323.102273  \n",
       "\n",
       "[6 rows x 32 columns]"
      ],
      "text/html": "<div>\n<style scoped>\n    .dataframe tbody tr th:only-of-type {\n        vertical-align: middle;\n    }\n\n    .dataframe tbody tr th {\n        vertical-align: top;\n    }\n\n    .dataframe thead tr th {\n        text-align: left;\n    }\n\n    .dataframe thead tr:last-of-type th {\n        text-align: right;\n    }\n</style>\n<table border=\"1\" class=\"dataframe\">\n  <thead>\n    <tr>\n      <th></th>\n      <th></th>\n      <th colspan=\"8\" halign=\"left\">Height</th>\n      <th colspan=\"2\" halign=\"left\">Weight</th>\n      <th>...</th>\n      <th colspan=\"2\" halign=\"left\">Age</th>\n      <th colspan=\"8\" halign=\"left\">Income</th>\n    </tr>\n    <tr>\n      <th></th>\n      <th></th>\n      <th>count</th>\n      <th>mean</th>\n      <th>std</th>\n      <th>min</th>\n      <th>25%</th>\n      <th>50%</th>\n      <th>75%</th>\n      <th>max</th>\n      <th>count</th>\n      <th>mean</th>\n      <th>...</th>\n      <th>75%</th>\n      <th>max</th>\n      <th>count</th>\n      <th>mean</th>\n      <th>std</th>\n      <th>min</th>\n      <th>25%</th>\n      <th>50%</th>\n      <th>75%</th>\n      <th>max</th>\n    </tr>\n    <tr>\n      <th>Gender</th>\n      <th>Economy Status</th>\n      <th></th>\n      <th></th>\n      <th></th>\n      <th></th>\n      <th></th>\n      <th></th>\n      <th></th>\n      <th></th>\n      <th></th>\n      <th></th>\n      <th></th>\n      <th></th>\n      <th></th>\n      <th></th>\n      <th></th>\n      <th></th>\n      <th></th>\n      <th></th>\n      <th></th>\n      <th></th>\n      <th></th>\n    </tr>\n  </thead>\n  <tbody>\n    <tr>\n      <th rowspan=\"3\" valign=\"top\">Female</th>\n      <th>Middle Class</th>\n      <td>82.0</td>\n      <td>161.130289</td>\n      <td>27.813246</td>\n      <td>99.810792</td>\n      <td>144.255897</td>\n      <td>157.829800</td>\n      <td>178.871516</td>\n      <td>216.874406</td>\n      <td>82.0</td>\n      <td>62.682852</td>\n      <td>...</td>\n      <td>34.233815</td>\n      <td>81.683056</td>\n      <td>82.0</td>\n      <td>18230.875425</td>\n      <td>3599.292397</td>\n      <td>9870.390077</td>\n      <td>15780.477111</td>\n      <td>18828.040458</td>\n      <td>20822.967131</td>\n      <td>26477.567576</td>\n    </tr>\n    <tr>\n      <th>Poor</th>\n      <td>90.0</td>\n      <td>160.520955</td>\n      <td>28.311136</td>\n      <td>90.279174</td>\n      <td>143.500524</td>\n      <td>159.663003</td>\n      <td>177.888497</td>\n      <td>230.706393</td>\n      <td>90.0</td>\n      <td>60.493268</td>\n      <td>...</td>\n      <td>34.188915</td>\n      <td>59.850209</td>\n      <td>90.0</td>\n      <td>18298.336030</td>\n      <td>3476.454185</td>\n      <td>8491.676979</td>\n      <td>15933.826640</td>\n      <td>18699.730044</td>\n      <td>20544.255803</td>\n      <td>25572.223243</td>\n    </tr>\n    <tr>\n      <th>Rich</th>\n      <td>84.0</td>\n      <td>161.987480</td>\n      <td>28.760065</td>\n      <td>80.802995</td>\n      <td>141.323427</td>\n      <td>162.909868</td>\n      <td>177.760493</td>\n      <td>231.789025</td>\n      <td>84.0</td>\n      <td>71.353951</td>\n      <td>...</td>\n      <td>37.661167</td>\n      <td>51.458850</td>\n      <td>84.0</td>\n      <td>17995.419514</td>\n      <td>3561.115357</td>\n      <td>8097.268299</td>\n      <td>15411.746288</td>\n      <td>18212.136920</td>\n      <td>20444.002006</td>\n      <td>26021.799685</td>\n    </tr>\n    <tr>\n      <th rowspan=\"3\" valign=\"top\">Male</th>\n      <th>Middle Class</th>\n      <td>79.0</td>\n      <td>161.531902</td>\n      <td>30.252950</td>\n      <td>74.775163</td>\n      <td>143.091554</td>\n      <td>162.341114</td>\n      <td>177.040689</td>\n      <td>228.033020</td>\n      <td>79.0</td>\n      <td>64.165987</td>\n      <td>...</td>\n      <td>35.178023</td>\n      <td>60.124555</td>\n      <td>79.0</td>\n      <td>17769.610721</td>\n      <td>3563.100318</td>\n      <td>7716.070971</td>\n      <td>15677.141790</td>\n      <td>17327.044106</td>\n      <td>20444.008606</td>\n      <td>26439.991843</td>\n    </tr>\n    <tr>\n      <th>Poor</th>\n      <td>90.0</td>\n      <td>158.950360</td>\n      <td>29.923814</td>\n      <td>85.745963</td>\n      <td>140.626163</td>\n      <td>159.035017</td>\n      <td>179.454994</td>\n      <td>239.580306</td>\n      <td>90.0</td>\n      <td>69.059702</td>\n      <td>...</td>\n      <td>39.676988</td>\n      <td>58.441677</td>\n      <td>90.0</td>\n      <td>18534.148660</td>\n      <td>3356.875334</td>\n      <td>11050.039307</td>\n      <td>16469.438808</td>\n      <td>18436.580708</td>\n      <td>20696.953144</td>\n      <td>28198.254486</td>\n    </tr>\n    <tr>\n      <th>Rich</th>\n      <td>75.0</td>\n      <td>159.808868</td>\n      <td>27.836149</td>\n      <td>104.640190</td>\n      <td>139.163590</td>\n      <td>160.992864</td>\n      <td>178.982843</td>\n      <td>236.931229</td>\n      <td>75.0</td>\n      <td>68.500020</td>\n      <td>...</td>\n      <td>38.601817</td>\n      <td>58.809931</td>\n      <td>75.0</td>\n      <td>17577.706524</td>\n      <td>3038.114022</td>\n      <td>10380.337859</td>\n      <td>15350.354017</td>\n      <td>17399.668992</td>\n      <td>19329.691828</td>\n      <td>24323.102273</td>\n    </tr>\n  </tbody>\n</table>\n<p>6 rows × 32 columns</p>\n</div>"
     },
     "metadata": {},
     "execution_count": 24
    }
   ],
   "source": [
    "double_group.describe()"
   ]
  },
  {
   "cell_type": "code",
   "execution_count": 26,
   "metadata": {},
   "outputs": [
    {
     "output_type": "execute_result",
     "data": {
      "text/plain": [
       "                             Income        Age     Height\n",
       "Gender Economy Status                                    \n",
       "Female Middle Class    1.494932e+06  29.417070  27.813246\n",
       "       Poor            1.646850e+06  27.188405  28.311136\n",
       "       Rich            1.511615e+06  28.545410  28.760065\n",
       "Male   Middle Class    1.403799e+06  28.523458  30.252950\n",
       "       Poor            1.668073e+06  31.185879  29.923814\n",
       "       Rich            1.318328e+06  29.578584  27.836149"
      ],
      "text/html": "<div>\n<style scoped>\n    .dataframe tbody tr th:only-of-type {\n        vertical-align: middle;\n    }\n\n    .dataframe tbody tr th {\n        vertical-align: top;\n    }\n\n    .dataframe thead th {\n        text-align: right;\n    }\n</style>\n<table border=\"1\" class=\"dataframe\">\n  <thead>\n    <tr style=\"text-align: right;\">\n      <th></th>\n      <th></th>\n      <th>Income</th>\n      <th>Age</th>\n      <th>Height</th>\n    </tr>\n    <tr>\n      <th>Gender</th>\n      <th>Economy Status</th>\n      <th></th>\n      <th></th>\n      <th></th>\n    </tr>\n  </thead>\n  <tbody>\n    <tr>\n      <th rowspan=\"3\" valign=\"top\">Female</th>\n      <th>Middle Class</th>\n      <td>1.494932e+06</td>\n      <td>29.417070</td>\n      <td>27.813246</td>\n    </tr>\n    <tr>\n      <th>Poor</th>\n      <td>1.646850e+06</td>\n      <td>27.188405</td>\n      <td>28.311136</td>\n    </tr>\n    <tr>\n      <th>Rich</th>\n      <td>1.511615e+06</td>\n      <td>28.545410</td>\n      <td>28.760065</td>\n    </tr>\n    <tr>\n      <th rowspan=\"3\" valign=\"top\">Male</th>\n      <th>Middle Class</th>\n      <td>1.403799e+06</td>\n      <td>28.523458</td>\n      <td>30.252950</td>\n    </tr>\n    <tr>\n      <th>Poor</th>\n      <td>1.668073e+06</td>\n      <td>31.185879</td>\n      <td>29.923814</td>\n    </tr>\n    <tr>\n      <th>Rich</th>\n      <td>1.318328e+06</td>\n      <td>29.578584</td>\n      <td>27.836149</td>\n    </tr>\n  </tbody>\n</table>\n</div>"
     },
     "metadata": {},
     "execution_count": 26
    }
   ],
   "source": [
    "double_group.aggregate(\n",
    "    {\n",
    "        \"Income\":np.sum,\n",
    "        \"Age\":np.mean,\n",
    "        \"Height\":np.std\n",
    "    }\n",
    ")#las funciones se aplican a una columna"
   ]
  },
  {
   "cell_type": "code",
   "execution_count": 29,
   "metadata": {},
   "outputs": [
    {
     "output_type": "execute_result",
     "data": {
      "text/plain": [
       "                             Age      Height\n",
       "Gender Economy Status                       \n",
       "Female Middle Class    29.417070  133.487156\n",
       "       Poor            27.188405  132.367542\n",
       "       Rich            28.545410  133.399118\n",
       "Male   Middle Class    28.523458  131.471036\n",
       "       Poor            31.185879  129.193254\n",
       "       Rich            29.578584  132.158915"
      ],
      "text/html": "<div>\n<style scoped>\n    .dataframe tbody tr th:only-of-type {\n        vertical-align: middle;\n    }\n\n    .dataframe tbody tr th {\n        vertical-align: top;\n    }\n\n    .dataframe thead th {\n        text-align: right;\n    }\n</style>\n<table border=\"1\" class=\"dataframe\">\n  <thead>\n    <tr style=\"text-align: right;\">\n      <th></th>\n      <th></th>\n      <th>Age</th>\n      <th>Height</th>\n    </tr>\n    <tr>\n      <th>Gender</th>\n      <th>Economy Status</th>\n      <th></th>\n      <th></th>\n    </tr>\n  </thead>\n  <tbody>\n    <tr>\n      <th rowspan=\"3\" valign=\"top\">Female</th>\n      <th>Middle Class</th>\n      <td>29.417070</td>\n      <td>133.487156</td>\n    </tr>\n    <tr>\n      <th>Poor</th>\n      <td>27.188405</td>\n      <td>132.367542</td>\n    </tr>\n    <tr>\n      <th>Rich</th>\n      <td>28.545410</td>\n      <td>133.399118</td>\n    </tr>\n    <tr>\n      <th rowspan=\"3\" valign=\"top\">Male</th>\n      <th>Middle Class</th>\n      <td>28.523458</td>\n      <td>131.471036</td>\n    </tr>\n    <tr>\n      <th>Poor</th>\n      <td>31.185879</td>\n      <td>129.193254</td>\n    </tr>\n    <tr>\n      <th>Rich</th>\n      <td>29.578584</td>\n      <td>132.158915</td>\n    </tr>\n  </tbody>\n</table>\n</div>"
     },
     "metadata": {},
     "execution_count": 29
    }
   ],
   "source": [
    "double_group.aggregate(\n",
    "    {\n",
    "        \"Age\":np.mean,\n",
    "        \"Height\":lambda h:np.mean(h)-np.std(h)\n",
    "    }\n",
    ")"
   ]
  },
  {
   "cell_type": "code",
   "execution_count": 30,
   "metadata": {},
   "outputs": [
    {
     "output_type": "execute_result",
     "data": {
      "text/plain": [
       "                             Height                              Weight  \\\n",
       "                                sum        mean        std          sum   \n",
       "Gender Economy Status                                                     \n",
       "Female Middle Class    13212.683700  161.130289  27.813246  5139.993840   \n",
       "       Poor            14446.885921  160.520955  28.311136  5444.394148   \n",
       "       Rich            13606.948303  161.987480  28.760065  5993.731875   \n",
       "Male   Middle Class    12761.020235  161.531902  30.252950  5069.113008   \n",
       "       Poor            14305.532406  158.950360  29.923814  6215.373170   \n",
       "       Rich            11985.665066  159.808868  27.836149  5137.501485   \n",
       "\n",
       "                                                     Age             \\\n",
       "                            mean        std          sum       mean   \n",
       "Gender Economy Status                                                 \n",
       "Female Middle Class    62.682852  25.450435  2412.199757  29.417070   \n",
       "       Poor            60.493268  24.905154  2446.956448  27.188405   \n",
       "       Rich            71.353951  25.971262  2397.814479  28.545410   \n",
       "Male   Middle Class    64.165987  28.121892  2253.353147  28.523458   \n",
       "       Poor            69.059702  25.886242  2806.729147  31.185879   \n",
       "       Rich            68.500020  20.236466  2218.393834  29.578584   \n",
       "\n",
       "                                        Income                             \n",
       "                             std           sum          mean          std  \n",
       "Gender Economy Status                                                      \n",
       "Female Middle Class    11.436825  1.494932e+06  18230.875425  3599.292397  \n",
       "       Poor            11.636682  1.646850e+06  18298.336030  3476.454185  \n",
       "       Rich            12.015286  1.511615e+06  17995.419514  3561.115357  \n",
       "Male   Middle Class    10.746479  1.403799e+06  17769.610721  3563.100318  \n",
       "       Poor            12.161235  1.668073e+06  18534.148660  3356.875334  \n",
       "       Rich            13.103650  1.318328e+06  17577.706524  3038.114022  "
      ],
      "text/html": "<div>\n<style scoped>\n    .dataframe tbody tr th:only-of-type {\n        vertical-align: middle;\n    }\n\n    .dataframe tbody tr th {\n        vertical-align: top;\n    }\n\n    .dataframe thead tr th {\n        text-align: left;\n    }\n\n    .dataframe thead tr:last-of-type th {\n        text-align: right;\n    }\n</style>\n<table border=\"1\" class=\"dataframe\">\n  <thead>\n    <tr>\n      <th></th>\n      <th></th>\n      <th colspan=\"3\" halign=\"left\">Height</th>\n      <th colspan=\"3\" halign=\"left\">Weight</th>\n      <th colspan=\"3\" halign=\"left\">Age</th>\n      <th colspan=\"3\" halign=\"left\">Income</th>\n    </tr>\n    <tr>\n      <th></th>\n      <th></th>\n      <th>sum</th>\n      <th>mean</th>\n      <th>std</th>\n      <th>sum</th>\n      <th>mean</th>\n      <th>std</th>\n      <th>sum</th>\n      <th>mean</th>\n      <th>std</th>\n      <th>sum</th>\n      <th>mean</th>\n      <th>std</th>\n    </tr>\n    <tr>\n      <th>Gender</th>\n      <th>Economy Status</th>\n      <th></th>\n      <th></th>\n      <th></th>\n      <th></th>\n      <th></th>\n      <th></th>\n      <th></th>\n      <th></th>\n      <th></th>\n      <th></th>\n      <th></th>\n      <th></th>\n    </tr>\n  </thead>\n  <tbody>\n    <tr>\n      <th rowspan=\"3\" valign=\"top\">Female</th>\n      <th>Middle Class</th>\n      <td>13212.683700</td>\n      <td>161.130289</td>\n      <td>27.813246</td>\n      <td>5139.993840</td>\n      <td>62.682852</td>\n      <td>25.450435</td>\n      <td>2412.199757</td>\n      <td>29.417070</td>\n      <td>11.436825</td>\n      <td>1.494932e+06</td>\n      <td>18230.875425</td>\n      <td>3599.292397</td>\n    </tr>\n    <tr>\n      <th>Poor</th>\n      <td>14446.885921</td>\n      <td>160.520955</td>\n      <td>28.311136</td>\n      <td>5444.394148</td>\n      <td>60.493268</td>\n      <td>24.905154</td>\n      <td>2446.956448</td>\n      <td>27.188405</td>\n      <td>11.636682</td>\n      <td>1.646850e+06</td>\n      <td>18298.336030</td>\n      <td>3476.454185</td>\n    </tr>\n    <tr>\n      <th>Rich</th>\n      <td>13606.948303</td>\n      <td>161.987480</td>\n      <td>28.760065</td>\n      <td>5993.731875</td>\n      <td>71.353951</td>\n      <td>25.971262</td>\n      <td>2397.814479</td>\n      <td>28.545410</td>\n      <td>12.015286</td>\n      <td>1.511615e+06</td>\n      <td>17995.419514</td>\n      <td>3561.115357</td>\n    </tr>\n    <tr>\n      <th rowspan=\"3\" valign=\"top\">Male</th>\n      <th>Middle Class</th>\n      <td>12761.020235</td>\n      <td>161.531902</td>\n      <td>30.252950</td>\n      <td>5069.113008</td>\n      <td>64.165987</td>\n      <td>28.121892</td>\n      <td>2253.353147</td>\n      <td>28.523458</td>\n      <td>10.746479</td>\n      <td>1.403799e+06</td>\n      <td>17769.610721</td>\n      <td>3563.100318</td>\n    </tr>\n    <tr>\n      <th>Poor</th>\n      <td>14305.532406</td>\n      <td>158.950360</td>\n      <td>29.923814</td>\n      <td>6215.373170</td>\n      <td>69.059702</td>\n      <td>25.886242</td>\n      <td>2806.729147</td>\n      <td>31.185879</td>\n      <td>12.161235</td>\n      <td>1.668073e+06</td>\n      <td>18534.148660</td>\n      <td>3356.875334</td>\n    </tr>\n    <tr>\n      <th>Rich</th>\n      <td>11985.665066</td>\n      <td>159.808868</td>\n      <td>27.836149</td>\n      <td>5137.501485</td>\n      <td>68.500020</td>\n      <td>20.236466</td>\n      <td>2218.393834</td>\n      <td>29.578584</td>\n      <td>13.103650</td>\n      <td>1.318328e+06</td>\n      <td>17577.706524</td>\n      <td>3038.114022</td>\n    </tr>\n  </tbody>\n</table>\n</div>"
     },
     "metadata": {},
     "execution_count": 30
    }
   ],
   "source": [
    "double_group.aggregate([np.sum,np.mean,np.std])"
   ]
  },
  {
   "cell_type": "code",
   "execution_count": 31,
   "metadata": {},
   "outputs": [
    {
     "output_type": "execute_result",
     "data": {
      "text/plain": [
       "                         Height    Weight       Age    Income\n",
       "Gender Economy Status                                        \n",
       "Female Middle Class    5.828944  2.478095  2.587965  5.096298\n",
       "       Poor            5.701652  2.442553  2.349529  5.292993\n",
       "       Rich            5.666204  2.763921  2.390027  5.083660\n",
       "Male   Middle Class    5.373495  2.296289  2.671174  5.018987\n",
       "       Poor            5.341593  2.682761  2.578734  5.552182\n",
       "       Rich            5.779716  3.407774  2.272479  5.824691"
      ],
      "text/html": "<div>\n<style scoped>\n    .dataframe tbody tr th:only-of-type {\n        vertical-align: middle;\n    }\n\n    .dataframe tbody tr th {\n        vertical-align: top;\n    }\n\n    .dataframe thead th {\n        text-align: right;\n    }\n</style>\n<table border=\"1\" class=\"dataframe\">\n  <thead>\n    <tr style=\"text-align: right;\">\n      <th></th>\n      <th></th>\n      <th>Height</th>\n      <th>Weight</th>\n      <th>Age</th>\n      <th>Income</th>\n    </tr>\n    <tr>\n      <th>Gender</th>\n      <th>Economy Status</th>\n      <th></th>\n      <th></th>\n      <th></th>\n      <th></th>\n    </tr>\n  </thead>\n  <tbody>\n    <tr>\n      <th rowspan=\"3\" valign=\"top\">Female</th>\n      <th>Middle Class</th>\n      <td>5.828944</td>\n      <td>2.478095</td>\n      <td>2.587965</td>\n      <td>5.096298</td>\n    </tr>\n    <tr>\n      <th>Poor</th>\n      <td>5.701652</td>\n      <td>2.442553</td>\n      <td>2.349529</td>\n      <td>5.292993</td>\n    </tr>\n    <tr>\n      <th>Rich</th>\n      <td>5.666204</td>\n      <td>2.763921</td>\n      <td>2.390027</td>\n      <td>5.083660</td>\n    </tr>\n    <tr>\n      <th rowspan=\"3\" valign=\"top\">Male</th>\n      <th>Middle Class</th>\n      <td>5.373495</td>\n      <td>2.296289</td>\n      <td>2.671174</td>\n      <td>5.018987</td>\n    </tr>\n    <tr>\n      <th>Poor</th>\n      <td>5.341593</td>\n      <td>2.682761</td>\n      <td>2.578734</td>\n      <td>5.552182</td>\n    </tr>\n    <tr>\n      <th>Rich</th>\n      <td>5.779716</td>\n      <td>3.407774</td>\n      <td>2.272479</td>\n      <td>5.824691</td>\n    </tr>\n  </tbody>\n</table>\n</div>"
     },
     "metadata": {},
     "execution_count": 31
    }
   ],
   "source": [
    "double_group.aggregate(lambda x:np.mean(x)/np.std(x))"
   ]
  },
  {
   "cell_type": "code",
   "execution_count": 32,
   "metadata": {},
   "outputs": [
    {
     "output_type": "execute_result",
     "data": {
      "text/plain": [
       "2      24.662576\n",
       "3      26.875325\n",
       "4      20.216799\n",
       "5      35.405887\n",
       "9      27.048494\n",
       "         ...    \n",
       "493    33.689107\n",
       "495    38.603206\n",
       "496    33.167197\n",
       "498    46.994431\n",
       "499    29.726952\n",
       "Name: Age, Length: 262, dtype: float64"
      ]
     },
     "metadata": {},
     "execution_count": 32
    }
   ],
   "source": [
    "#filtrar y transformaciones\n",
    "double_group[\"Age\"].filter(lambda x: x.sum()>2400)"
   ]
  },
  {
   "cell_type": "code",
   "execution_count": 38,
   "metadata": {},
   "outputs": [],
   "source": [
    "zscore=lambda x:(x-x.mean())/x.std()"
   ]
  },
  {
   "cell_type": "code",
   "execution_count": 40,
   "metadata": {},
   "outputs": [],
   "source": [
    "zgroup=double_group.transform(zscore)"
   ]
  },
  {
   "cell_type": "code",
   "execution_count": 41,
   "metadata": {},
   "outputs": [],
   "source": [
    "import matplotlib.pyplot as plt"
   ]
  },
  {
   "cell_type": "code",
   "execution_count": 42,
   "metadata": {},
   "outputs": [
    {
     "output_type": "execute_result",
     "data": {
      "text/plain": [
       "(array([ 17.,  42., 103., 152., 107.,  56.,  19.,   3.,   0.,   1.]),\n",
       " array([-2.62247966, -1.90323434, -1.18398903, -0.46474372,  0.2545016 ,\n",
       "         0.97374691,  1.69299222,  2.41223753,  3.13148285,  3.85072816,\n",
       "         4.56997347]),\n",
       " <BarContainer object of 10 artists>)"
      ]
     },
     "metadata": {},
     "execution_count": 42
    },
    {
     "output_type": "display_data",
     "data": {
      "text/plain": "<Figure size 432x288 with 1 Axes>",
      "image/svg+xml": "<?xml version=\"1.0\" encoding=\"utf-8\" standalone=\"no\"?>\r\n<!DOCTYPE svg PUBLIC \"-//W3C//DTD SVG 1.1//EN\"\r\n  \"http://www.w3.org/Graphics/SVG/1.1/DTD/svg11.dtd\">\r\n<!-- Created with matplotlib (https://matplotlib.org/) -->\r\n<svg height=\"248.518125pt\" version=\"1.1\" viewBox=\"0 0 375.2875 248.518125\" width=\"375.2875pt\" xmlns=\"http://www.w3.org/2000/svg\" xmlns:xlink=\"http://www.w3.org/1999/xlink\">\r\n <metadata>\r\n  <rdf:RDF xmlns:cc=\"http://creativecommons.org/ns#\" xmlns:dc=\"http://purl.org/dc/elements/1.1/\" xmlns:rdf=\"http://www.w3.org/1999/02/22-rdf-syntax-ns#\">\r\n   <cc:Work>\r\n    <dc:type rdf:resource=\"http://purl.org/dc/dcmitype/StillImage\"/>\r\n    <dc:date>2021-01-18T19:45:03.183078</dc:date>\r\n    <dc:format>image/svg+xml</dc:format>\r\n    <dc:creator>\r\n     <cc:Agent>\r\n      <dc:title>Matplotlib v3.3.3, https://matplotlib.org/</dc:title>\r\n     </cc:Agent>\r\n    </dc:creator>\r\n   </cc:Work>\r\n  </rdf:RDF>\r\n </metadata>\r\n <defs>\r\n  <style type=\"text/css\">*{stroke-linecap:butt;stroke-linejoin:round;}</style>\r\n </defs>\r\n <g id=\"figure_1\">\r\n  <g id=\"patch_1\">\r\n   <path d=\"M 0 248.518125 \r\nL 375.2875 248.518125 \r\nL 375.2875 0 \r\nL 0 0 \r\nz\r\n\" style=\"fill:none;\"/>\r\n  </g>\r\n  <g id=\"axes_1\">\r\n   <g id=\"patch_2\">\r\n    <path d=\"M 33.2875 224.64 \r\nL 368.0875 224.64 \r\nL 368.0875 7.2 \r\nL 33.2875 7.2 \r\nz\r\n\" style=\"fill:#ffffff;\"/>\r\n   </g>\r\n   <g id=\"patch_3\">\r\n    <path clip-path=\"url(#p1ec68cee75)\" d=\"M 48.505682 224.64 \r\nL 78.942045 224.64 \r\nL 78.942045 201.479098 \r\nL 48.505682 201.479098 \r\nz\r\n\" style=\"fill:#1f77b4;\"/>\r\n   </g>\r\n   <g id=\"patch_4\">\r\n    <path clip-path=\"url(#p1ec68cee75)\" d=\"M 78.942045 224.64 \r\nL 109.378409 224.64 \r\nL 109.378409 167.418947 \r\nL 78.942045 167.418947 \r\nz\r\n\" style=\"fill:#1f77b4;\"/>\r\n   </g>\r\n   <g id=\"patch_5\">\r\n    <path clip-path=\"url(#p1ec68cee75)\" d=\"M 109.378409 224.64 \r\nL 139.814773 224.64 \r\nL 139.814773 84.31218 \r\nL 109.378409 84.31218 \r\nz\r\n\" style=\"fill:#1f77b4;\"/>\r\n   </g>\r\n   <g id=\"patch_6\">\r\n    <path clip-path=\"url(#p1ec68cee75)\" d=\"M 139.814773 224.64 \r\nL 170.251136 224.64 \r\nL 170.251136 17.554286 \r\nL 139.814773 17.554286 \r\nz\r\n\" style=\"fill:#1f77b4;\"/>\r\n   </g>\r\n   <g id=\"patch_7\">\r\n    <path clip-path=\"url(#p1ec68cee75)\" d=\"M 170.251136 224.64 \r\nL 200.6875 224.64 \r\nL 200.6875 78.862556 \r\nL 170.251136 78.862556 \r\nz\r\n\" style=\"fill:#1f77b4;\"/>\r\n   </g>\r\n   <g id=\"patch_8\">\r\n    <path clip-path=\"url(#p1ec68cee75)\" d=\"M 200.6875 224.64 \r\nL 231.123864 224.64 \r\nL 231.123864 148.345263 \r\nL 200.6875 148.345263 \r\nz\r\n\" style=\"fill:#1f77b4;\"/>\r\n   </g>\r\n   <g id=\"patch_9\">\r\n    <path clip-path=\"url(#p1ec68cee75)\" d=\"M 231.123864 224.64 \r\nL 261.560227 224.64 \r\nL 261.560227 198.754286 \r\nL 231.123864 198.754286 \r\nz\r\n\" style=\"fill:#1f77b4;\"/>\r\n   </g>\r\n   <g id=\"patch_10\">\r\n    <path clip-path=\"url(#p1ec68cee75)\" d=\"M 261.560227 224.64 \r\nL 291.996591 224.64 \r\nL 291.996591 220.552782 \r\nL 261.560227 220.552782 \r\nz\r\n\" style=\"fill:#1f77b4;\"/>\r\n   </g>\r\n   <g id=\"patch_11\">\r\n    <path clip-path=\"url(#p1ec68cee75)\" d=\"M 291.996591 224.64 \r\nL 322.432955 224.64 \r\nL 322.432955 224.64 \r\nL 291.996591 224.64 \r\nz\r\n\" style=\"fill:#1f77b4;\"/>\r\n   </g>\r\n   <g id=\"patch_12\">\r\n    <path clip-path=\"url(#p1ec68cee75)\" d=\"M 322.432955 224.64 \r\nL 352.869318 224.64 \r\nL 352.869318 223.277594 \r\nL 322.432955 223.277594 \r\nz\r\n\" style=\"fill:#1f77b4;\"/>\r\n   </g>\r\n   <g id=\"matplotlib.axis_1\">\r\n    <g id=\"xtick_1\">\r\n     <g id=\"line2d_1\">\r\n      <defs>\r\n       <path d=\"M 0 0 \r\nL 0 3.5 \r\n\" id=\"mff947b3d08\" style=\"stroke:#000000;stroke-width:0.8;\"/>\r\n      </defs>\r\n      <g>\r\n       <use style=\"stroke:#000000;stroke-width:0.8;\" x=\"74.847205\" xlink:href=\"#mff947b3d08\" y=\"224.64\"/>\r\n      </g>\r\n     </g>\r\n     <g id=\"text_1\">\r\n      <!-- −2 -->\r\n      <g transform=\"translate(67.476111 239.238437)scale(0.1 -0.1)\">\r\n       <defs>\r\n        <path d=\"M 10.59375 35.5 \r\nL 73.1875 35.5 \r\nL 73.1875 27.203125 \r\nL 10.59375 27.203125 \r\nz\r\n\" id=\"DejaVuSans-8722\"/>\r\n        <path d=\"M 19.1875 8.296875 \r\nL 53.609375 8.296875 \r\nL 53.609375 0 \r\nL 7.328125 0 \r\nL 7.328125 8.296875 \r\nQ 12.9375 14.109375 22.625 23.890625 \r\nQ 32.328125 33.6875 34.8125 36.53125 \r\nQ 39.546875 41.84375 41.421875 45.53125 \r\nQ 43.3125 49.21875 43.3125 52.78125 \r\nQ 43.3125 58.59375 39.234375 62.25 \r\nQ 35.15625 65.921875 28.609375 65.921875 \r\nQ 23.96875 65.921875 18.8125 64.3125 \r\nQ 13.671875 62.703125 7.8125 59.421875 \r\nL 7.8125 69.390625 \r\nQ 13.765625 71.78125 18.9375 73 \r\nQ 24.125 74.21875 28.421875 74.21875 \r\nQ 39.75 74.21875 46.484375 68.546875 \r\nQ 53.21875 62.890625 53.21875 53.421875 \r\nQ 53.21875 48.921875 51.53125 44.890625 \r\nQ 49.859375 40.875 45.40625 35.40625 \r\nQ 44.1875 33.984375 37.640625 27.21875 \r\nQ 31.109375 20.453125 19.1875 8.296875 \r\nz\r\n\" id=\"DejaVuSans-50\"/>\r\n       </defs>\r\n       <use xlink:href=\"#DejaVuSans-8722\"/>\r\n       <use x=\"83.789062\" xlink:href=\"#DejaVuSans-50\"/>\r\n      </g>\r\n     </g>\r\n    </g>\r\n    <g id=\"xtick_2\">\r\n     <g id=\"line2d_2\">\r\n      <g>\r\n       <use style=\"stroke:#000000;stroke-width:0.8;\" x=\"117.164288\" xlink:href=\"#mff947b3d08\" y=\"224.64\"/>\r\n      </g>\r\n     </g>\r\n     <g id=\"text_2\">\r\n      <!-- −1 -->\r\n      <g transform=\"translate(109.793194 239.238437)scale(0.1 -0.1)\">\r\n       <defs>\r\n        <path d=\"M 12.40625 8.296875 \r\nL 28.515625 8.296875 \r\nL 28.515625 63.921875 \r\nL 10.984375 60.40625 \r\nL 10.984375 69.390625 \r\nL 28.421875 72.90625 \r\nL 38.28125 72.90625 \r\nL 38.28125 8.296875 \r\nL 54.390625 8.296875 \r\nL 54.390625 0 \r\nL 12.40625 0 \r\nz\r\n\" id=\"DejaVuSans-49\"/>\r\n       </defs>\r\n       <use xlink:href=\"#DejaVuSans-8722\"/>\r\n       <use x=\"83.789062\" xlink:href=\"#DejaVuSans-49\"/>\r\n      </g>\r\n     </g>\r\n    </g>\r\n    <g id=\"xtick_3\">\r\n     <g id=\"line2d_3\">\r\n      <g>\r\n       <use style=\"stroke:#000000;stroke-width:0.8;\" x=\"159.481371\" xlink:href=\"#mff947b3d08\" y=\"224.64\"/>\r\n      </g>\r\n     </g>\r\n     <g id=\"text_3\">\r\n      <!-- 0 -->\r\n      <g transform=\"translate(156.300121 239.238437)scale(0.1 -0.1)\">\r\n       <defs>\r\n        <path d=\"M 31.78125 66.40625 \r\nQ 24.171875 66.40625 20.328125 58.90625 \r\nQ 16.5 51.421875 16.5 36.375 \r\nQ 16.5 21.390625 20.328125 13.890625 \r\nQ 24.171875 6.390625 31.78125 6.390625 \r\nQ 39.453125 6.390625 43.28125 13.890625 \r\nQ 47.125 21.390625 47.125 36.375 \r\nQ 47.125 51.421875 43.28125 58.90625 \r\nQ 39.453125 66.40625 31.78125 66.40625 \r\nz\r\nM 31.78125 74.21875 \r\nQ 44.046875 74.21875 50.515625 64.515625 \r\nQ 56.984375 54.828125 56.984375 36.375 \r\nQ 56.984375 17.96875 50.515625 8.265625 \r\nQ 44.046875 -1.421875 31.78125 -1.421875 \r\nQ 19.53125 -1.421875 13.0625 8.265625 \r\nQ 6.59375 17.96875 6.59375 36.375 \r\nQ 6.59375 54.828125 13.0625 64.515625 \r\nQ 19.53125 74.21875 31.78125 74.21875 \r\nz\r\n\" id=\"DejaVuSans-48\"/>\r\n       </defs>\r\n       <use xlink:href=\"#DejaVuSans-48\"/>\r\n      </g>\r\n     </g>\r\n    </g>\r\n    <g id=\"xtick_4\">\r\n     <g id=\"line2d_4\">\r\n      <g>\r\n       <use style=\"stroke:#000000;stroke-width:0.8;\" x=\"201.798454\" xlink:href=\"#mff947b3d08\" y=\"224.64\"/>\r\n      </g>\r\n     </g>\r\n     <g id=\"text_4\">\r\n      <!-- 1 -->\r\n      <g transform=\"translate(198.617204 239.238437)scale(0.1 -0.1)\">\r\n       <use xlink:href=\"#DejaVuSans-49\"/>\r\n      </g>\r\n     </g>\r\n    </g>\r\n    <g id=\"xtick_5\">\r\n     <g id=\"line2d_5\">\r\n      <g>\r\n       <use style=\"stroke:#000000;stroke-width:0.8;\" x=\"244.115537\" xlink:href=\"#mff947b3d08\" y=\"224.64\"/>\r\n      </g>\r\n     </g>\r\n     <g id=\"text_5\">\r\n      <!-- 2 -->\r\n      <g transform=\"translate(240.934287 239.238437)scale(0.1 -0.1)\">\r\n       <use xlink:href=\"#DejaVuSans-50\"/>\r\n      </g>\r\n     </g>\r\n    </g>\r\n    <g id=\"xtick_6\">\r\n     <g id=\"line2d_6\">\r\n      <g>\r\n       <use style=\"stroke:#000000;stroke-width:0.8;\" x=\"286.43262\" xlink:href=\"#mff947b3d08\" y=\"224.64\"/>\r\n      </g>\r\n     </g>\r\n     <g id=\"text_6\">\r\n      <!-- 3 -->\r\n      <g transform=\"translate(283.25137 239.238437)scale(0.1 -0.1)\">\r\n       <defs>\r\n        <path d=\"M 40.578125 39.3125 \r\nQ 47.65625 37.796875 51.625 33 \r\nQ 55.609375 28.21875 55.609375 21.1875 \r\nQ 55.609375 10.40625 48.1875 4.484375 \r\nQ 40.765625 -1.421875 27.09375 -1.421875 \r\nQ 22.515625 -1.421875 17.65625 -0.515625 \r\nQ 12.796875 0.390625 7.625 2.203125 \r\nL 7.625 11.71875 \r\nQ 11.71875 9.328125 16.59375 8.109375 \r\nQ 21.484375 6.890625 26.8125 6.890625 \r\nQ 36.078125 6.890625 40.9375 10.546875 \r\nQ 45.796875 14.203125 45.796875 21.1875 \r\nQ 45.796875 27.640625 41.28125 31.265625 \r\nQ 36.765625 34.90625 28.71875 34.90625 \r\nL 20.21875 34.90625 \r\nL 20.21875 43.015625 \r\nL 29.109375 43.015625 \r\nQ 36.375 43.015625 40.234375 45.921875 \r\nQ 44.09375 48.828125 44.09375 54.296875 \r\nQ 44.09375 59.90625 40.109375 62.90625 \r\nQ 36.140625 65.921875 28.71875 65.921875 \r\nQ 24.65625 65.921875 20.015625 65.03125 \r\nQ 15.375 64.15625 9.8125 62.3125 \r\nL 9.8125 71.09375 \r\nQ 15.4375 72.65625 20.34375 73.4375 \r\nQ 25.25 74.21875 29.59375 74.21875 \r\nQ 40.828125 74.21875 47.359375 69.109375 \r\nQ 53.90625 64.015625 53.90625 55.328125 \r\nQ 53.90625 49.265625 50.4375 45.09375 \r\nQ 46.96875 40.921875 40.578125 39.3125 \r\nz\r\n\" id=\"DejaVuSans-51\"/>\r\n       </defs>\r\n       <use xlink:href=\"#DejaVuSans-51\"/>\r\n      </g>\r\n     </g>\r\n    </g>\r\n    <g id=\"xtick_7\">\r\n     <g id=\"line2d_7\">\r\n      <g>\r\n       <use style=\"stroke:#000000;stroke-width:0.8;\" x=\"328.749703\" xlink:href=\"#mff947b3d08\" y=\"224.64\"/>\r\n      </g>\r\n     </g>\r\n     <g id=\"text_7\">\r\n      <!-- 4 -->\r\n      <g transform=\"translate(325.568453 239.238437)scale(0.1 -0.1)\">\r\n       <defs>\r\n        <path d=\"M 37.796875 64.3125 \r\nL 12.890625 25.390625 \r\nL 37.796875 25.390625 \r\nz\r\nM 35.203125 72.90625 \r\nL 47.609375 72.90625 \r\nL 47.609375 25.390625 \r\nL 58.015625 25.390625 \r\nL 58.015625 17.1875 \r\nL 47.609375 17.1875 \r\nL 47.609375 0 \r\nL 37.796875 0 \r\nL 37.796875 17.1875 \r\nL 4.890625 17.1875 \r\nL 4.890625 26.703125 \r\nz\r\n\" id=\"DejaVuSans-52\"/>\r\n       </defs>\r\n       <use xlink:href=\"#DejaVuSans-52\"/>\r\n      </g>\r\n     </g>\r\n    </g>\r\n   </g>\r\n   <g id=\"matplotlib.axis_2\">\r\n    <g id=\"ytick_1\">\r\n     <g id=\"line2d_8\">\r\n      <defs>\r\n       <path d=\"M 0 0 \r\nL -3.5 0 \r\n\" id=\"m2fb93048aa\" style=\"stroke:#000000;stroke-width:0.8;\"/>\r\n      </defs>\r\n      <g>\r\n       <use style=\"stroke:#000000;stroke-width:0.8;\" x=\"33.2875\" xlink:href=\"#m2fb93048aa\" y=\"224.64\"/>\r\n      </g>\r\n     </g>\r\n     <g id=\"text_8\">\r\n      <!-- 0 -->\r\n      <g transform=\"translate(19.925 228.439219)scale(0.1 -0.1)\">\r\n       <use xlink:href=\"#DejaVuSans-48\"/>\r\n      </g>\r\n     </g>\r\n    </g>\r\n    <g id=\"ytick_2\">\r\n     <g id=\"line2d_9\">\r\n      <g>\r\n       <use style=\"stroke:#000000;stroke-width:0.8;\" x=\"33.2875\" xlink:href=\"#m2fb93048aa\" y=\"197.39188\"/>\r\n      </g>\r\n     </g>\r\n     <g id=\"text_9\">\r\n      <!-- 20 -->\r\n      <g transform=\"translate(13.5625 201.191098)scale(0.1 -0.1)\">\r\n       <use xlink:href=\"#DejaVuSans-50\"/>\r\n       <use x=\"63.623047\" xlink:href=\"#DejaVuSans-48\"/>\r\n      </g>\r\n     </g>\r\n    </g>\r\n    <g id=\"ytick_3\">\r\n     <g id=\"line2d_10\">\r\n      <g>\r\n       <use style=\"stroke:#000000;stroke-width:0.8;\" x=\"33.2875\" xlink:href=\"#m2fb93048aa\" y=\"170.143759\"/>\r\n      </g>\r\n     </g>\r\n     <g id=\"text_10\">\r\n      <!-- 40 -->\r\n      <g transform=\"translate(13.5625 173.942978)scale(0.1 -0.1)\">\r\n       <use xlink:href=\"#DejaVuSans-52\"/>\r\n       <use x=\"63.623047\" xlink:href=\"#DejaVuSans-48\"/>\r\n      </g>\r\n     </g>\r\n    </g>\r\n    <g id=\"ytick_4\">\r\n     <g id=\"line2d_11\">\r\n      <g>\r\n       <use style=\"stroke:#000000;stroke-width:0.8;\" x=\"33.2875\" xlink:href=\"#m2fb93048aa\" y=\"142.895639\"/>\r\n      </g>\r\n     </g>\r\n     <g id=\"text_11\">\r\n      <!-- 60 -->\r\n      <g transform=\"translate(13.5625 146.694858)scale(0.1 -0.1)\">\r\n       <defs>\r\n        <path d=\"M 33.015625 40.375 \r\nQ 26.375 40.375 22.484375 35.828125 \r\nQ 18.609375 31.296875 18.609375 23.390625 \r\nQ 18.609375 15.53125 22.484375 10.953125 \r\nQ 26.375 6.390625 33.015625 6.390625 \r\nQ 39.65625 6.390625 43.53125 10.953125 \r\nQ 47.40625 15.53125 47.40625 23.390625 \r\nQ 47.40625 31.296875 43.53125 35.828125 \r\nQ 39.65625 40.375 33.015625 40.375 \r\nz\r\nM 52.59375 71.296875 \r\nL 52.59375 62.3125 \r\nQ 48.875 64.0625 45.09375 64.984375 \r\nQ 41.3125 65.921875 37.59375 65.921875 \r\nQ 27.828125 65.921875 22.671875 59.328125 \r\nQ 17.53125 52.734375 16.796875 39.40625 \r\nQ 19.671875 43.65625 24.015625 45.921875 \r\nQ 28.375 48.1875 33.59375 48.1875 \r\nQ 44.578125 48.1875 50.953125 41.515625 \r\nQ 57.328125 34.859375 57.328125 23.390625 \r\nQ 57.328125 12.15625 50.6875 5.359375 \r\nQ 44.046875 -1.421875 33.015625 -1.421875 \r\nQ 20.359375 -1.421875 13.671875 8.265625 \r\nQ 6.984375 17.96875 6.984375 36.375 \r\nQ 6.984375 53.65625 15.1875 63.9375 \r\nQ 23.390625 74.21875 37.203125 74.21875 \r\nQ 40.921875 74.21875 44.703125 73.484375 \r\nQ 48.484375 72.75 52.59375 71.296875 \r\nz\r\n\" id=\"DejaVuSans-54\"/>\r\n       </defs>\r\n       <use xlink:href=\"#DejaVuSans-54\"/>\r\n       <use x=\"63.623047\" xlink:href=\"#DejaVuSans-48\"/>\r\n      </g>\r\n     </g>\r\n    </g>\r\n    <g id=\"ytick_5\">\r\n     <g id=\"line2d_12\">\r\n      <g>\r\n       <use style=\"stroke:#000000;stroke-width:0.8;\" x=\"33.2875\" xlink:href=\"#m2fb93048aa\" y=\"115.647519\"/>\r\n      </g>\r\n     </g>\r\n     <g id=\"text_12\">\r\n      <!-- 80 -->\r\n      <g transform=\"translate(13.5625 119.446738)scale(0.1 -0.1)\">\r\n       <defs>\r\n        <path d=\"M 31.78125 34.625 \r\nQ 24.75 34.625 20.71875 30.859375 \r\nQ 16.703125 27.09375 16.703125 20.515625 \r\nQ 16.703125 13.921875 20.71875 10.15625 \r\nQ 24.75 6.390625 31.78125 6.390625 \r\nQ 38.8125 6.390625 42.859375 10.171875 \r\nQ 46.921875 13.96875 46.921875 20.515625 \r\nQ 46.921875 27.09375 42.890625 30.859375 \r\nQ 38.875 34.625 31.78125 34.625 \r\nz\r\nM 21.921875 38.8125 \r\nQ 15.578125 40.375 12.03125 44.71875 \r\nQ 8.5 49.078125 8.5 55.328125 \r\nQ 8.5 64.0625 14.71875 69.140625 \r\nQ 20.953125 74.21875 31.78125 74.21875 \r\nQ 42.671875 74.21875 48.875 69.140625 \r\nQ 55.078125 64.0625 55.078125 55.328125 \r\nQ 55.078125 49.078125 51.53125 44.71875 \r\nQ 48 40.375 41.703125 38.8125 \r\nQ 48.828125 37.15625 52.796875 32.3125 \r\nQ 56.78125 27.484375 56.78125 20.515625 \r\nQ 56.78125 9.90625 50.3125 4.234375 \r\nQ 43.84375 -1.421875 31.78125 -1.421875 \r\nQ 19.734375 -1.421875 13.25 4.234375 \r\nQ 6.78125 9.90625 6.78125 20.515625 \r\nQ 6.78125 27.484375 10.78125 32.3125 \r\nQ 14.796875 37.15625 21.921875 38.8125 \r\nz\r\nM 18.3125 54.390625 \r\nQ 18.3125 48.734375 21.84375 45.5625 \r\nQ 25.390625 42.390625 31.78125 42.390625 \r\nQ 38.140625 42.390625 41.71875 45.5625 \r\nQ 45.3125 48.734375 45.3125 54.390625 \r\nQ 45.3125 60.0625 41.71875 63.234375 \r\nQ 38.140625 66.40625 31.78125 66.40625 \r\nQ 25.390625 66.40625 21.84375 63.234375 \r\nQ 18.3125 60.0625 18.3125 54.390625 \r\nz\r\n\" id=\"DejaVuSans-56\"/>\r\n       </defs>\r\n       <use xlink:href=\"#DejaVuSans-56\"/>\r\n       <use x=\"63.623047\" xlink:href=\"#DejaVuSans-48\"/>\r\n      </g>\r\n     </g>\r\n    </g>\r\n    <g id=\"ytick_6\">\r\n     <g id=\"line2d_13\">\r\n      <g>\r\n       <use style=\"stroke:#000000;stroke-width:0.8;\" x=\"33.2875\" xlink:href=\"#m2fb93048aa\" y=\"88.399398\"/>\r\n      </g>\r\n     </g>\r\n     <g id=\"text_13\">\r\n      <!-- 100 -->\r\n      <g transform=\"translate(7.2 92.198617)scale(0.1 -0.1)\">\r\n       <use xlink:href=\"#DejaVuSans-49\"/>\r\n       <use x=\"63.623047\" xlink:href=\"#DejaVuSans-48\"/>\r\n       <use x=\"127.246094\" xlink:href=\"#DejaVuSans-48\"/>\r\n      </g>\r\n     </g>\r\n    </g>\r\n    <g id=\"ytick_7\">\r\n     <g id=\"line2d_14\">\r\n      <g>\r\n       <use style=\"stroke:#000000;stroke-width:0.8;\" x=\"33.2875\" xlink:href=\"#m2fb93048aa\" y=\"61.151278\"/>\r\n      </g>\r\n     </g>\r\n     <g id=\"text_14\">\r\n      <!-- 120 -->\r\n      <g transform=\"translate(7.2 64.950497)scale(0.1 -0.1)\">\r\n       <use xlink:href=\"#DejaVuSans-49\"/>\r\n       <use x=\"63.623047\" xlink:href=\"#DejaVuSans-50\"/>\r\n       <use x=\"127.246094\" xlink:href=\"#DejaVuSans-48\"/>\r\n      </g>\r\n     </g>\r\n    </g>\r\n    <g id=\"ytick_8\">\r\n     <g id=\"line2d_15\">\r\n      <g>\r\n       <use style=\"stroke:#000000;stroke-width:0.8;\" x=\"33.2875\" xlink:href=\"#m2fb93048aa\" y=\"33.903158\"/>\r\n      </g>\r\n     </g>\r\n     <g id=\"text_15\">\r\n      <!-- 140 -->\r\n      <g transform=\"translate(7.2 37.702377)scale(0.1 -0.1)\">\r\n       <use xlink:href=\"#DejaVuSans-49\"/>\r\n       <use x=\"63.623047\" xlink:href=\"#DejaVuSans-52\"/>\r\n       <use x=\"127.246094\" xlink:href=\"#DejaVuSans-48\"/>\r\n      </g>\r\n     </g>\r\n    </g>\r\n   </g>\r\n   <g id=\"patch_13\">\r\n    <path d=\"M 33.2875 224.64 \r\nL 33.2875 7.2 \r\n\" style=\"fill:none;stroke:#000000;stroke-linecap:square;stroke-linejoin:miter;stroke-width:0.8;\"/>\r\n   </g>\r\n   <g id=\"patch_14\">\r\n    <path d=\"M 368.0875 224.64 \r\nL 368.0875 7.2 \r\n\" style=\"fill:none;stroke:#000000;stroke-linecap:square;stroke-linejoin:miter;stroke-width:0.8;\"/>\r\n   </g>\r\n   <g id=\"patch_15\">\r\n    <path d=\"M 33.2875 224.64 \r\nL 368.0875 224.64 \r\n\" style=\"fill:none;stroke:#000000;stroke-linecap:square;stroke-linejoin:miter;stroke-width:0.8;\"/>\r\n   </g>\r\n   <g id=\"patch_16\">\r\n    <path d=\"M 33.2875 7.2 \r\nL 368.0875 7.2 \r\n\" style=\"fill:none;stroke:#000000;stroke-linecap:square;stroke-linejoin:miter;stroke-width:0.8;\"/>\r\n   </g>\r\n  </g>\r\n </g>\r\n <defs>\r\n  <clipPath id=\"p1ec68cee75\">\r\n   <rect height=\"217.44\" width=\"334.8\" x=\"33.2875\" y=\"7.2\"/>\r\n  </clipPath>\r\n </defs>\r\n</svg>\r\n",
      "image/png": "[encoded data removed]"
     },
     "metadata": {
      "needs_background": "light"
     }
    }
   ],
   "source": [
    "plt.hist(zgroup[\"Age\"])"
   ]
  },
  {
   "cell_type": "code",
   "execution_count": 43,
   "metadata": {},
   "outputs": [],
   "source": [
    "fill_na_mean=lambda x:x.fillna(x.mean())"
   ]
  },
  {
   "cell_type": "code",
   "execution_count": 44,
   "metadata": {},
   "outputs": [
    {
     "output_type": "execute_result",
     "data": {
      "text/plain": [
       "         Height      Weight        Age        Income\n",
       "0    185.052366   26.792569  23.418269  15026.916600\n",
       "1    120.138260   75.400567  35.296546  15125.643876\n",
       "2    164.448871   50.092353  24.662576  24151.171142\n",
       "3    165.884198   45.954083  26.875325  15012.178696\n",
       "4    149.397658   57.094877  20.216799  17533.762105\n",
       "..          ...         ...        ...           ...\n",
       "495  201.048440    5.496364  38.603206  13393.834243\n",
       "496  162.851993   46.481889  33.167197  18947.312981\n",
       "497  189.207589   55.872498  30.392310  18198.882856\n",
       "498   85.745963  105.581399  46.994431  17220.240340\n",
       "499  140.855892   72.654767  29.726952  20093.978419\n",
       "\n",
       "[500 rows x 4 columns]"
      ],
      "text/html": "<div>\n<style scoped>\n    .dataframe tbody tr th:only-of-type {\n        vertical-align: middle;\n    }\n\n    .dataframe tbody tr th {\n        vertical-align: top;\n    }\n\n    .dataframe thead th {\n        text-align: right;\n    }\n</style>\n<table border=\"1\" class=\"dataframe\">\n  <thead>\n    <tr style=\"text-align: right;\">\n      <th></th>\n      <th>Height</th>\n      <th>Weight</th>\n      <th>Age</th>\n      <th>Income</th>\n    </tr>\n  </thead>\n  <tbody>\n    <tr>\n      <th>0</th>\n      <td>185.052366</td>\n      <td>26.792569</td>\n      <td>23.418269</td>\n      <td>15026.916600</td>\n    </tr>\n    <tr>\n      <th>1</th>\n      <td>120.138260</td>\n      <td>75.400567</td>\n      <td>35.296546</td>\n      <td>15125.643876</td>\n    </tr>\n    <tr>\n      <th>2</th>\n      <td>164.448871</td>\n      <td>50.092353</td>\n      <td>24.662576</td>\n      <td>24151.171142</td>\n    </tr>\n    <tr>\n      <th>3</th>\n      <td>165.884198</td>\n      <td>45.954083</td>\n      <td>26.875325</td>\n      <td>15012.178696</td>\n    </tr>\n    <tr>\n      <th>4</th>\n      <td>149.397658</td>\n      <td>57.094877</td>\n      <td>20.216799</td>\n      <td>17533.762105</td>\n    </tr>\n    <tr>\n      <th>...</th>\n      <td>...</td>\n      <td>...</td>\n      <td>...</td>\n      <td>...</td>\n    </tr>\n    <tr>\n      <th>495</th>\n      <td>201.048440</td>\n      <td>5.496364</td>\n      <td>38.603206</td>\n      <td>13393.834243</td>\n    </tr>\n    <tr>\n      <th>496</th>\n      <td>162.851993</td>\n      <td>46.481889</td>\n      <td>33.167197</td>\n      <td>18947.312981</td>\n    </tr>\n    <tr>\n      <th>497</th>\n      <td>189.207589</td>\n      <td>55.872498</td>\n      <td>30.392310</td>\n      <td>18198.882856</td>\n    </tr>\n    <tr>\n      <th>498</th>\n      <td>85.745963</td>\n      <td>105.581399</td>\n      <td>46.994431</td>\n      <td>17220.240340</td>\n    </tr>\n    <tr>\n      <th>499</th>\n      <td>140.855892</td>\n      <td>72.654767</td>\n      <td>29.726952</td>\n      <td>20093.978419</td>\n    </tr>\n  </tbody>\n</table>\n<p>500 rows × 4 columns</p>\n</div>"
     },
     "metadata": {},
     "execution_count": 44
    }
   ],
   "source": [
    "double_group.transform(fill_na_mean)#remplazar los nan con el proomedio de lambda"
   ]
  },
  {
   "cell_type": "code",
   "execution_count": 45,
   "metadata": {},
   "outputs": [
    {
     "output_type": "execute_result",
     "data": {
      "text/plain": [
       "    Gender Economy Status      Height     Weight        Age        Income\n",
       "0     Male           Rich  185.052366  26.792569  23.418269  15026.916600\n",
       "1     Male   Middle Class  120.138260  75.400567  35.296546  15125.643876\n",
       "2     Male           Poor  164.448871  50.092353  24.662576  24151.171142\n",
       "3   Female   Middle Class  165.884198  45.954083  26.875325  15012.178696\n",
       "6   Female           Rich  170.743302  98.823377  37.520010  13914.314820\n",
       "27  Female           Poor  163.468246  99.971628  20.448098  14978.645702"
      ],
      "text/html": "<div>\n<style scoped>\n    .dataframe tbody tr th:only-of-type {\n        vertical-align: middle;\n    }\n\n    .dataframe tbody tr th {\n        vertical-align: top;\n    }\n\n    .dataframe thead th {\n        text-align: right;\n    }\n</style>\n<table border=\"1\" class=\"dataframe\">\n  <thead>\n    <tr style=\"text-align: right;\">\n      <th></th>\n      <th>Gender</th>\n      <th>Economy Status</th>\n      <th>Height</th>\n      <th>Weight</th>\n      <th>Age</th>\n      <th>Income</th>\n    </tr>\n  </thead>\n  <tbody>\n    <tr>\n      <th>0</th>\n      <td>Male</td>\n      <td>Rich</td>\n      <td>185.052366</td>\n      <td>26.792569</td>\n      <td>23.418269</td>\n      <td>15026.916600</td>\n    </tr>\n    <tr>\n      <th>1</th>\n      <td>Male</td>\n      <td>Middle Class</td>\n      <td>120.138260</td>\n      <td>75.400567</td>\n      <td>35.296546</td>\n      <td>15125.643876</td>\n    </tr>\n    <tr>\n      <th>2</th>\n      <td>Male</td>\n      <td>Poor</td>\n      <td>164.448871</td>\n      <td>50.092353</td>\n      <td>24.662576</td>\n      <td>24151.171142</td>\n    </tr>\n    <tr>\n      <th>3</th>\n      <td>Female</td>\n      <td>Middle Class</td>\n      <td>165.884198</td>\n      <td>45.954083</td>\n      <td>26.875325</td>\n      <td>15012.178696</td>\n    </tr>\n    <tr>\n      <th>6</th>\n      <td>Female</td>\n      <td>Rich</td>\n      <td>170.743302</td>\n      <td>98.823377</td>\n      <td>37.520010</td>\n      <td>13914.314820</td>\n    </tr>\n    <tr>\n      <th>27</th>\n      <td>Female</td>\n      <td>Poor</td>\n      <td>163.468246</td>\n      <td>99.971628</td>\n      <td>20.448098</td>\n      <td>14978.645702</td>\n    </tr>\n  </tbody>\n</table>\n</div>"
     },
     "metadata": {},
     "execution_count": 45
    }
   ],
   "source": [
    "double_group.head(1)"
   ]
  },
  {
   "cell_type": "code",
   "execution_count": 46,
   "metadata": {},
   "outputs": [
    {
     "output_type": "execute_result",
     "data": {
      "text/plain": [
       "     Gender Economy Status      Height      Weight        Age        Income\n",
       "486  Female   Middle Class  207.029471   57.078238  28.690069  17627.047832\n",
       "489    Male   Middle Class  147.755234   80.329037  22.202489  19783.946730\n",
       "494    Male           Rich  141.106215   89.487643  50.314452  10380.337859\n",
       "497  Female           Rich  189.207589   55.872498  30.392310  18198.882856\n",
       "498    Male           Poor   85.745963  105.581399  46.994431  17220.240340\n",
       "499  Female           Poor  140.855892   72.654767  29.726952  20093.978419"
      ],
      "text/html": "<div>\n<style scoped>\n    .dataframe tbody tr th:only-of-type {\n        vertical-align: middle;\n    }\n\n    .dataframe tbody tr th {\n        vertical-align: top;\n    }\n\n    .dataframe thead th {\n        text-align: right;\n    }\n</style>\n<table border=\"1\" class=\"dataframe\">\n  <thead>\n    <tr style=\"text-align: right;\">\n      <th></th>\n      <th>Gender</th>\n      <th>Economy Status</th>\n      <th>Height</th>\n      <th>Weight</th>\n      <th>Age</th>\n      <th>Income</th>\n    </tr>\n  </thead>\n  <tbody>\n    <tr>\n      <th>486</th>\n      <td>Female</td>\n      <td>Middle Class</td>\n      <td>207.029471</td>\n      <td>57.078238</td>\n      <td>28.690069</td>\n      <td>17627.047832</td>\n    </tr>\n    <tr>\n      <th>489</th>\n      <td>Male</td>\n      <td>Middle Class</td>\n      <td>147.755234</td>\n      <td>80.329037</td>\n      <td>22.202489</td>\n      <td>19783.946730</td>\n    </tr>\n    <tr>\n      <th>494</th>\n      <td>Male</td>\n      <td>Rich</td>\n      <td>141.106215</td>\n      <td>89.487643</td>\n      <td>50.314452</td>\n      <td>10380.337859</td>\n    </tr>\n    <tr>\n      <th>497</th>\n      <td>Female</td>\n      <td>Rich</td>\n      <td>189.207589</td>\n      <td>55.872498</td>\n      <td>30.392310</td>\n      <td>18198.882856</td>\n    </tr>\n    <tr>\n      <th>498</th>\n      <td>Male</td>\n      <td>Poor</td>\n      <td>85.745963</td>\n      <td>105.581399</td>\n      <td>46.994431</td>\n      <td>17220.240340</td>\n    </tr>\n    <tr>\n      <th>499</th>\n      <td>Female</td>\n      <td>Poor</td>\n      <td>140.855892</td>\n      <td>72.654767</td>\n      <td>29.726952</td>\n      <td>20093.978419</td>\n    </tr>\n  </tbody>\n</table>\n</div>"
     },
     "metadata": {},
     "execution_count": 46
    }
   ],
   "source": [
    "double_group.tail(1)"
   ]
  },
  {
   "cell_type": "code",
   "execution_count": 47,
   "metadata": {},
   "outputs": [
    {
     "output_type": "execute_result",
     "data": {
      "text/plain": [
       "                           Height     Weight        Age        Income\n",
       "Gender Economy Status                                                \n",
       "Female Middle Class    124.976047  80.098506  31.168949  19606.486737\n",
       "       Poor            157.771850  23.673114  43.255397  17385.347749\n",
       "       Rich            176.810273  88.607440  38.096442  17932.424919\n",
       "Male   Middle Class    177.011996  42.821262  36.135250  16442.014414\n",
       "       Poor            181.834461  47.907215  20.119116  19681.644830\n",
       "       Rich            115.540475  59.732191  17.010080  17051.605426"
      ],
      "text/html": "<div>\n<style scoped>\n    .dataframe tbody tr th:only-of-type {\n        vertical-align: middle;\n    }\n\n    .dataframe tbody tr th {\n        vertical-align: top;\n    }\n\n    .dataframe thead th {\n        text-align: right;\n    }\n</style>\n<table border=\"1\" class=\"dataframe\">\n  <thead>\n    <tr style=\"text-align: right;\">\n      <th></th>\n      <th></th>\n      <th>Height</th>\n      <th>Weight</th>\n      <th>Age</th>\n      <th>Income</th>\n    </tr>\n    <tr>\n      <th>Gender</th>\n      <th>Economy Status</th>\n      <th></th>\n      <th></th>\n      <th></th>\n      <th></th>\n    </tr>\n  </thead>\n  <tbody>\n    <tr>\n      <th rowspan=\"3\" valign=\"top\">Female</th>\n      <th>Middle Class</th>\n      <td>124.976047</td>\n      <td>80.098506</td>\n      <td>31.168949</td>\n      <td>19606.486737</td>\n    </tr>\n    <tr>\n      <th>Poor</th>\n      <td>157.771850</td>\n      <td>23.673114</td>\n      <td>43.255397</td>\n      <td>17385.347749</td>\n    </tr>\n    <tr>\n      <th>Rich</th>\n      <td>176.810273</td>\n      <td>88.607440</td>\n      <td>38.096442</td>\n      <td>17932.424919</td>\n    </tr>\n    <tr>\n      <th rowspan=\"3\" valign=\"top\">Male</th>\n      <th>Middle Class</th>\n      <td>177.011996</td>\n      <td>42.821262</td>\n      <td>36.135250</td>\n      <td>16442.014414</td>\n    </tr>\n    <tr>\n      <th>Poor</th>\n      <td>181.834461</td>\n      <td>47.907215</td>\n      <td>20.119116</td>\n      <td>19681.644830</td>\n    </tr>\n    <tr>\n      <th>Rich</th>\n      <td>115.540475</td>\n      <td>59.732191</td>\n      <td>17.010080</td>\n      <td>17051.605426</td>\n    </tr>\n  </tbody>\n</table>\n</div>"
     },
     "metadata": {},
     "execution_count": 47
    }
   ],
   "source": [
    "double_group.nth(32)"
   ]
  },
  {
   "cell_type": "code",
   "execution_count": 49,
   "metadata": {},
   "outputs": [],
   "source": [
    "data_sorted=data.sort_values([\"Age\",\"Income\"])"
   ]
  },
  {
   "cell_type": "code",
   "execution_count": 50,
   "metadata": {},
   "outputs": [
    {
     "output_type": "execute_result",
     "data": {
      "text/plain": [
       "     Gender Economy Status      Height     Weight       Age        Income\n",
       "452  Female           Poor  170.167363  92.102481 -3.328557  20353.479674\n",
       "109    Male           Rich  208.987072  56.682538 -3.240780  18691.443255\n",
       "217  Female           Rich  140.732246  52.572664  2.263394  22260.139581\n",
       "164    Male           Rich  164.735476  74.556403  3.713215  21656.667508\n",
       "37     Male           Rich  162.727346  77.012108  3.753410  15899.010086"
      ],
      "text/html": "<div>\n<style scoped>\n    .dataframe tbody tr th:only-of-type {\n        vertical-align: middle;\n    }\n\n    .dataframe tbody tr th {\n        vertical-align: top;\n    }\n\n    .dataframe thead th {\n        text-align: right;\n    }\n</style>\n<table border=\"1\" class=\"dataframe\">\n  <thead>\n    <tr style=\"text-align: right;\">\n      <th></th>\n      <th>Gender</th>\n      <th>Economy Status</th>\n      <th>Height</th>\n      <th>Weight</th>\n      <th>Age</th>\n      <th>Income</th>\n    </tr>\n  </thead>\n  <tbody>\n    <tr>\n      <th>452</th>\n      <td>Female</td>\n      <td>Poor</td>\n      <td>170.167363</td>\n      <td>92.102481</td>\n      <td>-3.328557</td>\n      <td>20353.479674</td>\n    </tr>\n    <tr>\n      <th>109</th>\n      <td>Male</td>\n      <td>Rich</td>\n      <td>208.987072</td>\n      <td>56.682538</td>\n      <td>-3.240780</td>\n      <td>18691.443255</td>\n    </tr>\n    <tr>\n      <th>217</th>\n      <td>Female</td>\n      <td>Rich</td>\n      <td>140.732246</td>\n      <td>52.572664</td>\n      <td>2.263394</td>\n      <td>22260.139581</td>\n    </tr>\n    <tr>\n      <th>164</th>\n      <td>Male</td>\n      <td>Rich</td>\n      <td>164.735476</td>\n      <td>74.556403</td>\n      <td>3.713215</td>\n      <td>21656.667508</td>\n    </tr>\n    <tr>\n      <th>37</th>\n      <td>Male</td>\n      <td>Rich</td>\n      <td>162.727346</td>\n      <td>77.012108</td>\n      <td>3.753410</td>\n      <td>15899.010086</td>\n    </tr>\n  </tbody>\n</table>\n</div>"
     },
     "metadata": {},
     "execution_count": 50
    }
   ],
   "source": [
    "data_sorted.head()"
   ]
  },
  {
   "cell_type": "code",
   "execution_count": 51,
   "metadata": {},
   "outputs": [],
   "source": [
    "age_grouped=data_sorted.groupby(\"Gender\")"
   ]
  },
  {
   "cell_type": "code",
   "execution_count": 52,
   "metadata": {},
   "outputs": [
    {
     "output_type": "execute_result",
     "data": {
      "text/plain": [
       "     Gender Economy Status      Height      Weight        Age        Income\n",
       "227    Male   Middle Class  174.648882   85.772286  60.124555  16581.228529\n",
       "147  Female   Middle Class  202.089420  106.138474  81.683056  11762.452142"
      ],
      "text/html": "<div>\n<style scoped>\n    .dataframe tbody tr th:only-of-type {\n        vertical-align: middle;\n    }\n\n    .dataframe tbody tr th {\n        vertical-align: top;\n    }\n\n    .dataframe thead th {\n        text-align: right;\n    }\n</style>\n<table border=\"1\" class=\"dataframe\">\n  <thead>\n    <tr style=\"text-align: right;\">\n      <th></th>\n      <th>Gender</th>\n      <th>Economy Status</th>\n      <th>Height</th>\n      <th>Weight</th>\n      <th>Age</th>\n      <th>Income</th>\n    </tr>\n  </thead>\n  <tbody>\n    <tr>\n      <th>227</th>\n      <td>Male</td>\n      <td>Middle Class</td>\n      <td>174.648882</td>\n      <td>85.772286</td>\n      <td>60.124555</td>\n      <td>16581.228529</td>\n    </tr>\n    <tr>\n      <th>147</th>\n      <td>Female</td>\n      <td>Middle Class</td>\n      <td>202.089420</td>\n      <td>106.138474</td>\n      <td>81.683056</td>\n      <td>11762.452142</td>\n    </tr>\n  </tbody>\n</table>\n</div>"
     },
     "metadata": {},
     "execution_count": 52
    }
   ],
   "source": [
    "age_grouped.tail(1)"
   ]
  },
  {
   "cell_type": "code",
   "execution_count": 53,
   "metadata": {},
   "outputs": [
    {
     "output_type": "execute_result",
     "data": {
      "text/plain": [
       "     Gender Economy Status      Height     Weight       Age        Income\n",
       "452  Female           Poor  170.167363  92.102481 -3.328557  20353.479674\n",
       "109    Male           Rich  208.987072  56.682538 -3.240780  18691.443255"
      ],
      "text/html": "<div>\n<style scoped>\n    .dataframe tbody tr th:only-of-type {\n        vertical-align: middle;\n    }\n\n    .dataframe tbody tr th {\n        vertical-align: top;\n    }\n\n    .dataframe thead th {\n        text-align: right;\n    }\n</style>\n<table border=\"1\" class=\"dataframe\">\n  <thead>\n    <tr style=\"text-align: right;\">\n      <th></th>\n      <th>Gender</th>\n      <th>Economy Status</th>\n      <th>Height</th>\n      <th>Weight</th>\n      <th>Age</th>\n      <th>Income</th>\n    </tr>\n  </thead>\n  <tbody>\n    <tr>\n      <th>452</th>\n      <td>Female</td>\n      <td>Poor</td>\n      <td>170.167363</td>\n      <td>92.102481</td>\n      <td>-3.328557</td>\n      <td>20353.479674</td>\n    </tr>\n    <tr>\n      <th>109</th>\n      <td>Male</td>\n      <td>Rich</td>\n      <td>208.987072</td>\n      <td>56.682538</td>\n      <td>-3.240780</td>\n      <td>18691.443255</td>\n    </tr>\n  </tbody>\n</table>\n</div>"
     },
     "metadata": {},
     "execution_count": 53
    }
   ],
   "source": [
    "age_grouped.head(1)"
   ]
  },
  {
   "cell_type": "code",
   "execution_count": null,
   "metadata": {},
   "outputs": [],
   "source": []
  }
 ]
}
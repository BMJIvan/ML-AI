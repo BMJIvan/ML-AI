{
 "metadata": {
  "language_info": {
   "codemirror_mode": {
    "name": "ipython",
    "version": 3
   },
   "file_extension": ".py",
   "mimetype": "text/x-python",
   "name": "python",
   "nbconvert_exporter": "python",
   "pygments_lexer": "ipython3",
   "version": "3.8.7-final"
  },
  "orig_nbformat": 2,
  "kernelspec": {
   "name": "python3",
   "display_name": "Python 3.8.7 64-bit",
   "metadata": {
    "interpreter": {
     "hash": "ea95fc2df1cee6bb0985586e8a41cf7caceb271a33d321960fcb1bcf60d2a579"
    }
   }
  }
 },
 "nbformat": 4,
 "nbformat_minor": 2,
 "cells": [
  {
   "cell_type": "code",
   "execution_count": 1,
   "metadata": {},
   "outputs": [],
   "source": [
    "#El metodo de k-means"
   ]
  },
  {
   "cell_type": "code",
   "execution_count": 2,
   "metadata": {},
   "outputs": [],
   "source": [
    "import numpy"
   ]
  },
  {
   "cell_type": "code",
   "execution_count": 4,
   "metadata": {},
   "outputs": [],
   "source": [
    "data=numpy.random.random(90).reshape(30,3)"
   ]
  },
  {
   "cell_type": "code",
   "execution_count": 7,
   "metadata": {},
   "outputs": [
    {
     "output_type": "execute_result",
     "data": {
      "text/plain": [
       "array([[0.47729459, 0.34348936, 0.02035742],\n",
       "       [0.74349202, 0.80857665, 0.87586523]])"
      ]
     },
     "metadata": {},
     "execution_count": 7
    }
   ],
   "source": [
    "c1=numpy.random.choice(range(len(data)))\n",
    "c2=numpy.random.choice(range(len(data)))\n",
    "clust_centera=numpy.vstack([data[c1],data[c2]])\n",
    "clust_centera"
   ]
  },
  {
   "cell_type": "code",
   "execution_count": 9,
   "metadata": {},
   "outputs": [],
   "source": [
    "from scipy.cluster.vq import vq"
   ]
  },
  {
   "cell_type": "code",
   "execution_count": 10,
   "metadata": {},
   "outputs": [
    {
     "output_type": "execute_result",
     "data": {
      "text/plain": [
       "(array([0, 0, 0, 0, 1, 0, 0, 1, 0, 0, 1, 1, 1, 1, 1, 0, 0, 1, 0, 1, 1, 0,\n",
       "        1, 0, 0, 0, 0, 0, 0, 0]),\n",
       " array([0.50608765, 0.57198938, 0.64416897, 0.61661862, 0.22070955,\n",
       "        0.2247252 , 0.40832587, 0.63060995, 0.28259021, 0.48817805,\n",
       "        0.60491079, 0.81654421, 0.46880467, 0.31422801, 0.58152232,\n",
       "        0.26486703, 0.59399397, 0.5070503 , 0.393663  , 0.        ,\n",
       "        0.55698589, 0.        , 0.68479181, 0.3867608 , 0.52599412,\n",
       "        0.39364212, 0.73952111, 0.68293147, 0.44290467, 0.4775531 ]))"
      ]
     },
     "metadata": {},
     "execution_count": 10
    }
   ],
   "source": [
    "vq(data,clust_centera)"
   ]
  },
  {
   "cell_type": "code",
   "execution_count": 11,
   "metadata": {},
   "outputs": [],
   "source": [
    "from scipy.cluster.vq import kmeans"
   ]
  },
  {
   "cell_type": "code",
   "execution_count": 12,
   "metadata": {},
   "outputs": [
    {
     "output_type": "execute_result",
     "data": {
      "text/plain": [
       "(array([[0.63919966, 0.45003494, 0.19407585],\n",
       "        [0.38483694, 0.45412455, 0.72839013]]),\n",
       " 0.35022034086986803)"
      ]
     },
     "metadata": {},
     "execution_count": 12
    }
   ],
   "source": [
    "kmeans(data,clust_centera) #valores de los varicentros #el valor final es la suma de los errores al cuadrado"
   ]
  },
  {
   "cell_type": "code",
   "execution_count": 13,
   "metadata": {},
   "outputs": [
    {
     "output_type": "execute_result",
     "data": {
      "text/plain": [
       "(array([[0.63919966, 0.45003494, 0.19407585],\n",
       "        [0.38483694, 0.45412455, 0.72839013]]),\n",
       " 0.35022034086986803)"
      ]
     },
     "metadata": {},
     "execution_count": 13
    }
   ],
   "source": [
    "kmeans(data,2) #indicando el numero de clusters"
   ]
  },
  {
   "cell_type": "code",
   "execution_count": null,
   "metadata": {},
   "outputs": [],
   "source": []
  }
 ]
}
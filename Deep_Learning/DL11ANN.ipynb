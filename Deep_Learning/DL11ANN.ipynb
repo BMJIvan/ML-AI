{
 "metadata": {
  "language_info": {
   "codemirror_mode": {
    "name": "ipython",
    "version": 3
   },
   "file_extension": ".py",
   "mimetype": "text/x-python",
   "name": "python",
   "nbconvert_exporter": "python",
   "pygments_lexer": "ipython3",
   "version": "3.7.8-candidate1"
  },
  "orig_nbformat": 2,
  "kernelspec": {
   "name": "python378jvsc74a57bd09e80d76ea6f7910366ea144e4925c6ce12227515ad9ee1266cb0780bd8ad6c40",
   "display_name": "Python 3.7.8 64-bit"
  },
  "metadata": {
   "interpreter": {
    "hash": "9e80d76ea6f7910366ea144e4925c6ce12227515ad9ee1266cb0780bd8ad6c40"
   }
  }
 },
 "nbformat": 4,
 "nbformat_minor": 2,
 "cells": [
  {
   "cell_type": "code",
   "execution_count": 1,
   "metadata": {},
   "outputs": [],
   "source": [
    "import pandas \n",
    "import numpy\n",
    "import tensorflow"
   ]
  },
  {
   "cell_type": "code",
   "execution_count": 2,
   "metadata": {},
   "outputs": [],
   "source": [
    "from sklearn.base import TransformerMixin, BaseEstimator\n",
    "\n",
    "class ColumnExtractor(BaseEstimator, TransformerMixin):\n",
    "    def __init__(self, columns, output_type=\"matrix\"):\n",
    "        self.columns=columns\n",
    "        self.output_type=output_type\n",
    "\n",
    "    def transform(self, X, **tranform_params):\n",
    "        if isinstance(X, list):\n",
    "            X=pandas.DataFrame.from_dict(X)\n",
    "        if self.output_type==\"matrix\":\n",
    "            return self.output_type==\"dataframe\"\n",
    "        elif self.output_type==\"dataframe\":\n",
    "            return X[self.columns]\n",
    "        raise Exception(\"output_type tienen que ser matrix o dataframe\")\n",
    "\n",
    "    def fit(self, X, y=None, **fit_params):\n",
    "        return self\n",
    "\n",
    "class ColumnDelete(BaseEstimator, TransformerMixin):\n",
    "    def __init__(self, columns, deleteCols):\n",
    "        self.columns=columns\n",
    "\n",
    "    def transform(self, X, **tranform_params):\n",
    "        X.drop(deleteCols, axis=1)\n",
    "        return X\n",
    "\n",
    "    def fit(self, X, y=None, **fit_params):\n",
    "        return self"
   ]
  },
  {
   "cell_type": "code",
   "execution_count": 3,
   "metadata": {},
   "outputs": [],
   "source": [
    "def deleteColumns(trainColsName, deleteCols):\n",
    "    bool_res=True\n",
    "    trainColsNameClean=[]\n",
    "    for trainColName in trainColsName:\n",
    "        for deleteCol in deleteCols:\n",
    "            bool_res*=trainColName!=deleteCol\n",
    "        trainColsNameClean.append(trainColName) if bool_res else _\n",
    "        bool_res=True\n",
    "    return trainColsNameClean"
   ]
  },
  {
   "cell_type": "code",
   "execution_count": 4,
   "metadata": {},
   "outputs": [],
   "source": [
    "def get_dummies_df(columns_dummies):\n",
    "    global X\n",
    "    for column in columns_dummies:\n",
    "        dummy=pandas.get_dummies(X[column],column, drop_first=True )\n",
    "        X=pandas.concat([X, dummy], axis=1)\n",
    "        X=X.drop(column, axis=1)"
   ]
  },
  {
   "cell_type": "code",
   "execution_count": 300,
   "metadata": {},
   "outputs": [],
   "source": [
    "data=pandas.read_csv(r\"./Datasets/Artificial_Neural_Networks/Churn_Modelling.csv\")"
   ]
  },
  {
   "cell_type": "code",
   "execution_count": 301,
   "metadata": {},
   "outputs": [
    {
     "output_type": "execute_result",
     "data": {
      "text/plain": [
       "   RowNumber  CustomerId   Surname  CreditScore Geography  Gender  Age  \\\n",
       "0          1    15634602  Hargrave          619    France  Female   42   \n",
       "1          2    15647311      Hill          608     Spain  Female   41   \n",
       "2          3    15619304      Onio          502    France  Female   42   \n",
       "3          4    15701354      Boni          699    France  Female   39   \n",
       "4          5    15737888  Mitchell          850     Spain  Female   43   \n",
       "\n",
       "   Tenure    Balance  NumOfProducts  HasCrCard  IsActiveMember  \\\n",
       "0       2       0.00              1          1               1   \n",
       "1       1   83807.86              1          0               1   \n",
       "2       8  159660.80              3          1               0   \n",
       "3       1       0.00              2          0               0   \n",
       "4       2  125510.82              1          1               1   \n",
       "\n",
       "   EstimatedSalary  Exited  \n",
       "0        101348.88       1  \n",
       "1        112542.58       0  \n",
       "2        113931.57       1  \n",
       "3         93826.63       0  \n",
       "4         79084.10       0  "
      ],
      "text/html": "<div>\n<style scoped>\n    .dataframe tbody tr th:only-of-type {\n        vertical-align: middle;\n    }\n\n    .dataframe tbody tr th {\n        vertical-align: top;\n    }\n\n    .dataframe thead th {\n        text-align: right;\n    }\n</style>\n<table border=\"1\" class=\"dataframe\">\n  <thead>\n    <tr style=\"text-align: right;\">\n      <th></th>\n      <th>RowNumber</th>\n      <th>CustomerId</th>\n      <th>Surname</th>\n      <th>CreditScore</th>\n      <th>Geography</th>\n      <th>Gender</th>\n      <th>Age</th>\n      <th>Tenure</th>\n      <th>Balance</th>\n      <th>NumOfProducts</th>\n      <th>HasCrCard</th>\n      <th>IsActiveMember</th>\n      <th>EstimatedSalary</th>\n      <th>Exited</th>\n    </tr>\n  </thead>\n  <tbody>\n    <tr>\n      <th>0</th>\n      <td>1</td>\n      <td>15634602</td>\n      <td>Hargrave</td>\n      <td>619</td>\n      <td>France</td>\n      <td>Female</td>\n      <td>42</td>\n      <td>2</td>\n      <td>0.00</td>\n      <td>1</td>\n      <td>1</td>\n      <td>1</td>\n      <td>101348.88</td>\n      <td>1</td>\n    </tr>\n    <tr>\n      <th>1</th>\n      <td>2</td>\n      <td>15647311</td>\n      <td>Hill</td>\n      <td>608</td>\n      <td>Spain</td>\n      <td>Female</td>\n      <td>41</td>\n      <td>1</td>\n      <td>83807.86</td>\n      <td>1</td>\n      <td>0</td>\n      <td>1</td>\n      <td>112542.58</td>\n      <td>0</td>\n    </tr>\n    <tr>\n      <th>2</th>\n      <td>3</td>\n      <td>15619304</td>\n      <td>Onio</td>\n      <td>502</td>\n      <td>France</td>\n      <td>Female</td>\n      <td>42</td>\n      <td>8</td>\n      <td>159660.80</td>\n      <td>3</td>\n      <td>1</td>\n      <td>0</td>\n      <td>113931.57</td>\n      <td>1</td>\n    </tr>\n    <tr>\n      <th>3</th>\n      <td>4</td>\n      <td>15701354</td>\n      <td>Boni</td>\n      <td>699</td>\n      <td>France</td>\n      <td>Female</td>\n      <td>39</td>\n      <td>1</td>\n      <td>0.00</td>\n      <td>2</td>\n      <td>0</td>\n      <td>0</td>\n      <td>93826.63</td>\n      <td>0</td>\n    </tr>\n    <tr>\n      <th>4</th>\n      <td>5</td>\n      <td>15737888</td>\n      <td>Mitchell</td>\n      <td>850</td>\n      <td>Spain</td>\n      <td>Female</td>\n      <td>43</td>\n      <td>2</td>\n      <td>125510.82</td>\n      <td>1</td>\n      <td>1</td>\n      <td>1</td>\n      <td>79084.10</td>\n      <td>0</td>\n    </tr>\n  </tbody>\n</table>\n</div>"
     },
     "metadata": {},
     "execution_count": 301
    }
   ],
   "source": [
    "data.head()"
   ]
  },
  {
   "cell_type": "code",
   "execution_count": 302,
   "metadata": {},
   "outputs": [],
   "source": [
    "columns=data.columns\n",
    "targetColName=\"Exited\"\n",
    "trainColsName=[col for col in columns if col!=targetColName]\n",
    "deleteCols=[\"RowNumber\", \"CustomerId\", \"Surname\"]\n",
    "\n",
    "y=data[targetColName]\n",
    "\n",
    "trainColsNameClean=deleteColumns(trainColsName, deleteCols)\n",
    "X=data[trainColsNameClean]\n",
    "\n",
    "columns_dummies=[\"Gender\", \"Geography\"]\n",
    "get_dummies_df(columns_dummies)\n",
    "X.head()\n",
    "\n",
    "variables_numericas=[\"CreditScore\", \"Age\", \"Tenure\", \"Balance\", \"EstimatedSalary\", \"NumOfProducts\"]\n",
    "variables_categoricas=[\"HasCrCard\", \"IsActiveMember\", \"Gender_Male\", \"Geography_Germany\", \"Geography_Spain\"]"
   ]
  },
  {
   "cell_type": "code",
   "execution_count": 303,
   "metadata": {},
   "outputs": [
    {
     "output_type": "execute_result",
     "data": {
      "text/plain": [
       "                 CreditScore       Age    Tenure   Balance  EstimatedSalary  \\\n",
       "CreditScore         1.000000 -0.003965  0.000842  0.006268        -0.001384   \n",
       "Age                -0.003965  1.000000 -0.009997  0.028308        -0.007201   \n",
       "Tenure              0.000842 -0.009997  1.000000 -0.012254         0.007784   \n",
       "Balance             0.006268  0.028308 -0.012254  1.000000         0.012797   \n",
       "EstimatedSalary    -0.001384 -0.007201  0.007784  0.012797         1.000000   \n",
       "NumOfProducts       0.012238 -0.030680  0.013444 -0.304180         0.014204   \n",
       "\n",
       "                 NumOfProducts  \n",
       "CreditScore           0.012238  \n",
       "Age                  -0.030680  \n",
       "Tenure                0.013444  \n",
       "Balance              -0.304180  \n",
       "EstimatedSalary       0.014204  \n",
       "NumOfProducts         1.000000  "
      ],
      "text/html": "<div>\n<style scoped>\n    .dataframe tbody tr th:only-of-type {\n        vertical-align: middle;\n    }\n\n    .dataframe tbody tr th {\n        vertical-align: top;\n    }\n\n    .dataframe thead th {\n        text-align: right;\n    }\n</style>\n<table border=\"1\" class=\"dataframe\">\n  <thead>\n    <tr style=\"text-align: right;\">\n      <th></th>\n      <th>CreditScore</th>\n      <th>Age</th>\n      <th>Tenure</th>\n      <th>Balance</th>\n      <th>EstimatedSalary</th>\n      <th>NumOfProducts</th>\n    </tr>\n  </thead>\n  <tbody>\n    <tr>\n      <th>CreditScore</th>\n      <td>1.000000</td>\n      <td>-0.003965</td>\n      <td>0.000842</td>\n      <td>0.006268</td>\n      <td>-0.001384</td>\n      <td>0.012238</td>\n    </tr>\n    <tr>\n      <th>Age</th>\n      <td>-0.003965</td>\n      <td>1.000000</td>\n      <td>-0.009997</td>\n      <td>0.028308</td>\n      <td>-0.007201</td>\n      <td>-0.030680</td>\n    </tr>\n    <tr>\n      <th>Tenure</th>\n      <td>0.000842</td>\n      <td>-0.009997</td>\n      <td>1.000000</td>\n      <td>-0.012254</td>\n      <td>0.007784</td>\n      <td>0.013444</td>\n    </tr>\n    <tr>\n      <th>Balance</th>\n      <td>0.006268</td>\n      <td>0.028308</td>\n      <td>-0.012254</td>\n      <td>1.000000</td>\n      <td>0.012797</td>\n      <td>-0.304180</td>\n    </tr>\n    <tr>\n      <th>EstimatedSalary</th>\n      <td>-0.001384</td>\n      <td>-0.007201</td>\n      <td>0.007784</td>\n      <td>0.012797</td>\n      <td>1.000000</td>\n      <td>0.014204</td>\n    </tr>\n    <tr>\n      <th>NumOfProducts</th>\n      <td>0.012238</td>\n      <td>-0.030680</td>\n      <td>0.013444</td>\n      <td>-0.304180</td>\n      <td>0.014204</td>\n      <td>1.000000</td>\n    </tr>\n  </tbody>\n</table>\n</div>"
     },
     "metadata": {},
     "execution_count": 303
    }
   ],
   "source": [
    "X[variables_numericas].corr()"
   ]
  },
  {
   "cell_type": "code",
   "execution_count": 304,
   "metadata": {},
   "outputs": [],
   "source": [
    "X=X.drop(\"Age\", axis=1)\n",
    "variables_numericas=[var for var in variables_numericas if var!=\"Age\"]"
   ]
  },
  {
   "cell_type": "code",
   "execution_count": 305,
   "metadata": {},
   "outputs": [
    {
     "output_type": "execute_result",
     "data": {
      "text/plain": [
       "      CreditScore  Tenure    Balance  NumOfProducts  HasCrCard  \\\n",
       "0             619       2       0.00              1          1   \n",
       "1             608       1   83807.86              1          0   \n",
       "2             502       8  159660.80              3          1   \n",
       "3             699       1       0.00              2          0   \n",
       "4             850       2  125510.82              1          1   \n",
       "...           ...     ...        ...            ...        ...   \n",
       "9995          771       5       0.00              2          1   \n",
       "9996          516      10   57369.61              1          1   \n",
       "9997          709       7       0.00              1          0   \n",
       "9998          772       3   75075.31              2          1   \n",
       "9999          792       4  130142.79              1          1   \n",
       "\n",
       "      IsActiveMember  EstimatedSalary  Gender_Male  Geography_Germany  \\\n",
       "0                  1        101348.88            0                  0   \n",
       "1                  1        112542.58            0                  0   \n",
       "2                  0        113931.57            0                  0   \n",
       "3                  0         93826.63            0                  0   \n",
       "4                  1         79084.10            0                  0   \n",
       "...              ...              ...          ...                ...   \n",
       "9995               0         96270.64            1                  0   \n",
       "9996               1        101699.77            1                  0   \n",
       "9997               1         42085.58            0                  0   \n",
       "9998               0         92888.52            1                  1   \n",
       "9999               0         38190.78            0                  0   \n",
       "\n",
       "      Geography_Spain  \n",
       "0                   0  \n",
       "1                   1  \n",
       "2                   0  \n",
       "3                   0  \n",
       "4                   1  \n",
       "...               ...  \n",
       "9995                0  \n",
       "9996                0  \n",
       "9997                0  \n",
       "9998                0  \n",
       "9999                0  \n",
       "\n",
       "[10000 rows x 10 columns]"
      ],
      "text/html": "<div>\n<style scoped>\n    .dataframe tbody tr th:only-of-type {\n        vertical-align: middle;\n    }\n\n    .dataframe tbody tr th {\n        vertical-align: top;\n    }\n\n    .dataframe thead th {\n        text-align: right;\n    }\n</style>\n<table border=\"1\" class=\"dataframe\">\n  <thead>\n    <tr style=\"text-align: right;\">\n      <th></th>\n      <th>CreditScore</th>\n      <th>Tenure</th>\n      <th>Balance</th>\n      <th>NumOfProducts</th>\n      <th>HasCrCard</th>\n      <th>IsActiveMember</th>\n      <th>EstimatedSalary</th>\n      <th>Gender_Male</th>\n      <th>Geography_Germany</th>\n      <th>Geography_Spain</th>\n    </tr>\n  </thead>\n  <tbody>\n    <tr>\n      <th>0</th>\n      <td>619</td>\n      <td>2</td>\n      <td>0.00</td>\n      <td>1</td>\n      <td>1</td>\n      <td>1</td>\n      <td>101348.88</td>\n      <td>0</td>\n      <td>0</td>\n      <td>0</td>\n    </tr>\n    <tr>\n      <th>1</th>\n      <td>608</td>\n      <td>1</td>\n      <td>83807.86</td>\n      <td>1</td>\n      <td>0</td>\n      <td>1</td>\n      <td>112542.58</td>\n      <td>0</td>\n      <td>0</td>\n      <td>1</td>\n    </tr>\n    <tr>\n      <th>2</th>\n      <td>502</td>\n      <td>8</td>\n      <td>159660.80</td>\n      <td>3</td>\n      <td>1</td>\n      <td>0</td>\n      <td>113931.57</td>\n      <td>0</td>\n      <td>0</td>\n      <td>0</td>\n    </tr>\n    <tr>\n      <th>3</th>\n      <td>699</td>\n      <td>1</td>\n      <td>0.00</td>\n      <td>2</td>\n      <td>0</td>\n      <td>0</td>\n      <td>93826.63</td>\n      <td>0</td>\n      <td>0</td>\n      <td>0</td>\n    </tr>\n    <tr>\n      <th>4</th>\n      <td>850</td>\n      <td>2</td>\n      <td>125510.82</td>\n      <td>1</td>\n      <td>1</td>\n      <td>1</td>\n      <td>79084.10</td>\n      <td>0</td>\n      <td>0</td>\n      <td>1</td>\n    </tr>\n    <tr>\n      <th>...</th>\n      <td>...</td>\n      <td>...</td>\n      <td>...</td>\n      <td>...</td>\n      <td>...</td>\n      <td>...</td>\n      <td>...</td>\n      <td>...</td>\n      <td>...</td>\n      <td>...</td>\n    </tr>\n    <tr>\n      <th>9995</th>\n      <td>771</td>\n      <td>5</td>\n      <td>0.00</td>\n      <td>2</td>\n      <td>1</td>\n      <td>0</td>\n      <td>96270.64</td>\n      <td>1</td>\n      <td>0</td>\n      <td>0</td>\n    </tr>\n    <tr>\n      <th>9996</th>\n      <td>516</td>\n      <td>10</td>\n      <td>57369.61</td>\n      <td>1</td>\n      <td>1</td>\n      <td>1</td>\n      <td>101699.77</td>\n      <td>1</td>\n      <td>0</td>\n      <td>0</td>\n    </tr>\n    <tr>\n      <th>9997</th>\n      <td>709</td>\n      <td>7</td>\n      <td>0.00</td>\n      <td>1</td>\n      <td>0</td>\n      <td>1</td>\n      <td>42085.58</td>\n      <td>0</td>\n      <td>0</td>\n      <td>0</td>\n    </tr>\n    <tr>\n      <th>9998</th>\n      <td>772</td>\n      <td>3</td>\n      <td>75075.31</td>\n      <td>2</td>\n      <td>1</td>\n      <td>0</td>\n      <td>92888.52</td>\n      <td>1</td>\n      <td>1</td>\n      <td>0</td>\n    </tr>\n    <tr>\n      <th>9999</th>\n      <td>792</td>\n      <td>4</td>\n      <td>130142.79</td>\n      <td>1</td>\n      <td>1</td>\n      <td>0</td>\n      <td>38190.78</td>\n      <td>0</td>\n      <td>0</td>\n      <td>0</td>\n    </tr>\n  </tbody>\n</table>\n<p>10000 rows × 10 columns</p>\n</div>"
     },
     "metadata": {},
     "execution_count": 305
    }
   ],
   "source": [
    "X"
   ]
  },
  {
   "cell_type": "code",
   "execution_count": 306,
   "metadata": {},
   "outputs": [],
   "source": [
    "X2=X[variables_numericas]"
   ]
  },
  {
   "cell_type": "code",
   "execution_count": null,
   "metadata": {},
   "outputs": [],
   "source": []
  },
  {
   "cell_type": "code",
   "execution_count": 307,
   "metadata": {},
   "outputs": [],
   "source": [
    "from sklearn.preprocessing import PolynomialFeatures\n",
    "poly=PolynomialFeatures(2, interaction_only=False)\n",
    "X2=poly.fit_transform(X2)\n"
   ]
  },
  {
   "cell_type": "code",
   "execution_count": 308,
   "metadata": {},
   "outputs": [],
   "source": [
    "X2=pandas.DataFrame(X2[:,6:])\n",
    "X=pandas.concat([X,X2],axis=1)"
   ]
  },
  {
   "cell_type": "code",
   "execution_count": 309,
   "metadata": {},
   "outputs": [
    {
     "output_type": "execute_result",
     "data": {
      "text/plain": [
       "array([[6.19000000e+02, 0.00000000e+00, 1.00000000e+00, ...,\n",
       "        1.02715955e+10, 1.01348880e+05, 1.00000000e+00],\n",
       "       [6.08000000e+02, 8.38078600e+04, 1.00000000e+00, ...,\n",
       "        1.26658323e+10, 1.12542580e+05, 1.00000000e+00],\n",
       "       [5.02000000e+02, 1.59660800e+05, 3.00000000e+00, ...,\n",
       "        1.29804026e+10, 3.41794710e+05, 9.00000000e+00],\n",
       "       ...,\n",
       "       [7.09000000e+02, 0.00000000e+00, 1.00000000e+00, ...,\n",
       "        1.77119604e+09, 4.20855800e+04, 1.00000000e+00],\n",
       "       [7.72000000e+02, 7.50753100e+04, 2.00000000e+00, ...,\n",
       "        8.62827715e+09, 1.85777040e+05, 4.00000000e+00],\n",
       "       [7.92000000e+02, 1.30142790e+05, 1.00000000e+00, ...,\n",
       "        1.45853568e+09, 3.81907800e+04, 1.00000000e+00]])"
      ]
     },
     "metadata": {},
     "execution_count": 309
    }
   ],
   "source": [
    "from sklearn.feature_selection import RFE\n",
    "from sklearn.ensemble import RandomForestRegressor\n",
    "estimate_sel=RandomForestRegressor()\n",
    "sel_rfe_rf=RFE(estimate_sel,n_features_to_select=20)\n",
    "data_rfe_rf=sel_rfe_rf.fit_transform(X,y)\n",
    "data_rfe_rf"
   ]
  },
  {
   "cell_type": "code",
   "execution_count": 310,
   "metadata": {},
   "outputs": [
    {
     "output_type": "execute_result",
     "data": {
      "text/plain": [
       "(10000, 20)"
      ]
     },
     "metadata": {},
     "execution_count": 310
    }
   ],
   "source": [
    "data_rfe_rf.shape"
   ]
  },
  {
   "cell_type": "code",
   "execution_count": 311,
   "metadata": {},
   "outputs": [],
   "source": [
    "from sklearn.preprocessing import StandardScaler\n",
    "Std_trans=StandardScaler()"
   ]
  },
  {
   "cell_type": "code",
   "execution_count": 312,
   "metadata": {},
   "outputs": [
    {
     "output_type": "execute_result",
     "data": {
      "text/plain": [
       "StandardScaler()"
      ]
     },
     "metadata": {},
     "execution_count": 312
    }
   ],
   "source": [
    "Std_trans.fit(data_rfe_rf)"
   ]
  },
  {
   "cell_type": "code",
   "execution_count": 313,
   "metadata": {},
   "outputs": [],
   "source": [
    "X=Std_trans.transform(data_rfe_rf)"
   ]
  },
  {
   "cell_type": "code",
   "execution_count": 314,
   "metadata": {},
   "outputs": [
    {
     "output_type": "execute_result",
     "data": {
      "text/plain": [
       "(10000, 20)"
      ]
     },
     "metadata": {},
     "execution_count": 314
    }
   ],
   "source": [
    "X.shape"
   ]
  },
  {
   "cell_type": "code",
   "execution_count": 315,
   "metadata": {},
   "outputs": [],
   "source": [
    "from sklearn.model_selection import train_test_split\n",
    "x_train, x_test, y_train, y_test = train_test_split(X, y, test_size = 0.3, shuffle=True)"
   ]
  },
  {
   "cell_type": "code",
   "execution_count": 316,
   "metadata": {},
   "outputs": [],
   "source": [
    "#y=data[targetColName]"
   ]
  },
  {
   "cell_type": "code",
   "execution_count": 317,
   "metadata": {},
   "outputs": [],
   "source": [
    "ann=tensorflow.keras.models.Sequential()"
   ]
  },
  {
   "cell_type": "code",
   "execution_count": 318,
   "metadata": {},
   "outputs": [],
   "source": [
    "ann.add(tensorflow.keras.layers.Dense(units=15, activation=\"relu\")) "
   ]
  },
  {
   "cell_type": "code",
   "execution_count": 319,
   "metadata": {},
   "outputs": [],
   "source": [
    "ann.add(tensorflow.keras.layers.Dense(units=10, activation=\"sigmoid\")) #relu rectificador"
   ]
  },
  {
   "cell_type": "code",
   "execution_count": 320,
   "metadata": {},
   "outputs": [],
   "source": [
    "ann.add(tensorflow.keras.layers.Dense(units=5, activation=\"relu\")) "
   ]
  },
  {
   "cell_type": "code",
   "execution_count": 321,
   "metadata": {},
   "outputs": [],
   "source": [
    "ann.add(tensorflow.keras.layers.Dense(units=1, activation=\"sigmoid\")) #para no binario soft-max"
   ]
  },
  {
   "cell_type": "code",
   "execution_count": 322,
   "metadata": {},
   "outputs": [],
   "source": [
    "ann.compile(optimizer=\"adam\", loss=\"binary_crossentropy\", metrics=\"accuracy\") #para no binario category_crossentropy "
   ]
  },
  {
   "cell_type": "code",
   "execution_count": 323,
   "metadata": {},
   "outputs": [
    {
     "output_type": "stream",
     "name": "stdout",
     "text": [
      "Epoch 1/40\n",
      "778/778 [==============================] - 2s 2ms/step - loss: 0.4826 - accuracy: 0.8010\n",
      "Epoch 2/40\n",
      "778/778 [==============================] - 1s 2ms/step - loss: 0.4315 - accuracy: 0.7981\n",
      "Epoch 3/40\n",
      "778/778 [==============================] - 1s 2ms/step - loss: 0.4161 - accuracy: 0.7967\n",
      "Epoch 4/40\n",
      "778/778 [==============================] - 1s 2ms/step - loss: 0.4042 - accuracy: 0.8045\n",
      "Epoch 5/40\n",
      "778/778 [==============================] - 1s 2ms/step - loss: 0.4026 - accuracy: 0.8252\n",
      "Epoch 6/40\n",
      "778/778 [==============================] - 1s 2ms/step - loss: 0.4002 - accuracy: 0.8281\n",
      "Epoch 7/40\n",
      "778/778 [==============================] - 1s 2ms/step - loss: 0.3828 - accuracy: 0.8358\n",
      "Epoch 8/40\n",
      "778/778 [==============================] - 1s 2ms/step - loss: 0.3863 - accuracy: 0.8354\n",
      "Epoch 9/40\n",
      "778/778 [==============================] - 1s 2ms/step - loss: 0.3974 - accuracy: 0.8224\n",
      "Epoch 10/40\n",
      "778/778 [==============================] - 1s 2ms/step - loss: 0.3798 - accuracy: 0.8271\n",
      "Epoch 11/40\n",
      "778/778 [==============================] - 1s 2ms/step - loss: 0.3852 - accuracy: 0.8339\n",
      "Epoch 12/40\n",
      "778/778 [==============================] - 1s 2ms/step - loss: 0.3837 - accuracy: 0.8255\n",
      "Epoch 13/40\n",
      "778/778 [==============================] - 1s 2ms/step - loss: 0.3786 - accuracy: 0.8332\n",
      "Epoch 14/40\n",
      "778/778 [==============================] - 1s 2ms/step - loss: 0.3702 - accuracy: 0.8444\n",
      "Epoch 15/40\n",
      "778/778 [==============================] - 1s 2ms/step - loss: 0.3792 - accuracy: 0.8338\n",
      "Epoch 16/40\n",
      "778/778 [==============================] - 1s 2ms/step - loss: 0.3786 - accuracy: 0.8372\n",
      "Epoch 17/40\n",
      "778/778 [==============================] - 1s 2ms/step - loss: 0.3887 - accuracy: 0.8293\n",
      "Epoch 18/40\n",
      "778/778 [==============================] - 1s 2ms/step - loss: 0.3899 - accuracy: 0.8251\n",
      "Epoch 19/40\n",
      "778/778 [==============================] - 1s 2ms/step - loss: 0.3845 - accuracy: 0.8323\n",
      "Epoch 20/40\n",
      "778/778 [==============================] - 1s 2ms/step - loss: 0.3744 - accuracy: 0.8393\n",
      "Epoch 21/40\n",
      "778/778 [==============================] - 1s 2ms/step - loss: 0.3786 - accuracy: 0.8375\n",
      "Epoch 22/40\n",
      "778/778 [==============================] - 1s 2ms/step - loss: 0.3850 - accuracy: 0.8336\n",
      "Epoch 23/40\n",
      "778/778 [==============================] - 1s 2ms/step - loss: 0.3747 - accuracy: 0.8352\n",
      "Epoch 24/40\n",
      "778/778 [==============================] - 1s 2ms/step - loss: 0.3708 - accuracy: 0.8392\n",
      "Epoch 25/40\n",
      "778/778 [==============================] - 1s 2ms/step - loss: 0.3860 - accuracy: 0.8317\n",
      "Epoch 26/40\n",
      "778/778 [==============================] - 1s 2ms/step - loss: 0.3758 - accuracy: 0.8319\n",
      "Epoch 27/40\n",
      "778/778 [==============================] - 1s 2ms/step - loss: 0.3839 - accuracy: 0.8307\n",
      "Epoch 28/40\n",
      "778/778 [==============================] - 1s 2ms/step - loss: 0.3756 - accuracy: 0.8375\n",
      "Epoch 29/40\n",
      "778/778 [==============================] - 1s 2ms/step - loss: 0.3729 - accuracy: 0.8389\n",
      "Epoch 30/40\n",
      "778/778 [==============================] - 1s 2ms/step - loss: 0.3725 - accuracy: 0.8393\n",
      "Epoch 31/40\n",
      "778/778 [==============================] - 1s 2ms/step - loss: 0.3658 - accuracy: 0.8359\n",
      "Epoch 32/40\n",
      "778/778 [==============================] - 1s 2ms/step - loss: 0.3778 - accuracy: 0.8344\n",
      "Epoch 33/40\n",
      "778/778 [==============================] - 1s 2ms/step - loss: 0.3696 - accuracy: 0.8350\n",
      "Epoch 34/40\n",
      "778/778 [==============================] - 1s 2ms/step - loss: 0.3754 - accuracy: 0.8336\n",
      "Epoch 35/40\n",
      "778/778 [==============================] - 1s 2ms/step - loss: 0.3771 - accuracy: 0.8330\n",
      "Epoch 36/40\n",
      "778/778 [==============================] - 1s 2ms/step - loss: 0.3806 - accuracy: 0.8289\n",
      "Epoch 37/40\n",
      "778/778 [==============================] - 1s 2ms/step - loss: 0.3808 - accuracy: 0.8325\n",
      "Epoch 38/40\n",
      "778/778 [==============================] - 1s 2ms/step - loss: 0.3650 - accuracy: 0.8407\n",
      "Epoch 39/40\n",
      "778/778 [==============================] - 1s 2ms/step - loss: 0.3679 - accuracy: 0.8403\n",
      "Epoch 40/40\n",
      "778/778 [==============================] - 1s 2ms/step - loss: 0.3802 - accuracy: 0.8345\n"
     ]
    },
    {
     "output_type": "execute_result",
     "data": {
      "text/plain": [
       "<tensorflow.python.keras.callbacks.History at 0x2190f264c88>"
      ]
     },
     "metadata": {},
     "execution_count": 323
    }
   ],
   "source": [
    "ann.fit(x_train, y_train, batch_size=9, epochs=40, verbose=1)"
   ]
  },
  {
   "cell_type": "code",
   "execution_count": 324,
   "metadata": {},
   "outputs": [
    {
     "output_type": "stream",
     "name": "stdout",
     "text": [
      "94/94 [==============================] - 0s 1ms/step\n"
     ]
    }
   ],
   "source": [
    "prediccion=ann.predict(x_test,verbose=1)"
   ]
  },
  {
   "cell_type": "code",
   "execution_count": 56,
   "metadata": {},
   "outputs": [],
   "source": []
  },
  {
   "cell_type": "code",
   "execution_count": 325,
   "metadata": {},
   "outputs": [],
   "source": [
    "salida=[]\n",
    "for i in range(100):\n",
    "    y_pred=1.0*(prediccion>(i+1)/100)\n",
    "    suma=0\n",
    "    for yn, yb in zip(y_test, y_pred):\n",
    "        suma+=(yn-yb)**2\n",
    "    salida.append(suma)\n",
    "    suma=0"
   ]
  },
  {
   "cell_type": "code",
   "execution_count": 326,
   "metadata": {},
   "outputs": [],
   "source": [
    "y_test_p=numpy.array(y_test).reshape(len(y_test),1)"
   ]
  },
  {
   "cell_type": "code",
   "execution_count": 327,
   "metadata": {},
   "outputs": [],
   "source": [
    "y_cont=numpy.concatenate((y_test_p,y_pred),1)"
   ]
  },
  {
   "cell_type": "code",
   "execution_count": 328,
   "metadata": {},
   "outputs": [],
   "source": [
    "y_cont_df=pandas.DataFrame(y_cont)\n",
    "y_cont_df[y_cont_df.columns[1]]=y_cont_df[y_cont_df.columns[1]].astype(float)\n",
    "y_cont_df.columns=[\"A\",\"B\"]"
   ]
  },
  {
   "cell_type": "code",
   "execution_count": 329,
   "metadata": {},
   "outputs": [
    {
     "output_type": "execute_result",
     "data": {
      "text/plain": [
       "A     0.0  1.0\n",
       "B             \n",
       "0.0  2374  626"
      ],
      "text/html": "<div>\n<style scoped>\n    .dataframe tbody tr th:only-of-type {\n        vertical-align: middle;\n    }\n\n    .dataframe tbody tr th {\n        vertical-align: top;\n    }\n\n    .dataframe thead th {\n        text-align: right;\n    }\n</style>\n<table border=\"1\" class=\"dataframe\">\n  <thead>\n    <tr style=\"text-align: right;\">\n      <th>A</th>\n      <th>0.0</th>\n      <th>1.0</th>\n    </tr>\n    <tr>\n      <th>B</th>\n      <th></th>\n      <th></th>\n    </tr>\n  </thead>\n  <tbody>\n    <tr>\n      <th>0.0</th>\n      <td>2374</td>\n      <td>626</td>\n    </tr>\n  </tbody>\n</table>\n</div>"
     },
     "metadata": {},
     "execution_count": 329
    }
   ],
   "source": [
    "pandas.crosstab(y_cont_df[\"A\"],y_cont_df[\"B\"],colnames=[\"B\"], rownames=[\"A\"]).T"
   ]
  },
  {
   "cell_type": "code",
   "execution_count": 330,
   "metadata": {},
   "outputs": [],
   "source": [
    "threshold=[((i*0.01)+.04) for i in range(40)]\n",
    "sensivities=[1]\n",
    "especifities_1=[1]\n",
    "for i in threshold:\n",
    "    y_pred=1.0*(prediccion>i)\n",
    "    y_test_p=numpy.array(y_test).reshape(len(y_test),1)\n",
    "    y_cont=numpy.concatenate((y_test_p,y_pred),1)\n",
    "    y_cont_df=pandas.DataFrame(y_cont)\n",
    "    y_cont_df[y_cont_df.columns[1]]=y_cont_df[y_cont_df.columns[1]].astype(float)\n",
    "    y_cont_df.columns=[\"A\",\"B\"]\n",
    "    confusion_matrix=pandas.crosstab(y_cont_df[\"A\"],y_cont_df[\"B\"],colnames=[\"B\"], rownames=[\"A\"]).T\n",
    "    TN=confusion_matrix[0][0]\n",
    "    TP=confusion_matrix[1][1]\n",
    "    FP=confusion_matrix[0][1]\n",
    "    FN=confusion_matrix[1][0]\n",
    "    sensivities.append(TP/(TP+FN))\n",
    "    especifities_1.append(1-TN/(TN+FP))\n",
    "sensivities.append(0)\n",
    "especifities_1.append(0)"
   ]
  },
  {
   "cell_type": "code",
   "execution_count": 331,
   "metadata": {},
   "outputs": [
    {
     "output_type": "execute_result",
     "data": {
      "text/plain": [
       "[<matplotlib.lines.Line2D at 0x21907737188>]"
      ]
     },
     "metadata": {},
     "execution_count": 331
    },
    {
     "output_type": "display_data",
     "data": {
      "text/plain": "<Figure size 432x288 with 1 Axes>",
      "image/svg+xml": "<?xml version=\"1.0\" encoding=\"utf-8\" standalone=\"no\"?>\r\n<!DOCTYPE svg PUBLIC \"-//W3C//DTD SVG 1.1//EN\"\r\n  \"http://www.w3.org/Graphics/SVG/1.1/DTD/svg11.dtd\">\r\n<svg height=\"248.518125pt\" version=\"1.1\" viewBox=\"0 0 372.103125 248.518125\" width=\"372.103125pt\" xmlns=\"http://www.w3.org/2000/svg\" xmlns:xlink=\"http://www.w3.org/1999/xlink\">\r\n <metadata>\r\n  <rdf:RDF xmlns:cc=\"http://creativecommons.org/ns#\" xmlns:dc=\"http://purl.org/dc/elements/1.1/\" xmlns:rdf=\"http://www.w3.org/1999/02/22-rdf-syntax-ns#\">\r\n   <cc:Work>\r\n    <dc:type rdf:resource=\"http://purl.org/dc/dcmitype/StillImage\"/>\r\n    <dc:date>2021-05-04T04:39:59.003520</dc:date>\r\n    <dc:format>image/svg+xml</dc:format>\r\n    <dc:creator>\r\n     <cc:Agent>\r\n      <dc:title>Matplotlib v3.4.1, https://matplotlib.org/</dc:title>\r\n     </cc:Agent>\r\n    </dc:creator>\r\n   </cc:Work>\r\n  </rdf:RDF>\r\n </metadata>\r\n <defs>\r\n  <style type=\"text/css\">*{stroke-linecap:butt;stroke-linejoin:round;}</style>\r\n </defs>\r\n <g id=\"figure_1\">\r\n  <g id=\"patch_1\">\r\n   <path d=\"M 0 248.518125 \r\nL 372.103125 248.518125 \r\nL 372.103125 0 \r\nL 0 0 \r\nz\r\n\" style=\"fill:none;\"/>\r\n  </g>\r\n  <g id=\"axes_1\">\r\n   <g id=\"patch_2\">\r\n    <path d=\"M 30.103125 224.64 \r\nL 364.903125 224.64 \r\nL 364.903125 7.2 \r\nL 30.103125 7.2 \r\nz\r\n\" style=\"fill:#ffffff;\"/>\r\n   </g>\r\n   <g id=\"matplotlib.axis_1\">\r\n    <g id=\"xtick_1\">\r\n     <g id=\"line2d_1\">\r\n      <defs>\r\n       <path d=\"M 0 0 \r\nL 0 3.5 \r\n\" id=\"mf9cd1b2bd3\" style=\"stroke:#000000;stroke-width:0.8;\"/>\r\n      </defs>\r\n      <g>\r\n       <use style=\"stroke:#000000;stroke-width:0.8;\" x=\"45.321307\" xlink:href=\"#mf9cd1b2bd3\" y=\"224.64\"/>\r\n      </g>\r\n     </g>\r\n     <g id=\"text_1\">\r\n      <!-- 0.0 -->\r\n      <g transform=\"translate(37.369744 239.238437)scale(0.1 -0.1)\">\r\n       <defs>\r\n        <path d=\"M 2034 4250 \r\nQ 1547 4250 1301 3770 \r\nQ 1056 3291 1056 2328 \r\nQ 1056 1369 1301 889 \r\nQ 1547 409 2034 409 \r\nQ 2525 409 2770 889 \r\nQ 3016 1369 3016 2328 \r\nQ 3016 3291 2770 3770 \r\nQ 2525 4250 2034 4250 \r\nz\r\nM 2034 4750 \r\nQ 2819 4750 3233 4129 \r\nQ 3647 3509 3647 2328 \r\nQ 3647 1150 3233 529 \r\nQ 2819 -91 2034 -91 \r\nQ 1250 -91 836 529 \r\nQ 422 1150 422 2328 \r\nQ 422 3509 836 4129 \r\nQ 1250 4750 2034 4750 \r\nz\r\n\" id=\"DejaVuSans-30\" transform=\"scale(0.015625)\"/>\r\n        <path d=\"M 684 794 \r\nL 1344 794 \r\nL 1344 0 \r\nL 684 0 \r\nL 684 794 \r\nz\r\n\" id=\"DejaVuSans-2e\" transform=\"scale(0.015625)\"/>\r\n       </defs>\r\n       <use xlink:href=\"#DejaVuSans-30\"/>\r\n       <use x=\"63.623047\" xlink:href=\"#DejaVuSans-2e\"/>\r\n       <use x=\"95.410156\" xlink:href=\"#DejaVuSans-30\"/>\r\n      </g>\r\n     </g>\r\n    </g>\r\n    <g id=\"xtick_2\">\r\n     <g id=\"line2d_2\">\r\n      <g>\r\n       <use style=\"stroke:#000000;stroke-width:0.8;\" x=\"106.194034\" xlink:href=\"#mf9cd1b2bd3\" y=\"224.64\"/>\r\n      </g>\r\n     </g>\r\n     <g id=\"text_2\">\r\n      <!-- 0.2 -->\r\n      <g transform=\"translate(98.242472 239.238437)scale(0.1 -0.1)\">\r\n       <defs>\r\n        <path d=\"M 1228 531 \r\nL 3431 531 \r\nL 3431 0 \r\nL 469 0 \r\nL 469 531 \r\nQ 828 903 1448 1529 \r\nQ 2069 2156 2228 2338 \r\nQ 2531 2678 2651 2914 \r\nQ 2772 3150 2772 3378 \r\nQ 2772 3750 2511 3984 \r\nQ 2250 4219 1831 4219 \r\nQ 1534 4219 1204 4116 \r\nQ 875 4013 500 3803 \r\nL 500 4441 \r\nQ 881 4594 1212 4672 \r\nQ 1544 4750 1819 4750 \r\nQ 2544 4750 2975 4387 \r\nQ 3406 4025 3406 3419 \r\nQ 3406 3131 3298 2873 \r\nQ 3191 2616 2906 2266 \r\nQ 2828 2175 2409 1742 \r\nQ 1991 1309 1228 531 \r\nz\r\n\" id=\"DejaVuSans-32\" transform=\"scale(0.015625)\"/>\r\n       </defs>\r\n       <use xlink:href=\"#DejaVuSans-30\"/>\r\n       <use x=\"63.623047\" xlink:href=\"#DejaVuSans-2e\"/>\r\n       <use x=\"95.410156\" xlink:href=\"#DejaVuSans-32\"/>\r\n      </g>\r\n     </g>\r\n    </g>\r\n    <g id=\"xtick_3\">\r\n     <g id=\"line2d_3\">\r\n      <g>\r\n       <use style=\"stroke:#000000;stroke-width:0.8;\" x=\"167.066761\" xlink:href=\"#mf9cd1b2bd3\" y=\"224.64\"/>\r\n      </g>\r\n     </g>\r\n     <g id=\"text_3\">\r\n      <!-- 0.4 -->\r\n      <g transform=\"translate(159.115199 239.238437)scale(0.1 -0.1)\">\r\n       <defs>\r\n        <path d=\"M 2419 4116 \r\nL 825 1625 \r\nL 2419 1625 \r\nL 2419 4116 \r\nz\r\nM 2253 4666 \r\nL 3047 4666 \r\nL 3047 1625 \r\nL 3713 1625 \r\nL 3713 1100 \r\nL 3047 1100 \r\nL 3047 0 \r\nL 2419 0 \r\nL 2419 1100 \r\nL 313 1100 \r\nL 313 1709 \r\nL 2253 4666 \r\nz\r\n\" id=\"DejaVuSans-34\" transform=\"scale(0.015625)\"/>\r\n       </defs>\r\n       <use xlink:href=\"#DejaVuSans-30\"/>\r\n       <use x=\"63.623047\" xlink:href=\"#DejaVuSans-2e\"/>\r\n       <use x=\"95.410156\" xlink:href=\"#DejaVuSans-34\"/>\r\n      </g>\r\n     </g>\r\n    </g>\r\n    <g id=\"xtick_4\">\r\n     <g id=\"line2d_4\">\r\n      <g>\r\n       <use style=\"stroke:#000000;stroke-width:0.8;\" x=\"227.939489\" xlink:href=\"#mf9cd1b2bd3\" y=\"224.64\"/>\r\n      </g>\r\n     </g>\r\n     <g id=\"text_4\">\r\n      <!-- 0.6 -->\r\n      <g transform=\"translate(219.987926 239.238437)scale(0.1 -0.1)\">\r\n       <defs>\r\n        <path d=\"M 2113 2584 \r\nQ 1688 2584 1439 2293 \r\nQ 1191 2003 1191 1497 \r\nQ 1191 994 1439 701 \r\nQ 1688 409 2113 409 \r\nQ 2538 409 2786 701 \r\nQ 3034 994 3034 1497 \r\nQ 3034 2003 2786 2293 \r\nQ 2538 2584 2113 2584 \r\nz\r\nM 3366 4563 \r\nL 3366 3988 \r\nQ 3128 4100 2886 4159 \r\nQ 2644 4219 2406 4219 \r\nQ 1781 4219 1451 3797 \r\nQ 1122 3375 1075 2522 \r\nQ 1259 2794 1537 2939 \r\nQ 1816 3084 2150 3084 \r\nQ 2853 3084 3261 2657 \r\nQ 3669 2231 3669 1497 \r\nQ 3669 778 3244 343 \r\nQ 2819 -91 2113 -91 \r\nQ 1303 -91 875 529 \r\nQ 447 1150 447 2328 \r\nQ 447 3434 972 4092 \r\nQ 1497 4750 2381 4750 \r\nQ 2619 4750 2861 4703 \r\nQ 3103 4656 3366 4563 \r\nz\r\n\" id=\"DejaVuSans-36\" transform=\"scale(0.015625)\"/>\r\n       </defs>\r\n       <use xlink:href=\"#DejaVuSans-30\"/>\r\n       <use x=\"63.623047\" xlink:href=\"#DejaVuSans-2e\"/>\r\n       <use x=\"95.410156\" xlink:href=\"#DejaVuSans-36\"/>\r\n      </g>\r\n     </g>\r\n    </g>\r\n    <g id=\"xtick_5\">\r\n     <g id=\"line2d_5\">\r\n      <g>\r\n       <use style=\"stroke:#000000;stroke-width:0.8;\" x=\"288.812216\" xlink:href=\"#mf9cd1b2bd3\" y=\"224.64\"/>\r\n      </g>\r\n     </g>\r\n     <g id=\"text_5\">\r\n      <!-- 0.8 -->\r\n      <g transform=\"translate(280.860653 239.238437)scale(0.1 -0.1)\">\r\n       <defs>\r\n        <path d=\"M 2034 2216 \r\nQ 1584 2216 1326 1975 \r\nQ 1069 1734 1069 1313 \r\nQ 1069 891 1326 650 \r\nQ 1584 409 2034 409 \r\nQ 2484 409 2743 651 \r\nQ 3003 894 3003 1313 \r\nQ 3003 1734 2745 1975 \r\nQ 2488 2216 2034 2216 \r\nz\r\nM 1403 2484 \r\nQ 997 2584 770 2862 \r\nQ 544 3141 544 3541 \r\nQ 544 4100 942 4425 \r\nQ 1341 4750 2034 4750 \r\nQ 2731 4750 3128 4425 \r\nQ 3525 4100 3525 3541 \r\nQ 3525 3141 3298 2862 \r\nQ 3072 2584 2669 2484 \r\nQ 3125 2378 3379 2068 \r\nQ 3634 1759 3634 1313 \r\nQ 3634 634 3220 271 \r\nQ 2806 -91 2034 -91 \r\nQ 1263 -91 848 271 \r\nQ 434 634 434 1313 \r\nQ 434 1759 690 2068 \r\nQ 947 2378 1403 2484 \r\nz\r\nM 1172 3481 \r\nQ 1172 3119 1398 2916 \r\nQ 1625 2713 2034 2713 \r\nQ 2441 2713 2670 2916 \r\nQ 2900 3119 2900 3481 \r\nQ 2900 3844 2670 4047 \r\nQ 2441 4250 2034 4250 \r\nQ 1625 4250 1398 4047 \r\nQ 1172 3844 1172 3481 \r\nz\r\n\" id=\"DejaVuSans-38\" transform=\"scale(0.015625)\"/>\r\n       </defs>\r\n       <use xlink:href=\"#DejaVuSans-30\"/>\r\n       <use x=\"63.623047\" xlink:href=\"#DejaVuSans-2e\"/>\r\n       <use x=\"95.410156\" xlink:href=\"#DejaVuSans-38\"/>\r\n      </g>\r\n     </g>\r\n    </g>\r\n    <g id=\"xtick_6\">\r\n     <g id=\"line2d_6\">\r\n      <g>\r\n       <use style=\"stroke:#000000;stroke-width:0.8;\" x=\"349.684943\" xlink:href=\"#mf9cd1b2bd3\" y=\"224.64\"/>\r\n      </g>\r\n     </g>\r\n     <g id=\"text_6\">\r\n      <!-- 1.0 -->\r\n      <g transform=\"translate(341.733381 239.238437)scale(0.1 -0.1)\">\r\n       <defs>\r\n        <path d=\"M 794 531 \r\nL 1825 531 \r\nL 1825 4091 \r\nL 703 3866 \r\nL 703 4441 \r\nL 1819 4666 \r\nL 2450 4666 \r\nL 2450 531 \r\nL 3481 531 \r\nL 3481 0 \r\nL 794 0 \r\nL 794 531 \r\nz\r\n\" id=\"DejaVuSans-31\" transform=\"scale(0.015625)\"/>\r\n       </defs>\r\n       <use xlink:href=\"#DejaVuSans-31\"/>\r\n       <use x=\"63.623047\" xlink:href=\"#DejaVuSans-2e\"/>\r\n       <use x=\"95.410156\" xlink:href=\"#DejaVuSans-30\"/>\r\n      </g>\r\n     </g>\r\n    </g>\r\n   </g>\r\n   <g id=\"matplotlib.axis_2\">\r\n    <g id=\"ytick_1\">\r\n     <g id=\"line2d_7\">\r\n      <defs>\r\n       <path d=\"M 0 0 \r\nL -3.5 0 \r\n\" id=\"mf5edc43cbe\" style=\"stroke:#000000;stroke-width:0.8;\"/>\r\n      </defs>\r\n      <g>\r\n       <use style=\"stroke:#000000;stroke-width:0.8;\" x=\"30.103125\" xlink:href=\"#mf5edc43cbe\" y=\"214.756364\"/>\r\n      </g>\r\n     </g>\r\n     <g id=\"text_7\">\r\n      <!-- 0.0 -->\r\n      <g transform=\"translate(7.2 218.555582)scale(0.1 -0.1)\">\r\n       <use xlink:href=\"#DejaVuSans-30\"/>\r\n       <use x=\"63.623047\" xlink:href=\"#DejaVuSans-2e\"/>\r\n       <use x=\"95.410156\" xlink:href=\"#DejaVuSans-30\"/>\r\n      </g>\r\n     </g>\r\n    </g>\r\n    <g id=\"ytick_2\">\r\n     <g id=\"line2d_8\">\r\n      <g>\r\n       <use style=\"stroke:#000000;stroke-width:0.8;\" x=\"30.103125\" xlink:href=\"#mf5edc43cbe\" y=\"175.221818\"/>\r\n      </g>\r\n     </g>\r\n     <g id=\"text_8\">\r\n      <!-- 0.2 -->\r\n      <g transform=\"translate(7.2 179.021037)scale(0.1 -0.1)\">\r\n       <use xlink:href=\"#DejaVuSans-30\"/>\r\n       <use x=\"63.623047\" xlink:href=\"#DejaVuSans-2e\"/>\r\n       <use x=\"95.410156\" xlink:href=\"#DejaVuSans-32\"/>\r\n      </g>\r\n     </g>\r\n    </g>\r\n    <g id=\"ytick_3\">\r\n     <g id=\"line2d_9\">\r\n      <g>\r\n       <use style=\"stroke:#000000;stroke-width:0.8;\" x=\"30.103125\" xlink:href=\"#mf5edc43cbe\" y=\"135.687273\"/>\r\n      </g>\r\n     </g>\r\n     <g id=\"text_9\">\r\n      <!-- 0.4 -->\r\n      <g transform=\"translate(7.2 139.486491)scale(0.1 -0.1)\">\r\n       <use xlink:href=\"#DejaVuSans-30\"/>\r\n       <use x=\"63.623047\" xlink:href=\"#DejaVuSans-2e\"/>\r\n       <use x=\"95.410156\" xlink:href=\"#DejaVuSans-34\"/>\r\n      </g>\r\n     </g>\r\n    </g>\r\n    <g id=\"ytick_4\">\r\n     <g id=\"line2d_10\">\r\n      <g>\r\n       <use style=\"stroke:#000000;stroke-width:0.8;\" x=\"30.103125\" xlink:href=\"#mf5edc43cbe\" y=\"96.152727\"/>\r\n      </g>\r\n     </g>\r\n     <g id=\"text_10\">\r\n      <!-- 0.6 -->\r\n      <g transform=\"translate(7.2 99.951946)scale(0.1 -0.1)\">\r\n       <use xlink:href=\"#DejaVuSans-30\"/>\r\n       <use x=\"63.623047\" xlink:href=\"#DejaVuSans-2e\"/>\r\n       <use x=\"95.410156\" xlink:href=\"#DejaVuSans-36\"/>\r\n      </g>\r\n     </g>\r\n    </g>\r\n    <g id=\"ytick_5\">\r\n     <g id=\"line2d_11\">\r\n      <g>\r\n       <use style=\"stroke:#000000;stroke-width:0.8;\" x=\"30.103125\" xlink:href=\"#mf5edc43cbe\" y=\"56.618182\"/>\r\n      </g>\r\n     </g>\r\n     <g id=\"text_11\">\r\n      <!-- 0.8 -->\r\n      <g transform=\"translate(7.2 60.417401)scale(0.1 -0.1)\">\r\n       <use xlink:href=\"#DejaVuSans-30\"/>\r\n       <use x=\"63.623047\" xlink:href=\"#DejaVuSans-2e\"/>\r\n       <use x=\"95.410156\" xlink:href=\"#DejaVuSans-38\"/>\r\n      </g>\r\n     </g>\r\n    </g>\r\n    <g id=\"ytick_6\">\r\n     <g id=\"line2d_12\">\r\n      <g>\r\n       <use style=\"stroke:#000000;stroke-width:0.8;\" x=\"30.103125\" xlink:href=\"#mf5edc43cbe\" y=\"17.083636\"/>\r\n      </g>\r\n     </g>\r\n     <g id=\"text_12\">\r\n      <!-- 1.0 -->\r\n      <g transform=\"translate(7.2 20.882855)scale(0.1 -0.1)\">\r\n       <use xlink:href=\"#DejaVuSans-31\"/>\r\n       <use x=\"63.623047\" xlink:href=\"#DejaVuSans-2e\"/>\r\n       <use x=\"95.410156\" xlink:href=\"#DejaVuSans-30\"/>\r\n      </g>\r\n     </g>\r\n    </g>\r\n   </g>\r\n   <g id=\"line2d_13\">\r\n    <path clip-path=\"url(#p5cd6075e3d)\" d=\"M 349.684943 17.083636 \r\nL 246.862855 29.714482 \r\nL 231.862626 35.398362 \r\nL 215.836739 40.134929 \r\nL 203.91348 45.503038 \r\nL 191.220977 48.029207 \r\nL 180.451582 53.081545 \r\nL 171.989914 56.239256 \r\nL 162.88721 61.291595 \r\nL 155.579406 62.87045 \r\nL 150.066501 68.238559 \r\nL 142.245868 72.027813 \r\nL 136.348342 73.92244 \r\nL 131.348266 80.553633 \r\nL 125.322532 84.658658 \r\nL 119.425006 88.132141 \r\nL 113.655687 90.026767 \r\nL 109.681267 92.868708 \r\nL 104.424776 95.710648 \r\nL 101.860634 97.921046 \r\nL 98.655457 99.815672 \r\nL 95.193866 103.289155 \r\nL 92.501517 104.86801 \r\nL 90.450203 108.657264 \r\nL 88.142476 110.23612 \r\nL 85.450127 112.446518 \r\nL 83.52702 114.025373 \r\nL 80.834671 115.604229 \r\nL 79.5526 116.867313 \r\nL 76.219216 120.025025 \r\nL 74.552524 123.182736 \r\nL 73.014039 124.761592 \r\nL 71.860175 126.024676 \r\nL 71.090932 128.550845 \r\nL 70.065276 129.81393 \r\nL 69.167826 130.761243 \r\nL 68.142169 133.603183 \r\nL 66.988305 137.392437 \r\nL 65.706234 139.918606 \r\nL 64.424164 144.970944 \r\nL 62.885678 147.497113 \r\nL 45.321307 214.756364 \r\n\" style=\"fill:none;stroke:#ff0000;stroke-dasharray:5.55,2.4;stroke-dashoffset:0;stroke-width:1.5;\"/>\r\n    <defs>\r\n     <path d=\"M 0 3 \r\nC 0.795609 3 1.55874 2.683901 2.12132 2.12132 \r\nC 2.683901 1.55874 3 0.795609 3 0 \r\nC 3 -0.795609 2.683901 -1.55874 2.12132 -2.12132 \r\nC 1.55874 -2.683901 0.795609 -3 0 -3 \r\nC -0.795609 -3 -1.55874 -2.683901 -2.12132 -2.12132 \r\nC -2.683901 -1.55874 -3 -0.795609 -3 0 \r\nC -3 0.795609 -2.683901 1.55874 -2.12132 2.12132 \r\nC -1.55874 2.683901 -0.795609 3 0 3 \r\nz\r\n\" id=\"mffff5d36fe\" style=\"stroke:#ff0000;\"/>\r\n    </defs>\r\n    <g clip-path=\"url(#p5cd6075e3d)\">\r\n     <use style=\"fill:#ff0000;stroke:#ff0000;\" x=\"349.684943\" xlink:href=\"#mffff5d36fe\" y=\"17.083636\"/>\r\n     <use style=\"fill:#ff0000;stroke:#ff0000;\" x=\"246.862855\" xlink:href=\"#mffff5d36fe\" y=\"29.714482\"/>\r\n     <use style=\"fill:#ff0000;stroke:#ff0000;\" x=\"231.862626\" xlink:href=\"#mffff5d36fe\" y=\"35.398362\"/>\r\n     <use style=\"fill:#ff0000;stroke:#ff0000;\" x=\"215.836739\" xlink:href=\"#mffff5d36fe\" y=\"40.134929\"/>\r\n     <use style=\"fill:#ff0000;stroke:#ff0000;\" x=\"203.91348\" xlink:href=\"#mffff5d36fe\" y=\"45.503038\"/>\r\n     <use style=\"fill:#ff0000;stroke:#ff0000;\" x=\"191.220977\" xlink:href=\"#mffff5d36fe\" y=\"48.029207\"/>\r\n     <use style=\"fill:#ff0000;stroke:#ff0000;\" x=\"180.451582\" xlink:href=\"#mffff5d36fe\" y=\"53.081545\"/>\r\n     <use style=\"fill:#ff0000;stroke:#ff0000;\" x=\"171.989914\" xlink:href=\"#mffff5d36fe\" y=\"56.239256\"/>\r\n     <use style=\"fill:#ff0000;stroke:#ff0000;\" x=\"162.88721\" xlink:href=\"#mffff5d36fe\" y=\"61.291595\"/>\r\n     <use style=\"fill:#ff0000;stroke:#ff0000;\" x=\"155.579406\" xlink:href=\"#mffff5d36fe\" y=\"62.87045\"/>\r\n     <use style=\"fill:#ff0000;stroke:#ff0000;\" x=\"150.066501\" xlink:href=\"#mffff5d36fe\" y=\"68.238559\"/>\r\n     <use style=\"fill:#ff0000;stroke:#ff0000;\" x=\"142.245868\" xlink:href=\"#mffff5d36fe\" y=\"72.027813\"/>\r\n     <use style=\"fill:#ff0000;stroke:#ff0000;\" x=\"136.348342\" xlink:href=\"#mffff5d36fe\" y=\"73.92244\"/>\r\n     <use style=\"fill:#ff0000;stroke:#ff0000;\" x=\"131.348266\" xlink:href=\"#mffff5d36fe\" y=\"80.553633\"/>\r\n     <use style=\"fill:#ff0000;stroke:#ff0000;\" x=\"125.322532\" xlink:href=\"#mffff5d36fe\" y=\"84.658658\"/>\r\n     <use style=\"fill:#ff0000;stroke:#ff0000;\" x=\"119.425006\" xlink:href=\"#mffff5d36fe\" y=\"88.132141\"/>\r\n     <use style=\"fill:#ff0000;stroke:#ff0000;\" x=\"113.655687\" xlink:href=\"#mffff5d36fe\" y=\"90.026767\"/>\r\n     <use style=\"fill:#ff0000;stroke:#ff0000;\" x=\"109.681267\" xlink:href=\"#mffff5d36fe\" y=\"92.868708\"/>\r\n     <use style=\"fill:#ff0000;stroke:#ff0000;\" x=\"104.424776\" xlink:href=\"#mffff5d36fe\" y=\"95.710648\"/>\r\n     <use style=\"fill:#ff0000;stroke:#ff0000;\" x=\"101.860634\" xlink:href=\"#mffff5d36fe\" y=\"97.921046\"/>\r\n     <use style=\"fill:#ff0000;stroke:#ff0000;\" x=\"98.655457\" xlink:href=\"#mffff5d36fe\" y=\"99.815672\"/>\r\n     <use style=\"fill:#ff0000;stroke:#ff0000;\" x=\"95.193866\" xlink:href=\"#mffff5d36fe\" y=\"103.289155\"/>\r\n     <use style=\"fill:#ff0000;stroke:#ff0000;\" x=\"92.501517\" xlink:href=\"#mffff5d36fe\" y=\"104.86801\"/>\r\n     <use style=\"fill:#ff0000;stroke:#ff0000;\" x=\"90.450203\" xlink:href=\"#mffff5d36fe\" y=\"108.657264\"/>\r\n     <use style=\"fill:#ff0000;stroke:#ff0000;\" x=\"88.142476\" xlink:href=\"#mffff5d36fe\" y=\"110.23612\"/>\r\n     <use style=\"fill:#ff0000;stroke:#ff0000;\" x=\"85.450127\" xlink:href=\"#mffff5d36fe\" y=\"112.446518\"/>\r\n     <use style=\"fill:#ff0000;stroke:#ff0000;\" x=\"83.52702\" xlink:href=\"#mffff5d36fe\" y=\"114.025373\"/>\r\n     <use style=\"fill:#ff0000;stroke:#ff0000;\" x=\"80.834671\" xlink:href=\"#mffff5d36fe\" y=\"115.604229\"/>\r\n     <use style=\"fill:#ff0000;stroke:#ff0000;\" x=\"79.5526\" xlink:href=\"#mffff5d36fe\" y=\"116.867313\"/>\r\n     <use style=\"fill:#ff0000;stroke:#ff0000;\" x=\"76.219216\" xlink:href=\"#mffff5d36fe\" y=\"120.025025\"/>\r\n     <use style=\"fill:#ff0000;stroke:#ff0000;\" x=\"74.552524\" xlink:href=\"#mffff5d36fe\" y=\"123.182736\"/>\r\n     <use style=\"fill:#ff0000;stroke:#ff0000;\" x=\"73.014039\" xlink:href=\"#mffff5d36fe\" y=\"124.761592\"/>\r\n     <use style=\"fill:#ff0000;stroke:#ff0000;\" x=\"71.860175\" xlink:href=\"#mffff5d36fe\" y=\"126.024676\"/>\r\n     <use style=\"fill:#ff0000;stroke:#ff0000;\" x=\"71.090932\" xlink:href=\"#mffff5d36fe\" y=\"128.550845\"/>\r\n     <use style=\"fill:#ff0000;stroke:#ff0000;\" x=\"70.065276\" xlink:href=\"#mffff5d36fe\" y=\"129.81393\"/>\r\n     <use style=\"fill:#ff0000;stroke:#ff0000;\" x=\"69.167826\" xlink:href=\"#mffff5d36fe\" y=\"130.761243\"/>\r\n     <use style=\"fill:#ff0000;stroke:#ff0000;\" x=\"68.142169\" xlink:href=\"#mffff5d36fe\" y=\"133.603183\"/>\r\n     <use style=\"fill:#ff0000;stroke:#ff0000;\" x=\"66.988305\" xlink:href=\"#mffff5d36fe\" y=\"137.392437\"/>\r\n     <use style=\"fill:#ff0000;stroke:#ff0000;\" x=\"65.706234\" xlink:href=\"#mffff5d36fe\" y=\"139.918606\"/>\r\n     <use style=\"fill:#ff0000;stroke:#ff0000;\" x=\"64.424164\" xlink:href=\"#mffff5d36fe\" y=\"144.970944\"/>\r\n     <use style=\"fill:#ff0000;stroke:#ff0000;\" x=\"62.885678\" xlink:href=\"#mffff5d36fe\" y=\"147.497113\"/>\r\n     <use style=\"fill:#ff0000;stroke:#ff0000;\" x=\"45.321307\" xlink:href=\"#mffff5d36fe\" y=\"214.756364\"/>\r\n    </g>\r\n   </g>\r\n   <g id=\"line2d_14\">\r\n    <path clip-path=\"url(#p5cd6075e3d)\" d=\"M 45.321307 214.756364 \r\nL 48.364943 212.779636 \r\nL 51.40858 210.802909 \r\nL 54.452216 208.826182 \r\nL 57.495852 206.849455 \r\nL 60.539489 204.872727 \r\nL 63.583125 202.896 \r\nL 66.626761 200.919273 \r\nL 69.670398 198.942545 \r\nL 72.714034 196.965818 \r\nL 75.75767 194.989091 \r\nL 78.801307 193.012364 \r\nL 81.844943 191.035636 \r\nL 84.88858 189.058909 \r\nL 87.932216 187.082182 \r\nL 90.975852 185.105455 \r\nL 94.019489 183.128727 \r\nL 97.063125 181.152 \r\nL 100.106761 179.175273 \r\nL 103.150398 177.198545 \r\nL 106.194034 175.221818 \r\nL 109.23767 173.245091 \r\nL 112.281307 171.268364 \r\nL 115.324943 169.291636 \r\nL 118.36858 167.314909 \r\nL 121.412216 165.338182 \r\nL 124.455852 163.361455 \r\nL 127.499489 161.384727 \r\nL 130.543125 159.408 \r\nL 133.586761 157.431273 \r\nL 136.630398 155.454545 \r\nL 139.674034 153.477818 \r\nL 142.71767 151.501091 \r\nL 145.761307 149.524364 \r\nL 148.804943 147.547636 \r\nL 151.84858 145.570909 \r\nL 154.892216 143.594182 \r\nL 157.935852 141.617455 \r\nL 160.979489 139.640727 \r\nL 164.023125 137.664 \r\nL 167.066761 135.687273 \r\nL 170.110398 133.710545 \r\nL 173.154034 131.733818 \r\nL 176.19767 129.757091 \r\nL 179.241307 127.780364 \r\nL 182.284943 125.803636 \r\nL 185.32858 123.826909 \r\nL 188.372216 121.850182 \r\nL 191.415852 119.873455 \r\nL 194.459489 117.896727 \r\nL 197.503125 115.92 \r\nL 200.546761 113.943273 \r\nL 203.590398 111.966545 \r\nL 206.634034 109.989818 \r\nL 209.67767 108.013091 \r\nL 212.721307 106.036364 \r\nL 215.764943 104.059636 \r\nL 218.80858 102.082909 \r\nL 221.852216 100.106182 \r\nL 224.895852 98.129455 \r\nL 227.939489 96.152727 \r\nL 230.983125 94.176 \r\nL 234.026761 92.199273 \r\nL 237.070398 90.222545 \r\nL 240.114034 88.245818 \r\nL 243.15767 86.269091 \r\nL 246.201307 84.292364 \r\nL 249.244943 82.315636 \r\nL 252.28858 80.338909 \r\nL 255.332216 78.362182 \r\nL 258.375852 76.385455 \r\nL 261.419489 74.408727 \r\nL 264.463125 72.432 \r\nL 267.506761 70.455273 \r\nL 270.550398 68.478545 \r\nL 273.594034 66.501818 \r\nL 276.63767 64.525091 \r\nL 279.681307 62.548364 \r\nL 282.724943 60.571636 \r\nL 285.76858 58.594909 \r\nL 288.812216 56.618182 \r\nL 291.855852 54.641455 \r\nL 294.899489 52.664727 \r\nL 297.943125 50.688 \r\nL 300.986761 48.711273 \r\nL 304.030398 46.734545 \r\nL 307.074034 44.757818 \r\nL 310.11767 42.781091 \r\nL 313.161307 40.804364 \r\nL 316.204943 38.827636 \r\nL 319.24858 36.850909 \r\nL 322.292216 34.874182 \r\nL 325.335852 32.897455 \r\nL 328.379489 30.920727 \r\nL 331.423125 28.944 \r\nL 334.466761 26.967273 \r\nL 337.510398 24.990545 \r\nL 340.554034 23.013818 \r\nL 343.59767 21.037091 \r\nL 346.641307 19.060364 \r\n\" style=\"fill:none;stroke:#1f77b4;stroke-linecap:square;stroke-width:1.5;\"/>\r\n   </g>\r\n   <g id=\"patch_3\">\r\n    <path d=\"M 30.103125 224.64 \r\nL 30.103125 7.2 \r\n\" style=\"fill:none;stroke:#000000;stroke-linecap:square;stroke-linejoin:miter;stroke-width:0.8;\"/>\r\n   </g>\r\n   <g id=\"patch_4\">\r\n    <path d=\"M 364.903125 224.64 \r\nL 364.903125 7.2 \r\n\" style=\"fill:none;stroke:#000000;stroke-linecap:square;stroke-linejoin:miter;stroke-width:0.8;\"/>\r\n   </g>\r\n   <g id=\"patch_5\">\r\n    <path d=\"M 30.103125 224.64 \r\nL 364.903125 224.64 \r\n\" style=\"fill:none;stroke:#000000;stroke-linecap:square;stroke-linejoin:miter;stroke-width:0.8;\"/>\r\n   </g>\r\n   <g id=\"patch_6\">\r\n    <path d=\"M 30.103125 7.2 \r\nL 364.903125 7.2 \r\n\" style=\"fill:none;stroke:#000000;stroke-linecap:square;stroke-linejoin:miter;stroke-width:0.8;\"/>\r\n   </g>\r\n  </g>\r\n </g>\r\n <defs>\r\n  <clipPath id=\"p5cd6075e3d\">\r\n   <rect height=\"217.44\" width=\"334.8\" x=\"30.103125\" y=\"7.2\"/>\r\n  </clipPath>\r\n </defs>\r\n</svg>\r\n",
      "image/png": "[encoded data removed]"
     },
     "metadata": {
      "needs_background": "light"
     }
    }
   ],
   "source": [
    "import matplotlib.pyplot as plt\n",
    "%matplotlib inline\n",
    "plt.plot(especifities_1,sensivities,marker=\"o\",linestyle=\"--\",color=\"r\")\n",
    "yv=[i*0.01 for i in range(100)]\n",
    "x=yv\n",
    "plt.plot(x,yv)"
   ]
  },
  {
   "cell_type": "code",
   "execution_count": 332,
   "metadata": {},
   "outputs": [],
   "source": [
    "from sklearn.metrics import accuracy_score"
   ]
  },
  {
   "cell_type": "code",
   "execution_count": 333,
   "metadata": {},
   "outputs": [
    {
     "output_type": "stream",
     "name": "stdout",
     "text": [
      "94/94 [==============================] - 0s 1ms/step\n"
     ]
    }
   ],
   "source": [
    "y_p=ann.predict(x_test,verbose=1)"
   ]
  },
  {
   "cell_type": "code",
   "execution_count": 334,
   "metadata": {},
   "outputs": [
    {
     "output_type": "execute_result",
     "data": {
      "text/plain": [
       "0.8163333333333334"
      ]
     },
     "metadata": {},
     "execution_count": 334
    }
   ],
   "source": [
    "y_pred=1.0*(prediccion>0.51)\n",
    "accuracy_score(y_pred,y_test)"
   ]
  },
  {
   "cell_type": "code",
   "execution_count": null,
   "metadata": {},
   "outputs": [],
   "source": []
  },
  {
   "cell_type": "code",
   "execution_count": 335,
   "metadata": {},
   "outputs": [
    {
     "output_type": "stream",
     "name": "stdout",
     "text": [
      "219/219 [==============================] - 0s 1ms/step\n"
     ]
    }
   ],
   "source": [
    "prediccion=ann.predict(x_train,verbose=1)\n",
    "x_pd=1.0*(prediccion>0.51)"
   ]
  },
  {
   "cell_type": "code",
   "execution_count": 336,
   "metadata": {},
   "outputs": [
    {
     "output_type": "execute_result",
     "data": {
      "text/plain": [
       "0.8365714285714285"
      ]
     },
     "metadata": {},
     "execution_count": 336
    }
   ],
   "source": [
    "accuracy_score(x_pd,y_train)"
   ]
  },
  {
   "cell_type": "code",
   "execution_count": null,
   "metadata": {},
   "outputs": [],
   "source": []
  }
 ]
}
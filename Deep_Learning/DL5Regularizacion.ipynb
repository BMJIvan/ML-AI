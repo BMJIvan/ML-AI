{
 "metadata": {
  "language_info": {
   "codemirror_mode": {
    "name": "ipython",
    "version": 3
   },
   "file_extension": ".py",
   "mimetype": "text/x-python",
   "name": "python",
   "nbconvert_exporter": "python",
   "pygments_lexer": "ipython3",
   "version": "3.7.8-candidate"
  },
  "orig_nbformat": 2,
  "kernelspec": {
   "name": "python378jvsc74a57bd0a843a697a89e226d7136b1317631bc69fb21799a3b60a45ed53d3092ed43ad2c",
   "display_name": "Python 3.7.8 64-bit"
  }
 },
 "nbformat": 4,
 "nbformat_minor": 2,
 "cells": [
  {
   "cell_type": "code",
   "execution_count": 1,
   "metadata": {},
   "outputs": [],
   "source": [
    "import numpy\n",
    "import matplotlib.pyplot as plt \n",
    "%matplotlib inline\n",
    "plt.rcParams[\"figure.figsize\"]=[6,6]"
   ]
  },
  {
   "cell_type": "code",
   "execution_count": 2,
   "metadata": {},
   "outputs": [],
   "source": [
    "#Cargamos los datos \n",
    "#En deep learning no se suele hacer validacion cruzada (a menos que el tamaño del dataset y el tiempo de entrenamiento lo permita). En lugar de eso se hacen simples separaciones entre datos de entrenamiento y de validacion "
   ]
  },
  {
   "cell_type": "code",
   "execution_count": 3,
   "metadata": {},
   "outputs": [
    {
     "output_type": "stream",
     "name": "stdout",
     "text": [
      "Downloading data from https://storage.googleapis.com/tensorflow/tf-keras-datasets/mnist.npz\n",
      "11493376/11490434 [==============================] - 4s 0us/step\n"
     ]
    }
   ],
   "source": [
    "from keras.datasets import mnist\n",
    "\n",
    "(x_train, y_train), (x_test, y_test) = mnist.load_data()"
   ]
  },
  {
   "cell_type": "code",
   "execution_count": 9,
   "metadata": {},
   "outputs": [],
   "source": [
    "from ipywidgets import interact, IntSlider"
   ]
  },
  {
   "cell_type": "code",
   "execution_count": 10,
   "metadata": {},
   "outputs": [
    {
     "output_type": "display_data",
     "data": {
      "text/plain": "interactive(children=(IntSlider(value=1, description='i', max=50), Output()), _dom_classes=('widget-interact',…",
      "application/vnd.jupyter.widget-view+json": {
       "version_major": 2,
       "version_minor": 0,
       "model_id": "eef8f42b3cae45e38169dd6ec53d2747"
      }
     },
     "metadata": {}
    }
   ],
   "source": [
    "@interact(i=IntSlider(min=0, max=50, sstep=1,value=1))\n",
    "def dibujar_numero(i):\n",
    "    plt.imshow(x_train[i], cmap=\"gray\")\n",
    "    plt.title(\"Numero {}\".format(y_train[i]))"
   ]
  },
  {
   "cell_type": "code",
   "execution_count": 11,
   "metadata": {},
   "outputs": [],
   "source": [
    "from keras.models import Sequential\n",
    "from keras.layers import Dense, Dropout, Flatten"
   ]
  },
  {
   "cell_type": "code",
   "execution_count": 12,
   "metadata": {},
   "outputs": [
    {
     "output_type": "execute_result",
     "data": {
      "text/plain": [
       "array([0, 1, 2, 3, 4, 5, 6, 7, 8, 9], dtype=uint8)"
      ]
     },
     "metadata": {},
     "execution_count": 12
    }
   ],
   "source": [
    "numpy.unique(y_train)"
   ]
  },
  {
   "cell_type": "code",
   "execution_count": 13,
   "metadata": {},
   "outputs": [
    {
     "output_type": "execute_result",
     "data": {
      "text/plain": [
       "(60000, 28, 28)"
      ]
     },
     "metadata": {},
     "execution_count": 13
    }
   ],
   "source": [
    "x_train.shape"
   ]
  },
  {
   "cell_type": "code",
   "execution_count": 14,
   "metadata": {},
   "outputs": [],
   "source": [
    "x_train_plano=x_train.reshape(x_train.shape[0], 28*28)\n",
    "x_test_plano=x_test.reshape(x_test.shape[0], 28*28)"
   ]
  },
  {
   "cell_type": "code",
   "execution_count": 15,
   "metadata": {},
   "outputs": [
    {
     "output_type": "execute_result",
     "data": {
      "text/plain": [
       "(60000, 784)"
      ]
     },
     "metadata": {},
     "execution_count": 15
    }
   ],
   "source": [
    "x_train_plano.shape"
   ]
  },
  {
   "cell_type": "code",
   "execution_count": 16,
   "metadata": {},
   "outputs": [],
   "source": [
    "from keras.utils.np_utils import to_categorical"
   ]
  },
  {
   "cell_type": "code",
   "execution_count": 18,
   "metadata": {},
   "outputs": [],
   "source": [
    "y_train_one_hot=to_categorical(y_train)\n",
    "y_test_one_hot=to_categorical(y_test)"
   ]
  },
  {
   "cell_type": "code",
   "execution_count": 20,
   "metadata": {},
   "outputs": [
    {
     "output_type": "stream",
     "name": "stdout",
     "text": [
      "Model: \"sequential_1\"\n_________________________________________________________________\nLayer (type)                 Output Shape              Param #   \n=================================================================\ndense_2 (Dense)              (None, 50)                39250     \n_________________________________________________________________\ndense_3 (Dense)              (None, 250)               12750     \n_________________________________________________________________\ndense_4 (Dense)              (None, 10)                2510      \n=================================================================\nTotal params: 54,510\nTrainable params: 54,510\nNon-trainable params: 0\n_________________________________________________________________\n"
     ]
    }
   ],
   "source": [
    "modelo=Sequential()\n",
    "modelo.add(Dense(50,activation=\"relu\", input_shape=(784,)))\n",
    "modelo.add(Dense(250, activation=\"relu\"))\n",
    "modelo.add(Dense(numpy.unique(y_train).shape[0], activation=\"softmax\"))\n",
    "\n",
    "modelo.compile(optimizer=\"sgd\", loss=\"categorical_crossentropy\", metrics=[\"accuracy\"])\n",
    "\n",
    "modelo.summary()"
   ]
  },
  {
   "cell_type": "code",
   "execution_count": 21,
   "metadata": {},
   "outputs": [],
   "source": [
    "modelo.fit(x_train_plano, y_train_one_hot, epochs=30, batch_size=500, verbose=0);"
   ]
  },
  {
   "cell_type": "code",
   "execution_count": 22,
   "metadata": {},
   "outputs": [],
   "source": [
    "resultados={}"
   ]
  },
  {
   "cell_type": "code",
   "execution_count": 23,
   "metadata": {},
   "outputs": [
    {
     "output_type": "execute_result",
     "data": {
      "text/plain": [
       "['loss', 'accuracy']"
      ]
     },
     "metadata": {},
     "execution_count": 23
    }
   ],
   "source": [
    "modelo.metrics_names"
   ]
  },
  {
   "cell_type": "code",
   "execution_count": 24,
   "metadata": {},
   "outputs": [
    {
     "output_type": "stream",
     "name": "stdout",
     "text": [
      "1875/1875 [==============================] - 4s 2ms/step - loss: 1.2924 - accuracy: 0.4696\n"
     ]
    },
    {
     "output_type": "execute_result",
     "data": {
      "text/plain": [
       "[1.2923966646194458, 0.4696333408355713]"
      ]
     },
     "metadata": {},
     "execution_count": 24
    }
   ],
   "source": [
    "evaluacion_train=modelo.evaluate(x_train_plano, y_train_one_hot)\n",
    "evaluacion_train"
   ]
  },
  {
   "cell_type": "code",
   "execution_count": 25,
   "metadata": {},
   "outputs": [
    {
     "output_type": "stream",
     "name": "stdout",
     "text": [
      "313/313 [==============================] - 1s 3ms/step - loss: 1.3457 - accuracy: 0.4671\n"
     ]
    },
    {
     "output_type": "execute_result",
     "data": {
      "text/plain": [
       "[1.3457087278366089, 0.46709999442100525]"
      ]
     },
     "metadata": {},
     "execution_count": 25
    }
   ],
   "source": [
    "evaluacion_test=modelo.evaluate(x_test_plano, y_test_one_hot)\n",
    "evaluacion_test"
   ]
  },
  {
   "cell_type": "code",
   "execution_count": 26,
   "metadata": {},
   "outputs": [],
   "source": [
    "resultados[\"sin_reguñarizacion\"]=[evaluacion_train[1], evaluacion_test[1]]"
   ]
  },
  {
   "cell_type": "code",
   "execution_count": 27,
   "metadata": {},
   "outputs": [],
   "source": [
    "#Regularizacion l1 o l2\n",
    "#Keras permite regularizar los pesos, los sesgos (bias) y las activaciones de forma independiente, pasando el parametro kernel_regularizer, bias_regularizer y activity_regularizer respectivamente\n",
    "\n",
    "#Keras tiene los penalizadores l1, l2, l1_l2 (elasticnet)"
   ]
  },
  {
   "cell_type": "code",
   "execution_count": 29,
   "metadata": {},
   "outputs": [
    {
     "output_type": "stream",
     "name": "stdout",
     "text": [
      "Model: \"sequential_3\"\n_________________________________________________________________\nLayer (type)                 Output Shape              Param #   \n=================================================================\ndense_8 (Dense)              (None, 50)                39250     \n_________________________________________________________________\ndense_9 (Dense)              (None, 250)               12750     \n_________________________________________________________________\ndense_10 (Dense)             (None, 10)                2510      \n=================================================================\nTotal params: 54,510\nTrainable params: 54,510\nNon-trainable params: 0\n_________________________________________________________________\n"
     ]
    }
   ],
   "source": [
    "from keras import regularizers\n",
    "\n",
    "modelo_l2=Sequential()\n",
    "modelo_l2.add(Dense(50,activation=\"relu\", input_shape=(784,)))\n",
    "modelo_l2.add(Dense(250, activation=\"relu\", kernel_regularizer=regularizers.l2(0.05)))\n",
    "modelo_l2.add(Dense(numpy.unique(y_train).shape[0], activation=\"softmax\"))\n",
    "\n",
    "modelo_l2.compile(optimizer=\"sgd\", loss=\"categorical_crossentropy\", metrics=[\"accuracy\"])\n",
    "\n",
    "modelo_l2.summary()"
   ]
  },
  {
   "cell_type": "code",
   "execution_count": 30,
   "metadata": {},
   "outputs": [
    {
     "output_type": "execute_result",
     "data": {
      "text/plain": [
       "<tensorflow.python.keras.callbacks.History at 0x22c25e932c8>"
      ]
     },
     "metadata": {},
     "execution_count": 30
    }
   ],
   "source": [
    "modelo_l2.fit(x_train_plano, y_train_one_hot, verbose=0, epochs=30, batch_size=500)"
   ]
  },
  {
   "cell_type": "code",
   "execution_count": 31,
   "metadata": {},
   "outputs": [
    {
     "output_type": "stream",
     "name": "stdout",
     "text": [
      "1875/1875 [==============================] - 4s 2ms/step - loss: 0.9578 - accuracy: 0.6820\n"
     ]
    },
    {
     "output_type": "execute_result",
     "data": {
      "text/plain": [
       "0.682033360004425"
      ]
     },
     "metadata": {},
     "execution_count": 31
    }
   ],
   "source": [
    "acc_train=modelo_l2.evaluate(x_train_plano, y_train_one_hot)[1]\n",
    "acc_train"
   ]
  },
  {
   "cell_type": "code",
   "execution_count": 32,
   "metadata": {},
   "outputs": [
    {
     "output_type": "stream",
     "name": "stdout",
     "text": [
      "313/313 [==============================] - 1s 3ms/step - loss: 0.9445 - accuracy: 0.6876\n"
     ]
    },
    {
     "output_type": "execute_result",
     "data": {
      "text/plain": [
       "0.6876000165939331"
      ]
     },
     "metadata": {},
     "execution_count": 32
    }
   ],
   "source": [
    "acc_test=modelo_l2.evaluate(x_test_plano, y_test_one_hot)[1]\n",
    "acc_test"
   ]
  },
  {
   "cell_type": "code",
   "execution_count": 33,
   "metadata": {},
   "outputs": [],
   "source": [
    "resultados[\"regularizacion_l2\"]=[acc_train, acc_test]"
   ]
  },
  {
   "cell_type": "code",
   "execution_count": 34,
   "metadata": {},
   "outputs": [],
   "source": [
    "#Hacemos lo mismo pero con regularizacion l1"
   ]
  },
  {
   "cell_type": "code",
   "execution_count": 36,
   "metadata": {},
   "outputs": [
    {
     "output_type": "stream",
     "name": "stdout",
     "text": [
      "Model: \"sequential_5\"\n",
      "_________________________________________________________________\n",
      "Layer (type)                 Output Shape              Param #   \n",
      "=================================================================\n",
      "dense_14 (Dense)             (None, 50)                39250     \n",
      "_________________________________________________________________\n",
      "dense_15 (Dense)             (None, 250)               12750     \n",
      "_________________________________________________________________\n",
      "dense_16 (Dense)             (None, 10)                2510      \n",
      "=================================================================\n",
      "Total params: 54,510\n",
      "Trainable params: 54,510\n",
      "Non-trainable params: 0\n",
      "_________________________________________________________________\n",
      "1875/1875 [==============================] - 4s 2ms/step - loss: 2.3747 - accuracy: 0.2281\n",
      "313/313 [==============================] - 1s 3ms/step - loss: 2.3694 - accuracy: 0.2356\n"
     ]
    },
    {
     "output_type": "execute_result",
     "data": {
      "text/plain": [
       "0.23559999465942383"
      ]
     },
     "metadata": {},
     "execution_count": 36
    }
   ],
   "source": [
    "modelo_l1=Sequential()\n",
    "modelo_l1.add(Dense(50,activation=\"relu\", input_shape=(784,)))\n",
    "modelo_l1.add(Dense(250, activation=\"relu\", kernel_regularizer=regularizers.l1(0.05)))\n",
    "modelo_l1.add(Dense(numpy.unique(y_train).shape[0], activation=\"softmax\"))\n",
    "\n",
    "modelo_l1.compile(optimizer=\"sgd\", loss=\"categorical_crossentropy\", metrics=[\"accuracy\"])\n",
    "\n",
    "modelo_l1.summary()\n",
    "\n",
    "modelo_l1.fit(x_train_plano, y_train_one_hot, verbose=0, epochs=30, batch_size=500)\n",
    "\n",
    "acc_train=modelo_l1.evaluate(x_train_plano, y_train_one_hot)[1]\n",
    "acc_train\n",
    "\n",
    "acc_test=modelo_l1.evaluate(x_test_plano, y_test_one_hot)[1]\n",
    "acc_test"
   ]
  },
  {
   "cell_type": "code",
   "execution_count": 37,
   "metadata": {},
   "outputs": [],
   "source": [
    "resultados[\"regularizacion_l1\"]=[acc_train, acc_test]"
   ]
  },
  {
   "cell_type": "code",
   "execution_count": 38,
   "metadata": {},
   "outputs": [
    {
     "output_type": "execute_result",
     "data": {
      "text/plain": [
       "{'sin_reguñarizacion': [0.4696333408355713, 0.46709999442100525],\n",
       " 'regularizacion_l2': [0.682033360004425, 0.6876000165939331],\n",
       " 'regularizacion_l1': [0.22808332741260529, 0.23559999465942383]}"
      ]
     },
     "metadata": {},
     "execution_count": 38
    }
   ],
   "source": [
    "resultados"
   ]
  },
  {
   "cell_type": "code",
   "execution_count": 39,
   "metadata": {},
   "outputs": [],
   "source": [
    "#Dropout\n",
    "#Ahora vamos a añadir Dropout a la misma red. Dropout simplemente ignora un porcentaje p de las unidades (neuronas) en cada iteracion del entrenamiento (forward prop y backprop)"
   ]
  },
  {
   "cell_type": "code",
   "execution_count": 40,
   "metadata": {},
   "outputs": [],
   "source": [
    "from keras.layers import Dropout"
   ]
  },
  {
   "cell_type": "code",
   "execution_count": 43,
   "metadata": {},
   "outputs": [
    {
     "output_type": "stream",
     "name": "stdout",
     "text": [
      "Model: \"sequential_6\"\n_________________________________________________________________\nLayer (type)                 Output Shape              Param #   \n=================================================================\ndense_17 (Dense)             (None, 50)                39250     \n_________________________________________________________________\ndense_18 (Dense)             (None, 250)               12750     \n_________________________________________________________________\ndropout (Dropout)            (None, 250)               0         \n_________________________________________________________________\ndense_19 (Dense)             (None, 10)                2510      \n=================================================================\nTotal params: 54,510\nTrainable params: 54,510\nNon-trainable params: 0\n_________________________________________________________________\n"
     ]
    }
   ],
   "source": [
    "modelo_dropout=Sequential()\n",
    "modelo_dropout.add(Dense(50,activation=\"relu\", input_shape=(784,)))\n",
    "modelo_dropout.add(Dense(250, activation=\"relu\"))\n",
    "modelo_dropout.add(Dropout(0.2))\n",
    "modelo_dropout.add(Dense(numpy.unique(y_train).shape[0], activation=\"softmax\"))\n",
    "\n",
    "modelo_dropout.compile(optimizer=\"sgd\", loss=\"categorical_crossentropy\", metrics=[\"accuracy\"])\n",
    "\n",
    "modelo_dropout.summary()"
   ]
  },
  {
   "cell_type": "code",
   "execution_count": 44,
   "metadata": {},
   "outputs": [],
   "source": [
    "#Vemos que el numero de parametros a entrenar es el mismo, Dropout no añade pesos a la red"
   ]
  },
  {
   "cell_type": "code",
   "execution_count": 45,
   "metadata": {},
   "outputs": [
    {
     "output_type": "stream",
     "name": "stdout",
     "text": [
      "1875/1875 [==============================] - 4s 2ms/step - loss: 0.8879 - accuracy: 0.6677\n",
      "313/313 [==============================] - 1s 3ms/step - loss: 0.9003 - accuracy: 0.6752\n"
     ]
    },
    {
     "output_type": "execute_result",
     "data": {
      "text/plain": [
       "0.6751999855041504"
      ]
     },
     "metadata": {},
     "execution_count": 45
    }
   ],
   "source": [
    "modelo_dropout.fit(x_train_plano, y_train_one_hot, verbose=0, epochs=30, batch_size=500)\n",
    "\n",
    "acc_train=modelo_dropout.evaluate(x_train_plano, y_train_one_hot)[1]\n",
    "acc_train\n",
    "\n",
    "acc_test=modelo_dropout.evaluate(x_test_plano, y_test_one_hot)[1]\n",
    "acc_test"
   ]
  },
  {
   "cell_type": "code",
   "execution_count": 47,
   "metadata": {},
   "outputs": [],
   "source": [
    "resultados[\"regularizacion_dropout\"]=[acc_train, acc_test]"
   ]
  },
  {
   "cell_type": "code",
   "execution_count": 48,
   "metadata": {},
   "outputs": [],
   "source": [
    "#Normalizacion en bloques (batch normalization)"
   ]
  },
  {
   "cell_type": "code",
   "execution_count": 50,
   "metadata": {},
   "outputs": [],
   "source": [
    "from keras.layers import BatchNormalization"
   ]
  },
  {
   "cell_type": "code",
   "execution_count": 51,
   "metadata": {},
   "outputs": [
    {
     "output_type": "stream",
     "name": "stdout",
     "text": [
      "Model: \"sequential_7\"\n_________________________________________________________________\nLayer (type)                 Output Shape              Param #   \n=================================================================\ndense_20 (Dense)             (None, 50)                39250     \n_________________________________________________________________\ndense_21 (Dense)             (None, 250)               12750     \n_________________________________________________________________\nbatch_normalization (BatchNo (None, 250)               1000      \n_________________________________________________________________\ndense_22 (Dense)             (None, 10)                2510      \n=================================================================\nTotal params: 55,510\nTrainable params: 55,010\nNon-trainable params: 500\n_________________________________________________________________\n"
     ]
    }
   ],
   "source": [
    "modelo_bnorm=Sequential()\n",
    "modelo_bnorm.add(Dense(50,activation=\"relu\", input_shape=(784,)))\n",
    "modelo_bnorm.add(Dense(250, activation=\"relu\"))\n",
    "modelo_bnorm.add(BatchNormalization())\n",
    "modelo_bnorm.add(Dense(numpy.unique(y_train).shape[0], activation=\"softmax\"))\n",
    "\n",
    "modelo_bnorm.compile(optimizer=\"sgd\", loss=\"categorical_crossentropy\", metrics=[\"accuracy\"])\n",
    "\n",
    "modelo_bnorm.summary()"
   ]
  },
  {
   "cell_type": "code",
   "execution_count": 52,
   "metadata": {},
   "outputs": [
    {
     "output_type": "stream",
     "name": "stdout",
     "text": [
      "1875/1875 [==============================] - 3s 2ms/step - loss: 0.1084 - accuracy: 0.9702\n",
      "313/313 [==============================] - 1s 4ms/step - loss: 0.1280 - accuracy: 0.9624\n"
     ]
    },
    {
     "output_type": "execute_result",
     "data": {
      "text/plain": [
       "0.9624000191688538"
      ]
     },
     "metadata": {},
     "execution_count": 52
    }
   ],
   "source": [
    "modelo_bnorm.fit(x_train_plano, y_train_one_hot, verbose=0, epochs=30, batch_size=500)\n",
    "\n",
    "acc_train=modelo_bnorm.evaluate(x_train_plano, y_train_one_hot)[1]\n",
    "acc_train\n",
    "\n",
    "acc_test=modelo_bnorm.evaluate(x_test_plano, y_test_one_hot)[1]\n",
    "acc_test"
   ]
  },
  {
   "cell_type": "code",
   "execution_count": 53,
   "metadata": {},
   "outputs": [],
   "source": [
    "resultados[\"batchh_normalization\"]=[acc_train, acc_test]"
   ]
  },
  {
   "cell_type": "code",
   "execution_count": 54,
   "metadata": {},
   "outputs": [],
   "source": [
    "#Batch Normalization + Dropout\n",
    "#Una practiva comun es poner normalizacion batch y dropout juntos en una capa"
   ]
  },
  {
   "cell_type": "code",
   "execution_count": 55,
   "metadata": {},
   "outputs": [
    {
     "output_type": "stream",
     "name": "stdout",
     "text": [
      "Model: \"sequential_8\"\n",
      "_________________________________________________________________\n",
      "Layer (type)                 Output Shape              Param #   \n",
      "=================================================================\n",
      "dense_23 (Dense)             (None, 50)                39250     \n",
      "_________________________________________________________________\n",
      "dense_24 (Dense)             (None, 250)               12750     \n",
      "_________________________________________________________________\n",
      "batch_normalization_1 (Batch (None, 250)               1000      \n",
      "_________________________________________________________________\n",
      "dropout_1 (Dropout)          (None, 250)               0         \n",
      "_________________________________________________________________\n",
      "dense_25 (Dense)             (None, 10)                2510      \n",
      "=================================================================\n",
      "Total params: 55,510\n",
      "Trainable params: 55,010\n",
      "Non-trainable params: 500\n",
      "_________________________________________________________________\n",
      "1875/1875 [==============================] - 4s 2ms/step - loss: 0.1191 - accuracy: 0.9658\n",
      "313/313 [==============================] - 1s 3ms/step - loss: 0.1378 - accuracy: 0.9586\n"
     ]
    },
    {
     "output_type": "execute_result",
     "data": {
      "text/plain": [
       "0.9585999846458435"
      ]
     },
     "metadata": {},
     "execution_count": 55
    }
   ],
   "source": [
    "modelo_bnorm_dropout=Sequential()\n",
    "modelo_bnorm_dropout.add(Dense(50,activation=\"relu\", input_shape=(784,)))\n",
    "modelo_bnorm_dropout.add(Dense(250, activation=\"relu\"))\n",
    "modelo_bnorm_dropout.add(BatchNormalization())\n",
    "modelo_bnorm_dropout.add(Dropout(0.2))\n",
    "modelo_bnorm_dropout.add(Dense(numpy.unique(y_train).shape[0], activation=\"softmax\"))\n",
    "\n",
    "modelo_bnorm_dropout.compile(optimizer=\"sgd\", loss=\"categorical_crossentropy\", metrics=[\"accuracy\"])\n",
    "\n",
    "modelo_bnorm_dropout.summary()\n",
    "\n",
    "modelo_bnorm_dropout.fit(x_train_plano, y_train_one_hot, verbose=0, epochs=30, batch_size=500)\n",
    "\n",
    "acc_train=modelo_bnorm_dropout.evaluate(x_train_plano, y_train_one_hot)[1]\n",
    "acc_train\n",
    "\n",
    "acc_test=modelo_bnorm_dropout.evaluate(x_test_plano, y_test_one_hot)[1]\n",
    "acc_test"
   ]
  },
  {
   "cell_type": "code",
   "execution_count": 56,
   "metadata": {},
   "outputs": [],
   "source": [
    "resultados[\"batch_normalization + dropout\"]=[acc_train, acc_test]"
   ]
  },
  {
   "cell_type": "code",
   "execution_count": 57,
   "metadata": {},
   "outputs": [],
   "source": [
    "#Ahora metemos los resultados en un dataframe para inspeccionarlos"
   ]
  },
  {
   "cell_type": "code",
   "execution_count": 59,
   "metadata": {},
   "outputs": [],
   "source": [
    "import pandas\n",
    "\n",
    "resultados=pandas.DataFrame(resultados).T\n",
    "resultados.columns=[\"acc_train\", \"acc_test\"]\n",
    "resultados[\"pct_diff\"] = 1 - (resultados.acc_test/resultados.acc_train)"
   ]
  },
  {
   "cell_type": "code",
   "execution_count": 60,
   "metadata": {},
   "outputs": [
    {
     "output_type": "execute_result",
     "data": {
      "text/plain": [
       "                               acc_train  acc_test  pct_diff\n",
       "regularizacion_l1               0.228083    0.2356 -0.032956\n",
       "regularizacion_dropout          0.667667    0.6752 -0.011283\n",
       "regularizacion_l2               0.682033    0.6876 -0.008162\n",
       "sin_reguñarizacion              0.469633    0.4671  0.005394\n",
       "batch_normalization + dropout   0.965800    0.9586  0.007455\n",
       "batchh_normalization            0.970200    0.9624  0.008040"
      ],
      "text/html": "<div>\n<style scoped>\n    .dataframe tbody tr th:only-of-type {\n        vertical-align: middle;\n    }\n\n    .dataframe tbody tr th {\n        vertical-align: top;\n    }\n\n    .dataframe thead th {\n        text-align: right;\n    }\n</style>\n<table border=\"1\" class=\"dataframe\">\n  <thead>\n    <tr style=\"text-align: right;\">\n      <th></th>\n      <th>acc_train</th>\n      <th>acc_test</th>\n      <th>pct_diff</th>\n    </tr>\n  </thead>\n  <tbody>\n    <tr>\n      <th>regularizacion_l1</th>\n      <td>0.228083</td>\n      <td>0.2356</td>\n      <td>-0.032956</td>\n    </tr>\n    <tr>\n      <th>regularizacion_dropout</th>\n      <td>0.667667</td>\n      <td>0.6752</td>\n      <td>-0.011283</td>\n    </tr>\n    <tr>\n      <th>regularizacion_l2</th>\n      <td>0.682033</td>\n      <td>0.6876</td>\n      <td>-0.008162</td>\n    </tr>\n    <tr>\n      <th>sin_reguñarizacion</th>\n      <td>0.469633</td>\n      <td>0.4671</td>\n      <td>0.005394</td>\n    </tr>\n    <tr>\n      <th>batch_normalization + dropout</th>\n      <td>0.965800</td>\n      <td>0.9586</td>\n      <td>0.007455</td>\n    </tr>\n    <tr>\n      <th>batchh_normalization</th>\n      <td>0.970200</td>\n      <td>0.9624</td>\n      <td>0.008040</td>\n    </tr>\n  </tbody>\n</table>\n</div>"
     },
     "metadata": {},
     "execution_count": 60
    }
   ],
   "source": [
    "resultados.sort_values(by=\"pct_diff\")"
   ]
  },
  {
   "cell_type": "code",
   "execution_count": null,
   "metadata": {},
   "outputs": [],
   "source": []
  }
 ]
}
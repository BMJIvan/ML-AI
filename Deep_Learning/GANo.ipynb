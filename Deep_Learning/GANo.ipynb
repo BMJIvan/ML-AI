{
 "metadata": {
  "language_info": {
   "codemirror_mode": {
    "name": "ipython",
    "version": 3
   },
   "file_extension": ".py",
   "mimetype": "text/x-python",
   "name": "python",
   "nbconvert_exporter": "python",
   "pygments_lexer": "ipython3",
   "version": "3.7.8"
  },
  "orig_nbformat": 2,
  "kernelspec": {
   "name": "python3",
   "display_name": "Python 3.7.8rc1 64-bit"
  },
  "metadata": {
   "interpreter": {
    "hash": "9e80d76ea6f7910366ea144e4925c6ce12227515ad9ee1266cb0780bd8ad6c40"
   }
  },
  "interpreter": {
   "hash": "9e80d76ea6f7910366ea144e4925c6ce12227515ad9ee1266cb0780bd8ad6c40"
  }
 },
 "nbformat": 4,
 "nbformat_minor": 2,
 "cells": [
  {
   "cell_type": "code",
   "execution_count": 1,
   "metadata": {},
   "outputs": [],
   "source": [
    "from tensorflow.keras.models import Model\n",
    "from tensorflow.keras.layers import Dense, Activation, Input, Flatten\n",
    "from tensorflow.keras.layers import BatchNormalization, Dropout, Reshape\n",
    "from tensorflow.keras.layers import Conv2D, LeakyReLU, Conv2DTranspose\n",
    "from tensorflow.keras.optimizers import Adam\n",
    "from tensorflow.keras.datasets import mnist\n",
    "from tensorflow.keras import Sequential\n",
    "from tensorflow.data import Dataset\n",
    "import tensorflow as tf\n",
    "import numpy\n",
    "import matplotlib.pyplot as plt\n",
    "import cv2"
   ]
  },
  {
   "cell_type": "code",
   "execution_count": 444,
   "metadata": {},
   "outputs": [],
   "source": [
    "(x_train, y_train), (x_test, y_test) = mnist.load_data()\n",
    "x_train=x_train.reshape(x_train.shape[0], 28, 28)"
   ]
  },
  {
   "cell_type": "code",
   "execution_count": 445,
   "metadata": {},
   "outputs": [],
   "source": [
    "x_train_new=numpy.zeros((6000,20,20), int)\n",
    "nb_images_added=0\n",
    "for image, y_t in enumerate(y_train):\n",
    "    if y_t==0:\n",
    "        x_train_new[nb_images_added]=cv2.resize(x_train[image], (20,20))\n",
    "        nb_images_added+=1"
   ]
  },
  {
   "cell_type": "code",
   "execution_count": 446,
   "metadata": {},
   "outputs": [],
   "source": [
    "x_train_new=x_train_new[0:5000]"
   ]
  },
  {
   "cell_type": "code",
   "execution_count": 447,
   "metadata": {},
   "outputs": [
    {
     "output_type": "execute_result",
     "data": {
      "text/plain": [
       "5000"
      ]
     },
     "metadata": {},
     "execution_count": 447
    }
   ],
   "source": [
    "len(x_train_new)"
   ]
  },
  {
   "cell_type": "code",
   "execution_count": 448,
   "metadata": {},
   "outputs": [
    {
     "output_type": "execute_result",
     "data": {
      "text/plain": [
       "<matplotlib.image.AxesImage at 0x27c4eec8bc8>"
      ]
     },
     "metadata": {},
     "execution_count": 448
    },
    {
     "output_type": "display_data",
     "data": {
      "text/plain": "<Figure size 432x288 with 1 Axes>",
      "image/svg+xml": "<?xml version=\"1.0\" encoding=\"utf-8\" standalone=\"no\"?>\r\n<!DOCTYPE svg PUBLIC \"-//W3C//DTD SVG 1.1//EN\"\r\n  \"http://www.w3.org/Graphics/SVG/1.1/DTD/svg11.dtd\">\r\n<svg height=\"248.518125pt\" version=\"1.1\" viewBox=\"0 0 261.105625 248.518125\" width=\"261.105625pt\" xmlns=\"http://www.w3.org/2000/svg\" xmlns:xlink=\"http://www.w3.org/1999/xlink\">\r\n <metadata>\r\n  <rdf:RDF xmlns:cc=\"http://creativecommons.org/ns#\" xmlns:dc=\"http://purl.org/dc/elements/1.1/\" xmlns:rdf=\"http://www.w3.org/1999/02/22-rdf-syntax-ns#\">\r\n   <cc:Work>\r\n    <dc:type rdf:resource=\"http://purl.org/dc/dcmitype/StillImage\"/>\r\n    <dc:date>2021-06-17T22:27:16.147311</dc:date>\r\n    <dc:format>image/svg+xml</dc:format>\r\n    <dc:creator>\r\n     <cc:Agent>\r\n      <dc:title>Matplotlib v3.4.1, https://matplotlib.org/</dc:title>\r\n     </cc:Agent>\r\n    </dc:creator>\r\n   </cc:Work>\r\n  </rdf:RDF>\r\n </metadata>\r\n <defs>\r\n  <style type=\"text/css\">*{stroke-linecap:butt;stroke-linejoin:round;}</style>\r\n </defs>\r\n <g id=\"figure_1\">\r\n  <g id=\"patch_1\">\r\n   <path d=\"M 0 248.518125 \r\nL 261.105625 248.518125 \r\nL 261.105625 0 \r\nL 0 0 \r\nz\r\n\" style=\"fill:none;\"/>\r\n  </g>\r\n  <g id=\"axes_1\">\r\n   <g id=\"patch_2\">\r\n    <path d=\"M 36.465625 224.64 \r\nL 253.905625 224.64 \r\nL 253.905625 7.2 \r\nL 36.465625 7.2 \r\nz\r\n\" style=\"fill:#ffffff;\"/>\r\n   </g>\r\n   <g clip-path=\"url(#pfae484aa57)\">\r\n    <image height=\"218\" id=\"imageec9224754f\" transform=\"scale(1 -1)translate(0 -218)\" width=\"218\" x=\"36.465625\" xlink:href=\"data:image/png;base64,\r\niVBORw0KGgoAAAANSUhEUgAAANoAAADaCAYAAADAHVzbAAAFnUlEQVR4nO3dv6uOfxzH8ev+huGQRToT0xlOJkoGisFiUTqLTikDx7EcnVLkZGJgEOXHWU6nlPIjg2xkkPJjUiwkko4UkyMZdOj4D77f963u1znX+T4e86tPV53z7LNcXXenaZr5Buipfxb6AeD/QGgQIDQIEBoECA0ChAYBQoMAoUGA0CBAaBAgNAgQGgQIDQKEBgFCgwChQYDQIEBoECA0CBAaBAgNAoQGAUKDAKFBgNAgQGgQIDQIEBoECA0ChAYBQoMAoUHAsoV+gF45fPhweXvkyJHydnBw8G8e5z89e/asvB0ZGSlvX79+Xd7Oz/tNyl5xo0GA0CBAaBAgNAgQGgQIDQKEBgFCgwChQYDQIKDTNE2r3rvZsGFDaff06dPymStWrChvnzx5Ut7u2LGjvO10OuXt+/fvy9tLly6Vt5cvXy5v6Y4bDQKEBgFCgwChQYDQIEBoECA0CBAaBAgNAoQGAa37Ctbu3btLu9WrV5fPvHLlSnk7NjZW3lZfF2uaphkfHy9v9+zZU96Ojo6Wt3fv3i1vP378WN7iRoMIoUGA0CBAaBAgNAgQGgQIDQKEBgFCg4DWvRlS/X2yubm58pkvXrz4y6f5d69evSpvDx06VN7evn27vD1//nxPzu3m9+devnxZ2i3l32dzo0GA0CBAaBAgNAgQGgQIDQKEBgFCgwChQYDQIKB1r2DNzMyUdsuXLy+fuWXLlvJ2enq6vO2VBw8elLcTExPlbTcf57l+/Xp5u2vXrtKu+rdtIzcaBAgNAoQGAUKDAKFBgNAgQGgQIDQIEBoECA0COk3TtOrTQ/39/aXdmzdvymfOzs6Wt5s2bSpvv379Wt72SqfTKW/37t1b3k5NTZW3t27dKu0OHjxYPrNt3GgQIDQIEBoECA0ChAYBQoMAoUGA0CBAaBAgNAho3StYVWfPni1vjx49Wt5eu3atvB0ZGSlvf//+Xd72SjdfDjt16lR5e+DAgdJu69at5TPfvXtX3i4GbjQIEBoECA0ChAYBQoMAoUGA0CBAaBAgNAgQGgQs2Vew1q9fX97eu3evvB0cHCxvt2/fXt4+fvy4vF0Muvli1tWrV0u748ePl8+8ePFiebsYuNEgQGgQIDQIEBoECA0ChAYBQoMAoUGA0CBAaBCwbKEfoFe+fPlS3t65c6e8PXHiRHl75syZ8nZ8fLy8ff78eXnbKx8+fChvv337Vtpt3Ljx7x6mBdxoECA0CBAaBAgNAoQGAUKDAKFBgNAgQGgQIDQIWLKvYP38+bO8nZycLG/HxsbK223btpW3N2/eLG937txZ3s7MzJS33fjx40d5Ozc315NnaBM3GgQIDQKEBgFCgwChQYDQIEBoECA0CBAaBAgNApbsK1jd+PTpU3nbzY8L3r9/v7wdGBgobx8+fFjenjx5sry9ceNGebt58+bydu3ataXd7Oxs+cy2caNBgNAgQGgQIDQIEBoECA0ChAYBQoMAoUGA0CCg0zTN/EI/xFI1Ojpa3p47d668XblyZXn7/fv38vbt27flbX9/f3lb/RLX0NBQ+cxufmhyMXCjQYDQIEBoECA0CBAaBAgNAoQGAUKDAKFBgNAgwCtYPbRmzZry9vTp0+Xt/v37y9u+vr7ydn6+/q/w+fPn8nZ4eLi0e/ToUfnMtnGjQYDQIEBoECA0CBAaBAgNAoQGAUKDAKFBgDdDFolVq1aVt/v27StvJyYmytt169aVt8eOHStvL1y4UNr9+vWrfGbbuNEgQGgQIDQIEBoECA0ChAYBQoMAoUGA0CBAaBDgFSwIcKNBgNAgQGgQIDQIEBoECA0ChAYBQoMAoUGA0CBAaBAgNAgQGgQIDQKEBgFCgwChQYDQIEBoECA0CBAaBAgNAoQGAUKDAKFBgNAgQGgQIDQIEBoECA0ChAYBQoOAP+Zn1ldL/WP3AAAAAElFTkSuQmCC\" y=\"-6.64\"/>\r\n   </g>\r\n   <g id=\"matplotlib.axis_1\">\r\n    <g id=\"xtick_1\">\r\n     <g id=\"line2d_1\">\r\n      <defs>\r\n       <path d=\"M 0 0 \r\nL 0 3.5 \r\n\" id=\"m0715eaf8c5\" style=\"stroke:#000000;stroke-width:0.8;\"/>\r\n      </defs>\r\n      <g>\r\n       <use style=\"stroke:#000000;stroke-width:0.8;\" x=\"41.901625\" xlink:href=\"#m0715eaf8c5\" y=\"224.64\"/>\r\n      </g>\r\n     </g>\r\n     <g id=\"text_1\">\r\n      <!-- 0 -->\r\n      <g transform=\"translate(38.720375 239.238438)scale(0.1 -0.1)\">\r\n       <defs>\r\n        <path d=\"M 2034 4250 \r\nQ 1547 4250 1301 3770 \r\nQ 1056 3291 1056 2328 \r\nQ 1056 1369 1301 889 \r\nQ 1547 409 2034 409 \r\nQ 2525 409 2770 889 \r\nQ 3016 1369 3016 2328 \r\nQ 3016 3291 2770 3770 \r\nQ 2525 4250 2034 4250 \r\nz\r\nM 2034 4750 \r\nQ 2819 4750 3233 4129 \r\nQ 3647 3509 3647 2328 \r\nQ 3647 1150 3233 529 \r\nQ 2819 -91 2034 -91 \r\nQ 1250 -91 836 529 \r\nQ 422 1150 422 2328 \r\nQ 422 3509 836 4129 \r\nQ 1250 4750 2034 4750 \r\nz\r\n\" id=\"DejaVuSans-30\" transform=\"scale(0.015625)\"/>\r\n       </defs>\r\n       <use xlink:href=\"#DejaVuSans-30\"/>\r\n      </g>\r\n     </g>\r\n    </g>\r\n    <g id=\"xtick_2\">\r\n     <g id=\"line2d_2\">\r\n      <g>\r\n       <use style=\"stroke:#000000;stroke-width:0.8;\" x=\"96.261625\" xlink:href=\"#m0715eaf8c5\" y=\"224.64\"/>\r\n      </g>\r\n     </g>\r\n     <g id=\"text_2\">\r\n      <!-- 5 -->\r\n      <g transform=\"translate(93.080375 239.238438)scale(0.1 -0.1)\">\r\n       <defs>\r\n        <path d=\"M 691 4666 \r\nL 3169 4666 \r\nL 3169 4134 \r\nL 1269 4134 \r\nL 1269 2991 \r\nQ 1406 3038 1543 3061 \r\nQ 1681 3084 1819 3084 \r\nQ 2600 3084 3056 2656 \r\nQ 3513 2228 3513 1497 \r\nQ 3513 744 3044 326 \r\nQ 2575 -91 1722 -91 \r\nQ 1428 -91 1123 -41 \r\nQ 819 9 494 109 \r\nL 494 744 \r\nQ 775 591 1075 516 \r\nQ 1375 441 1709 441 \r\nQ 2250 441 2565 725 \r\nQ 2881 1009 2881 1497 \r\nQ 2881 1984 2565 2268 \r\nQ 2250 2553 1709 2553 \r\nQ 1456 2553 1204 2497 \r\nQ 953 2441 691 2322 \r\nL 691 4666 \r\nz\r\n\" id=\"DejaVuSans-35\" transform=\"scale(0.015625)\"/>\r\n       </defs>\r\n       <use xlink:href=\"#DejaVuSans-35\"/>\r\n      </g>\r\n     </g>\r\n    </g>\r\n    <g id=\"xtick_3\">\r\n     <g id=\"line2d_3\">\r\n      <g>\r\n       <use style=\"stroke:#000000;stroke-width:0.8;\" x=\"150.621625\" xlink:href=\"#m0715eaf8c5\" y=\"224.64\"/>\r\n      </g>\r\n     </g>\r\n     <g id=\"text_3\">\r\n      <!-- 10 -->\r\n      <g transform=\"translate(144.259125 239.238438)scale(0.1 -0.1)\">\r\n       <defs>\r\n        <path d=\"M 794 531 \r\nL 1825 531 \r\nL 1825 4091 \r\nL 703 3866 \r\nL 703 4441 \r\nL 1819 4666 \r\nL 2450 4666 \r\nL 2450 531 \r\nL 3481 531 \r\nL 3481 0 \r\nL 794 0 \r\nL 794 531 \r\nz\r\n\" id=\"DejaVuSans-31\" transform=\"scale(0.015625)\"/>\r\n       </defs>\r\n       <use xlink:href=\"#DejaVuSans-31\"/>\r\n       <use x=\"63.623047\" xlink:href=\"#DejaVuSans-30\"/>\r\n      </g>\r\n     </g>\r\n    </g>\r\n    <g id=\"xtick_4\">\r\n     <g id=\"line2d_4\">\r\n      <g>\r\n       <use style=\"stroke:#000000;stroke-width:0.8;\" x=\"204.981625\" xlink:href=\"#m0715eaf8c5\" y=\"224.64\"/>\r\n      </g>\r\n     </g>\r\n     <g id=\"text_4\">\r\n      <!-- 15 -->\r\n      <g transform=\"translate(198.619125 239.238438)scale(0.1 -0.1)\">\r\n       <use xlink:href=\"#DejaVuSans-31\"/>\r\n       <use x=\"63.623047\" xlink:href=\"#DejaVuSans-35\"/>\r\n      </g>\r\n     </g>\r\n    </g>\r\n   </g>\r\n   <g id=\"matplotlib.axis_2\">\r\n    <g id=\"ytick_1\">\r\n     <g id=\"line2d_5\">\r\n      <defs>\r\n       <path d=\"M 0 0 \r\nL -3.5 0 \r\n\" id=\"ma7b9fe4ae6\" style=\"stroke:#000000;stroke-width:0.8;\"/>\r\n      </defs>\r\n      <g>\r\n       <use style=\"stroke:#000000;stroke-width:0.8;\" x=\"36.465625\" xlink:href=\"#ma7b9fe4ae6\" y=\"12.636\"/>\r\n      </g>\r\n     </g>\r\n     <g id=\"text_5\">\r\n      <!-- 0.0 -->\r\n      <g transform=\"translate(13.5625 16.435219)scale(0.1 -0.1)\">\r\n       <defs>\r\n        <path d=\"M 684 794 \r\nL 1344 794 \r\nL 1344 0 \r\nL 684 0 \r\nL 684 794 \r\nz\r\n\" id=\"DejaVuSans-2e\" transform=\"scale(0.015625)\"/>\r\n       </defs>\r\n       <use xlink:href=\"#DejaVuSans-30\"/>\r\n       <use x=\"63.623047\" xlink:href=\"#DejaVuSans-2e\"/>\r\n       <use x=\"95.410156\" xlink:href=\"#DejaVuSans-30\"/>\r\n      </g>\r\n     </g>\r\n    </g>\r\n    <g id=\"ytick_2\">\r\n     <g id=\"line2d_6\">\r\n      <g>\r\n       <use style=\"stroke:#000000;stroke-width:0.8;\" x=\"36.465625\" xlink:href=\"#ma7b9fe4ae6\" y=\"39.816\"/>\r\n      </g>\r\n     </g>\r\n     <g id=\"text_6\">\r\n      <!-- 2.5 -->\r\n      <g transform=\"translate(13.5625 43.615219)scale(0.1 -0.1)\">\r\n       <defs>\r\n        <path d=\"M 1228 531 \r\nL 3431 531 \r\nL 3431 0 \r\nL 469 0 \r\nL 469 531 \r\nQ 828 903 1448 1529 \r\nQ 2069 2156 2228 2338 \r\nQ 2531 2678 2651 2914 \r\nQ 2772 3150 2772 3378 \r\nQ 2772 3750 2511 3984 \r\nQ 2250 4219 1831 4219 \r\nQ 1534 4219 1204 4116 \r\nQ 875 4013 500 3803 \r\nL 500 4441 \r\nQ 881 4594 1212 4672 \r\nQ 1544 4750 1819 4750 \r\nQ 2544 4750 2975 4387 \r\nQ 3406 4025 3406 3419 \r\nQ 3406 3131 3298 2873 \r\nQ 3191 2616 2906 2266 \r\nQ 2828 2175 2409 1742 \r\nQ 1991 1309 1228 531 \r\nz\r\n\" id=\"DejaVuSans-32\" transform=\"scale(0.015625)\"/>\r\n       </defs>\r\n       <use xlink:href=\"#DejaVuSans-32\"/>\r\n       <use x=\"63.623047\" xlink:href=\"#DejaVuSans-2e\"/>\r\n       <use x=\"95.410156\" xlink:href=\"#DejaVuSans-35\"/>\r\n      </g>\r\n     </g>\r\n    </g>\r\n    <g id=\"ytick_3\">\r\n     <g id=\"line2d_7\">\r\n      <g>\r\n       <use style=\"stroke:#000000;stroke-width:0.8;\" x=\"36.465625\" xlink:href=\"#ma7b9fe4ae6\" y=\"66.996\"/>\r\n      </g>\r\n     </g>\r\n     <g id=\"text_7\">\r\n      <!-- 5.0 -->\r\n      <g transform=\"translate(13.5625 70.795219)scale(0.1 -0.1)\">\r\n       <use xlink:href=\"#DejaVuSans-35\"/>\r\n       <use x=\"63.623047\" xlink:href=\"#DejaVuSans-2e\"/>\r\n       <use x=\"95.410156\" xlink:href=\"#DejaVuSans-30\"/>\r\n      </g>\r\n     </g>\r\n    </g>\r\n    <g id=\"ytick_4\">\r\n     <g id=\"line2d_8\">\r\n      <g>\r\n       <use style=\"stroke:#000000;stroke-width:0.8;\" x=\"36.465625\" xlink:href=\"#ma7b9fe4ae6\" y=\"94.176\"/>\r\n      </g>\r\n     </g>\r\n     <g id=\"text_8\">\r\n      <!-- 7.5 -->\r\n      <g transform=\"translate(13.5625 97.975219)scale(0.1 -0.1)\">\r\n       <defs>\r\n        <path d=\"M 525 4666 \r\nL 3525 4666 \r\nL 3525 4397 \r\nL 1831 0 \r\nL 1172 0 \r\nL 2766 4134 \r\nL 525 4134 \r\nL 525 4666 \r\nz\r\n\" id=\"DejaVuSans-37\" transform=\"scale(0.015625)\"/>\r\n       </defs>\r\n       <use xlink:href=\"#DejaVuSans-37\"/>\r\n       <use x=\"63.623047\" xlink:href=\"#DejaVuSans-2e\"/>\r\n       <use x=\"95.410156\" xlink:href=\"#DejaVuSans-35\"/>\r\n      </g>\r\n     </g>\r\n    </g>\r\n    <g id=\"ytick_5\">\r\n     <g id=\"line2d_9\">\r\n      <g>\r\n       <use style=\"stroke:#000000;stroke-width:0.8;\" x=\"36.465625\" xlink:href=\"#ma7b9fe4ae6\" y=\"121.356\"/>\r\n      </g>\r\n     </g>\r\n     <g id=\"text_9\">\r\n      <!-- 10.0 -->\r\n      <g transform=\"translate(7.2 125.155219)scale(0.1 -0.1)\">\r\n       <use xlink:href=\"#DejaVuSans-31\"/>\r\n       <use x=\"63.623047\" xlink:href=\"#DejaVuSans-30\"/>\r\n       <use x=\"127.246094\" xlink:href=\"#DejaVuSans-2e\"/>\r\n       <use x=\"159.033203\" xlink:href=\"#DejaVuSans-30\"/>\r\n      </g>\r\n     </g>\r\n    </g>\r\n    <g id=\"ytick_6\">\r\n     <g id=\"line2d_10\">\r\n      <g>\r\n       <use style=\"stroke:#000000;stroke-width:0.8;\" x=\"36.465625\" xlink:href=\"#ma7b9fe4ae6\" y=\"148.536\"/>\r\n      </g>\r\n     </g>\r\n     <g id=\"text_10\">\r\n      <!-- 12.5 -->\r\n      <g transform=\"translate(7.2 152.335219)scale(0.1 -0.1)\">\r\n       <use xlink:href=\"#DejaVuSans-31\"/>\r\n       <use x=\"63.623047\" xlink:href=\"#DejaVuSans-32\"/>\r\n       <use x=\"127.246094\" xlink:href=\"#DejaVuSans-2e\"/>\r\n       <use x=\"159.033203\" xlink:href=\"#DejaVuSans-35\"/>\r\n      </g>\r\n     </g>\r\n    </g>\r\n    <g id=\"ytick_7\">\r\n     <g id=\"line2d_11\">\r\n      <g>\r\n       <use style=\"stroke:#000000;stroke-width:0.8;\" x=\"36.465625\" xlink:href=\"#ma7b9fe4ae6\" y=\"175.716\"/>\r\n      </g>\r\n     </g>\r\n     <g id=\"text_11\">\r\n      <!-- 15.0 -->\r\n      <g transform=\"translate(7.2 179.515219)scale(0.1 -0.1)\">\r\n       <use xlink:href=\"#DejaVuSans-31\"/>\r\n       <use x=\"63.623047\" xlink:href=\"#DejaVuSans-35\"/>\r\n       <use x=\"127.246094\" xlink:href=\"#DejaVuSans-2e\"/>\r\n       <use x=\"159.033203\" xlink:href=\"#DejaVuSans-30\"/>\r\n      </g>\r\n     </g>\r\n    </g>\r\n    <g id=\"ytick_8\">\r\n     <g id=\"line2d_12\">\r\n      <g>\r\n       <use style=\"stroke:#000000;stroke-width:0.8;\" x=\"36.465625\" xlink:href=\"#ma7b9fe4ae6\" y=\"202.896\"/>\r\n      </g>\r\n     </g>\r\n     <g id=\"text_12\">\r\n      <!-- 17.5 -->\r\n      <g transform=\"translate(7.2 206.695219)scale(0.1 -0.1)\">\r\n       <use xlink:href=\"#DejaVuSans-31\"/>\r\n       <use x=\"63.623047\" xlink:href=\"#DejaVuSans-37\"/>\r\n       <use x=\"127.246094\" xlink:href=\"#DejaVuSans-2e\"/>\r\n       <use x=\"159.033203\" xlink:href=\"#DejaVuSans-35\"/>\r\n      </g>\r\n     </g>\r\n    </g>\r\n   </g>\r\n   <g id=\"patch_3\">\r\n    <path d=\"M 36.465625 224.64 \r\nL 36.465625 7.2 \r\n\" style=\"fill:none;stroke:#000000;stroke-linecap:square;stroke-linejoin:miter;stroke-width:0.8;\"/>\r\n   </g>\r\n   <g id=\"patch_4\">\r\n    <path d=\"M 253.905625 224.64 \r\nL 253.905625 7.2 \r\n\" style=\"fill:none;stroke:#000000;stroke-linecap:square;stroke-linejoin:miter;stroke-width:0.8;\"/>\r\n   </g>\r\n   <g id=\"patch_5\">\r\n    <path d=\"M 36.465625 224.64 \r\nL 253.905625 224.64 \r\n\" style=\"fill:none;stroke:#000000;stroke-linecap:square;stroke-linejoin:miter;stroke-width:0.8;\"/>\r\n   </g>\r\n   <g id=\"patch_6\">\r\n    <path d=\"M 36.465625 7.2 \r\nL 253.905625 7.2 \r\n\" style=\"fill:none;stroke:#000000;stroke-linecap:square;stroke-linejoin:miter;stroke-width:0.8;\"/>\r\n   </g>\r\n  </g>\r\n </g>\r\n <defs>\r\n  <clipPath id=\"pfae484aa57\">\r\n   <rect height=\"217.44\" width=\"217.44\" x=\"36.465625\" y=\"7.2\"/>\r\n  </clipPath>\r\n </defs>\r\n</svg>\r\n",
      "image/png": "[encoded data removed]"
     },
     "metadata": {
      "needs_background": "light"
     }
    }
   ],
   "source": [
    "plt.imshow(x_train_new[4000], cmap=\"gray\")"
   ]
  },
  {
   "cell_type": "code",
   "execution_count": 449,
   "metadata": {},
   "outputs": [],
   "source": [
    "x_train=x_train_new.reshape(x_train_new.shape[0], 20, 20, 1)\n",
    "x_train=(x_train-127.5)/127.5"
   ]
  },
  {
   "cell_type": "code",
   "execution_count": 450,
   "metadata": {},
   "outputs": [],
   "source": [
    "BUFFER_SIZE=x_train.shape[0]\n",
    "BATCH_SIZE=5\n",
    "train_dataset=Dataset.from_tensor_slices(x_train).shuffle(BUFFER_SIZE).batch(BATCH_SIZE)"
   ]
  },
  {
   "cell_type": "code",
   "execution_count": 479,
   "metadata": {},
   "outputs": [],
   "source": [
    "def make_discriminator_model():\n",
    "    model=Sequential()\n",
    "    model.add(Conv2D(9, (3, 3), padding=\"same\", input_shape=(20,20,1)))\n",
    "    model.add(BatchNormalization())\n",
    "    model.add(LeakyReLU())\n",
    "\n",
    "    model.add(Conv2D(6, (3, 3), padding=\"same\"))\n",
    "    model.add(BatchNormalization())\n",
    "    model.add(Flatten())\n",
    "    model.add(LeakyReLU())\n",
    "    model.add(Dropout(0.3))\n",
    "\n",
    "    model.add(Dense(30, activation=\"relu\"))\n",
    "    model.add(Dropout(0.3))\n",
    "    model.add(Dense(1))\n",
    "    return model"
   ]
  },
  {
   "cell_type": "code",
   "execution_count": 480,
   "metadata": {},
   "outputs": [],
   "source": [
    "model_discriminator=make_discriminator_model()\n",
    "model_discriminator(numpy.random.rand(1,20,20,1).astype(\"float32\"))\n",
    "discriminator_optimizer=Adam(5e-7)"
   ]
  },
  {
   "cell_type": "code",
   "execution_count": 481,
   "metadata": {},
   "outputs": [],
   "source": [
    "cross_entropy_d=tf.keras.losses.BinaryCrossentropy(from_logits=True)\n",
    "cross_entropy_g=tf.keras.losses.BinaryCrossentropy(from_logits=False)"
   ]
  },
  {
   "cell_type": "code",
   "execution_count": 482,
   "metadata": {},
   "outputs": [],
   "source": [
    "def get_discriminator_loss(real_predictions, fake_predictions):\n",
    "    real_predictions=tf.sigmoid(real_predictions-0.1)\n",
    "    fake_predictions=tf.sigmoid(fake_predictions+0.1)\n",
    "    real_loss=cross_entropy_d(tf.ones_like(real_predictions), real_predictions)\n",
    "    fake_loss=cross_entropy_d(tf.zeros_like(fake_predictions),fake_predictions)\n",
    "    return (fake_loss+real_loss)/2"
   ]
  },
  {
   "cell_type": "code",
   "execution_count": 483,
   "metadata": {},
   "outputs": [],
   "source": [
    "#Generator\n",
    "def make_generator_model():\n",
    "    model=Sequential()\n",
    "    model.add(Dense(5*5*32, use_bias=False, input_shape=(20,)))\n",
    "    model.add(BatchNormalization())\n",
    "    model.add(LeakyReLU())\n",
    "\n",
    "    model.add(Reshape((5, 5, 32)))\n",
    "    model.add(Conv2DTranspose(8, (3, 3),strides=(1,1), padding=\"same\", use_bias=False))\n",
    "    model.add(BatchNormalization())\n",
    "    model.add(LeakyReLU())\n",
    "\n",
    "    model.add(Conv2DTranspose(4, (3, 3), strides=(2, 2), padding=\"same\", use_bias=False))\n",
    "    model.add(BatchNormalization())\n",
    "    model.add(LeakyReLU())\n",
    "\n",
    "    model.add(Conv2DTranspose(1, (3, 3), strides=(2, 2), padding=\"same\", use_bias=False, activation=\"tanh\"))\n",
    "    #model.add(Flatten())\n",
    "    #model.add(Dense(100, activation=\"tanh\", use_bias=False))\n",
    "    #assert model.output_shape==(None, 10, 10, 1)\n",
    "    return model"
   ]
  },
  {
   "cell_type": "code",
   "execution_count": 484,
   "metadata": {},
   "outputs": [],
   "source": [
    "generator=make_generator_model()\n",
    "generator_optimizer=Adam(5e-3)"
   ]
  },
  {
   "cell_type": "code",
   "execution_count": 485,
   "metadata": {},
   "outputs": [],
   "source": [
    "image=tf.reshape(generator((numpy.random.randn(1,20))*127)+127, (-1))"
   ]
  },
  {
   "cell_type": "code",
   "execution_count": 486,
   "metadata": {},
   "outputs": [
    {
     "output_type": "execute_result",
     "data": {
      "text/plain": [
       "TensorShape([400])"
      ]
     },
     "metadata": {},
     "execution_count": 486
    }
   ],
   "source": [
    "image.shape"
   ]
  },
  {
   "cell_type": "code",
   "execution_count": 487,
   "metadata": {},
   "outputs": [
    {
     "output_type": "execute_result",
     "data": {
      "text/plain": [
       "<matplotlib.image.AxesImage at 0x27c53090a08>"
      ]
     },
     "metadata": {},
     "execution_count": 487
    },
    {
     "output_type": "display_data",
     "data": {
      "text/plain": "<Figure size 432x288 with 1 Axes>",
      "image/svg+xml": "<?xml version=\"1.0\" encoding=\"utf-8\" standalone=\"no\"?>\r\n<!DOCTYPE svg PUBLIC \"-//W3C//DTD SVG 1.1//EN\"\r\n  \"http://www.w3.org/Graphics/SVG/1.1/DTD/svg11.dtd\">\r\n<svg height=\"248.518125pt\" version=\"1.1\" viewBox=\"0 0 261.105625 248.518125\" width=\"261.105625pt\" xmlns=\"http://www.w3.org/2000/svg\" xmlns:xlink=\"http://www.w3.org/1999/xlink\">\r\n <metadata>\r\n  <rdf:RDF xmlns:cc=\"http://creativecommons.org/ns#\" xmlns:dc=\"http://purl.org/dc/elements/1.1/\" xmlns:rdf=\"http://www.w3.org/1999/02/22-rdf-syntax-ns#\">\r\n   <cc:Work>\r\n    <dc:type rdf:resource=\"http://purl.org/dc/dcmitype/StillImage\"/>\r\n    <dc:date>2021-06-17T22:59:34.891209</dc:date>\r\n    <dc:format>image/svg+xml</dc:format>\r\n    <dc:creator>\r\n     <cc:Agent>\r\n      <dc:title>Matplotlib v3.4.1, https://matplotlib.org/</dc:title>\r\n     </cc:Agent>\r\n    </dc:creator>\r\n   </cc:Work>\r\n  </rdf:RDF>\r\n </metadata>\r\n <defs>\r\n  <style type=\"text/css\">*{stroke-linecap:butt;stroke-linejoin:round;}</style>\r\n </defs>\r\n <g id=\"figure_1\">\r\n  <g id=\"patch_1\">\r\n   <path d=\"M 0 248.518125 \r\nL 261.105625 248.518125 \r\nL 261.105625 0 \r\nL 0 0 \r\nz\r\n\" style=\"fill:none;\"/>\r\n  </g>\r\n  <g id=\"axes_1\">\r\n   <g id=\"patch_2\">\r\n    <path d=\"M 36.465625 224.64 \r\nL 253.905625 224.64 \r\nL 253.905625 7.2 \r\nL 36.465625 7.2 \r\nz\r\n\" style=\"fill:#ffffff;\"/>\r\n   </g>\r\n   <g clip-path=\"url(#pa63aad8f2b)\">\r\n    <image height=\"218\" id=\"imagedb03913db3\" transform=\"scale(1 -1)translate(0 -218)\" width=\"218\" x=\"36.465625\" xlink:href=\"data:image/png;base64,\r\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\" y=\"-6.64\"/>\r\n   </g>\r\n   <g id=\"matplotlib.axis_1\">\r\n    <g id=\"xtick_1\">\r\n     <g id=\"line2d_1\">\r\n      <defs>\r\n       <path d=\"M 0 0 \r\nL 0 3.5 \r\n\" id=\"m863b282221\" style=\"stroke:#000000;stroke-width:0.8;\"/>\r\n      </defs>\r\n      <g>\r\n       <use style=\"stroke:#000000;stroke-width:0.8;\" x=\"41.901625\" xlink:href=\"#m863b282221\" y=\"224.64\"/>\r\n      </g>\r\n     </g>\r\n     <g id=\"text_1\">\r\n      <!-- 0 -->\r\n      <g transform=\"translate(38.720375 239.238438)scale(0.1 -0.1)\">\r\n       <defs>\r\n        <path d=\"M 2034 4250 \r\nQ 1547 4250 1301 3770 \r\nQ 1056 3291 1056 2328 \r\nQ 1056 1369 1301 889 \r\nQ 1547 409 2034 409 \r\nQ 2525 409 2770 889 \r\nQ 3016 1369 3016 2328 \r\nQ 3016 3291 2770 3770 \r\nQ 2525 4250 2034 4250 \r\nz\r\nM 2034 4750 \r\nQ 2819 4750 3233 4129 \r\nQ 3647 3509 3647 2328 \r\nQ 3647 1150 3233 529 \r\nQ 2819 -91 2034 -91 \r\nQ 1250 -91 836 529 \r\nQ 422 1150 422 2328 \r\nQ 422 3509 836 4129 \r\nQ 1250 4750 2034 4750 \r\nz\r\n\" id=\"DejaVuSans-30\" transform=\"scale(0.015625)\"/>\r\n       </defs>\r\n       <use xlink:href=\"#DejaVuSans-30\"/>\r\n      </g>\r\n     </g>\r\n    </g>\r\n    <g id=\"xtick_2\">\r\n     <g id=\"line2d_2\">\r\n      <g>\r\n       <use style=\"stroke:#000000;stroke-width:0.8;\" x=\"96.261625\" xlink:href=\"#m863b282221\" y=\"224.64\"/>\r\n      </g>\r\n     </g>\r\n     <g id=\"text_2\">\r\n      <!-- 5 -->\r\n      <g transform=\"translate(93.080375 239.238438)scale(0.1 -0.1)\">\r\n       <defs>\r\n        <path d=\"M 691 4666 \r\nL 3169 4666 \r\nL 3169 4134 \r\nL 1269 4134 \r\nL 1269 2991 \r\nQ 1406 3038 1543 3061 \r\nQ 1681 3084 1819 3084 \r\nQ 2600 3084 3056 2656 \r\nQ 3513 2228 3513 1497 \r\nQ 3513 744 3044 326 \r\nQ 2575 -91 1722 -91 \r\nQ 1428 -91 1123 -41 \r\nQ 819 9 494 109 \r\nL 494 744 \r\nQ 775 591 1075 516 \r\nQ 1375 441 1709 441 \r\nQ 2250 441 2565 725 \r\nQ 2881 1009 2881 1497 \r\nQ 2881 1984 2565 2268 \r\nQ 2250 2553 1709 2553 \r\nQ 1456 2553 1204 2497 \r\nQ 953 2441 691 2322 \r\nL 691 4666 \r\nz\r\n\" id=\"DejaVuSans-35\" transform=\"scale(0.015625)\"/>\r\n       </defs>\r\n       <use xlink:href=\"#DejaVuSans-35\"/>\r\n      </g>\r\n     </g>\r\n    </g>\r\n    <g id=\"xtick_3\">\r\n     <g id=\"line2d_3\">\r\n      <g>\r\n       <use style=\"stroke:#000000;stroke-width:0.8;\" x=\"150.621625\" xlink:href=\"#m863b282221\" y=\"224.64\"/>\r\n      </g>\r\n     </g>\r\n     <g id=\"text_3\">\r\n      <!-- 10 -->\r\n      <g transform=\"translate(144.259125 239.238438)scale(0.1 -0.1)\">\r\n       <defs>\r\n        <path d=\"M 794 531 \r\nL 1825 531 \r\nL 1825 4091 \r\nL 703 3866 \r\nL 703 4441 \r\nL 1819 4666 \r\nL 2450 4666 \r\nL 2450 531 \r\nL 3481 531 \r\nL 3481 0 \r\nL 794 0 \r\nL 794 531 \r\nz\r\n\" id=\"DejaVuSans-31\" transform=\"scale(0.015625)\"/>\r\n       </defs>\r\n       <use xlink:href=\"#DejaVuSans-31\"/>\r\n       <use x=\"63.623047\" xlink:href=\"#DejaVuSans-30\"/>\r\n      </g>\r\n     </g>\r\n    </g>\r\n    <g id=\"xtick_4\">\r\n     <g id=\"line2d_4\">\r\n      <g>\r\n       <use style=\"stroke:#000000;stroke-width:0.8;\" x=\"204.981625\" xlink:href=\"#m863b282221\" y=\"224.64\"/>\r\n      </g>\r\n     </g>\r\n     <g id=\"text_4\">\r\n      <!-- 15 -->\r\n      <g transform=\"translate(198.619125 239.238438)scale(0.1 -0.1)\">\r\n       <use xlink:href=\"#DejaVuSans-31\"/>\r\n       <use x=\"63.623047\" xlink:href=\"#DejaVuSans-35\"/>\r\n      </g>\r\n     </g>\r\n    </g>\r\n   </g>\r\n   <g id=\"matplotlib.axis_2\">\r\n    <g id=\"ytick_1\">\r\n     <g id=\"line2d_5\">\r\n      <defs>\r\n       <path d=\"M 0 0 \r\nL -3.5 0 \r\n\" id=\"me216650b75\" style=\"stroke:#000000;stroke-width:0.8;\"/>\r\n      </defs>\r\n      <g>\r\n       <use style=\"stroke:#000000;stroke-width:0.8;\" x=\"36.465625\" xlink:href=\"#me216650b75\" y=\"12.636\"/>\r\n      </g>\r\n     </g>\r\n     <g id=\"text_5\">\r\n      <!-- 0.0 -->\r\n      <g transform=\"translate(13.5625 16.435219)scale(0.1 -0.1)\">\r\n       <defs>\r\n        <path d=\"M 684 794 \r\nL 1344 794 \r\nL 1344 0 \r\nL 684 0 \r\nL 684 794 \r\nz\r\n\" id=\"DejaVuSans-2e\" transform=\"scale(0.015625)\"/>\r\n       </defs>\r\n       <use xlink:href=\"#DejaVuSans-30\"/>\r\n       <use x=\"63.623047\" xlink:href=\"#DejaVuSans-2e\"/>\r\n       <use x=\"95.410156\" xlink:href=\"#DejaVuSans-30\"/>\r\n      </g>\r\n     </g>\r\n    </g>\r\n    <g id=\"ytick_2\">\r\n     <g id=\"line2d_6\">\r\n      <g>\r\n       <use style=\"stroke:#000000;stroke-width:0.8;\" x=\"36.465625\" xlink:href=\"#me216650b75\" y=\"39.816\"/>\r\n      </g>\r\n     </g>\r\n     <g id=\"text_6\">\r\n      <!-- 2.5 -->\r\n      <g transform=\"translate(13.5625 43.615219)scale(0.1 -0.1)\">\r\n       <defs>\r\n        <path d=\"M 1228 531 \r\nL 3431 531 \r\nL 3431 0 \r\nL 469 0 \r\nL 469 531 \r\nQ 828 903 1448 1529 \r\nQ 2069 2156 2228 2338 \r\nQ 2531 2678 2651 2914 \r\nQ 2772 3150 2772 3378 \r\nQ 2772 3750 2511 3984 \r\nQ 2250 4219 1831 4219 \r\nQ 1534 4219 1204 4116 \r\nQ 875 4013 500 3803 \r\nL 500 4441 \r\nQ 881 4594 1212 4672 \r\nQ 1544 4750 1819 4750 \r\nQ 2544 4750 2975 4387 \r\nQ 3406 4025 3406 3419 \r\nQ 3406 3131 3298 2873 \r\nQ 3191 2616 2906 2266 \r\nQ 2828 2175 2409 1742 \r\nQ 1991 1309 1228 531 \r\nz\r\n\" id=\"DejaVuSans-32\" transform=\"scale(0.015625)\"/>\r\n       </defs>\r\n       <use xlink:href=\"#DejaVuSans-32\"/>\r\n       <use x=\"63.623047\" xlink:href=\"#DejaVuSans-2e\"/>\r\n       <use x=\"95.410156\" xlink:href=\"#DejaVuSans-35\"/>\r\n      </g>\r\n     </g>\r\n    </g>\r\n    <g id=\"ytick_3\">\r\n     <g id=\"line2d_7\">\r\n      <g>\r\n       <use style=\"stroke:#000000;stroke-width:0.8;\" x=\"36.465625\" xlink:href=\"#me216650b75\" y=\"66.996\"/>\r\n      </g>\r\n     </g>\r\n     <g id=\"text_7\">\r\n      <!-- 5.0 -->\r\n      <g transform=\"translate(13.5625 70.795219)scale(0.1 -0.1)\">\r\n       <use xlink:href=\"#DejaVuSans-35\"/>\r\n       <use x=\"63.623047\" xlink:href=\"#DejaVuSans-2e\"/>\r\n       <use x=\"95.410156\" xlink:href=\"#DejaVuSans-30\"/>\r\n      </g>\r\n     </g>\r\n    </g>\r\n    <g id=\"ytick_4\">\r\n     <g id=\"line2d_8\">\r\n      <g>\r\n       <use style=\"stroke:#000000;stroke-width:0.8;\" x=\"36.465625\" xlink:href=\"#me216650b75\" y=\"94.176\"/>\r\n      </g>\r\n     </g>\r\n     <g id=\"text_8\">\r\n      <!-- 7.5 -->\r\n      <g transform=\"translate(13.5625 97.975219)scale(0.1 -0.1)\">\r\n       <defs>\r\n        <path d=\"M 525 4666 \r\nL 3525 4666 \r\nL 3525 4397 \r\nL 1831 0 \r\nL 1172 0 \r\nL 2766 4134 \r\nL 525 4134 \r\nL 525 4666 \r\nz\r\n\" id=\"DejaVuSans-37\" transform=\"scale(0.015625)\"/>\r\n       </defs>\r\n       <use xlink:href=\"#DejaVuSans-37\"/>\r\n       <use x=\"63.623047\" xlink:href=\"#DejaVuSans-2e\"/>\r\n       <use x=\"95.410156\" xlink:href=\"#DejaVuSans-35\"/>\r\n      </g>\r\n     </g>\r\n    </g>\r\n    <g id=\"ytick_5\">\r\n     <g id=\"line2d_9\">\r\n      <g>\r\n       <use style=\"stroke:#000000;stroke-width:0.8;\" x=\"36.465625\" xlink:href=\"#me216650b75\" y=\"121.356\"/>\r\n      </g>\r\n     </g>\r\n     <g id=\"text_9\">\r\n      <!-- 10.0 -->\r\n      <g transform=\"translate(7.2 125.155219)scale(0.1 -0.1)\">\r\n       <use xlink:href=\"#DejaVuSans-31\"/>\r\n       <use x=\"63.623047\" xlink:href=\"#DejaVuSans-30\"/>\r\n       <use x=\"127.246094\" xlink:href=\"#DejaVuSans-2e\"/>\r\n       <use x=\"159.033203\" xlink:href=\"#DejaVuSans-30\"/>\r\n      </g>\r\n     </g>\r\n    </g>\r\n    <g id=\"ytick_6\">\r\n     <g id=\"line2d_10\">\r\n      <g>\r\n       <use style=\"stroke:#000000;stroke-width:0.8;\" x=\"36.465625\" xlink:href=\"#me216650b75\" y=\"148.536\"/>\r\n      </g>\r\n     </g>\r\n     <g id=\"text_10\">\r\n      <!-- 12.5 -->\r\n      <g transform=\"translate(7.2 152.335219)scale(0.1 -0.1)\">\r\n       <use xlink:href=\"#DejaVuSans-31\"/>\r\n       <use x=\"63.623047\" xlink:href=\"#DejaVuSans-32\"/>\r\n       <use x=\"127.246094\" xlink:href=\"#DejaVuSans-2e\"/>\r\n       <use x=\"159.033203\" xlink:href=\"#DejaVuSans-35\"/>\r\n      </g>\r\n     </g>\r\n    </g>\r\n    <g id=\"ytick_7\">\r\n     <g id=\"line2d_11\">\r\n      <g>\r\n       <use style=\"stroke:#000000;stroke-width:0.8;\" x=\"36.465625\" xlink:href=\"#me216650b75\" y=\"175.716\"/>\r\n      </g>\r\n     </g>\r\n     <g id=\"text_11\">\r\n      <!-- 15.0 -->\r\n      <g transform=\"translate(7.2 179.515219)scale(0.1 -0.1)\">\r\n       <use xlink:href=\"#DejaVuSans-31\"/>\r\n       <use x=\"63.623047\" xlink:href=\"#DejaVuSans-35\"/>\r\n       <use x=\"127.246094\" xlink:href=\"#DejaVuSans-2e\"/>\r\n       <use x=\"159.033203\" xlink:href=\"#DejaVuSans-30\"/>\r\n      </g>\r\n     </g>\r\n    </g>\r\n    <g id=\"ytick_8\">\r\n     <g id=\"line2d_12\">\r\n      <g>\r\n       <use style=\"stroke:#000000;stroke-width:0.8;\" x=\"36.465625\" xlink:href=\"#me216650b75\" y=\"202.896\"/>\r\n      </g>\r\n     </g>\r\n     <g id=\"text_12\">\r\n      <!-- 17.5 -->\r\n      <g transform=\"translate(7.2 206.695219)scale(0.1 -0.1)\">\r\n       <use xlink:href=\"#DejaVuSans-31\"/>\r\n       <use x=\"63.623047\" xlink:href=\"#DejaVuSans-37\"/>\r\n       <use x=\"127.246094\" xlink:href=\"#DejaVuSans-2e\"/>\r\n       <use x=\"159.033203\" xlink:href=\"#DejaVuSans-35\"/>\r\n      </g>\r\n     </g>\r\n    </g>\r\n   </g>\r\n   <g id=\"patch_3\">\r\n    <path d=\"M 36.465625 224.64 \r\nL 36.465625 7.2 \r\n\" style=\"fill:none;stroke:#000000;stroke-linecap:square;stroke-linejoin:miter;stroke-width:0.8;\"/>\r\n   </g>\r\n   <g id=\"patch_4\">\r\n    <path d=\"M 253.905625 224.64 \r\nL 253.905625 7.2 \r\n\" style=\"fill:none;stroke:#000000;stroke-linecap:square;stroke-linejoin:miter;stroke-width:0.8;\"/>\r\n   </g>\r\n   <g id=\"patch_5\">\r\n    <path d=\"M 36.465625 224.64 \r\nL 253.905625 224.64 \r\n\" style=\"fill:none;stroke:#000000;stroke-linecap:square;stroke-linejoin:miter;stroke-width:0.8;\"/>\r\n   </g>\r\n   <g id=\"patch_6\">\r\n    <path d=\"M 36.465625 7.2 \r\nL 253.905625 7.2 \r\n\" style=\"fill:none;stroke:#000000;stroke-linecap:square;stroke-linejoin:miter;stroke-width:0.8;\"/>\r\n   </g>\r\n  </g>\r\n </g>\r\n <defs>\r\n  <clipPath id=\"pa63aad8f2b\">\r\n   <rect height=\"217.44\" width=\"217.44\" x=\"36.465625\" y=\"7.2\"/>\r\n  </clipPath>\r\n </defs>\r\n</svg>\r\n",
      "image/png": "[encoded data removed]"
     },
     "metadata": {
      "needs_background": "light"
     }
    }
   ],
   "source": [
    "plt.imshow(tf.reshape((image*127)+127,(20,20)), cmap=\"gray\")"
   ]
  },
  {
   "cell_type": "code",
   "execution_count": 488,
   "metadata": {},
   "outputs": [],
   "source": [
    "def get_generator_loss(fake_predictions):\n",
    "    #fake_predictions=tf.sigmoid(fake_predictions)\n",
    "    fake_loss=cross_entropy_g(tf.ones_like(fake_predictions), fake_predictions+0.1)\n",
    "    return fake_loss"
   ]
  },
  {
   "cell_type": "code",
   "execution_count": 491,
   "metadata": {},
   "outputs": [],
   "source": [
    "#Training\n",
    "def train(dataset, epochs):\n",
    "    e=0\n",
    "    for _ in range(epochs):\n",
    "        e+=1\n",
    "        b=0\n",
    "        print(\"epochs\", e)\n",
    "        for images in dataset:\n",
    "            images=tf.cast(images, tf.dtypes.float32)\n",
    "            gen, disc=train_step(images)\n",
    "            b+=1\n",
    "            if b%200==0:\n",
    "                print(\"batches\", b)\n",
    "                print(\"G: \", gen)\n",
    "                print(\"D: \", disc)"
   ]
  },
  {
   "cell_type": "code",
   "execution_count": 492,
   "metadata": {},
   "outputs": [],
   "source": [
    "#@tf.function\n",
    "def train_step(images):\n",
    "    fake_images_noise=numpy.random.randn(BATCH_SIZE, 20).astype(\"float32\")\n",
    "    with tf.GradientTape() as gen_tape, tf.GradientTape() as disc_tape:\n",
    "        generated_images=generator(fake_images_noise, training=True)\n",
    "        generated_images=tf.reshape(generated_images, (-1, 20, 20, 1))\n",
    "        \n",
    "        real_output=model_discriminator(images, training=True)\n",
    "        fake_output=model_discriminator(generated_images, training=True)\n",
    "\n",
    "        gen_loss=get_generator_loss(fake_output)\n",
    "        disc_loss=get_discriminator_loss(real_output, fake_output)\n",
    "\n",
    "        gradient_of_generator=gen_tape.gradient(gen_loss, generator.trainable_variables)\n",
    "        gradient_of_discriminator=disc_tape.gradient(disc_loss, model_discriminator.trainable_variables)\n",
    "\n",
    "\n",
    "    generator_optimizer.apply_gradients(zip(gradient_of_generator, generator.trainable_variables))\n",
    "    discriminator_optimizer.apply_gradients(zip(gradient_of_discriminator, model_discriminator.trainable_variables))\n",
    "\n",
    "    gen=numpy.mean(gen_loss)\n",
    "    disc=numpy.mean(disc_loss)\n",
    "\n",
    "    return gen, disc "
   ]
  },
  {
   "cell_type": "code",
   "execution_count": 463,
   "metadata": {
    "tags": []
   },
   "outputs": [
    {
     "output_type": "stream",
     "name": "stdout",
     "text": [
      "epochs 1\n",
      "batches 200\n",
      "batches 400\n",
      "batches 600\n",
      "batches 800\n",
      "batches 1000\n",
      "epochs 2\n",
      "batches 200\n",
      "batches 400\n",
      "batches 600\n",
      "batches 800\n",
      "batches 1000\n",
      "epochs 3\n",
      "batches 200\n",
      "batches 400\n",
      "batches 600\n",
      "batches 800\n",
      "batches 1000\n",
      "epochs 4\n",
      "batches 200\n",
      "batches 400\n",
      "batches 600\n",
      "batches 800\n",
      "batches 1000\n",
      "epochs 5\n",
      "batches 200\n",
      "batches 400\n",
      "batches 600\n",
      "batches 800\n",
      "batches 1000\n",
      "epochs 6\n",
      "batches 200\n",
      "batches 400\n",
      "batches 600\n",
      "batches 800\n",
      "batches 1000\n",
      "epochs 7\n",
      "batches 200\n",
      "batches 400\n",
      "batches 600\n",
      "batches 800\n",
      "batches 1000\n",
      "epochs 8\n",
      "batches 200\n",
      "batches 400\n",
      "batches 600\n",
      "batches 800\n",
      "batches 1000\n",
      "epochs 9\n",
      "batches 200\n",
      "batches 400\n",
      "batches 600\n",
      "batches 800\n",
      "batches 1000\n",
      "epochs 10\n",
      "batches 200\n",
      "batches 400\n",
      "batches 600\n",
      "batches 800\n",
      "batches 1000\n"
     ]
    }
   ],
   "source": [
    "train(train_dataset, 10)"
   ]
  },
  {
   "cell_type": "code",
   "execution_count": 475,
   "metadata": {},
   "outputs": [
    {
     "output_type": "execute_result",
     "data": {
      "text/plain": [
       "<matplotlib.image.AxesImage at 0x27c51ffdfc8>"
      ]
     },
     "metadata": {},
     "execution_count": 475
    },
    {
     "output_type": "display_data",
     "data": {
      "text/plain": "<Figure size 432x288 with 1 Axes>",
      "image/svg+xml": "<?xml version=\"1.0\" encoding=\"utf-8\" standalone=\"no\"?>\r\n<!DOCTYPE svg PUBLIC \"-//W3C//DTD SVG 1.1//EN\"\r\n  \"http://www.w3.org/Graphics/SVG/1.1/DTD/svg11.dtd\">\r\n<svg height=\"248.518125pt\" version=\"1.1\" viewBox=\"0 0 261.105625 248.518125\" width=\"261.105625pt\" xmlns=\"http://www.w3.org/2000/svg\" xmlns:xlink=\"http://www.w3.org/1999/xlink\">\r\n <metadata>\r\n  <rdf:RDF xmlns:cc=\"http://creativecommons.org/ns#\" xmlns:dc=\"http://purl.org/dc/elements/1.1/\" xmlns:rdf=\"http://www.w3.org/1999/02/22-rdf-syntax-ns#\">\r\n   <cc:Work>\r\n    <dc:type rdf:resource=\"http://purl.org/dc/dcmitype/StillImage\"/>\r\n    <dc:date>2021-06-17T22:55:34.318446</dc:date>\r\n    <dc:format>image/svg+xml</dc:format>\r\n    <dc:creator>\r\n     <cc:Agent>\r\n      <dc:title>Matplotlib v3.4.1, https://matplotlib.org/</dc:title>\r\n     </cc:Agent>\r\n    </dc:creator>\r\n   </cc:Work>\r\n  </rdf:RDF>\r\n </metadata>\r\n <defs>\r\n  <style type=\"text/css\">*{stroke-linecap:butt;stroke-linejoin:round;}</style>\r\n </defs>\r\n <g id=\"figure_1\">\r\n  <g id=\"patch_1\">\r\n   <path d=\"M 0 248.518125 \r\nL 261.105625 248.518125 \r\nL 261.105625 0 \r\nL 0 0 \r\nz\r\n\" style=\"fill:none;\"/>\r\n  </g>\r\n  <g id=\"axes_1\">\r\n   <g id=\"patch_2\">\r\n    <path d=\"M 36.465625 224.64 \r\nL 253.905625 224.64 \r\nL 253.905625 7.2 \r\nL 36.465625 7.2 \r\nz\r\n\" style=\"fill:#ffffff;\"/>\r\n   </g>\r\n   <g clip-path=\"url(#p9c011192ce)\">\r\n    <image height=\"218\" id=\"image2029d45c2f\" transform=\"scale(1 -1)translate(0 -218)\" width=\"218\" x=\"36.465625\" xlink:href=\"data:image/png;base64,\r\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\" y=\"-6.64\"/>\r\n   </g>\r\n   <g id=\"matplotlib.axis_1\">\r\n    <g id=\"xtick_1\">\r\n     <g id=\"line2d_1\">\r\n      <defs>\r\n       <path d=\"M 0 0 \r\nL 0 3.5 \r\n\" id=\"m3e29c29ec2\" style=\"stroke:#000000;stroke-width:0.8;\"/>\r\n      </defs>\r\n      <g>\r\n       <use style=\"stroke:#000000;stroke-width:0.8;\" x=\"41.901625\" xlink:href=\"#m3e29c29ec2\" y=\"224.64\"/>\r\n      </g>\r\n     </g>\r\n     <g id=\"text_1\">\r\n      <!-- 0 -->\r\n      <g transform=\"translate(38.720375 239.238438)scale(0.1 -0.1)\">\r\n       <defs>\r\n        <path d=\"M 2034 4250 \r\nQ 1547 4250 1301 3770 \r\nQ 1056 3291 1056 2328 \r\nQ 1056 1369 1301 889 \r\nQ 1547 409 2034 409 \r\nQ 2525 409 2770 889 \r\nQ 3016 1369 3016 2328 \r\nQ 3016 3291 2770 3770 \r\nQ 2525 4250 2034 4250 \r\nz\r\nM 2034 4750 \r\nQ 2819 4750 3233 4129 \r\nQ 3647 3509 3647 2328 \r\nQ 3647 1150 3233 529 \r\nQ 2819 -91 2034 -91 \r\nQ 1250 -91 836 529 \r\nQ 422 1150 422 2328 \r\nQ 422 3509 836 4129 \r\nQ 1250 4750 2034 4750 \r\nz\r\n\" id=\"DejaVuSans-30\" transform=\"scale(0.015625)\"/>\r\n       </defs>\r\n       <use xlink:href=\"#DejaVuSans-30\"/>\r\n      </g>\r\n     </g>\r\n    </g>\r\n    <g id=\"xtick_2\">\r\n     <g id=\"line2d_2\">\r\n      <g>\r\n       <use style=\"stroke:#000000;stroke-width:0.8;\" x=\"96.261625\" xlink:href=\"#m3e29c29ec2\" y=\"224.64\"/>\r\n      </g>\r\n     </g>\r\n     <g id=\"text_2\">\r\n      <!-- 5 -->\r\n      <g transform=\"translate(93.080375 239.238438)scale(0.1 -0.1)\">\r\n       <defs>\r\n        <path d=\"M 691 4666 \r\nL 3169 4666 \r\nL 3169 4134 \r\nL 1269 4134 \r\nL 1269 2991 \r\nQ 1406 3038 1543 3061 \r\nQ 1681 3084 1819 3084 \r\nQ 2600 3084 3056 2656 \r\nQ 3513 2228 3513 1497 \r\nQ 3513 744 3044 326 \r\nQ 2575 -91 1722 -91 \r\nQ 1428 -91 1123 -41 \r\nQ 819 9 494 109 \r\nL 494 744 \r\nQ 775 591 1075 516 \r\nQ 1375 441 1709 441 \r\nQ 2250 441 2565 725 \r\nQ 2881 1009 2881 1497 \r\nQ 2881 1984 2565 2268 \r\nQ 2250 2553 1709 2553 \r\nQ 1456 2553 1204 2497 \r\nQ 953 2441 691 2322 \r\nL 691 4666 \r\nz\r\n\" id=\"DejaVuSans-35\" transform=\"scale(0.015625)\"/>\r\n       </defs>\r\n       <use xlink:href=\"#DejaVuSans-35\"/>\r\n      </g>\r\n     </g>\r\n    </g>\r\n    <g id=\"xtick_3\">\r\n     <g id=\"line2d_3\">\r\n      <g>\r\n       <use style=\"stroke:#000000;stroke-width:0.8;\" x=\"150.621625\" xlink:href=\"#m3e29c29ec2\" y=\"224.64\"/>\r\n      </g>\r\n     </g>\r\n     <g id=\"text_3\">\r\n      <!-- 10 -->\r\n      <g transform=\"translate(144.259125 239.238438)scale(0.1 -0.1)\">\r\n       <defs>\r\n        <path d=\"M 794 531 \r\nL 1825 531 \r\nL 1825 4091 \r\nL 703 3866 \r\nL 703 4441 \r\nL 1819 4666 \r\nL 2450 4666 \r\nL 2450 531 \r\nL 3481 531 \r\nL 3481 0 \r\nL 794 0 \r\nL 794 531 \r\nz\r\n\" id=\"DejaVuSans-31\" transform=\"scale(0.015625)\"/>\r\n       </defs>\r\n       <use xlink:href=\"#DejaVuSans-31\"/>\r\n       <use x=\"63.623047\" xlink:href=\"#DejaVuSans-30\"/>\r\n      </g>\r\n     </g>\r\n    </g>\r\n    <g id=\"xtick_4\">\r\n     <g id=\"line2d_4\">\r\n      <g>\r\n       <use style=\"stroke:#000000;stroke-width:0.8;\" x=\"204.981625\" xlink:href=\"#m3e29c29ec2\" y=\"224.64\"/>\r\n      </g>\r\n     </g>\r\n     <g id=\"text_4\">\r\n      <!-- 15 -->\r\n      <g transform=\"translate(198.619125 239.238438)scale(0.1 -0.1)\">\r\n       <use xlink:href=\"#DejaVuSans-31\"/>\r\n       <use x=\"63.623047\" xlink:href=\"#DejaVuSans-35\"/>\r\n      </g>\r\n     </g>\r\n    </g>\r\n   </g>\r\n   <g id=\"matplotlib.axis_2\">\r\n    <g id=\"ytick_1\">\r\n     <g id=\"line2d_5\">\r\n      <defs>\r\n       <path d=\"M 0 0 \r\nL -3.5 0 \r\n\" id=\"mc2c4e7577f\" style=\"stroke:#000000;stroke-width:0.8;\"/>\r\n      </defs>\r\n      <g>\r\n       <use style=\"stroke:#000000;stroke-width:0.8;\" x=\"36.465625\" xlink:href=\"#mc2c4e7577f\" y=\"12.636\"/>\r\n      </g>\r\n     </g>\r\n     <g id=\"text_5\">\r\n      <!-- 0.0 -->\r\n      <g transform=\"translate(13.5625 16.435219)scale(0.1 -0.1)\">\r\n       <defs>\r\n        <path d=\"M 684 794 \r\nL 1344 794 \r\nL 1344 0 \r\nL 684 0 \r\nL 684 794 \r\nz\r\n\" id=\"DejaVuSans-2e\" transform=\"scale(0.015625)\"/>\r\n       </defs>\r\n       <use xlink:href=\"#DejaVuSans-30\"/>\r\n       <use x=\"63.623047\" xlink:href=\"#DejaVuSans-2e\"/>\r\n       <use x=\"95.410156\" xlink:href=\"#DejaVuSans-30\"/>\r\n      </g>\r\n     </g>\r\n    </g>\r\n    <g id=\"ytick_2\">\r\n     <g id=\"line2d_6\">\r\n      <g>\r\n       <use style=\"stroke:#000000;stroke-width:0.8;\" x=\"36.465625\" xlink:href=\"#mc2c4e7577f\" y=\"39.816\"/>\r\n      </g>\r\n     </g>\r\n     <g id=\"text_6\">\r\n      <!-- 2.5 -->\r\n      <g transform=\"translate(13.5625 43.615219)scale(0.1 -0.1)\">\r\n       <defs>\r\n        <path d=\"M 1228 531 \r\nL 3431 531 \r\nL 3431 0 \r\nL 469 0 \r\nL 469 531 \r\nQ 828 903 1448 1529 \r\nQ 2069 2156 2228 2338 \r\nQ 2531 2678 2651 2914 \r\nQ 2772 3150 2772 3378 \r\nQ 2772 3750 2511 3984 \r\nQ 2250 4219 1831 4219 \r\nQ 1534 4219 1204 4116 \r\nQ 875 4013 500 3803 \r\nL 500 4441 \r\nQ 881 4594 1212 4672 \r\nQ 1544 4750 1819 4750 \r\nQ 2544 4750 2975 4387 \r\nQ 3406 4025 3406 3419 \r\nQ 3406 3131 3298 2873 \r\nQ 3191 2616 2906 2266 \r\nQ 2828 2175 2409 1742 \r\nQ 1991 1309 1228 531 \r\nz\r\n\" id=\"DejaVuSans-32\" transform=\"scale(0.015625)\"/>\r\n       </defs>\r\n       <use xlink:href=\"#DejaVuSans-32\"/>\r\n       <use x=\"63.623047\" xlink:href=\"#DejaVuSans-2e\"/>\r\n       <use x=\"95.410156\" xlink:href=\"#DejaVuSans-35\"/>\r\n      </g>\r\n     </g>\r\n    </g>\r\n    <g id=\"ytick_3\">\r\n     <g id=\"line2d_7\">\r\n      <g>\r\n       <use style=\"stroke:#000000;stroke-width:0.8;\" x=\"36.465625\" xlink:href=\"#mc2c4e7577f\" y=\"66.996\"/>\r\n      </g>\r\n     </g>\r\n     <g id=\"text_7\">\r\n      <!-- 5.0 -->\r\n      <g transform=\"translate(13.5625 70.795219)scale(0.1 -0.1)\">\r\n       <use xlink:href=\"#DejaVuSans-35\"/>\r\n       <use x=\"63.623047\" xlink:href=\"#DejaVuSans-2e\"/>\r\n       <use x=\"95.410156\" xlink:href=\"#DejaVuSans-30\"/>\r\n      </g>\r\n     </g>\r\n    </g>\r\n    <g id=\"ytick_4\">\r\n     <g id=\"line2d_8\">\r\n      <g>\r\n       <use style=\"stroke:#000000;stroke-width:0.8;\" x=\"36.465625\" xlink:href=\"#mc2c4e7577f\" y=\"94.176\"/>\r\n      </g>\r\n     </g>\r\n     <g id=\"text_8\">\r\n      <!-- 7.5 -->\r\n      <g transform=\"translate(13.5625 97.975219)scale(0.1 -0.1)\">\r\n       <defs>\r\n        <path d=\"M 525 4666 \r\nL 3525 4666 \r\nL 3525 4397 \r\nL 1831 0 \r\nL 1172 0 \r\nL 2766 4134 \r\nL 525 4134 \r\nL 525 4666 \r\nz\r\n\" id=\"DejaVuSans-37\" transform=\"scale(0.015625)\"/>\r\n       </defs>\r\n       <use xlink:href=\"#DejaVuSans-37\"/>\r\n       <use x=\"63.623047\" xlink:href=\"#DejaVuSans-2e\"/>\r\n       <use x=\"95.410156\" xlink:href=\"#DejaVuSans-35\"/>\r\n      </g>\r\n     </g>\r\n    </g>\r\n    <g id=\"ytick_5\">\r\n     <g id=\"line2d_9\">\r\n      <g>\r\n       <use style=\"stroke:#000000;stroke-width:0.8;\" x=\"36.465625\" xlink:href=\"#mc2c4e7577f\" y=\"121.356\"/>\r\n      </g>\r\n     </g>\r\n     <g id=\"text_9\">\r\n      <!-- 10.0 -->\r\n      <g transform=\"translate(7.2 125.155219)scale(0.1 -0.1)\">\r\n       <use xlink:href=\"#DejaVuSans-31\"/>\r\n       <use x=\"63.623047\" xlink:href=\"#DejaVuSans-30\"/>\r\n       <use x=\"127.246094\" xlink:href=\"#DejaVuSans-2e\"/>\r\n       <use x=\"159.033203\" xlink:href=\"#DejaVuSans-30\"/>\r\n      </g>\r\n     </g>\r\n    </g>\r\n    <g id=\"ytick_6\">\r\n     <g id=\"line2d_10\">\r\n      <g>\r\n       <use style=\"stroke:#000000;stroke-width:0.8;\" x=\"36.465625\" xlink:href=\"#mc2c4e7577f\" y=\"148.536\"/>\r\n      </g>\r\n     </g>\r\n     <g id=\"text_10\">\r\n      <!-- 12.5 -->\r\n      <g transform=\"translate(7.2 152.335219)scale(0.1 -0.1)\">\r\n       <use xlink:href=\"#DejaVuSans-31\"/>\r\n       <use x=\"63.623047\" xlink:href=\"#DejaVuSans-32\"/>\r\n       <use x=\"127.246094\" xlink:href=\"#DejaVuSans-2e\"/>\r\n       <use x=\"159.033203\" xlink:href=\"#DejaVuSans-35\"/>\r\n      </g>\r\n     </g>\r\n    </g>\r\n    <g id=\"ytick_7\">\r\n     <g id=\"line2d_11\">\r\n      <g>\r\n       <use style=\"stroke:#000000;stroke-width:0.8;\" x=\"36.465625\" xlink:href=\"#mc2c4e7577f\" y=\"175.716\"/>\r\n      </g>\r\n     </g>\r\n     <g id=\"text_11\">\r\n      <!-- 15.0 -->\r\n      <g transform=\"translate(7.2 179.515219)scale(0.1 -0.1)\">\r\n       <use xlink:href=\"#DejaVuSans-31\"/>\r\n       <use x=\"63.623047\" xlink:href=\"#DejaVuSans-35\"/>\r\n       <use x=\"127.246094\" xlink:href=\"#DejaVuSans-2e\"/>\r\n       <use x=\"159.033203\" xlink:href=\"#DejaVuSans-30\"/>\r\n      </g>\r\n     </g>\r\n    </g>\r\n    <g id=\"ytick_8\">\r\n     <g id=\"line2d_12\">\r\n      <g>\r\n       <use style=\"stroke:#000000;stroke-width:0.8;\" x=\"36.465625\" xlink:href=\"#mc2c4e7577f\" y=\"202.896\"/>\r\n      </g>\r\n     </g>\r\n     <g id=\"text_12\">\r\n      <!-- 17.5 -->\r\n      <g transform=\"translate(7.2 206.695219)scale(0.1 -0.1)\">\r\n       <use xlink:href=\"#DejaVuSans-31\"/>\r\n       <use x=\"63.623047\" xlink:href=\"#DejaVuSans-37\"/>\r\n       <use x=\"127.246094\" xlink:href=\"#DejaVuSans-2e\"/>\r\n       <use x=\"159.033203\" xlink:href=\"#DejaVuSans-35\"/>\r\n      </g>\r\n     </g>\r\n    </g>\r\n   </g>\r\n   <g id=\"patch_3\">\r\n    <path d=\"M 36.465625 224.64 \r\nL 36.465625 7.2 \r\n\" style=\"fill:none;stroke:#000000;stroke-linecap:square;stroke-linejoin:miter;stroke-width:0.8;\"/>\r\n   </g>\r\n   <g id=\"patch_4\">\r\n    <path d=\"M 253.905625 224.64 \r\nL 253.905625 7.2 \r\n\" style=\"fill:none;stroke:#000000;stroke-linecap:square;stroke-linejoin:miter;stroke-width:0.8;\"/>\r\n   </g>\r\n   <g id=\"patch_5\">\r\n    <path d=\"M 36.465625 224.64 \r\nL 253.905625 224.64 \r\n\" style=\"fill:none;stroke:#000000;stroke-linecap:square;stroke-linejoin:miter;stroke-width:0.8;\"/>\r\n   </g>\r\n   <g id=\"patch_6\">\r\n    <path d=\"M 36.465625 7.2 \r\nL 253.905625 7.2 \r\n\" style=\"fill:none;stroke:#000000;stroke-linecap:square;stroke-linejoin:miter;stroke-width:0.8;\"/>\r\n   </g>\r\n  </g>\r\n </g>\r\n <defs>\r\n  <clipPath id=\"p9c011192ce\">\r\n   <rect height=\"217.44\" width=\"217.44\" x=\"36.465625\" y=\"7.2\"/>\r\n  </clipPath>\r\n </defs>\r\n</svg>\r\n",
      "image/png": "[encoded data removed]"
     },
     "metadata": {
      "needs_background": "light"
     }
    }
   ],
   "source": [
    "plt.imshow(tf.reshape(image, (20,20)), cmap=\"gray\")"
   ]
  },
  {
   "cell_type": "code",
   "execution_count": 1,
   "metadata": {},
   "outputs": [
    {
     "output_type": "error",
     "ename": "NameError",
     "evalue": "name 'generator' is not defined",
     "traceback": [
      "\u001b[1;31m---------------------------------------------------------------------------\u001b[0m",
      "\u001b[1;31mNameError\u001b[0m                                 Traceback (most recent call last)",
      "\u001b[1;32m<ipython-input-1-8b1358c63260>\u001b[0m in \u001b[0;36m<module>\u001b[1;34m\u001b[0m\n\u001b[1;32m----> 1\u001b[1;33m \u001b[0mimage\u001b[0m\u001b[1;33m=\u001b[0m\u001b[0mgenerator\u001b[0m\u001b[1;33m(\u001b[0m\u001b[1;33m(\u001b[0m\u001b[0mnumpy\u001b[0m\u001b[1;33m.\u001b[0m\u001b[0mrandom\u001b[0m\u001b[1;33m.\u001b[0m\u001b[0mrandn\u001b[0m\u001b[1;33m(\u001b[0m\u001b[1;36m1\u001b[0m\u001b[1;33m,\u001b[0m\u001b[1;36m20\u001b[0m\u001b[1;33m)\u001b[0m\u001b[1;33m)\u001b[0m\u001b[1;33m)\u001b[0m\u001b[1;33m\u001b[0m\u001b[1;33m\u001b[0m\u001b[0m\n\u001b[0m",
      "\u001b[1;31mNameError\u001b[0m: name 'generator' is not defined"
     ]
    }
   ],
   "source": [
    "image=generator((numpy.random.randn(1,20)))"
   ]
  },
  {
   "cell_type": "code",
   "execution_count": 474,
   "metadata": {},
   "outputs": [
    {
     "output_type": "execute_result",
     "data": {
      "text/plain": [
       "<tf.Tensor: shape=(1, 1), dtype=float32, numpy=array([[0.91068083]], dtype=float32)>"
      ]
     },
     "metadata": {},
     "execution_count": 474
    }
   ],
   "source": [
    "tf.sigmoid(model_discriminator(image))"
   ]
  },
  {
   "cell_type": "code",
   "execution_count": 424,
   "metadata": {},
   "outputs": [],
   "source": [
    "image=x_train[10]"
   ]
  },
  {
   "cell_type": "code",
   "execution_count": 425,
   "metadata": {},
   "outputs": [],
   "source": [
    "image=tf.reshape(image, (1, 20, 20, 1))"
   ]
  },
  {
   "cell_type": "code",
   "execution_count": null,
   "metadata": {},
   "outputs": [],
   "source": []
  }
 ]
}
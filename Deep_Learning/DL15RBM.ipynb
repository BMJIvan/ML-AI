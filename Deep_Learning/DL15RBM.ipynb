{
 "metadata": {
  "language_info": {
   "codemirror_mode": {
    "name": "ipython",
    "version": 3
   },
   "file_extension": ".py",
   "mimetype": "text/x-python",
   "name": "python",
   "nbconvert_exporter": "python",
   "pygments_lexer": "ipython3",
   "version": "3.7.8"
  },
  "orig_nbformat": 2,
  "kernelspec": {
   "name": "python378jvsc74a57bd09e80d76ea6f7910366ea144e4925c6ce12227515ad9ee1266cb0780bd8ad6c40",
   "display_name": "Python 3.7.8rc1 64-bit"
  },
  "metadata": {
   "interpreter": {
    "hash": "9e80d76ea6f7910366ea144e4925c6ce12227515ad9ee1266cb0780bd8ad6c40"
   }
  }
 },
 "nbformat": 4,
 "nbformat_minor": 2,
 "cells": [
  {
   "cell_type": "code",
   "execution_count": 2,
   "metadata": {},
   "outputs": [],
   "source": [
    "import pandas\n",
    "import numpy\n",
    "import torch\n",
    "import torch.nn as nn\n",
    "import torch.nn.parallel\n",
    "import torch.optim as optim\n",
    "import torch.utils.data\n",
    "from torch.autograd import Variable"
   ]
  },
  {
   "cell_type": "code",
   "execution_count": 3,
   "metadata": {},
   "outputs": [],
   "source": [
    "#import data #python-engine to avoid probles when importing\n",
    "movies=pandas.read_csv(\"Datasets/Boltzmann_Machines/ml-1m/movies.dat\", sep=\"::\", header=None, engine=\"python\", encoding=\"latin-1\") \n",
    "ratings=pandas.read_csv(\"Datasets/Boltzmann_Machines/ml-1m/ratings.dat\", sep=\"::\", header=None, engine=\"python\", encoding=\"latin-1\") \n",
    "users=pandas.read_csv(\"Datasets/Boltzmann_Machines/ml-1m/users.dat\", sep=\"::\", header=None, engine=\"python\", encoding=\"latin-1\") "
   ]
  },
  {
   "cell_type": "code",
   "execution_count": 4,
   "metadata": {},
   "outputs": [],
   "source": [
    "training_set=pandas.read_csv(\"Datasets/Boltzmann_Machines/ml-100k/u1.base\", delimiter=\"\\t\")\n",
    "training_set=numpy.array(training_set, int)"
   ]
  },
  {
   "cell_type": "code",
   "execution_count": 5,
   "metadata": {},
   "outputs": [],
   "source": [
    "test_set=pandas.read_csv(\"Datasets/Boltzmann_Machines/ml-100k/u1.test\", delimiter=\"\\t\")\n",
    "test_set=numpy.array(test_set, int)"
   ]
  },
  {
   "cell_type": "code",
   "execution_count": 6,
   "metadata": {},
   "outputs": [],
   "source": [
    "nb_users=int(max(max(training_set[:,0]),max(test_set[:,0])))\n",
    "nb_movies=int(max(max(training_set[:,1]),max(test_set[:,1])))"
   ]
  },
  {
   "cell_type": "code",
   "execution_count": 7,
   "metadata": {},
   "outputs": [],
   "source": [
    "#converting the data unto an array with users in lines and movies in columns\n",
    "def convert(data):\n",
    "    new_data=[]\n",
    "    for id_user in range(1, nb_users+1):\n",
    "        id_movies=data[:,1][data[:,0]==id_user]\n",
    "        id_ratings=data[:,2][data[:,0]==id_user]\n",
    "        ratings=numpy.zeros(nb_movies)\n",
    "        ratings[id_movies-1]=id_ratings\n",
    "        new_data.append(list(ratings))\n",
    "    return new_data"
   ]
  },
  {
   "cell_type": "code",
   "execution_count": 8,
   "metadata": {},
   "outputs": [],
   "source": [
    "training_set=convert(training_set)\n",
    "test_set=convert(test_set)"
   ]
  },
  {
   "cell_type": "code",
   "execution_count": 12,
   "metadata": {},
   "outputs": [],
   "source": [
    "training_set=torch.FloatTensor(training_set) #expect a list of lists\n",
    "test_set=torch.FloatTensor(test_set)"
   ]
  },
  {
   "cell_type": "code",
   "execution_count": 13,
   "metadata": {},
   "outputs": [],
   "source": [
    "#converting the ratings into binary ratings 1 (Linked) or 0 (Not Liked)\n",
    "training_set[training_set==0]=-1\n",
    "training_set[training_set==1]=0\n",
    "training_set[training_set==2]=0\n",
    "training_set[training_set>=3]=1"
   ]
  },
  {
   "cell_type": "code",
   "execution_count": 14,
   "metadata": {},
   "outputs": [],
   "source": [
    "test_set[test_set==0]=-1\n",
    "test_set[test_set==1]=0\n",
    "test_set[test_set==2]=0\n",
    "test_set[test_set>=3]=1"
   ]
  },
  {
   "cell_type": "code",
   "execution_count": 44,
   "metadata": {},
   "outputs": [],
   "source": [
    "class RBM():\n",
    "    def __init__(self, nv, nh): #number visible nodes, number hidden nodes\n",
    "        self.W=torch.randn(nh, nv) #normal distribution \n",
    "        self.a=torch.randn(1, nh)\n",
    "        self.b=torch.randn(1, nv)\n",
    "\n",
    "    def sample_h(self, x): #x probability of h given v #x: visible nodes, inputs\n",
    "        wx=torch.mm(x, self.W.t())\n",
    "        activation=wx+self.a.expand_as(wx) #to be shure to add a\n",
    "        p_h_given_v=torch.sigmoid(activation)\n",
    "        return p_h_given_v, torch.bernoulli(p_h_given_v)\n",
    "\n",
    "    def sample_v(self, y): #x probability of h given v #x: visible nodes, inputs\n",
    "        wy=torch.mm(y, self.W)\n",
    "        activation=wy+self.b.expand_as(wy) #to be shure to add a\n",
    "        p_v_given_h=torch.sigmoid(activation)\n",
    "        return p_v_given_h, torch.bernoulli(p_v_given_h)\n",
    "\n",
    "    def train(self, v0, vk, ph0, phk):\n",
    "        self.W+=(torch.mm(v0.t(), ph0)-torch.mm(vk.t(), phk)).t()\n",
    "        self.b+=torch.sum((v0-vk), 0)\n",
    "        self.a+=torch.sum((ph0-phk), 0)"
   ]
  },
  {
   "cell_type": "code",
   "execution_count": 52,
   "metadata": {},
   "outputs": [],
   "source": [
    "nv=len(training_set[0])\n",
    "nh=200\n",
    "batch_size=20\n",
    "rbm=RBM(nv, nh)"
   ]
  },
  {
   "cell_type": "code",
   "execution_count": 53,
   "metadata": {},
   "outputs": [
    {
     "output_type": "stream",
     "name": "stdout",
     "text": [
      "epoch:  1  lose:  tensor(0.2973)\n",
      "epoch:  2  lose:  tensor(0.2498)\n",
      "epoch:  3  lose:  tensor(0.2526)\n",
      "epoch:  4  lose:  tensor(0.2470)\n",
      "epoch:  5  lose:  tensor(0.2483)\n",
      "epoch:  6  lose:  tensor(0.2490)\n",
      "epoch:  7  lose:  tensor(0.2472)\n",
      "epoch:  8  lose:  tensor(0.2470)\n",
      "epoch:  9  lose:  tensor(0.2469)\n",
      "epoch:  10  lose:  tensor(0.2470)\n",
      "epoch:  11  lose:  tensor(0.2474)\n",
      "epoch:  12  lose:  tensor(0.2483)\n",
      "epoch:  13  lose:  tensor(0.2478)\n",
      "epoch:  14  lose:  tensor(0.2471)\n",
      "epoch:  15  lose:  tensor(0.2463)\n",
      "epoch:  16  lose:  tensor(0.2465)\n",
      "epoch:  17  lose:  tensor(0.2473)\n",
      "epoch:  18  lose:  tensor(0.2452)\n",
      "epoch:  19  lose:  tensor(0.2465)\n",
      "epoch:  20  lose:  tensor(0.2470)\n",
      "epoch:  21  lose:  tensor(0.2472)\n",
      "epoch:  22  lose:  tensor(0.2490)\n",
      "epoch:  23  lose:  tensor(0.2483)\n",
      "epoch:  24  lose:  tensor(0.2482)\n",
      "epoch:  25  lose:  tensor(0.2476)\n",
      "epoch:  26  lose:  tensor(0.2477)\n",
      "epoch:  27  lose:  tensor(0.2474)\n",
      "epoch:  28  lose:  tensor(0.2457)\n",
      "epoch:  29  lose:  tensor(0.2463)\n",
      "epoch:  30  lose:  tensor(0.2471)\n"
     ]
    }
   ],
   "source": [
    "nb_epoch=30\n",
    "for epoch in range(1, nb_epoch+1):\n",
    "    train_lose=0\n",
    "    s=0.\n",
    "    for id_user in range(0, nb_users-batch_size, batch_size):\n",
    "        vk=training_set[id_user: id_user+batch_size]\n",
    "        v0=training_set[id_user: id_user+batch_size]\n",
    "        ph0,_=rbm.sample_h(v0)\n",
    "        for k in range(10): #constrive divergence\n",
    "            _,hk=rbm.sample_h(vk)\n",
    "            _,vk=rbm.sample_v(hk)\n",
    "            vk[v0<0]=v0[v0<0]\n",
    "        phk,_=rbm.sample_h(vk)\n",
    "        rbm.train(v0, vk, ph0, phk)\n",
    "        train_lose+=torch.mean(torch.abs(v0[v0>=0]-vk[v0>=0]))\n",
    "        #train_loss += np.sqrt(torch.mean((v0[v0>=0] - vk[v0>=0])**2)) # RMSE here\n",
    "        #train_loss += torch.mean(torch.abs(v0[v0>=0] - vk[v0>=0])) # Average Distance here\n",
    "        s+=1.\n",
    "    print(\"epoch:  \"+str(epoch)+\"  lose:  \"+str(train_lose/s))"
   ]
  },
  {
   "cell_type": "code",
   "execution_count": 54,
   "metadata": {},
   "outputs": [
    {
     "output_type": "stream",
     "name": "stdout",
     "text": [
      "  test_lose:  tensor(0.2398)\n"
     ]
    }
   ],
   "source": [
    "test_lose=0\n",
    "s=0.\n",
    "for id_user in range(0, nb_users):\n",
    "    v=training_set[id_user: id_user+1]\n",
    "    vt=test_set[id_user: id_user+1]\n",
    "    #ph0,_=rbm.sample_h(v)\n",
    "    if len(vt[vt>=0]) > 0:\n",
    "        _,h=rbm.sample_h(v)\n",
    "        _,v=rbm.sample_v(h)\n",
    "        vk[v0<0]=v0[v0<0]\n",
    "        test_lose+=torch.mean(torch.abs(vt[vt>=0]-v[vt>=0]))\n",
    "        #test_loss += np.sqrt(torch.mean((vt[vt>=0] - v[vt>=0])**2)) # RMSE here\n",
    "        #test_loss += torch.mean(torch.abs(vt[vt>=0] - v[vt>=0])) # Average Distance here\n",
    "        s+=1.\n",
    "print(\"  test_lose:  \"+str(test_lose/s))"
   ]
  },
  {
   "cell_type": "code",
   "execution_count": null,
   "metadata": {},
   "outputs": [],
   "source": []
  }
 ]
}
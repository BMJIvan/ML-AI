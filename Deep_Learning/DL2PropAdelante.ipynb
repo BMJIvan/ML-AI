{
 "metadata": {
  "language_info": {
   "codemirror_mode": {
    "name": "ipython",
    "version": 3
   },
   "file_extension": ".py",
   "mimetype": "text/x-python",
   "name": "python",
   "nbconvert_exporter": "python",
   "pygments_lexer": "ipython3",
   "version": "3.7.8-candidate"
  },
  "orig_nbformat": 2,
  "kernelspec": {
   "name": "tf15",
   "display_name": "Python 3.7.8 64-bit"
  }
 },
 "nbformat": 4,
 "nbformat_minor": 2,
 "cells": [
  {
   "cell_type": "code",
   "execution_count": 6,
   "metadata": {},
   "outputs": [],
   "source": [
    "import numpy\n",
    "from sklearn.datasets import load_breast_cancer"
   ]
  },
  {
   "cell_type": "code",
   "execution_count": 7,
   "metadata": {},
   "outputs": [],
   "source": [
    "data=load_breast_cancer()\n",
    "X, y = data.data, data.target"
   ]
  },
  {
   "cell_type": "code",
   "execution_count": 8,
   "metadata": {},
   "outputs": [
    {
     "output_type": "execute_result",
     "data": {
      "text/plain": [
       "(569, 4)"
      ]
     },
     "metadata": {},
     "execution_count": 8
    }
   ],
   "source": [
    "X=data.data[:,:4]\n",
    "X.shape"
   ]
  },
  {
   "cell_type": "code",
   "execution_count": 11,
   "metadata": {},
   "outputs": [
    {
     "output_type": "execute_result",
     "data": {
      "text/plain": [
       "array([[  17.99,   10.38,  122.8 , 1001.  ],\n",
       "       [  20.57,   17.77,  132.9 , 1326.  ],\n",
       "       [  19.69,   21.25,  130.  , 1203.  ],\n",
       "       [  11.42,   20.38,   77.58,  386.1 ],\n",
       "       [  20.29,   14.34,  135.1 , 1297.  ],\n",
       "       [  12.45,   15.7 ,   82.57,  477.1 ],\n",
       "       [  18.25,   19.98,  119.6 , 1040.  ],\n",
       "       [  13.71,   20.83,   90.2 ,  577.9 ],\n",
       "       [  13.  ,   21.82,   87.5 ,  519.8 ],\n",
       "       [  12.46,   24.04,   83.97,  475.9 ]])"
      ]
     },
     "metadata": {},
     "execution_count": 11
    }
   ],
   "source": []
  },
  {
   "cell_type": "code",
   "execution_count": 12,
   "metadata": {},
   "outputs": [],
   "source": [
    "#Para entrenar modelos de deep learning es importante que las variables esten en la misma escala, por ello vamos a estandarizar la variables independientes"
   ]
  },
  {
   "cell_type": "code",
   "execution_count": 13,
   "metadata": {},
   "outputs": [],
   "source": [
    "from sklearn.preprocessing import StandardScaler"
   ]
  },
  {
   "cell_type": "code",
   "execution_count": 14,
   "metadata": {},
   "outputs": [],
   "source": [
    "x_estandarizador=StandardScaler()\n",
    "X_std=x_estandarizador.fit_transform(X)"
   ]
  },
  {
   "cell_type": "code",
   "execution_count": 15,
   "metadata": {},
   "outputs": [],
   "source": [
    "#En primer lugar, tenemos que definir una capa, creamos la clase Layer que tiene una dimension de entrada, una de salida, y una funcion de activacion\n",
    "#inicialmente sus pesos se generan al azar"
   ]
  },
  {
   "cell_type": "code",
   "execution_count": 32,
   "metadata": {},
   "outputs": [],
   "source": [
    "class Layer:\n",
    "    def __init__(self, dim_input, dim_output, fn_activacion, nombre):\n",
    "        self.dim_input=dim_input\n",
    "        self.dim_output=dim_output\n",
    "        self.generar_pesos((dim_output,dim_input))\n",
    "        self.generar_bias(dim_output)\n",
    "        self.fn_activacion=fn_activacion\n",
    "        self.nombre=nombre\n",
    "\n",
    "    def __repr__(self):\n",
    "        return \"\"\"\n",
    "        Capa {}. tamaño input: {}. tamaño output: {}.\n",
    "        pesos: {}\n",
    "        bias: {}\n",
    "        \"\"\".format(self.nombre, self.dim_input, self.dim_output, self.w, self.b)\n",
    "\n",
    "    def generar_pesos(self, dimensiones):\n",
    "        self.w=numpy.random.random(dimensiones)\n",
    "\n",
    "    def generar_bias(self, dim_output):\n",
    "        self.b=numpy.random.random((dim_output, ))\n",
    "\n",
    "    def activar(self, x):\n",
    "        return self.fn_activacion((self.w @ x) + self.b)"
   ]
  },
  {
   "cell_type": "code",
   "execution_count": 33,
   "metadata": {},
   "outputs": [],
   "source": [
    "#PAra hacer propagacion hacia adelante necesitamos la funcion de activacion, en este ejemplo se usara la funcion sigmoide como activacion de la capa oculta"
   ]
  },
  {
   "cell_type": "code",
   "execution_count": 34,
   "metadata": {},
   "outputs": [],
   "source": [
    "def fn_sigmoide(x):\n",
    "    return 1/(1+numpy.exp(-x))"
   ]
  },
  {
   "cell_type": "code",
   "execution_count": 35,
   "metadata": {},
   "outputs": [],
   "source": [
    "n_input=4\n",
    "n_oculta=5\n",
    "n_output=1"
   ]
  },
  {
   "cell_type": "code",
   "execution_count": 36,
   "metadata": {},
   "outputs": [],
   "source": [
    "capa_oculta=Layer(n_input, n_oculta, fn_sigmoide, \"oculta\")\n",
    "capa_salida=Layer(n_oculta, n_output, fn_sigmoide, \"salida\")"
   ]
  },
  {
   "cell_type": "code",
   "execution_count": 37,
   "metadata": {},
   "outputs": [],
   "source": [
    "class RedNeuronal:\n",
    "    def __init__(self):\n",
    "        self.layers=[]\n",
    "\n",
    "    def add_layer(self, layer):\n",
    "        self.layers.append(layer)\n",
    "    \n",
    "    def forward(self, x):\n",
    "        print(\"\"\"\n",
    "        input: {}\n",
    "        \"\"\".format(x))\n",
    "        for layer in self.layers:\n",
    "            x=layer.activar(x)\n",
    "            print(layer)\n",
    "            print(\"\"\"\n",
    "            outout: {}\n",
    "            \"\"\".format(x))\n",
    "        return x"
   ]
  },
  {
   "cell_type": "code",
   "execution_count": 38,
   "metadata": {},
   "outputs": [],
   "source": [
    "red=RedNeuronal()"
   ]
  },
  {
   "cell_type": "code",
   "execution_count": 39,
   "metadata": {},
   "outputs": [],
   "source": [
    "red.add_layer(capa_oculta)\n",
    "red.add_layer(capa_salida)"
   ]
  },
  {
   "cell_type": "code",
   "execution_count": 40,
   "metadata": {},
   "outputs": [
    {
     "output_type": "stream",
     "name": "stdout",
     "text": [
      "[-1.03304249e+00  8.17949781e-05 -1.01159150e+00 -9.06668923e-01] 1\n"
     ]
    }
   ],
   "source": [
    "indice_aleatorio=numpy.random.permutation(X.shape[0])\n",
    "\n",
    "x0=X_std[indice_aleatorio[0]]\n",
    "y0=y[indice_aleatorio[0]]\n",
    "print(x0, y0)"
   ]
  },
  {
   "cell_type": "code",
   "execution_count": 41,
   "metadata": {},
   "outputs": [
    {
     "output_type": "stream",
     "name": "stdout",
     "text": [
      "\n        input: [-1.03304249e+00  8.17949781e-05 -1.01159150e+00 -9.06668923e-01]\n        \n\n        Capa oculta. tamaño input: 4. tamaño output: 5.\n        pesos: [[0.96571167 0.44207891 0.78079633 0.68541454]\n [0.66698232 0.85375703 0.90501534 0.26267646]\n [0.35855297 0.10233853 0.46103217 0.20151105]\n [0.68094106 0.50298556 0.51844755 0.02688474]\n [0.62269651 0.06379982 0.44328439 0.33572092]]\n        bias: [0.88647321 0.47077813 0.95181834 0.1456406  0.78321969]\n        \n\n            outout: [0.17910797 0.2023228  0.483093   0.24850679 0.35140764]\n            \n\n        Capa salida. tamaño input: 5. tamaño output: 1.\n        pesos: [[0.65530272 0.23113074 0.2360328  0.53539186 0.85015431]]\n        bias: [0.38824631]\n        \n\n            outout: [0.74992349]\n            \n"
     ]
    },
    {
     "output_type": "execute_result",
     "data": {
      "text/plain": [
       "array([0.74992349])"
      ]
     },
     "metadata": {},
     "execution_count": 41
    }
   ],
   "source": [
    "red.forward(x0)"
   ]
  },
  {
   "cell_type": "code",
   "execution_count": 31,
   "metadata": {},
   "outputs": [
    {
     "output_type": "execute_result",
     "data": {
      "text/plain": [
       "<bound method Layer.__repr__ of \n",
       "        Capa oculta. tamaño input: 4. tamaño output: 5.\n",
       "        pesos: [[0.35702323 0.90929398 0.31604438 0.30255787 0.05205402]\n",
       " [0.61942791 0.67051813 0.32121493 0.75394678 0.1642054 ]\n",
       " [0.8281652  0.31073093 0.07389647 0.88047941 0.21336749]\n",
       " [0.61804184 0.83928999 0.8675924  0.7897887  0.15216925]]\n",
       "        bias: [0.38899438 0.93693415 0.4520474  0.77804805 0.06172713]\n",
       "        >"
      ]
     },
     "metadata": {},
     "execution_count": 31
    }
   ],
   "source": []
  },
  {
   "cell_type": "code",
   "execution_count": null,
   "metadata": {},
   "outputs": [],
   "source": []
  }
 ]
}
{
 "metadata": {
  "language_info": {
   "codemirror_mode": {
    "name": "ipython",
    "version": 3
   },
   "file_extension": ".py",
   "mimetype": "text/x-python",
   "name": "python",
   "nbconvert_exporter": "python",
   "pygments_lexer": "ipython3",
   "version": "3.7.8"
  },
  "orig_nbformat": 2,
  "kernelspec": {
   "name": "python378jvsc74a57bd09e80d76ea6f7910366ea144e4925c6ce12227515ad9ee1266cb0780bd8ad6c40",
   "display_name": "Python 3.7.8rc1 64-bit"
  },
  "metadata": {
   "interpreter": {
    "hash": "9e80d76ea6f7910366ea144e4925c6ce12227515ad9ee1266cb0780bd8ad6c40"
   }
  }
 },
 "nbformat": 4,
 "nbformat_minor": 2,
 "cells": [
  {
   "cell_type": "code",
   "execution_count": 1,
   "metadata": {},
   "outputs": [],
   "source": [
    "import pandas\n",
    "import numpy\n",
    "import torch\n",
    "import torch.nn as nn\n",
    "import torch.nn.parallel\n",
    "import torch.optim as optim\n",
    "import torch.utils.data\n",
    "from torch.autograd import Variable"
   ]
  },
  {
   "cell_type": "code",
   "execution_count": 2,
   "metadata": {},
   "outputs": [],
   "source": [
    "#import data #python-engine to avoid probles when importing\n",
    "movies=pandas.read_csv(\"Datasets/Boltzmann_Machines/ml-1m/movies.dat\", sep=\"::\", header=None, engine=\"python\", encoding=\"latin-1\") \n",
    "ratings=pandas.read_csv(\"Datasets/Boltzmann_Machines/ml-1m/ratings.dat\", sep=\"::\", header=None, engine=\"python\", encoding=\"latin-1\") \n",
    "users=pandas.read_csv(\"Datasets/Boltzmann_Machines/ml-1m/users.dat\", sep=\"::\", header=None, engine=\"python\", encoding=\"latin-1\") "
   ]
  },
  {
   "cell_type": "code",
   "execution_count": 3,
   "metadata": {},
   "outputs": [],
   "source": [
    "training_set=pandas.read_csv(\"Datasets/Boltzmann_Machines/ml-100k/u1.base\", delimiter=\"\\t\")\n",
    "training_set=numpy.array(training_set, int)"
   ]
  },
  {
   "cell_type": "code",
   "execution_count": 4,
   "metadata": {},
   "outputs": [],
   "source": [
    "test_set=pandas.read_csv(\"Datasets/Boltzmann_Machines/ml-100k/u1.test\", delimiter=\"\\t\")\n",
    "test_set=numpy.array(test_set, int)"
   ]
  },
  {
   "cell_type": "code",
   "execution_count": 5,
   "metadata": {},
   "outputs": [],
   "source": [
    "nb_users=int(max(max(training_set[:,0]),max(test_set[:,0])))\n",
    "nb_movies=int(max(max(training_set[:,1]),max(test_set[:,1])))"
   ]
  },
  {
   "cell_type": "code",
   "execution_count": 6,
   "metadata": {},
   "outputs": [],
   "source": [
    "#converting the data unto an array with users in lines and movies in columns\n",
    "def convert(data):\n",
    "    new_data=[]\n",
    "    for id_user in range(1, nb_users+1):\n",
    "        id_movies=data[:,1][data[:,0]==id_user]\n",
    "        id_ratings=data[:,2][data[:,0]==id_user]\n",
    "        ratings=numpy.zeros(nb_movies)\n",
    "        ratings[id_movies-1]=id_ratings\n",
    "        new_data.append(list(ratings))\n",
    "    return new_data"
   ]
  },
  {
   "cell_type": "code",
   "execution_count": 7,
   "metadata": {},
   "outputs": [],
   "source": [
    "training_set=convert(training_set)\n",
    "test_set=convert(test_set)"
   ]
  },
  {
   "cell_type": "code",
   "execution_count": 8,
   "metadata": {},
   "outputs": [],
   "source": [
    "training_set=torch.FloatTensor(training_set) #expect a list of lists\n",
    "test_set=torch.FloatTensor(test_set)"
   ]
  },
  {
   "cell_type": "code",
   "execution_count": 9,
   "metadata": {},
   "outputs": [],
   "source": [
    "#creating the architecture of the neural network\n",
    "class SAE(nn.Module):\n",
    "    def __init__(self, ):\n",
    "        super(SAE, self).__init__()\n",
    "        self.fc1=nn.Linear(nb_movies, 20) #20 neurons encoding\n",
    "        self.fc2=nn.Linear(20, 10) #10 neurons\n",
    "        self.fc3=nn.Linear(10, 20) #decoding\n",
    "        self.fc4=nn.Linear(20, nb_movies)\n",
    "        self.activation=nn.Sigmoid()\n",
    "\n",
    "    def forward(self, x):\n",
    "        x=self.activation(self.fc1(x))\n",
    "        x=self.activation(self.fc2(x))\n",
    "        x=self.activation(self.fc3(x))\n",
    "        x=self.fc4(x)\n",
    "        return x"
   ]
  },
  {
   "cell_type": "code",
   "execution_count": 12,
   "metadata": {},
   "outputs": [],
   "source": [
    "sae=SAE()\n",
    "criterion=nn.MSELoss()\n",
    "optimezer=optim.RMSprop(sae.parameters(), lr=0.01, weight_decay=0.5)"
   ]
  },
  {
   "cell_type": "code",
   "execution_count": 28,
   "metadata": {},
   "outputs": [
    {
     "output_type": "stream",
     "name": "stdout",
     "text": [
      "epoch:  1  loss:  tensor(0.8741)\n",
      "epoch:  2  loss:  tensor(0.8722)\n",
      "epoch:  3  loss:  tensor(0.8724)\n",
      "epoch:  4  loss:  tensor(0.8719)\n",
      "epoch:  5  loss:  tensor(0.8712)\n"
     ]
    }
   ],
   "source": [
    "#training\n",
    "nb_epoch=5\n",
    "for epoch in range(1, nb_epoch+1):\n",
    "    train_loss=0\n",
    "    s=0.\n",
    "    for id_user in range(nb_users):\n",
    "        Input=Variable(training_set[id_user]).unsqueeze(0)\n",
    "        target=Input.clone()\n",
    "        if torch.sum(target.data>0)>0:\n",
    "            Output=sae.forward(Input)\n",
    "            target.require_grad=False #this won't allow compute gradient with the target\n",
    "            Output[target==0]=0 #this values don't count in the error calculation\n",
    "            loss=criterion(Output, target)\n",
    "            mean_corrector=nb_movies/float(torch.sum(target.data>0)+ 1e-10) #because we are using movies with ratings>0, not all movies\n",
    "            loss.backward() #decides the direccion \n",
    "            train_loss+=numpy.sqrt(loss.data*mean_corrector)\n",
    "            s+=1.\n",
    "            optimezer.step() #decides the magnitud\n",
    "    print(\"epoch:  \"+str(epoch) + \"  loss:  \"+str(train_loss/s))"
   ]
  },
  {
   "cell_type": "code",
   "execution_count": 47,
   "metadata": {},
   "outputs": [
    {
     "output_type": "stream",
     "name": "stdout",
     "text": [
      "  loss:  tensor(0.9451)\n"
     ]
    }
   ],
   "source": [
    "test_loss=0\n",
    "s=0.\n",
    "for id_user in range(nb_users):\n",
    "    Input=Variable(training_set[id_user]).unsqueeze(0)\n",
    "    target=Variable(test_set[id_user])\n",
    "    if torch.sum(target.data>0)>0:\n",
    "        Output=sae.forward(Input)[0]\n",
    "        target.require_grad=False #this won't allow compute gradient with the target\n",
    "        Output[target==0]=0 #this values don't count in the error calculation\n",
    "        loss=criterion(Output, target)\n",
    "        mean_corrector=nb_movies/float(torch.sum(target.data>0)+ 1e-10) #because we are using movies with ratings>0, not all movies\n",
    "        test_loss+=numpy.sqrt(loss.data*mean_corrector)\n",
    "        s+=1.\n",
    "print(\"  loss:  \"+str(test_loss/s))"
   ]
  },
  {
   "cell_type": "code",
   "execution_count": null,
   "metadata": {},
   "outputs": [],
   "source": []
  }
 ]
}
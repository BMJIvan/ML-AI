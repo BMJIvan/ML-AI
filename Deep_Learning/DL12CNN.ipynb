{
 "cells": [
  {
   "cell_type": "code",
   "execution_count": 1,
   "metadata": {},
   "outputs": [],
   "source": [
    "import cv2 as opencv\n",
    "import numpy\n",
    "import matplotlib.pyplot as plt\n",
    "import tensorflow\n",
    "from keras.preprocessing.image import ImageDataGenerator\n",
    "from keras.optimizers import SGD\n",
    "plt.rcParams[\"figure.figsize\"]=[7,7]"
   ]
  },
  {
   "cell_type": "code",
   "execution_count": null,
   "metadata": {},
   "outputs": [],
   "source": [
    "def RescaleImage(frame, scale=0.5):\n",
    "    width=int(frame.shape[1]*scale)\n",
    "    height=int(frame.shape[0]*scale)\n",
    "    dimension=(width, height)\n",
    "    return opencv.resize(frame, dimension, interpolation=opencv.INTER_AREA)\n"
   ]
  },
  {
   "cell_type": "code",
   "execution_count": null,
   "metadata": {},
   "outputs": [],
   "source": [
    "img=opencv.imread(\"./Datasets/Convolutional_Neural_Networks/dataset/single_prediction/cat_or_dog_2.jpg\", opencv.IMREAD_GRAYSCALE)\n",
    "img=opencv.resize(img, (80,80), interpolation=opencv.INTER_AREA)"
   ]
  },
  {
   "cell_type": "code",
   "execution_count": null,
   "metadata": {},
   "outputs": [],
   "source": [
    "#img_f=opencv.medianBlur(img, 3)\n",
    "#img_f=opencv.medianBlur(img_f, 3)\n",
    "\n",
    "img_f=opencv.GaussianBlur(img, (5,5), opencv.BORDER_DEFAULT)"
   ]
  },
  {
   "cell_type": "code",
   "execution_count": null,
   "metadata": {},
   "outputs": [],
   "source": [
    "canny=opencv.Canny(img_f, 25, 130)\n",
    "img_s=canny"
   ]
  },
  {
   "cell_type": "code",
   "execution_count": null,
   "metadata": {},
   "outputs": [],
   "source": [
    "img_pro=numpy.uint8(numpy.absolute(canny))"
   ]
  },
  {
   "cell_type": "code",
   "execution_count": null,
   "metadata": {},
   "outputs": [],
   "source": [
    "#thresh=opencv.resize(img_f, (64,64), interpolation=opencv.INTER_AREA)\n",
    "plt.imshow(img_s, cmap=\"gray\")"
   ]
  },
  {
   "cell_type": "code",
   "execution_count": null,
   "metadata": {},
   "outputs": [],
   "source": [
    "#lap=opencv.Laplacian(img, opencv.CV_64F)\n",
    "\n",
    "sobelx=opencv.Sobel(img, opencv.CV_64F, 1, 0)\n",
    "sobely=opencv.Sobel(img, opencv.CV_64F, 0, 1)\n",
    "sobelxy=opencv.bitwise_or(sobelx, sobely)\n",
    "img_pro=numpy.uint8(numpy.absolute(sobelxy))\n",
    "threshold, thresh=opencv.threshold(img_pro, 10,120, opencv.ADAPTIVE_THRESH_MEAN_C)\n",
    "sobelx=opencv.Sobel(thresh, opencv.CV_64F, 1, 0)\n",
    "sobely=opencv.Sobel(thresh, opencv.CV_64F, 0, 1)\n",
    "sobelxy=opencv.bitwise_or(sobelx, sobely)\n",
    "#canny=opencv.Canny(img, 20, 100)\n",
    "threshold, thresh=opencv.threshold(sobelxy, 0,255,opencv.THRESH_BINARY_INV)\n",
    "\n"
   ]
  },
  {
   "cell_type": "code",
   "execution_count": null,
   "metadata": {},
   "outputs": [],
   "source": []
  },
  {
   "cell_type": "code",
   "execution_count": null,
   "metadata": {},
   "outputs": [],
   "source": [
    "thresh=opencv.resize(sobelxy, (64,64), interpolation=opencv.INTER_AREA)\n",
    "plt.imshow(thresh, cmap=\"gray\")"
   ]
  },
  {
   "cell_type": "code",
   "execution_count": null,
   "metadata": {},
   "outputs": [],
   "source": [
    "img=opencv.imread(\"./Datasets/Convolutional_Neural_Networks/dataset/single_prediction/cat_or_dog_2.jpg\", opencv.IMREAD_GRAYSCALE)\n",
    "img=opencv.resize(img, (80,80), interpolation=opencv.INTER_AREA)\n",
    "img_f=opencv.GaussianBlur(img, (5,5), opencv.BORDER_DEFAULT)\n",
    "canny=opencv.Canny(img_f, 25, 130)"
   ]
  },
  {
   "cell_type": "code",
   "execution_count": null,
   "metadata": {},
   "outputs": [],
   "source": [
    "tag=\"cat\"\n",
    "images=4000\n",
    "for i in range(images):\n",
    "    path_read=\"./Datasets/Convolutional_Neural_Networks/dataset/training_set/\"+tag+\"s/\"+tag+\".{}.jpg\".format(i+1)\n",
    "    img=opencv.imread(path_read)\n",
    "    if type(img)==None:\n",
    "        print(\"End\")\n",
    "    else:\n",
    "        img=opencv.resize(img, (32,32), interpolation=opencv.INTER_AREA)\n",
    "        #img_r=opencv.GaussianBlur(img, (3,3), opencv.BORDER_DEFAULT)\n",
    "        #canny=opencv.Canny(img_r, 25, 130)\n",
    "        #img_pro=numpy.uint8(numpy.absolute(canny))\n",
    "        path_write=\"./CNNtrain/\"+tag+\"s/\"+tag+\".{}.jpg\".format(i+1)\n",
    "        opencv.imwrite(path_write,img)\n",
    "        if (i+1)%500==0:\n",
    "            print(\"imagenes procesadas: {}\".format(i+1))"
   ]
  },
  {
   "cell_type": "code",
   "execution_count": 12,
   "metadata": {},
   "outputs": [
    {
     "name": "stdout",
     "output_type": "stream",
     "text": [
      "imagenes procesadas: 500\n",
      "imagenes procesadas: 1000\n",
      "imagenes procesadas: 1500\n",
      "imagenes procesadas: 2000\n",
      "imagenes procesadas: 2500\n",
      "imagenes procesadas: 3000\n",
      "imagenes procesadas: 3500\n",
      "imagenes procesadas: 4000\n",
      "imagenes procesadas: 4500\n",
      "imagenes procesadas: 5000\n",
      "imagenes procesadas: 5500\n",
      "imagenes procesadas: 6000\n",
      "imagenes procesadas: 6500\n",
      "imagenes procesadas: 7000\n",
      "imagenes procesadas: 7500\n",
      "imagenes procesadas: 8000\n"
     ]
    }
   ],
   "source": [
    "X_train=numpy.zeros((8000,32,32,3), dtype=float)\n",
    "y_train=numpy.zeros((8000,2), dtype=int)\n",
    "images=4000\n",
    "for i in range(images):\n",
    "    path=\"./CNNtrain/cats/cat.{}.jpg\".format(i+1)\n",
    "    img=opencv.imread(path)\n",
    "    #img_r=thresh.reshape(64*64)\n",
    "    #img=numpy.uint8(numpy.absolute(img/255))\n",
    "    #img=img.reshape(32,32,1)\n",
    "    X_train[i]=img/255.\n",
    "    y_train[i]=[0,1]\n",
    "    if (i+1)%500==0:\n",
    "        print(\"imagenes procesadas: {}\".format(i+1))\n",
    "for i in range(images):\n",
    "    path=\"./CNNtrain/dogs/dog.{}.jpg\".format(i+1)\n",
    "    img=opencv.imread(path)\n",
    "    #img_r=thresh.reshape(64*64)\n",
    "    #img=numpy.uint8(numpy.absolute(img/255))\n",
    "    #img=img.reshape(32,32,1)\n",
    "    X_train[i+images]=img/255.\n",
    "    y_train[i+images]=[1,0]\n",
    "    if (i+1)%500==0:\n",
    "        print(\"imagenes procesadas: {}\".format(i+1+images))\n"
   ]
  },
  {
   "cell_type": "code",
   "execution_count": 13,
   "metadata": {},
   "outputs": [
    {
     "data": {
      "text/plain": [
       "(8000, 32, 32, 3)"
      ]
     },
     "execution_count": 13,
     "metadata": {},
     "output_type": "execute_result"
    }
   ],
   "source": [
    "X_train.shape"
   ]
  },
  {
   "cell_type": "code",
   "execution_count": 14,
   "metadata": {},
   "outputs": [],
   "source": [
    "input_shape=(32,32,3)"
   ]
  },
  {
   "cell_type": "code",
   "execution_count": 15,
   "metadata": {},
   "outputs": [],
   "source": [
    "X_train = X_train.reshape(-1, 32, 32,3)"
   ]
  },
  {
   "cell_type": "code",
   "execution_count": 16,
   "metadata": {},
   "outputs": [
    {
     "data": {
      "text/plain": [
       "(8000, 32, 32, 3)"
      ]
     },
     "execution_count": 16,
     "metadata": {},
     "output_type": "execute_result"
    }
   ],
   "source": [
    "X_train.shape"
   ]
  },
  {
   "cell_type": "code",
   "execution_count": 27,
   "metadata": {},
   "outputs": [],
   "source": [
    "droprate=0.1\n",
    "Dropout=tensorflow.keras.layers.Dropout\n",
    "\n",
    "cnn=tensorflow.keras.models.Sequential()\n",
    "cnn.add(tensorflow.keras.layers.Convolution2D(filters=64, kernel_size=3, padding=\"same\", activation=\"relu\", input_shape=input_shape))\n",
    "cnn.add(Dropout(droprate))\n",
    "\n",
    "cnn.add(tensorflow.keras.layers.MaxPooling2D(pool_size=2, strides=2))\n",
    "cnn.add(Dropout(droprate))\n",
    "\n",
    "cnn.add(tensorflow.keras.layers.Convolution2D(filters=32, kernel_size=3, padding=\"same\", activation=\"relu\"))\n",
    "cnn.add(Dropout(droprate))\n",
    "\n",
    "cnn.add(tensorflow.keras.layers.MaxPooling2D(pool_size=2, strides=2))\n",
    "cnn.add(Dropout(droprate))\n",
    "\n",
    "cnn.add(tensorflow.keras.layers.Flatten())\n",
    "cnn.add(Dropout(droprate))\n",
    "\n",
    "cnn.add(tensorflow.keras.layers.Dense(units=128, activation=\"relu\"))\n",
    "cnn.add(Dropout(droprate))\n",
    "\n",
    "cnn.add(tensorflow.keras.layers.Dense(units=64, activation=\"relu\"))\n",
    "cnn.add(Dropout(droprate))\n",
    "\n",
    "#cnn.add(tensorflow.keras.layers.Dense(units=32, activation=\"sigmoid\"))\n",
    "\n",
    "cnn.add(tensorflow.keras.layers.Dense(units=2, activation=\"sigmoid\"))\n",
    "#cnn.add(Dropout(droprate))"
   ]
  },
  {
   "cell_type": "code",
   "execution_count": 28,
   "metadata": {},
   "outputs": [
    {
     "name": "stdout",
     "output_type": "stream",
     "text": [
      "Model: \"sequential_3\"\n",
      "_________________________________________________________________\n",
      "Layer (type)                 Output Shape              Param #   \n",
      "=================================================================\n",
      "conv2d_5 (Conv2D)            (None, 32, 32, 64)        1792      \n",
      "_________________________________________________________________\n",
      "dropout_12 (Dropout)         (None, 32, 32, 64)        0         \n",
      "_________________________________________________________________\n",
      "max_pooling2d_4 (MaxPooling2 (None, 16, 16, 64)        0         \n",
      "_________________________________________________________________\n",
      "dropout_13 (Dropout)         (None, 16, 16, 64)        0         \n",
      "_________________________________________________________________\n",
      "conv2d_6 (Conv2D)            (None, 16, 16, 32)        18464     \n",
      "_________________________________________________________________\n",
      "dropout_14 (Dropout)         (None, 16, 16, 32)        0         \n",
      "_________________________________________________________________\n",
      "max_pooling2d_5 (MaxPooling2 (None, 8, 8, 32)          0         \n",
      "_________________________________________________________________\n",
      "dropout_15 (Dropout)         (None, 8, 8, 32)          0         \n",
      "_________________________________________________________________\n",
      "flatten_2 (Flatten)          (None, 2048)              0         \n",
      "_________________________________________________________________\n",
      "dropout_16 (Dropout)         (None, 2048)              0         \n",
      "_________________________________________________________________\n",
      "dense_4 (Dense)              (None, 128)               262272    \n",
      "_________________________________________________________________\n",
      "dropout_17 (Dropout)         (None, 128)               0         \n",
      "_________________________________________________________________\n",
      "dense_5 (Dense)              (None, 64)                8256      \n",
      "_________________________________________________________________\n",
      "dropout_18 (Dropout)         (None, 64)                0         \n",
      "_________________________________________________________________\n",
      "dense_6 (Dense)              (None, 2)                 130       \n",
      "=================================================================\n",
      "Total params: 290,914\n",
      "Trainable params: 290,914\n",
      "Non-trainable params: 0\n",
      "_________________________________________________________________\n"
     ]
    }
   ],
   "source": [
    "opt = SGD(lr=0.0002, momentum=0.8)\n",
    "cnn.compile(optimizer=\"adam\", loss=\"categorical_crossentropy\", metrics=[\"accuracy\"])\n",
    "cnn.summary()"
   ]
  },
  {
   "cell_type": "code",
   "execution_count": 29,
   "metadata": {},
   "outputs": [
    {
     "name": "stdout",
     "output_type": "stream",
     "text": [
      "Epoch 1/20\n",
      "500/500 [==============================] - 28s 53ms/step - loss: 0.6941 - accuracy: 0.5160 - val_loss: 0.6553 - val_accuracy: 0.6345\n",
      "Epoch 2/20\n",
      "500/500 [==============================] - 26s 52ms/step - loss: 0.6451 - accuracy: 0.6370 - val_loss: 0.5975 - val_accuracy: 0.6880\n",
      "Epoch 3/20\n",
      "500/500 [==============================] - 26s 51ms/step - loss: 0.6039 - accuracy: 0.6724 - val_loss: 0.5711 - val_accuracy: 0.7205\n",
      "Epoch 4/20\n",
      "500/500 [==============================] - 26s 51ms/step - loss: 0.5703 - accuracy: 0.7057 - val_loss: 0.5546 - val_accuracy: 0.7230\n",
      "Epoch 5/20\n",
      "500/500 [==============================] - 26s 52ms/step - loss: 0.5368 - accuracy: 0.7288 - val_loss: 0.5262 - val_accuracy: 0.7350\n",
      "Epoch 6/20\n",
      "500/500 [==============================] - 26s 52ms/step - loss: 0.5172 - accuracy: 0.7415 - val_loss: 0.5303 - val_accuracy: 0.7370\n",
      "Epoch 7/20\n",
      "500/500 [==============================] - 27s 53ms/step - loss: 0.5064 - accuracy: 0.7478 - val_loss: 0.5269 - val_accuracy: 0.7405\n",
      "Epoch 8/20\n",
      "500/500 [==============================] - 26s 52ms/step - loss: 0.4707 - accuracy: 0.7798 - val_loss: 0.5189 - val_accuracy: 0.7505\n",
      "Epoch 9/20\n",
      "500/500 [==============================] - 26s 51ms/step - loss: 0.4480 - accuracy: 0.7838 - val_loss: 0.5146 - val_accuracy: 0.7480\n",
      "Epoch 10/20\n",
      "500/500 [==============================] - 26s 51ms/step - loss: 0.4154 - accuracy: 0.8072 - val_loss: 0.5084 - val_accuracy: 0.7540\n",
      "Epoch 11/20\n",
      "500/500 [==============================] - 26s 51ms/step - loss: 0.3946 - accuracy: 0.8155 - val_loss: 0.5170 - val_accuracy: 0.7520\n",
      "Epoch 12/20\n",
      "500/500 [==============================] - 26s 51ms/step - loss: 0.3704 - accuracy: 0.8327 - val_loss: 0.5269 - val_accuracy: 0.7495\n",
      "Epoch 13/20\n",
      "500/500 [==============================] - 26s 51ms/step - loss: 0.3512 - accuracy: 0.8421 - val_loss: 0.5752 - val_accuracy: 0.7470\n",
      "Epoch 14/20\n",
      "500/500 [==============================] - 25s 50ms/step - loss: 0.3084 - accuracy: 0.8696 - val_loss: 0.5878 - val_accuracy: 0.7480\n",
      "Epoch 15/20\n",
      "500/500 [==============================] - 25s 51ms/step - loss: 0.2788 - accuracy: 0.8758 - val_loss: 0.5797 - val_accuracy: 0.7475\n",
      "Epoch 16/20\n",
      "500/500 [==============================] - 25s 50ms/step - loss: 0.2566 - accuracy: 0.8956 - val_loss: 0.5947 - val_accuracy: 0.7485\n",
      "Epoch 17/20\n",
      "500/500 [==============================] - 25s 50ms/step - loss: 0.2472 - accuracy: 0.9005 - val_loss: 0.6189 - val_accuracy: 0.7360\n",
      "Epoch 18/20\n",
      "150/500 [========>.....................] - ETA: 17s - loss: 0.2153 - accuracy: 0.9173"
     ]
    },
    {
     "ename": "KeyboardInterrupt",
     "evalue": "",
     "output_type": "error",
     "traceback": [
      "\u001b[1;31m---------------------------------------------------------------------------\u001b[0m",
      "\u001b[1;31mKeyboardInterrupt\u001b[0m                         Traceback (most recent call last)",
      "\u001b[1;32m<ipython-input-29-e066e86fd728>\u001b[0m in \u001b[0;36m<module>\u001b[1;34m\u001b[0m\n\u001b[1;32m----> 1\u001b[1;33m \u001b[0mcnn\u001b[0m\u001b[1;33m.\u001b[0m\u001b[0mfit\u001b[0m\u001b[1;33m(\u001b[0m\u001b[0mX_train\u001b[0m\u001b[1;33m,\u001b[0m \u001b[0my_train\u001b[0m\u001b[1;33m,\u001b[0m\u001b[0mvalidation_data\u001b[0m\u001b[1;33m=\u001b[0m\u001b[1;33m(\u001b[0m\u001b[0mX_test\u001b[0m\u001b[1;33m,\u001b[0m \u001b[0my_test\u001b[0m\u001b[1;33m)\u001b[0m\u001b[1;33m,\u001b[0m \u001b[0mbatch_size\u001b[0m\u001b[1;33m=\u001b[0m\u001b[1;36m16\u001b[0m\u001b[1;33m,\u001b[0m \u001b[0mepochs\u001b[0m\u001b[1;33m=\u001b[0m\u001b[1;36m20\u001b[0m\u001b[1;33m,\u001b[0m \u001b[0mverbose\u001b[0m\u001b[1;33m=\u001b[0m\u001b[1;36m1\u001b[0m\u001b[1;33m,\u001b[0m \u001b[0mshuffle\u001b[0m\u001b[1;33m=\u001b[0m\u001b[1;32mTrue\u001b[0m\u001b[1;33m)\u001b[0m\u001b[1;33m\u001b[0m\u001b[1;33m\u001b[0m\u001b[0m\n\u001b[0m",
      "\u001b[1;32m~\\AppData\\Local\\Programs\\Python\\Python37\\lib\\site-packages\\tensorflow\\python\\keras\\engine\\training.py\u001b[0m in \u001b[0;36mfit\u001b[1;34m(self, x, y, batch_size, epochs, verbose, callbacks, validation_split, validation_data, shuffle, class_weight, sample_weight, initial_epoch, steps_per_epoch, validation_steps, validation_batch_size, validation_freq, max_queue_size, workers, use_multiprocessing)\u001b[0m\n\u001b[0;32m   1098\u001b[0m                 _r=1):\n\u001b[0;32m   1099\u001b[0m               \u001b[0mcallbacks\u001b[0m\u001b[1;33m.\u001b[0m\u001b[0mon_train_batch_begin\u001b[0m\u001b[1;33m(\u001b[0m\u001b[0mstep\u001b[0m\u001b[1;33m)\u001b[0m\u001b[1;33m\u001b[0m\u001b[1;33m\u001b[0m\u001b[0m\n\u001b[1;32m-> 1100\u001b[1;33m               \u001b[0mtmp_logs\u001b[0m \u001b[1;33m=\u001b[0m \u001b[0mself\u001b[0m\u001b[1;33m.\u001b[0m\u001b[0mtrain_function\u001b[0m\u001b[1;33m(\u001b[0m\u001b[0miterator\u001b[0m\u001b[1;33m)\u001b[0m\u001b[1;33m\u001b[0m\u001b[1;33m\u001b[0m\u001b[0m\n\u001b[0m\u001b[0;32m   1101\u001b[0m               \u001b[1;32mif\u001b[0m \u001b[0mdata_handler\u001b[0m\u001b[1;33m.\u001b[0m\u001b[0mshould_sync\u001b[0m\u001b[1;33m:\u001b[0m\u001b[1;33m\u001b[0m\u001b[1;33m\u001b[0m\u001b[0m\n\u001b[0;32m   1102\u001b[0m                 \u001b[0mcontext\u001b[0m\u001b[1;33m.\u001b[0m\u001b[0masync_wait\u001b[0m\u001b[1;33m(\u001b[0m\u001b[1;33m)\u001b[0m\u001b[1;33m\u001b[0m\u001b[1;33m\u001b[0m\u001b[0m\n",
      "\u001b[1;32m~\\AppData\\Local\\Programs\\Python\\Python37\\lib\\site-packages\\tensorflow\\python\\eager\\def_function.py\u001b[0m in \u001b[0;36m__call__\u001b[1;34m(self, *args, **kwds)\u001b[0m\n\u001b[0;32m    826\u001b[0m     \u001b[0mtracing_count\u001b[0m \u001b[1;33m=\u001b[0m \u001b[0mself\u001b[0m\u001b[1;33m.\u001b[0m\u001b[0mexperimental_get_tracing_count\u001b[0m\u001b[1;33m(\u001b[0m\u001b[1;33m)\u001b[0m\u001b[1;33m\u001b[0m\u001b[1;33m\u001b[0m\u001b[0m\n\u001b[0;32m    827\u001b[0m     \u001b[1;32mwith\u001b[0m \u001b[0mtrace\u001b[0m\u001b[1;33m.\u001b[0m\u001b[0mTrace\u001b[0m\u001b[1;33m(\u001b[0m\u001b[0mself\u001b[0m\u001b[1;33m.\u001b[0m\u001b[0m_name\u001b[0m\u001b[1;33m)\u001b[0m \u001b[1;32mas\u001b[0m \u001b[0mtm\u001b[0m\u001b[1;33m:\u001b[0m\u001b[1;33m\u001b[0m\u001b[1;33m\u001b[0m\u001b[0m\n\u001b[1;32m--> 828\u001b[1;33m       \u001b[0mresult\u001b[0m \u001b[1;33m=\u001b[0m \u001b[0mself\u001b[0m\u001b[1;33m.\u001b[0m\u001b[0m_call\u001b[0m\u001b[1;33m(\u001b[0m\u001b[1;33m*\u001b[0m\u001b[0margs\u001b[0m\u001b[1;33m,\u001b[0m \u001b[1;33m**\u001b[0m\u001b[0mkwds\u001b[0m\u001b[1;33m)\u001b[0m\u001b[1;33m\u001b[0m\u001b[1;33m\u001b[0m\u001b[0m\n\u001b[0m\u001b[0;32m    829\u001b[0m       \u001b[0mcompiler\u001b[0m \u001b[1;33m=\u001b[0m \u001b[1;34m\"xla\"\u001b[0m \u001b[1;32mif\u001b[0m \u001b[0mself\u001b[0m\u001b[1;33m.\u001b[0m\u001b[0m_experimental_compile\u001b[0m \u001b[1;32melse\u001b[0m \u001b[1;34m\"nonXla\"\u001b[0m\u001b[1;33m\u001b[0m\u001b[1;33m\u001b[0m\u001b[0m\n\u001b[0;32m    830\u001b[0m       \u001b[0mnew_tracing_count\u001b[0m \u001b[1;33m=\u001b[0m \u001b[0mself\u001b[0m\u001b[1;33m.\u001b[0m\u001b[0mexperimental_get_tracing_count\u001b[0m\u001b[1;33m(\u001b[0m\u001b[1;33m)\u001b[0m\u001b[1;33m\u001b[0m\u001b[1;33m\u001b[0m\u001b[0m\n",
      "\u001b[1;32m~\\AppData\\Local\\Programs\\Python\\Python37\\lib\\site-packages\\tensorflow\\python\\eager\\def_function.py\u001b[0m in \u001b[0;36m_call\u001b[1;34m(self, *args, **kwds)\u001b[0m\n\u001b[0;32m    853\u001b[0m       \u001b[1;31m# In this case we have created variables on the first call, so we run the\u001b[0m\u001b[1;33m\u001b[0m\u001b[1;33m\u001b[0m\u001b[1;33m\u001b[0m\u001b[0m\n\u001b[0;32m    854\u001b[0m       \u001b[1;31m# defunned version which is guaranteed to never create variables.\u001b[0m\u001b[1;33m\u001b[0m\u001b[1;33m\u001b[0m\u001b[1;33m\u001b[0m\u001b[0m\n\u001b[1;32m--> 855\u001b[1;33m       \u001b[1;32mreturn\u001b[0m \u001b[0mself\u001b[0m\u001b[1;33m.\u001b[0m\u001b[0m_stateless_fn\u001b[0m\u001b[1;33m(\u001b[0m\u001b[1;33m*\u001b[0m\u001b[0margs\u001b[0m\u001b[1;33m,\u001b[0m \u001b[1;33m**\u001b[0m\u001b[0mkwds\u001b[0m\u001b[1;33m)\u001b[0m  \u001b[1;31m# pylint: disable=not-callable\u001b[0m\u001b[1;33m\u001b[0m\u001b[1;33m\u001b[0m\u001b[0m\n\u001b[0m\u001b[0;32m    856\u001b[0m     \u001b[1;32melif\u001b[0m \u001b[0mself\u001b[0m\u001b[1;33m.\u001b[0m\u001b[0m_stateful_fn\u001b[0m \u001b[1;32mis\u001b[0m \u001b[1;32mnot\u001b[0m \u001b[1;32mNone\u001b[0m\u001b[1;33m:\u001b[0m\u001b[1;33m\u001b[0m\u001b[1;33m\u001b[0m\u001b[0m\n\u001b[0;32m    857\u001b[0m       \u001b[1;31m# Release the lock early so that multiple threads can perform the call\u001b[0m\u001b[1;33m\u001b[0m\u001b[1;33m\u001b[0m\u001b[1;33m\u001b[0m\u001b[0m\n",
      "\u001b[1;32m~\\AppData\\Local\\Programs\\Python\\Python37\\lib\\site-packages\\tensorflow\\python\\eager\\function.py\u001b[0m in \u001b[0;36m__call__\u001b[1;34m(self, *args, **kwargs)\u001b[0m\n\u001b[0;32m   2941\u001b[0m        filtered_flat_args) = self._maybe_define_function(args, kwargs)\n\u001b[0;32m   2942\u001b[0m     return graph_function._call_flat(\n\u001b[1;32m-> 2943\u001b[1;33m         filtered_flat_args, captured_inputs=graph_function.captured_inputs)  # pylint: disable=protected-access\n\u001b[0m\u001b[0;32m   2944\u001b[0m \u001b[1;33m\u001b[0m\u001b[0m\n\u001b[0;32m   2945\u001b[0m   \u001b[1;33m@\u001b[0m\u001b[0mproperty\u001b[0m\u001b[1;33m\u001b[0m\u001b[1;33m\u001b[0m\u001b[0m\n",
      "\u001b[1;32m~\\AppData\\Local\\Programs\\Python\\Python37\\lib\\site-packages\\tensorflow\\python\\eager\\function.py\u001b[0m in \u001b[0;36m_call_flat\u001b[1;34m(self, args, captured_inputs, cancellation_manager)\u001b[0m\n\u001b[0;32m   1917\u001b[0m       \u001b[1;31m# No tape is watching; skip to running the function.\u001b[0m\u001b[1;33m\u001b[0m\u001b[1;33m\u001b[0m\u001b[1;33m\u001b[0m\u001b[0m\n\u001b[0;32m   1918\u001b[0m       return self._build_call_outputs(self._inference_function.call(\n\u001b[1;32m-> 1919\u001b[1;33m           ctx, args, cancellation_manager=cancellation_manager))\n\u001b[0m\u001b[0;32m   1920\u001b[0m     forward_backward = self._select_forward_and_backward_functions(\n\u001b[0;32m   1921\u001b[0m         \u001b[0margs\u001b[0m\u001b[1;33m,\u001b[0m\u001b[1;33m\u001b[0m\u001b[1;33m\u001b[0m\u001b[0m\n",
      "\u001b[1;32m~\\AppData\\Local\\Programs\\Python\\Python37\\lib\\site-packages\\tensorflow\\python\\eager\\function.py\u001b[0m in \u001b[0;36mcall\u001b[1;34m(self, ctx, args, cancellation_manager)\u001b[0m\n\u001b[0;32m    558\u001b[0m               \u001b[0minputs\u001b[0m\u001b[1;33m=\u001b[0m\u001b[0margs\u001b[0m\u001b[1;33m,\u001b[0m\u001b[1;33m\u001b[0m\u001b[1;33m\u001b[0m\u001b[0m\n\u001b[0;32m    559\u001b[0m               \u001b[0mattrs\u001b[0m\u001b[1;33m=\u001b[0m\u001b[0mattrs\u001b[0m\u001b[1;33m,\u001b[0m\u001b[1;33m\u001b[0m\u001b[1;33m\u001b[0m\u001b[0m\n\u001b[1;32m--> 560\u001b[1;33m               ctx=ctx)\n\u001b[0m\u001b[0;32m    561\u001b[0m         \u001b[1;32melse\u001b[0m\u001b[1;33m:\u001b[0m\u001b[1;33m\u001b[0m\u001b[1;33m\u001b[0m\u001b[0m\n\u001b[0;32m    562\u001b[0m           outputs = execute.execute_with_cancellation(\n",
      "\u001b[1;32m~\\AppData\\Local\\Programs\\Python\\Python37\\lib\\site-packages\\tensorflow\\python\\eager\\execute.py\u001b[0m in \u001b[0;36mquick_execute\u001b[1;34m(op_name, num_outputs, inputs, attrs, ctx, name)\u001b[0m\n\u001b[0;32m     58\u001b[0m     \u001b[0mctx\u001b[0m\u001b[1;33m.\u001b[0m\u001b[0mensure_initialized\u001b[0m\u001b[1;33m(\u001b[0m\u001b[1;33m)\u001b[0m\u001b[1;33m\u001b[0m\u001b[1;33m\u001b[0m\u001b[0m\n\u001b[0;32m     59\u001b[0m     tensors = pywrap_tfe.TFE_Py_Execute(ctx._handle, device_name, op_name,\n\u001b[1;32m---> 60\u001b[1;33m                                         inputs, attrs, num_outputs)\n\u001b[0m\u001b[0;32m     61\u001b[0m   \u001b[1;32mexcept\u001b[0m \u001b[0mcore\u001b[0m\u001b[1;33m.\u001b[0m\u001b[0m_NotOkStatusException\u001b[0m \u001b[1;32mas\u001b[0m \u001b[0me\u001b[0m\u001b[1;33m:\u001b[0m\u001b[1;33m\u001b[0m\u001b[1;33m\u001b[0m\u001b[0m\n\u001b[0;32m     62\u001b[0m     \u001b[1;32mif\u001b[0m \u001b[0mname\u001b[0m \u001b[1;32mis\u001b[0m \u001b[1;32mnot\u001b[0m \u001b[1;32mNone\u001b[0m\u001b[1;33m:\u001b[0m\u001b[1;33m\u001b[0m\u001b[1;33m\u001b[0m\u001b[0m\n",
      "\u001b[1;31mKeyboardInterrupt\u001b[0m: "
     ]
    }
   ],
   "source": [
    "cnn.fit(X_train, y_train,validation_data=(X_test, y_test), batch_size=16, epochs=20, verbose=1, shuffle=True)"
   ]
  },
  {
   "cell_type": "code",
   "execution_count": null,
   "metadata": {},
   "outputs": [],
   "source": []
  },
  {
   "cell_type": "code",
   "execution_count": null,
   "metadata": {
    "tags": []
   },
   "outputs": [],
   "source": [
    "cnn.predict(X_train, verbose=1)"
   ]
  },
  {
   "cell_type": "code",
   "execution_count": null,
   "metadata": {
    "tags": []
   },
   "outputs": [],
   "source": [
    "vec=[]\n",
    "for p in pred:\n",
    "    vec.append(1*(pred[0][0]>.33))"
   ]
  },
  {
   "cell_type": "code",
   "execution_count": null,
   "metadata": {},
   "outputs": [],
   "source": [
    "y_train"
   ]
  },
  {
   "cell_type": "code",
   "execution_count": null,
   "metadata": {},
   "outputs": [],
   "source": [
    "i=1\n",
    "img=opencv.imread(\"./Datasets/Convolutional_Neural_Networks/dataset/single_prediction/cat_or_dog_{}.jpg\".format(i))\n",
    "img=opencv.resize(img, (32,32), interpolation=opencv.INTER_AREA)\n",
    "#img_r=opencv.GaussianBlur(img, (3,3), opencv.BORDER_DEFAULT)\n",
    "#canny=opencv.Canny(img_r, 25, 130)\n",
    "path=\"cat_or_dog.{}.jpg\".format(i)\n",
    "opencv.imwrite(path,img)"
   ]
  },
  {
   "cell_type": "code",
   "execution_count": null,
   "metadata": {},
   "outputs": [],
   "source": [
    "X_s_p=numpy.zeros((2,32,32,1), dtype=int)\n",
    "images=2\n",
    "for i in range(images):\n",
    "    path=\"cat_or_dog.{}.jpg\".format(i+1)\n",
    "    img=opencv.imread(path, opencv.IMREAD_GRAYSCALE)\n",
    "    #img=numpy.uint8(numpy.absolute(img))\n",
    "    #img_r=thresh.reshape(64*64)\n",
    "    img=img.reshape(32,32,1)\n",
    "    X_s_p[i]=img\n",
    "    print(\"imagenes procesadas: {}\".format(i+1))"
   ]
  },
  {
   "cell_type": "code",
   "execution_count": null,
   "metadata": {},
   "outputs": [],
   "source": [
    "X_s_p.shape"
   ]
  },
  {
   "cell_type": "code",
   "execution_count": null,
   "metadata": {},
   "outputs": [],
   "source": [
    "X_s_p = X_s_p.reshape(-1, 32, 32, 1)"
   ]
  },
  {
   "cell_type": "code",
   "execution_count": null,
   "metadata": {},
   "outputs": [],
   "source": [
    "pred=cnn.predict(X_s_p/255, verbose=1)"
   ]
  },
  {
   "cell_type": "code",
   "execution_count": null,
   "metadata": {},
   "outputs": [],
   "source": [
    "pred"
   ]
  },
  {
   "cell_type": "code",
   "execution_count": null,
   "metadata": {},
   "outputs": [],
   "source": [
    "#test"
   ]
  },
  {
   "cell_type": "code",
   "execution_count": 7,
   "metadata": {},
   "outputs": [
    {
     "name": "stdout",
     "output_type": "stream",
     "text": [
      "imagenes procesadas: 500\n",
      "imagenes procesadas: 1000\n"
     ]
    }
   ],
   "source": [
    "tag=\"dog\"\n",
    "images=1000\n",
    "for i in range(images):\n",
    "    path_read=\"./Datasets/Convolutional_Neural_Networks/dataset/test_set/\"+tag+\"s/\"+tag+\".{}.jpg\".format(i+1+4000)\n",
    "    img=opencv.imread(path_read)\n",
    "    if type(img)==None:\n",
    "        print(\"End\")\n",
    "    else:\n",
    "        img=opencv.resize(img, (32,32), interpolation=opencv.INTER_AREA)\n",
    "        #img_r=opencv.GaussianBlur(img, (3,3), opencv.BORDER_DEFAULT)\n",
    "        #canny=opencv.Canny(img_r, 25, 130)\n",
    "        #img_pro=numpy.uint8(numpy.absolute(canny))\n",
    "        path_write=\"./CNNtest/\"+tag+\"s/\"+tag+\".{}.jpg\".format(i+1)\n",
    "        opencv.imwrite(path_write,img)\n",
    "        if (i+1)%500==0:\n",
    "            print(\"imagenes procesadas: {}\".format(i+1))"
   ]
  },
  {
   "cell_type": "code",
   "execution_count": 11,
   "metadata": {},
   "outputs": [
    {
     "name": "stdout",
     "output_type": "stream",
     "text": [
      "imagenes procesadas: 500\n",
      "imagenes procesadas: 1000\n",
      "imagenes procesadas: 1500\n",
      "imagenes procesadas: 2000\n"
     ]
    }
   ],
   "source": [
    "X_test=numpy.zeros((2000,32,32,3), dtype=float)\n",
    "y_test=numpy.zeros((2000,2), dtype=int)\n",
    "images=1000\n",
    "for i in range(images):\n",
    "    path=\"./CNNtest/cats/cat.{}.jpg\".format(i+1)\n",
    "    img=opencv.imread(path)\n",
    "    #img_r=thresh.reshape(64*64)\n",
    "    #img=numpy.uint8(numpy.absolute(img/255))\n",
    "    #img=img.reshape(32,32,1)\n",
    "    X_test[i]=img/255.\n",
    "    y_test[i]=[0,1]\n",
    "    if (i+1)%500==0:\n",
    "        print(\"imagenes procesadas: {}\".format(i+1))\n",
    "for i in range(images):\n",
    "    path=\"./CNNtest/dogs/dog.{}.jpg\".format(i+1)\n",
    "    img=opencv.imread(path)\n",
    "    #img_r=thresh.reshape(64*64)\n",
    "    #img=numpy.uint8(numpy.absolute(img/255))\n",
    "    #img=img.reshape(32,32,1)\n",
    "    X_test[i+images]=img/255.\n",
    "    y_test[i+images]=[1,0]\n",
    "    if (i+1)%500==0:\n",
    "        print(\"imagenes procesadas: {}\".format(i+1+images))\n"
   ]
  },
  {
   "cell_type": "code",
   "execution_count": 21,
   "metadata": {},
   "outputs": [
    {
     "name": "stdout",
     "output_type": "stream",
     "text": [
      "63/63 [==============================] - 1s 9ms/step\n"
     ]
    },
    {
     "data": {
      "text/plain": [
       "array([[0.56224024, 0.46205482],\n",
       "       [0.52393687, 0.6892016 ],\n",
       "       [0.2506603 , 0.83746433],\n",
       "       ...,\n",
       "       [0.34720844, 0.6263388 ],\n",
       "       [0.6358118 , 0.20473915],\n",
       "       [0.43773472, 0.37565863]], dtype=float32)"
      ]
     },
     "execution_count": 21,
     "metadata": {},
     "output_type": "execute_result"
    }
   ],
   "source": [
    "cnn.predict(X_test, verbose=1)"
   ]
  },
  {
   "cell_type": "code",
   "execution_count": null,
   "metadata": {},
   "outputs": [],
   "source": []
  }
 ],
 "metadata": {
  "kernelspec": {
   "display_name": "Python 3.7.8 64-bit",
   "name": "python378jvsc74a57bd09e80d76ea6f7910366ea144e4925c6ce12227515ad9ee1266cb0780bd8ad6c40"
  },
  "language_info": {
   "codemirror_mode": {
    "name": "ipython",
    "version": 3
   },
   "file_extension": ".py",
   "mimetype": "text/x-python",
   "name": "python",
   "nbconvert_exporter": "python",
   "pygments_lexer": "ipython3",
   "version": "3.7.8-candidate1"
  },
  "metadata": {
   "interpreter": {
    "hash": "9e80d76ea6f7910366ea144e4925c6ce12227515ad9ee1266cb0780bd8ad6c40"
   }
  },
  "orig_nbformat": 2
 },
 "nbformat": 4,
 "nbformat_minor": 2
}

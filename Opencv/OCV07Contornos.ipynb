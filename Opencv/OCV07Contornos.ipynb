{
 "cells": [
  {
   "cell_type": "code",
   "execution_count": 199,
   "metadata": {},
   "outputs": [],
   "source": [
    "import cv2 as cv\n",
    "import numpy as np"
   ]
  },
  {
   "cell_type": "code",
   "execution_count": 200,
   "metadata": {},
   "outputs": [],
   "source": [
    "def erase_color(img, Bp, Gp, Rp, d):\n",
    "    for row in img:\n",
    "        for col in row:\n",
    "            B = col[0]\n",
    "            G = col[1]\n",
    "            R = col[2]\n",
    "            dist = np.sqrt((Bp-B)**2+(Gp-G)**2+(Rp-R)**2)\n",
    "            if dist < d:\n",
    "                col[0] = 0\n",
    "                col[1] = 0\n",
    "                col[2] = 0"
   ]
  },
  {
   "cell_type": "code",
   "execution_count": 201,
   "metadata": {},
   "outputs": [],
   "source": [
    "t = 1000\n",
    "img = cv.imread(\"LEGO_ROSTROS\\P1.jpg\")\n",
    "cv.imshow(\"window\", img)\n",
    "cv.waitKey(t)\n",
    "\n",
    "blur = cv.blur(img, (7, 7), cv.BORDER_DEFAULT)\n",
    "cv.imshow(\"window\", blur)\n",
    "cv.waitKey(t)\n",
    "\n",
    "erase_color(img=blur, Bp=50, Gp=121, Rp=154, d=50) #erase yellow\n",
    "\n",
    "cv.imshow(\"window\",blur)\n",
    "cv.waitKey(t)\n",
    "\n",
    "gray = cv.cvtColor(blur, cv.COLOR_RGB2GRAY)\n",
    "cv.imshow(\"window\", gray)\n",
    "cv.waitKey(t)\n",
    "\n",
    "dilate = cv.dilate(gray, (7, 7), iterations=1)\n",
    "cv.imshow(\"window\", dilate)\n",
    "cv.waitKey(t)\n",
    "\n",
    "#gray_blur = cv.blur(dilate, (5, 5), cv.BORDER_DEFAULT)\n",
    "#cv.imshow(\"window\", gray_blur)\n",
    "#cv.waitKey(t)\n",
    "\n",
    "ret, thresh = cv.threshold(dilate, 90, 255,type=cv.ADAPTIVE_THRESH_MEAN_C)\n",
    "cv.imshow(\"window\", thresh)\n",
    "cv.waitKey(t)\n",
    "\n",
    "canny = cv.Canny(thresh, 20, 50)\n",
    "cv.imshow(\"window\", canny)\n",
    "cv.waitKey(t)\n",
    "cv.destroyAllWindows()"
   ]
  },
  {
   "cell_type": "code",
   "execution_count": 202,
   "metadata": {},
   "outputs": [
    {
     "name": "stdout",
     "output_type": "stream",
     "text": [
      "14\n"
     ]
    }
   ],
   "source": [
    "contours, hierarchies = cv.findContours(canny, cv.RETR_LIST, cv.CHAIN_APPROX_NONE)\n",
    "print(f'{len(contours)}')"
   ]
  },
  {
   "cell_type": "code",
   "execution_count": 203,
   "metadata": {},
   "outputs": [],
   "source": [
    "contour_lengths_max = 0\n",
    "pos_max = 0\n",
    "for i, contour in enumerate(contours):\n",
    "    contour_lenght = len(contour)\n",
    "    if contour_lenght > contour_lengths_max:\n",
    "        pos_max = i\n",
    "    "
   ]
  },
  {
   "cell_type": "code",
   "execution_count": 204,
   "metadata": {},
   "outputs": [],
   "source": [
    "contour_max = contours[pos_max]"
   ]
  },
  {
   "cell_type": "code",
   "execution_count": 205,
   "metadata": {},
   "outputs": [],
   "source": [
    "black = np.zeros(img.shape[:2], dtype=\"uint8\")"
   ]
  },
  {
   "cell_type": "code",
   "execution_count": 206,
   "metadata": {},
   "outputs": [],
   "source": [
    "cv.drawContours(black, contour_max, -1, (255, 255, 255), thickness=1)\n",
    "cv.imshow(\"window\", black)\n",
    "cv.waitKey(1000)\n",
    "cv.destroyAllWindows()"
   ]
  },
  {
   "cell_type": "code",
   "execution_count": null,
   "metadata": {},
   "outputs": [],
   "source": []
  }
 ],
 "metadata": {
  "interpreter": {
   "hash": "9e80d76ea6f7910366ea144e4925c6ce12227515ad9ee1266cb0780bd8ad6c40"
  },
  "kernelspec": {
   "display_name": "Python 3.7.8rc1 64-bit",
   "language": "python",
   "name": "python3"
  },
  "language_info": {
   "codemirror_mode": {
    "name": "ipython",
    "version": 3
   },
   "file_extension": ".py",
   "mimetype": "text/x-python",
   "name": "python",
   "nbconvert_exporter": "python",
   "pygments_lexer": "ipython3",
   "version": "3.7.8rc1"
  },
  "orig_nbformat": 4
 },
 "nbformat": 4,
 "nbformat_minor": 2
}

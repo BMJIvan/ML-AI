{
 "cells": [
  {
   "cell_type": "code",
   "execution_count": 1,
   "metadata": {},
   "outputs": [],
   "source": [
    "import cv2 as cv\n",
    "import numpy as np"
   ]
  },
  {
   "cell_type": "code",
   "execution_count": 18,
   "metadata": {},
   "outputs": [],
   "source": [
    "t = 1000\n",
    "img = cv.imread(\"LEGO_ROSTROS\\P1.jpg\")\n",
    "cv.imshow( \"window\", img)\n",
    "cv.waitKey(t)\n",
    "\n",
    "black = np.zeros(img.shape[:2], dtype=\"uint8\")\n",
    "\n",
    "b, g, r = cv.split(img)\n",
    "red = cv.merge([black, black, r])\n",
    "cv.imshow(\"window\", red)\n",
    "cv.waitKey(t)\n",
    "\n",
    "green = cv.merge([black, g, black])\n",
    "cv.imshow(\"window\", green)\n",
    "cv.waitKey(t)\n",
    "\n",
    "blue = cv.merge([b, black, black])\n",
    "cv.imshow(\"window\", blue)\n",
    "cv.waitKey(t)\n",
    "\n",
    "merged = cv.merge([b, g, r])\n",
    "cv.imshow(\"window\", merged)\n",
    "cv.waitKey(1000)\n",
    "\n",
    "cv.destroyAllWindows()"
   ]
  }
 ],
 "metadata": {
  "interpreter": {
   "hash": "9e80d76ea6f7910366ea144e4925c6ce12227515ad9ee1266cb0780bd8ad6c40"
  },
  "kernelspec": {
   "display_name": "Python 3.7.8rc1 64-bit",
   "language": "python",
   "name": "python3"
  },
  "language_info": {
   "codemirror_mode": {
    "name": "ipython",
    "version": 3
   },
   "file_extension": ".py",
   "mimetype": "text/x-python",
   "name": "python",
   "nbconvert_exporter": "python",
   "pygments_lexer": "ipython3",
   "version": "3.7.8rc1"
  },
  "orig_nbformat": 4
 },
 "nbformat": 4,
 "nbformat_minor": 2
}

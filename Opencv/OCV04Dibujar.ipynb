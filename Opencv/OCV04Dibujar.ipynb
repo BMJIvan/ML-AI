{
 "cells": [
  {
   "cell_type": "code",
   "execution_count": 2,
   "metadata": {},
   "outputs": [],
   "source": [
    "import cv2 as cv\n",
    "import numpy  as np"
   ]
  },
  {
   "cell_type": "code",
   "execution_count": 3,
   "metadata": {},
   "outputs": [],
   "source": [
    "black = np.zeros((500, 500, 3), dtype='uint8')\n",
    "cv.imshow(\"window\", black)\n",
    "cv.waitKey(1000)\n",
    "\n",
    "red = black\n",
    "red[50:450, 50:450] = (0, 0, 255)\n",
    "cv.imshow(\"window\", red)\n",
    "cv.waitKey(1000)\n",
    "\n",
    "green = red\n",
    "green[100:400, 100:400] = (0, 255, 0)\n",
    "cv.imshow(\"window\", green)\n",
    "cv.waitKey(1000)\n",
    "\n",
    "blue = green\n",
    "blue[150:350, 150:350] = (255, 0, 0)\n",
    "cv.imshow(\"window\", blue)\n",
    "cv.waitKey(1000)\n",
    "\n",
    "cv.destroyAllWindows()"
   ]
  },
  {
   "cell_type": "code",
   "execution_count": 14,
   "metadata": {},
   "outputs": [],
   "source": [
    "img = cv.imread(\"LEGO_ROSTROS\\P1.jpg\")\n",
    "cv.rectangle(img, (100, 100), (200, 200),(0, 0, 255), thickness=2) #thickness = cv.FILLER \n",
    "cv.circle(img, (150, 150), 50, color=(0, 255, 0), thickness=cv.FILLED)\n",
    "cv.line(img, (100, 100), (200, 200), color=(255, 0, 0), thickness=2)\n",
    "cv.putText(img, \"HELLO\",(100, 100), fontFace=cv.FONT_HERSHEY_PLAIN, fontScale=1.5, color=(0, 0, 255), thickness=2)\n",
    "cv.imshow(\"draw_rectangle\", img)\n",
    "cv.waitKey(1000)\n",
    "cv.destroyAllWindows()"
   ]
  },
  {
   "cell_type": "code",
   "execution_count": null,
   "metadata": {},
   "outputs": [],
   "source": []
  }
 ],
 "metadata": {
  "interpreter": {
   "hash": "9e80d76ea6f7910366ea144e4925c6ce12227515ad9ee1266cb0780bd8ad6c40"
  },
  "kernelspec": {
   "display_name": "Python 3.7.8rc1 64-bit",
   "language": "python",
   "name": "python3"
  },
  "language_info": {
   "codemirror_mode": {
    "name": "ipython",
    "version": 3
   },
   "file_extension": ".py",
   "mimetype": "text/x-python",
   "name": "python",
   "nbconvert_exporter": "python",
   "pygments_lexer": "ipython3",
   "version": "3.7.8rc1"
  },
  "orig_nbformat": 4
 },
 "nbformat": 4,
 "nbformat_minor": 2
}

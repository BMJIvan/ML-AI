{
 "cells": [
  {
   "cell_type": "code",
   "execution_count": 11,
   "metadata": {},
   "outputs": [],
   "source": [
    "import cv2 as cv"
   ]
  },
  {
   "cell_type": "code",
   "execution_count": 22,
   "metadata": {},
   "outputs": [],
   "source": [
    "t = 1000\n",
    "img = cv.imread(\"LEGO_ROSTROS\\P1.jpg\")\n",
    "cv.imshow(\"window\", img)\n",
    "cv.waitKey(t)\n",
    "\n",
    "gray = cv.cvtColor(img, cv.COLOR_RGB2GRAY)\n",
    "cv.imshow(\"window\" ,gray)\n",
    "cv.waitKey(t)\n",
    "\n",
    "threshold, thresh = cv.threshold(gray, 100, 255, cv.THRESH_BINARY)\n",
    "cv.imshow(\"window\", thresh)\n",
    "cv.waitKey(t)\n",
    "\n",
    "threshold, thresh = cv.threshold(gray, 100, 255, cv.THRESH_BINARY_INV)\n",
    "cv.imshow(\"window\", thresh)\n",
    "cv.waitKey(t)\n",
    "\n",
    "adaptiveThreshold = cv.adaptiveThreshold(gray, 255, cv.ADAPTIVE_THRESH_MEAN_C, cv.THRESH_BINARY, 15, 4)\n",
    "cv.imshow(\"window\", adaptiveThreshold)\n",
    "cv.waitKey(2*t)\n",
    "\n",
    "cv.destroyAllWindows()"
   ]
  },
  {
   "cell_type": "code",
   "execution_count": 13,
   "metadata": {},
   "outputs": [
    {
     "data": {
      "text/plain": [
       "100.0"
      ]
     },
     "execution_count": 13,
     "metadata": {},
     "output_type": "execute_result"
    }
   ],
   "source": [
    "threshold"
   ]
  },
  {
   "cell_type": "code",
   "execution_count": null,
   "metadata": {},
   "outputs": [],
   "source": []
  }
 ],
 "metadata": {
  "interpreter": {
   "hash": "9e80d76ea6f7910366ea144e4925c6ce12227515ad9ee1266cb0780bd8ad6c40"
  },
  "kernelspec": {
   "display_name": "Python 3.7.8rc1 64-bit",
   "language": "python",
   "name": "python3"
  },
  "language_info": {
   "codemirror_mode": {
    "name": "ipython",
    "version": 3
   },
   "file_extension": ".py",
   "mimetype": "text/x-python",
   "name": "python",
   "nbconvert_exporter": "python",
   "pygments_lexer": "ipython3",
   "version": "3.7.8rc1"
  },
  "orig_nbformat": 4
 },
 "nbformat": 4,
 "nbformat_minor": 2
}

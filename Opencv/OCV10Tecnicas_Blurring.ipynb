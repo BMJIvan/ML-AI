{
 "cells": [
  {
   "cell_type": "code",
   "execution_count": 1,
   "metadata": {},
   "outputs": [],
   "source": [
    "import cv2 as cv\n",
    "import numpy as np"
   ]
  },
  {
   "cell_type": "code",
   "execution_count": 20,
   "metadata": {},
   "outputs": [],
   "source": [
    "t = 1000\n",
    "img = cv.imread(\"LEGO_ROSTROS\\P1.jpg\")\n",
    "cv.imshow(\"window\", img)\n",
    "cv.waitKey(t)\n",
    "\n",
    "average = cv.blur(img, (7, 7))\n",
    "cv.imshow(\"window\", average)\n",
    "cv.waitKey(t)\n",
    "\n",
    "gauss = cv.GaussianBlur(img, (11, 11), 20)\n",
    "cv.imshow(\"window\", gauss)\n",
    "cv.waitKey(t)\n",
    "\n",
    "median = cv.medianBlur(img, 9)\n",
    "cv.imshow(\"window\", median)\n",
    "cv.waitKey(t)\n",
    "\n",
    "bilateral = cv.bilateralFilter(img, 15, 50, 35)\n",
    "cv.imshow(\"window\", bilateral)\n",
    "cv.waitKey(t)\n",
    "\n",
    "cv.destroyAllWindows()"
   ]
  },
  {
   "cell_type": "code",
   "execution_count": null,
   "metadata": {},
   "outputs": [],
   "source": []
  }
 ],
 "metadata": {
  "interpreter": {
   "hash": "9e80d76ea6f7910366ea144e4925c6ce12227515ad9ee1266cb0780bd8ad6c40"
  },
  "kernelspec": {
   "display_name": "Python 3.7.8rc1 64-bit",
   "language": "python",
   "name": "python3"
  },
  "language_info": {
   "codemirror_mode": {
    "name": "ipython",
    "version": 3
   },
   "file_extension": ".py",
   "mimetype": "text/x-python",
   "name": "python",
   "nbconvert_exporter": "python",
   "pygments_lexer": "ipython3",
   "version": "3.7.8rc1"
  },
  "orig_nbformat": 4
 },
 "nbformat": 4,
 "nbformat_minor": 2
}

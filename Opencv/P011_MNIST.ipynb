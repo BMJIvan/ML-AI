{
 "cells": [
  {
   "cell_type": "code",
   "execution_count": 1,
   "metadata": {},
   "outputs": [],
   "source": [
    "import tensorflow as tf \n",
    "import numpy as np\n",
    "import cv2 as cv\n",
    "import matplotlib.pyplot as plt\n",
    "import scipy.fft as sc"
   ]
  },
  {
   "cell_type": "code",
   "execution_count": 2,
   "metadata": {},
   "outputs": [],
   "source": [
    "mnist = tf.keras.datasets.mnist\n",
    "(x_train, y_train), (x_test, y_test) = mnist.load_data()"
   ]
  },
  {
   "cell_type": "code",
   "execution_count": 3,
   "metadata": {},
   "outputs": [],
   "source": [
    "def rescaleframe(frame, scale = 0.75):\n",
    "    width = int(frame.shape[1] * scale)\n",
    "    height = int(frame.shape[0] * scale)\n",
    "    dimensions = (width, height)\n",
    "    return cv.resize(frame, dimensions, interpolation=cv.INTER_AREA)"
   ]
  },
  {
   "cell_type": "code",
   "execution_count": 4,
   "metadata": {},
   "outputs": [],
   "source": [
    "def centroide(image):\n",
    "    length = image.shape[0]\n",
    "    vec = np.linspace(0, length-1, length)\n",
    "    col_signal = np.sum(image, axis=0)/255 #columna\n",
    "    row_signal = np.sum(image, axis=1)/255 #fila\n",
    "    Cx = np.dot(vec, col_signal) / sum(col_signal)\n",
    "    Cy = np.dot(vec, row_signal) / sum(row_signal)\n",
    "    return Cx, Cy"
   ]
  },
  {
   "cell_type": "code",
   "execution_count": 5,
   "metadata": {},
   "outputs": [],
   "source": [
    "def sign(img):\n",
    "    img = rescaleframe(img, scale=1.5)\n",
    "    img_blur = cv.blur(img, ksize=(3, 3))\n",
    "    img_can = cv.Canny(img_blur, 40, 100)\n",
    "    contours, lista = cv.findContours(img_can, mode=cv.RETR_EXTERNAL, method=cv.CHAIN_APPROX_NONE)\n",
    "    \n",
    "    dist = []\n",
    "    for con in contours:\n",
    "        dist.append(np.sum(con))\n",
    "    max_pos = np.argmax(dist)\n",
    "    main_signal = contours[max_pos].squeeze()\n",
    "    \n",
    "    Cx, Cy = centroide(img)\n",
    "    x, y = np.array_split(main_signal, 2, axis=1)\n",
    "    mag_x = np.power(Cx-x, 2)\n",
    "    mag_y = np.power(Cy-y, 2)\n",
    "    mag = np.power(mag_x + mag_y, 0.5)\n",
    "    return mag"
   ]
  },
  {
   "cell_type": "code",
   "execution_count": 28,
   "metadata": {},
   "outputs": [],
   "source": [
    "X = []\n",
    "Y = []\n",
    "contador = {}\n",
    "num_images_per_num = 1000\n",
    "for i in range(0, 10):\n",
    "    idx = str(i)\n",
    "    contador[idx] = 0\n",
    "\n",
    "for i, x in enumerate(x_train):\n",
    "    y = y_train[i]\n",
    "    idx = str(y)\n",
    "    if contador[idx] < 1000:\n",
    "        X.append(x)\n",
    "        Y.append(y)\n",
    "        contador[idx] = contador[idx] + 1\n",
    "    else:\n",
    "        continue"
   ]
  },
  {
   "cell_type": "code",
   "execution_count": 29,
   "metadata": {},
   "outputs": [],
   "source": [
    "def one_hot_encoder(idx):\n",
    "    vec = []\n",
    "    for i in range(0, 10):\n",
    "        if i == idx:\n",
    "            vec.append(1)\n",
    "        else:\n",
    "            vec.append(0)\n",
    "    return vec\n"
   ]
  },
  {
   "cell_type": "code",
   "execution_count": 30,
   "metadata": {},
   "outputs": [],
   "source": [
    "target = [one_hot_encoder(Y_value) for Y_value in Y]"
   ]
  },
  {
   "cell_type": "code",
   "execution_count": 31,
   "metadata": {},
   "outputs": [],
   "source": [
    "data = np.array(X)\n",
    "target = np.array(target)"
   ]
  },
  {
   "cell_type": "code",
   "execution_count": 226,
   "metadata": {},
   "outputs": [],
   "source": [
    "data = np.reshape(data, (-1, 784))"
   ]
  },
  {
   "cell_type": "code",
   "execution_count": 233,
   "metadata": {},
   "outputs": [],
   "source": [
    "ann = tf.keras.models.Sequential()\n",
    "ann.add(tf.keras.layers.Dense(units=128, activation=\"relu\"))\n",
    "ann.add(tf.keras.layers.Dense(units=64, activation=\"relu\"))\n",
    "ann.add(tf.keras.layers.Dense(units=32, activation=\"relu\"))\n",
    "ann.add(tf.keras.layers.Dense(units=10, activation=\"sigmoid\"))\n",
    "ann.compile(optimizer=\"adam\", loss=\"binary_crossentropy\", metrics=\"accuracy\")"
   ]
  },
  {
   "cell_type": "code",
   "execution_count": 234,
   "metadata": {},
   "outputs": [
    {
     "name": "stdout",
     "output_type": "stream",
     "text": [
      "Epoch 1/5\n",
      "2500/2500 [==============================] - 4s 1ms/step - loss: 0.8536 - accuracy: 0.6590\n",
      "Epoch 2/5\n",
      "2500/2500 [==============================] - 3s 1ms/step - loss: 0.0753 - accuracy: 0.8993\n",
      "Epoch 3/5\n",
      "2500/2500 [==============================] - 3s 1ms/step - loss: 0.0511 - accuracy: 0.9255\n",
      "Epoch 4/5\n",
      "2500/2500 [==============================] - 3s 1ms/step - loss: 0.0400 - accuracy: 0.9456\n",
      "Epoch 5/5\n",
      "2500/2500 [==============================] - 3s 1ms/step - loss: 0.0352 - accuracy: 0.9488\n"
     ]
    },
    {
     "data": {
      "text/plain": [
       "<tensorflow.python.keras.callbacks.History at 0x1c74a868f48>"
      ]
     },
     "execution_count": 234,
     "metadata": {},
     "output_type": "execute_result"
    }
   ],
   "source": [
    "ann.fit(data, target, batch_size=4, epochs=5, verbose=1)"
   ]
  },
  {
   "cell_type": "code",
   "execution_count": 92,
   "metadata": {},
   "outputs": [],
   "source": [
    "data_sign = []\n",
    "X = np.array(X)\n",
    "for image in X:\n",
    "    image_sign = sign(image)\n",
    "\n",
    "    image_sign_resize = []\n",
    "    T = len(image_sign)\n",
    "\n",
    "    for i in range(0, 40):\n",
    "        step = round(i*T/40)\n",
    "        image_sign_resize.append(image_sign[step])\n",
    "    data_sign.append(image_sign_resize)"
   ]
  },
  {
   "cell_type": "code",
   "execution_count": 93,
   "metadata": {},
   "outputs": [
    {
     "data": {
      "text/plain": [
       "(10000, 40, 1)"
      ]
     },
     "execution_count": 93,
     "metadata": {},
     "output_type": "execute_result"
    }
   ],
   "source": [
    "data_sign = np.array(data_sign)\n",
    "data_sign.shape"
   ]
  },
  {
   "cell_type": "code",
   "execution_count": 95,
   "metadata": {},
   "outputs": [],
   "source": [
    "data_sign = np.reshape(data_sign ,(-1, 40))"
   ]
  },
  {
   "cell_type": "code",
   "execution_count": 100,
   "metadata": {},
   "outputs": [],
   "source": [
    "ann = tf.keras.models.Sequential()\n",
    "ann.add(tf.keras.layers.Dense(units=32, activation=\"relu\"))\n",
    "ann.add(tf.keras.layers.Dense(units=16, activation=\"relu\"))\n",
    "ann.add(tf.keras.layers.Dense(units=10, activation=\"sigmoid\"))\n",
    "ann.compile(optimizer=\"adam\", loss=\"binary_crossentropy\", metrics=\"accuracy\")"
   ]
  },
  {
   "cell_type": "code",
   "execution_count": 102,
   "metadata": {},
   "outputs": [
    {
     "name": "stdout",
     "output_type": "stream",
     "text": [
      "Epoch 1/5\n",
      "5000/5000 [==============================] - 7s 1ms/step - loss: 0.1634 - accuracy: 0.6785\n",
      "Epoch 2/5\n",
      "5000/5000 [==============================] - 7s 1ms/step - loss: 0.1574 - accuracy: 0.6920\n",
      "Epoch 3/5\n",
      "5000/5000 [==============================] - 7s 1ms/step - loss: 0.1536 - accuracy: 0.6962\n",
      "Epoch 4/5\n",
      "5000/5000 [==============================] - 7s 1ms/step - loss: 0.1491 - accuracy: 0.7117\n",
      "Epoch 5/5\n",
      "5000/5000 [==============================] - 7s 1ms/step - loss: 0.1463 - accuracy: 0.7131\n"
     ]
    },
    {
     "data": {
      "text/plain": [
       "<tensorflow.python.keras.callbacks.History at 0x1c74b4efd08>"
      ]
     },
     "execution_count": 102,
     "metadata": {},
     "output_type": "execute_result"
    }
   ],
   "source": [
    "ann.fit(data_sign, target, batch_size=4, epochs=5, verbose=1)"
   ]
  },
  {
   "cell_type": "code",
   "execution_count": 105,
   "metadata": {},
   "outputs": [],
   "source": [
    "a = np.zeros((10, 5))"
   ]
  },
  {
   "cell_type": "code",
   "execution_count": 112,
   "metadata": {},
   "outputs": [],
   "source": [
    "b = np.ones((10, 3))"
   ]
  },
  {
   "cell_type": "code",
   "execution_count": 113,
   "metadata": {},
   "outputs": [
    {
     "data": {
      "text/plain": [
       "array([[0., 0., 0., 0., 0., 1., 1., 1.],\n",
       "       [0., 0., 0., 0., 0., 1., 1., 1.],\n",
       "       [0., 0., 0., 0., 0., 1., 1., 1.],\n",
       "       [0., 0., 0., 0., 0., 1., 1., 1.],\n",
       "       [0., 0., 0., 0., 0., 1., 1., 1.],\n",
       "       [0., 0., 0., 0., 0., 1., 1., 1.],\n",
       "       [0., 0., 0., 0., 0., 1., 1., 1.],\n",
       "       [0., 0., 0., 0., 0., 1., 1., 1.],\n",
       "       [0., 0., 0., 0., 0., 1., 1., 1.],\n",
       "       [0., 0., 0., 0., 0., 1., 1., 1.]])"
      ]
     },
     "execution_count": 113,
     "metadata": {},
     "output_type": "execute_result"
    }
   ],
   "source": [
    "np.concatenate((a, b), axis=1)"
   ]
  },
  {
   "cell_type": "code",
   "execution_count": 229,
   "metadata": {},
   "outputs": [],
   "source": [
    "data_data_sign = np.concatenate((data, data_sign), axis=1)"
   ]
  },
  {
   "cell_type": "code",
   "execution_count": 230,
   "metadata": {},
   "outputs": [],
   "source": [
    "ann = tf.keras.models.Sequential()\n",
    "ann.add(tf.keras.layers.Dense(units=128, activation=\"relu\"))\n",
    "ann.add(tf.keras.layers.Dense(units=64, activation=\"relu\"))\n",
    "ann.add(tf.keras.layers.Dense(units=32, activation=\"relu\"))\n",
    "ann.add(tf.keras.layers.Dense(units=10, activation=\"sigmoid\"))\n",
    "ann.compile(optimizer=\"adam\", loss=\"binary_crossentropy\", metrics=\"accuracy\")"
   ]
  },
  {
   "cell_type": "code",
   "execution_count": 232,
   "metadata": {},
   "outputs": [
    {
     "name": "stdout",
     "output_type": "stream",
     "text": [
      "Epoch 1/5\n",
      "5000/5000 [==============================] - 9s 2ms/step - loss: 0.0502 - accuracy: 0.9329\n",
      "Epoch 2/5\n",
      "5000/5000 [==============================] - 9s 2ms/step - loss: 0.0413 - accuracy: 0.9430\n",
      "Epoch 3/5\n",
      "5000/5000 [==============================] - 9s 2ms/step - loss: 0.0384 - accuracy: 0.9507\n",
      "Epoch 4/5\n",
      "5000/5000 [==============================] - 9s 2ms/step - loss: 0.0328 - accuracy: 0.9557\n",
      "Epoch 5/5\n",
      "5000/5000 [==============================] - 9s 2ms/step - loss: 0.0331 - accuracy: 0.9550\n"
     ]
    },
    {
     "data": {
      "text/plain": [
       "<tensorflow.python.keras.callbacks.History at 0x1c74a761908>"
      ]
     },
     "execution_count": 232,
     "metadata": {},
     "output_type": "execute_result"
    }
   ],
   "source": [
    "ann.fit(data_data_sign, target, batch_size=2, epochs=5, verbose=1)"
   ]
  },
  {
   "cell_type": "code",
   "execution_count": null,
   "metadata": {},
   "outputs": [],
   "source": []
  },
  {
   "cell_type": "code",
   "execution_count": 209,
   "metadata": {},
   "outputs": [],
   "source": [
    "Hu = []\n",
    "for image in X:\n",
    "    moms = cv.moments(image)\n",
    "    Hu_moms = cv.HuMoments(moms)\n",
    "    Hu_moms = Hu_moms.squeeze()\n",
    "    Hu.append(Hu_moms)\n",
    "Hu = np.array(Hu)\n",
    "\n",
    "#norm\n",
    "min_v = np.min(Hu, axis=0)\n",
    "max_v = np.max(Hu, axis=0)\n",
    "Hu = (Hu - min_v)/(max_v-min_v)"
   ]
  },
  {
   "cell_type": "code",
   "execution_count": 212,
   "metadata": {},
   "outputs": [],
   "source": [
    "data_sign_Hu = np.concatenate((data_sign, Hu), axis=1)"
   ]
  },
  {
   "cell_type": "code",
   "execution_count": 217,
   "metadata": {},
   "outputs": [],
   "source": [
    "ann = tf.keras.models.Sequential()\n",
    "ann.add(tf.keras.layers.Dense(units=40, activation=\"relu\"))\n",
    "ann.add(tf.keras.layers.Dense(units=20, activation=\"relu\"))\n",
    "ann.add(tf.keras.layers.Dense(units=10, activation=\"sigmoid\"))\n",
    "ann.compile(optimizer=\"adam\", loss=\"binary_crossentropy\", metrics=\"accuracy\")"
   ]
  },
  {
   "cell_type": "code",
   "execution_count": 218,
   "metadata": {},
   "outputs": [
    {
     "name": "stdout",
     "output_type": "stream",
     "text": [
      "Epoch 1/5\n",
      "2500/2500 [==============================] - 3s 964us/step - loss: 0.3900 - accuracy: 0.3813\n",
      "Epoch 2/5\n",
      "2500/2500 [==============================] - 2s 915us/step - loss: 0.1989 - accuracy: 0.6019\n",
      "Epoch 3/5\n",
      "2500/2500 [==============================] - 2s 926us/step - loss: 0.1794 - accuracy: 0.6531\n",
      "Epoch 4/5\n",
      "2500/2500 [==============================] - 2s 918us/step - loss: 0.1638 - accuracy: 0.6861\n",
      "Epoch 5/5\n",
      "2500/2500 [==============================] - 2s 916us/step - loss: 0.1543 - accuracy: 0.7114\n"
     ]
    },
    {
     "data": {
      "text/plain": [
       "<tensorflow.python.keras.callbacks.History at 0x1c74e77dc88>"
      ]
     },
     "execution_count": 218,
     "metadata": {},
     "output_type": "execute_result"
    }
   ],
   "source": [
    "ann.fit(data_sign_Hu, target, batch_size=4, epochs=5, verbose=1)"
   ]
  },
  {
   "cell_type": "code",
   "execution_count": 211,
   "metadata": {},
   "outputs": [
    {
     "data": {
      "text/plain": [
       "(10000, 47)"
      ]
     },
     "execution_count": 211,
     "metadata": {},
     "output_type": "execute_result"
    }
   ],
   "source": [
    "data_sign_Hu.shape"
   ]
  },
  {
   "cell_type": "code",
   "execution_count": 219,
   "metadata": {},
   "outputs": [],
   "source": [
    "data_data_sign_Hu = np.concatenate((data, data_sign_Hu), axis=1)"
   ]
  },
  {
   "cell_type": "code",
   "execution_count": 223,
   "metadata": {},
   "outputs": [],
   "source": [
    "ann = tf.keras.models.Sequential()\n",
    "ann.add(tf.keras.layers.Dense(units=128, activation=\"relu\"))\n",
    "ann.add(tf.keras.layers.Dense(units=64, activation=\"relu\"))\n",
    "ann.add(tf.keras.layers.Dense(units=32, activation=\"relu\"))\n",
    "ann.add(tf.keras.layers.Dense(units=10, activation=\"sigmoid\"))\n",
    "ann.compile(optimizer=\"adam\", loss=\"binary_crossentropy\", metrics=\"accuracy\")"
   ]
  },
  {
   "cell_type": "code",
   "execution_count": 224,
   "metadata": {},
   "outputs": [
    {
     "name": "stdout",
     "output_type": "stream",
     "text": [
      "Epoch 1/5\n",
      "2500/2500 [==============================] - 3s 1ms/step - loss: 0.2578 - accuracy: 0.4505\n",
      "Epoch 2/5\n",
      "2500/2500 [==============================] - 3s 1ms/step - loss: 0.1638 - accuracy: 0.6704\n",
      "Epoch 3/5\n",
      "2500/2500 [==============================] - 3s 1ms/step - loss: 0.1384 - accuracy: 0.7225\n",
      "Epoch 4/5\n",
      "2500/2500 [==============================] - 3s 1ms/step - loss: 0.1299 - accuracy: 0.7421\n",
      "Epoch 5/5\n",
      "2500/2500 [==============================] - 3s 1ms/step - loss: 0.1192 - accuracy: 0.7713\n"
     ]
    },
    {
     "data": {
      "text/plain": [
       "<tensorflow.python.keras.callbacks.History at 0x1c74a1676c8>"
      ]
     },
     "execution_count": 224,
     "metadata": {},
     "output_type": "execute_result"
    }
   ],
   "source": [
    "ann.fit(data_sign_Hu, target, batch_size=4, epochs=5, verbose=1)"
   ]
  },
  {
   "cell_type": "code",
   "execution_count": 225,
   "metadata": {},
   "outputs": [
    {
     "data": {
      "text/plain": [
       "array([[2.75554023e-01, 4.26457853e-02, 8.61715176e-03, ...,\n",
       "        1.81695170e-01, 1.58225696e-01, 7.67909485e-01],\n",
       "       [2.08786893e-01, 1.85816592e-02, 2.07087297e-03, ...,\n",
       "        1.81687653e-01, 1.58255127e-01, 7.68004300e-01],\n",
       "       [4.61635369e-01, 3.78236155e-02, 2.70804790e-01, ...,\n",
       "        1.83432025e-01, 1.63361146e-01, 7.58925326e-01],\n",
       "       ...,\n",
       "       [2.13504735e-01, 8.88137437e-03, 4.21736465e-03, ...,\n",
       "        1.81686085e-01, 1.57953786e-01, 7.67990207e-01],\n",
       "       [1.51424233e-01, 2.17844714e-02, 6.46996059e-04, ...,\n",
       "        1.81687595e-01, 1.58201423e-01, 7.67991332e-01],\n",
       "       [1.87851711e-01, 2.72394671e-02, 4.28734472e-03, ...,\n",
       "        1.81690997e-01, 1.58215673e-01, 7.67961987e-01]])"
      ]
     },
     "execution_count": 225,
     "metadata": {},
     "output_type": "execute_result"
    }
   ],
   "source": [
    "Hu"
   ]
  },
  {
   "cell_type": "code",
   "execution_count": null,
   "metadata": {},
   "outputs": [],
   "source": []
  }
 ],
 "metadata": {
  "interpreter": {
   "hash": "9e80d76ea6f7910366ea144e4925c6ce12227515ad9ee1266cb0780bd8ad6c40"
  },
  "kernelspec": {
   "display_name": "Python 3.7.8rc1 64-bit",
   "language": "python",
   "name": "python3"
  },
  "language_info": {
   "codemirror_mode": {
    "name": "ipython",
    "version": 3
   },
   "file_extension": ".py",
   "mimetype": "text/x-python",
   "name": "python",
   "nbconvert_exporter": "python",
   "pygments_lexer": "ipython3",
   "version": "3.7.8rc1"
  },
  "orig_nbformat": 4
 },
 "nbformat": 4,
 "nbformat_minor": 2
}

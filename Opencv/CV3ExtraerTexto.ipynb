{
 "metadata": {
  "language_info": {
   "codemirror_mode": {
    "name": "ipython",
    "version": 3
   },
   "file_extension": ".py",
   "mimetype": "text/x-python",
   "name": "python",
   "nbconvert_exporter": "python",
   "pygments_lexer": "ipython3",
   "version": "3.7.8-candidate1"
  },
  "orig_nbformat": 2,
  "kernelspec": {
   "name": "python378jvsc74a57bd09e80d76ea6f7910366ea144e4925c6ce12227515ad9ee1266cb0780bd8ad6c40",
   "display_name": "Python 3.7.8 64-bit"
  },
  "metadata": {
   "interpreter": {
    "hash": "9e80d76ea6f7910366ea144e4925c6ce12227515ad9ee1266cb0780bd8ad6c40"
   }
  }
 },
 "nbformat": 4,
 "nbformat_minor": 2,
 "cells": [
  {
   "cell_type": "code",
   "execution_count": 1,
   "metadata": {},
   "outputs": [],
   "source": [
    "import cv2 as cv\n",
    "import matplotlib.pyplot as plt \n",
    "%matplotlib inline\n",
    "plt.rcParams[\"figure.figsize\"]=[5,5]"
   ]
  },
  {
   "cell_type": "code",
   "execution_count": 2,
   "metadata": {},
   "outputs": [],
   "source": [
    "figuras=cv.imread(\"imagenes/texto.jpg\")\n",
    "gray=cv.cvtColor(figuras, cv.COLOR_RGB2GRAY)"
   ]
  },
  {
   "cell_type": "code",
   "execution_count": 3,
   "metadata": {},
   "outputs": [],
   "source": [
    "def histograma(gray, hxb=False, hyb=False):\n",
    "    histx=[]\n",
    "    histy=[]\n",
    "    if hyb:\n",
    "        for row in gray:\n",
    "            histy.append(sum(row))\n",
    "    if hxb:\n",
    "        for col in gray.T:\n",
    "            histx.append(sum(col))\n",
    "    return histx, histy"
   ]
  },
  {
   "cell_type": "code",
   "execution_count": 4,
   "metadata": {},
   "outputs": [],
   "source": [
    "def cortes(hbin):\n",
    "    v_ant=hbin[0]\n",
    "    cortes_index=[]\n",
    "    for index, h in enumerate(hbin):\n",
    "        v_sig=h\n",
    "        if v_sig!=v_ant:\n",
    "            cortes_index.append(index)\n",
    "        v_ant=v_sig\n",
    "    return cortes_index, len(cortes_index)"
   ]
  },
  {
   "cell_type": "code",
   "execution_count": 29,
   "metadata": {},
   "outputs": [],
   "source": [
    "def corte_val(corte, tam, th_corte, th_borde):\n",
    "    corte_vals=[]\n",
    "    tam_v=0\n",
    "    for i, dat in enumerate(range(int(tam/2))):\n",
    "        len_corte=corte[2*i+1]-corte[2*i]\n",
    "        corte_vals.append([corte[2*i]-th_borde,corte[2*i+1]+th_borde]) if len_corte>th_corte else _\n",
    "        tam_v+=1*(len_corte>th_corte)\n",
    "    return corte_vals, tam_v"
   ]
  },
  {
   "cell_type": "code",
   "execution_count": 104,
   "metadata": {},
   "outputs": [],
   "source": [
    "def extract_objects(gray_image, threshold=240, th_corte=10, th_border=5):\n",
    "    figuras=[]\n",
    "    NumFiguras=0\n",
    "    threhold, gray_image_bool=cv.threshold(gray, threshold, 255, cv.THRESH_BINARY_INV)\n",
    "    hx, hy=histograma(gray_image_bool, hxb=True, hyb=True)\n",
    "    hxbin=[h>th_corte for h in hx]\n",
    "    hybin=[h>th_corte for h in hy]\n",
    "\n",
    "    cortex, tamx= cortes(hxbin)\n",
    "    cortey, tamy= cortes(hybin)\n",
    "\n",
    "    b_h=tamx>tamy\n",
    "    corte_v, tam_v=corte_val(cortex, tamx, th_corte, th_border) if b_h else corte_val(cortey, tamy, th_corte, th_border)\n",
    "    for i in range(tam_v):\n",
    "        img_c=gray_image_bool[:,corte_v[i][0]:corte_v[i][1]] if b_h else gray_image_bool.T[:,corte_v[i][0]:corte_v[i][1]]\n",
    "        hx, hy=histograma(img_c, hxb=False, hyb=True)\n",
    "        hybin=[h>30 for h in hy]\n",
    "        cortey, tamy= cortes(hybin)\n",
    "        corte, tam= corte_val(cortey, tamy, th_corte, th_border)\n",
    "        NumFiguras+=tam\n",
    "        for j in range(tam):\n",
    "            figuras.append(img_c[corte[j][0]:corte[j][1],:].T)\n",
    "    return figuras, NumFiguras"
   ]
  },
  {
   "cell_type": "code",
   "execution_count": 178,
   "metadata": {},
   "outputs": [],
   "source": [
    "def clean_letters(figuras):\n",
    "    Figuras=[]\n",
    "    for fig in range(len(figuras)):\n",
    "        hx, hy=histograma(figuras[fig][:], hxb=False, hyb=True)\n",
    "        hybin=[h>0 for h in hy]\n",
    "        cortey, tamy= cortes(hybin)\n",
    "        Figuras.append(figuras[fig][cortey[tamy-2]-1:cortey[tamy-1]+1,:])\n",
    "    return Figuras"
   ]
  },
  {
   "cell_type": "code",
   "execution_count": 179,
   "metadata": {},
   "outputs": [],
   "source": [
    "figuras, NumFiguras=extract_objects(gray, threshold=240, th_corte=1, th_border=1)\n"
   ]
  },
  {
   "cell_type": "code",
   "execution_count": 180,
   "metadata": {},
   "outputs": [],
   "source": [
    "figuras_clean=clean_letters(figuras)"
   ]
  },
  {
   "cell_type": "code",
   "execution_count": 53,
   "metadata": {},
   "outputs": [],
   "source": [
    "from ipywidgets import interact, IntSlider"
   ]
  },
  {
   "cell_type": "code",
   "execution_count": 181,
   "metadata": {},
   "outputs": [
    {
     "output_type": "display_data",
     "data": {
      "text/plain": "interactive(children=(IntSlider(value=6, description='numero', max=30, min=1), Output()), _dom_classes=('widge…",
      "application/vnd.jupyter.widget-view+json": {
       "version_major": 2,
       "version_minor": 0,
       "model_id": "b36c4e33699f41078b635d72be003b04"
      }
     },
     "metadata": {}
    }
   ],
   "source": [
    "@interact(numero=IntSlider(6,min=1,max=30))\n",
    "def mostrar_imagenes(numero):\n",
    "    plt.imshow(figuras_clean[numero-1][:])"
   ]
  },
  {
   "cell_type": "code",
   "execution_count": 186,
   "metadata": {},
   "outputs": [],
   "source": [
    "for i in range(NumFiguras):\n",
    "    cv.imwrite(\"TextoExtraido/signo{}.jpg\".format(i+1),figuras_clean[i][:])"
   ]
  },
  {
   "cell_type": "code",
   "execution_count": 185,
   "metadata": {},
   "outputs": [
    {
     "output_type": "execute_result",
     "data": {
      "text/plain": [
       "True"
      ]
     },
     "metadata": {},
     "execution_count": 185
    }
   ],
   "source": []
  },
  {
   "cell_type": "code",
   "execution_count": null,
   "metadata": {},
   "outputs": [],
   "source": []
  }
 ]
}
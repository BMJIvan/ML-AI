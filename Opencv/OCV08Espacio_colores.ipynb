{
 "cells": [
  {
   "cell_type": "code",
   "execution_count": 2,
   "metadata": {},
   "outputs": [],
   "source": [
    "import cv2 as cv\n",
    "import numpy as np"
   ]
  },
  {
   "cell_type": "code",
   "execution_count": 8,
   "metadata": {},
   "outputs": [],
   "source": [
    "t = 1000\n",
    "img = cv.imread(\"LEGO_ROSTROS\\P1.jpg\")\n",
    "cv.imshow(\"window\", img)\n",
    "cv.waitKey(t)\n",
    "\n",
    "gray = cv.cvtColor(img, cv.COLOR_RGB2GRAY)\n",
    "cv.imshow(\"window\", gray)\n",
    "cv.waitKey(t)\n",
    "\n",
    "hsv = cv.cvtColor(img, cv.COLOR_RGB2HSV)\n",
    "cv.imshow(\"window\", hsv)\n",
    "cv.waitKey(t)\n",
    "\n",
    "lab = cv.cvtColor(img, cv.COLOR_RGB2LAB)\n",
    "cv.imshow(\"window\", lab)\n",
    "cv.waitKey(t)\n",
    "\n",
    "BGR = cv.cvtColor(img, cv.COLOR_RGB2BGR)\n",
    "cv.imshow(\"window\", BGR)\n",
    "cv.waitKey(t)\n",
    "\n",
    "cv.destroyAllWindows()"
   ]
  },
  {
   "cell_type": "code",
   "execution_count": null,
   "metadata": {},
   "outputs": [],
   "source": []
  }
 ],
 "metadata": {
  "interpreter": {
   "hash": "9e80d76ea6f7910366ea144e4925c6ce12227515ad9ee1266cb0780bd8ad6c40"
  },
  "kernelspec": {
   "display_name": "Python 3.7.8rc1 64-bit",
   "language": "python",
   "name": "python3"
  },
  "language_info": {
   "codemirror_mode": {
    "name": "ipython",
    "version": 3
   },
   "file_extension": ".py",
   "mimetype": "text/x-python",
   "name": "python",
   "nbconvert_exporter": "python",
   "pygments_lexer": "ipython3",
   "version": "3.7.8rc1"
  },
  "orig_nbformat": 4
 },
 "nbformat": 4,
 "nbformat_minor": 2
}

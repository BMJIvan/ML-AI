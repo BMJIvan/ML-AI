{
 "cells": [
  {
   "cell_type": "code",
   "execution_count": 3,
   "metadata": {},
   "outputs": [],
   "source": [
    "import cv2 as cv\n",
    "import numpy as np"
   ]
  },
  {
   "cell_type": "code",
   "execution_count": 4,
   "metadata": {},
   "outputs": [],
   "source": []
  },
  {
   "cell_type": "code",
   "execution_count": 7,
   "metadata": {},
   "outputs": [],
   "source": [
    "featured_params = dict(maxCorners = 10, qualityLevel = 0.2, minDistance = 40, blockSize = 9)"
   ]
  },
  {
   "cell_type": "code",
   "execution_count": 8,
   "metadata": {},
   "outputs": [],
   "source": [
    "img = cv.imread(\"LEGO_ROSTROS\\P1.jpg\")\n",
    "win_name = \"camera filters\"\n",
    "cv.namedWindow(win_name, cv.WINDOW_NORMAL)\n",
    "\n",
    "gray = cv.cvtColor(img, cv.COLOR_RGB2GRAY)\n",
    "corners = cv.goodFeaturesToTrack(gray, **featured_params)\n",
    "if corners is not None:\n",
    "    for x, y in np.float32(corners).reshape(-1, 2):\n",
    "        cv.circle(img, (x, y), radius=10, color=(0, 255, 0), thickness=1)\n",
    "\n",
    "cv.imshow(win_name, img)\n",
    "cv.waitKey(3000)\n",
    "cv.destroyAllWindows()\n"
   ]
  },
  {
   "cell_type": "code",
   "execution_count": null,
   "metadata": {},
   "outputs": [],
   "source": []
  }
 ],
 "metadata": {
  "interpreter": {
   "hash": "9e80d76ea6f7910366ea144e4925c6ce12227515ad9ee1266cb0780bd8ad6c40"
  },
  "kernelspec": {
   "display_name": "Python 3.7.8rc1 64-bit",
   "language": "python",
   "name": "python3"
  },
  "language_info": {
   "codemirror_mode": {
    "name": "ipython",
    "version": 3
   },
   "file_extension": ".py",
   "mimetype": "text/x-python",
   "name": "python",
   "nbconvert_exporter": "python",
   "pygments_lexer": "ipython3",
   "version": "3.7.8"
  },
  "orig_nbformat": 4
 },
 "nbformat": 4,
 "nbformat_minor": 2
}

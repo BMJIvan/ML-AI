{
 "cells": [
  {
   "cell_type": "code",
   "execution_count": 1,
   "metadata": {},
   "outputs": [],
   "source": [
    "import tensorflow as tf \n",
    "import numpy as np\n",
    "import cv2 as cv\n",
    "import matplotlib.pyplot as plt\n",
    "import scipy.fft as sc"
   ]
  },
  {
   "cell_type": "code",
   "execution_count": 2,
   "metadata": {},
   "outputs": [],
   "source": [
    "mnist = tf.keras.datasets.mnist\n",
    "(x_train, y_train), (x_test, y_test) = mnist.load_data()"
   ]
  },
  {
   "cell_type": "code",
   "execution_count": 3,
   "metadata": {},
   "outputs": [],
   "source": [
    "def rescaleframe(frame, scale = 0.75):\n",
    "    width = int(frame.shape[1] * scale)\n",
    "    height = int(frame.shape[0] * scale)\n",
    "    dimensions = (width, height)\n",
    "    return cv.resize(frame, dimensions, interpolation=cv.INTER_AREA)"
   ]
  },
  {
   "cell_type": "code",
   "execution_count": 117,
   "metadata": {},
   "outputs": [],
   "source": [
    "def rescaleframe_pixel(frame, col, row):\n",
    "    width = int(col)\n",
    "    height = int(row)\n",
    "    dimensions = (width, height)\n",
    "    return cv.resize(frame, dimensions, interpolation=cv.INTER_AREA)"
   ]
  },
  {
   "cell_type": "code",
   "execution_count": 4,
   "metadata": {},
   "outputs": [],
   "source": [
    "def centroide(image):\n",
    "    length = image.shape[0]\n",
    "    vec = np.linspace(0, length-1, length)\n",
    "    col_signal = np.sum(image, axis=0)/255 #columna\n",
    "    row_signal = np.sum(image, axis=1)/255 #fila\n",
    "    Cx = np.dot(vec, col_signal) / sum(col_signal)\n",
    "    Cy = np.dot(vec, row_signal) / sum(row_signal)\n",
    "    return Cx, Cy"
   ]
  },
  {
   "cell_type": "code",
   "execution_count": 5,
   "metadata": {},
   "outputs": [],
   "source": [
    "def sign(img):\n",
    "    img = rescaleframe(img, scale=1.5)\n",
    "    img_blur = cv.blur(img, ksize=(3, 3))\n",
    "    img_can = cv.Canny(img_blur, 40, 100)\n",
    "    contours, lista = cv.findContours(img_can, mode=cv.RETR_EXTERNAL, method=cv.CHAIN_APPROX_NONE)\n",
    "    \n",
    "    dist = []\n",
    "    for con in contours:\n",
    "        dist.append(np.sum(con))\n",
    "    max_pos = np.argmax(dist)\n",
    "    main_signal = contours[max_pos].squeeze()\n",
    "    \n",
    "    Cx, Cy = centroide(img)\n",
    "    x, y = np.array_split(main_signal, 2, axis=1)\n",
    "    mag_x = np.power(Cx-x, 2)\n",
    "    mag_y = np.power(Cy-y, 2)\n",
    "    mag = np.power(mag_x + mag_y, 0.5)\n",
    "    return mag"
   ]
  },
  {
   "cell_type": "code",
   "execution_count": 297,
   "metadata": {},
   "outputs": [],
   "source": [
    "X = []\n",
    "Y = []\n",
    "contador = {}\n",
    "num_images_per_num = 4000\n",
    "for i in range(0, 10):\n",
    "    idx = str(i)\n",
    "    contador[idx] = 0\n",
    "\n",
    "for i, x in enumerate(x_train):\n",
    "    y = y_train[i]\n",
    "    idx = str(y)\n",
    "    if contador[idx] < num_images_per_num:\n",
    "        X.append(x)\n",
    "        Y.append(y)\n",
    "        contador[idx] = contador[idx] + 1\n",
    "    else:\n",
    "        continue"
   ]
  },
  {
   "cell_type": "code",
   "execution_count": 298,
   "metadata": {},
   "outputs": [],
   "source": [
    "def one_hot_encoder(idx):\n",
    "    vec = []\n",
    "    for i in range(0, 10):\n",
    "        if i == idx:\n",
    "            vec.append(1)\n",
    "        else:\n",
    "            vec.append(0)\n",
    "    return vec"
   ]
  },
  {
   "cell_type": "code",
   "execution_count": 299,
   "metadata": {},
   "outputs": [],
   "source": [
    "target = [one_hot_encoder(Y_value) for Y_value in Y]"
   ]
  },
  {
   "cell_type": "code",
   "execution_count": 300,
   "metadata": {},
   "outputs": [
    {
     "data": {
      "image/png": "[encoded data removed]",
      "text/plain": [
       "<Figure size 432x288 with 1 Axes>"
      ]
     },
     "metadata": {
      "needs_background": "light"
     },
     "output_type": "display_data"
    }
   ],
   "source": [
    "plt.imshow(X[0], cmap=plt.cm.binary)\n",
    "plt.show()"
   ]
  },
  {
   "cell_type": "code",
   "execution_count": 301,
   "metadata": {},
   "outputs": [],
   "source": [
    "col = np.sum(X[0], axis=0)\n",
    "row = np.sum(X[0], axis=1)"
   ]
  },
  {
   "cell_type": "code",
   "execution_count": 302,
   "metadata": {},
   "outputs": [],
   "source": [
    "def cut(histogram):\n",
    "    val_ant = 0\n",
    "    cut_begin = []\n",
    "    cut_end = []\n",
    "    mag = []\n",
    "    for i in range(0, len(histogram)):\n",
    "        val_act = histogram[i]\n",
    "        if val_act > 0 and val_ant == 0:\n",
    "            cut_begin.append(i)\n",
    "        if val_act == 0 and val_ant > 0:\n",
    "            cut_end.append(i)\n",
    "        val_ant = histogram[i]\n",
    "    for x, y in zip(cut_begin, cut_end):\n",
    "        mag.append(y - x)\n",
    "    pos = np.argmax(mag)\n",
    "    begin = cut_begin[pos]\n",
    "    end = cut_end[pos]\n",
    "    return begin, end "
   ]
  },
  {
   "cell_type": "code",
   "execution_count": 303,
   "metadata": {},
   "outputs": [],
   "source": [
    "def delete_ops(image):\n",
    "    col_add = np.zeros((image.shape[0], 1))\n",
    "    row_add = np.zeros((1, image.shape[1]+2))\n",
    "    image_add_col = np.concatenate((col_add, image, col_add), axis=1)\n",
    "    image_add_row = np.concatenate((row_add, image_add_col, row_add), axis=0)\n",
    "    col = np.sum(image_add_row, axis=0)\n",
    "    row = np.sum(image_add_row, axis=1)\n",
    "    cut_row = cut(row)\n",
    "    cut_col = cut(col)\n",
    "    img = image[cut_row[0]:cut_row[1], cut_col[0]:cut_col[1]]\n",
    "    img_res = rescaleframe_pixel(img, 14, 14)\n",
    "    return img_res"
   ]
  },
  {
   "cell_type": "code",
   "execution_count": 304,
   "metadata": {},
   "outputs": [],
   "source": [
    "img_del = delete_ops(X[1243])\n",
    "t, img_th= cv.threshold(img_del, thresh=50, maxval=1, type=cv.THRESH_BINARY)"
   ]
  },
  {
   "cell_type": "code",
   "execution_count": 305,
   "metadata": {},
   "outputs": [
    {
     "data": {
      "text/plain": [
       "<matplotlib.image.AxesImage at 0x1b089ef6448>"
      ]
     },
     "execution_count": 305,
     "metadata": {},
     "output_type": "execute_result"
    },
    {
     "data": {
      "image/png": "[encoded data removed]",
      "text/plain": [
       "<Figure size 432x288 with 1 Axes>"
      ]
     },
     "metadata": {
      "needs_background": "light"
     },
     "output_type": "display_data"
    }
   ],
   "source": [
    "plt.imshow(X[1243])"
   ]
  },
  {
   "cell_type": "code",
   "execution_count": 306,
   "metadata": {},
   "outputs": [],
   "source": [
    "data_reshaped = []\n",
    "i = 0\n",
    "for image in X:\n",
    "    i = i+1\n",
    "    t, img_th= cv.threshold(image, thresh=50, maxval=1, type=cv.THRESH_BINARY)\n",
    "    img_del = delete_ops(img_th)\n",
    "    data_reshaped.append(img_del)"
   ]
  },
  {
   "cell_type": "code",
   "execution_count": 307,
   "metadata": {},
   "outputs": [],
   "source": [
    "data = np.array(data_reshaped)\n",
    "target = np.array(target)"
   ]
  },
  {
   "cell_type": "code",
   "execution_count": 308,
   "metadata": {},
   "outputs": [],
   "source": [
    "\n",
    "data = np.float32(data)"
   ]
  },
  {
   "cell_type": "code",
   "execution_count": 309,
   "metadata": {},
   "outputs": [],
   "source": [
    "data = np.reshape(data, (-1, 14, 14, 1))"
   ]
  },
  {
   "cell_type": "code",
   "execution_count": 310,
   "metadata": {},
   "outputs": [
    {
     "name": "stdout",
     "output_type": "stream",
     "text": [
      "(40000, 14, 14, 1) (40000, 10)\n"
     ]
    }
   ],
   "source": [
    "print(data.shape, target.shape)"
   ]
  },
  {
   "cell_type": "code",
   "execution_count": 294,
   "metadata": {},
   "outputs": [],
   "source": [
    "droprate = 0.1\n",
    "cnn = tf.keras.models.Sequential()\n",
    "cnn.add(tf.keras.layers.Convolution2D(filters=64, kernel_size=3, padding=\"same\", activation=\"relu\", input_shape=(14, 14, 1)))\n",
    "cnn.add(tf.keras.layers.Dropout(droprate))\n",
    "cnn.add(tf.keras.layers.Convolution2D(filters=32, kernel_size=3, padding=\"same\", activation=\"relu\"))\n",
    "cnn.add(tf.keras.layers.Dropout(droprate))\n",
    "cnn.add(tf.keras.layers.MaxPooling2D(pool_size=2, strides=2))\n",
    "cnn.add(tf.keras.layers.Dropout(droprate))\n",
    "cnn.add(tf.keras.layers.Flatten())\n",
    "cnn.add(tf.keras.layers.Dense(units=128, activation=\"relu\"))\n",
    "cnn.add(tf.keras.layers.Dense(units=64, activation=\"relu\"))\n",
    "cnn.add(tf.keras.layers.Dense(units=32, activation=\"relu\"))\n",
    "cnn.add(tf.keras.layers.Dense(units=10, activation=\"sigmoid\"))\n",
    "cnn.compile(optimizer=\"adam\", loss=\"binary_crossentropy\", metrics=\"accuracy\")"
   ]
  },
  {
   "cell_type": "code",
   "execution_count": 315,
   "metadata": {},
   "outputs": [
    {
     "name": "stdout",
     "output_type": "stream",
     "text": [
      "Epoch 1/2\n",
      "10000/10000 [==============================] - 70s 7ms/step - loss: 0.0055 - accuracy: 0.9928\n",
      "Epoch 2/2\n",
      "10000/10000 [==============================] - 78s 8ms/step - loss: 0.0055 - accuracy: 0.9933\n"
     ]
    },
    {
     "data": {
      "text/plain": [
       "<tensorflow.python.keras.callbacks.History at 0x1b08021a408>"
      ]
     },
     "execution_count": 315,
     "metadata": {},
     "output_type": "execute_result"
    }
   ],
   "source": [
    "cnn.fit(data, target, batch_size=4, epochs=2, verbose=1)"
   ]
  }
 ],
 "metadata": {
  "interpreter": {
   "hash": "9e80d76ea6f7910366ea144e4925c6ce12227515ad9ee1266cb0780bd8ad6c40"
  },
  "kernelspec": {
   "display_name": "Python 3.7.8rc1 64-bit",
   "language": "python",
   "name": "python3"
  },
  "language_info": {
   "codemirror_mode": {
    "name": "ipython",
    "version": 3
   },
   "file_extension": ".py",
   "mimetype": "text/x-python",
   "name": "python",
   "nbconvert_exporter": "python",
   "pygments_lexer": "ipython3",
   "version": "3.7.8"
  },
  "orig_nbformat": 4
 },
 "nbformat": 4,
 "nbformat_minor": 2
}
